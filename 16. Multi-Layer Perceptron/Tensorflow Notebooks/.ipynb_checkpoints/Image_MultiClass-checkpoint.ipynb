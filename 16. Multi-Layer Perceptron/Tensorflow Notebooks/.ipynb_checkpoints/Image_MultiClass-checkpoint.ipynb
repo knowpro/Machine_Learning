{
 "cells": [
  {
   "cell_type": "code",
   "execution_count": 5,
   "metadata": {
    "executionInfo": {
     "elapsed": 5,
     "status": "ok",
     "timestamp": 1672827519124,
     "user": {
      "displayName": "Sanjay Sane",
      "userId": "07643709861745318184"
     },
     "user_tz": -330
    },
    "id": "lTHAvchJRXj_"
   },
   "outputs": [],
   "source": [
    "import pandas as pd\n",
    "import numpy as np\n",
    "from sklearn.preprocessing import LabelEncoder, MinMaxScaler\n",
    "from sklearn.model_selection import train_test_split\n",
    "import tensorflow as tf\n"
   ]
  },
  {
   "cell_type": "code",
   "execution_count": 4,
   "metadata": {
    "colab": {
     "base_uri": "https://localhost:8080/"
    },
    "executionInfo": {
     "elapsed": 5,
     "status": "ok",
     "timestamp": 1672827467061,
     "user": {
      "displayName": "Sanjay Sane",
      "userId": "07643709861745318184"
     },
     "user_tz": -330
    },
    "id": "XBbalywQR9E8",
    "outputId": "46f30928-6b74-41dc-82f2-28c5afbf1fb6"
   },
   "outputs": [
    {
     "name": "stdout",
     "output_type": "stream",
     "text": [
      "['BRICKFACE' 'CEMENT' 'FOLIAGE' 'GRASS' 'PATH' 'SKY' 'WINDOW']\n",
      "(209, 19)\n"
     ]
    }
   ],
   "source": [
    "image_seg = pd.read_csv(\"/content/drive/MyDrive/Cases/Image Segmentation/Image_Segmention.csv\")\n",
    "X = image_seg.drop('Class', axis=1)\n",
    "y = image_seg['Class']\n",
    "\n",
    "le = LabelEncoder()\n",
    "le_y = le.fit_transform(y)\n",
    "print(le.classes_)\n",
    "print(X.shape)"
   ]
  },
  {
   "cell_type": "code",
   "execution_count": 9,
   "metadata": {
    "executionInfo": {
     "elapsed": 5,
     "status": "ok",
     "timestamp": 1672827670456,
     "user": {
      "displayName": "Sanjay Sane",
      "userId": "07643709861745318184"
     },
     "user_tz": -330
    },
    "id": "8YQolr3wSbzT"
   },
   "outputs": [],
   "source": [
    "X_train, X_test, y_train, y_test = train_test_split(X, le_y,\n",
    "                                                    stratify=y,\n",
    "                                                    train_size=0.7,\n",
    "                                                    random_state=2022)\n",
    "\n",
    "mm = MinMaxScaler()\n",
    "X_trn_scl = mm.fit_transform(X_train)\n",
    "X_tst_scl = mm.transform(X_test)"
   ]
  },
  {
   "cell_type": "code",
   "execution_count": 10,
   "metadata": {
    "executionInfo": {
     "elapsed": 4,
     "status": "ok",
     "timestamp": 1672827673647,
     "user": {
      "displayName": "Sanjay Sane",
      "userId": "07643709861745318184"
     },
     "user_tz": -330
    },
    "id": "RcJKhg11SlBV"
   },
   "outputs": [],
   "source": [
    "tf.random.set_seed(2022)\n",
    "model = tf.keras.models.Sequential([\n",
    "    tf.keras.layers.Dense(15, activation='relu',input_shape=(19,)), \n",
    "    tf.keras.layers.Dense(10, activation='relu'), \n",
    "    tf.keras.layers.Dense(5, activation='relu'), \n",
    "    tf.keras.layers.Dense(7, activation='softmax')  \n",
    "])\n",
    "model.compile(optimizer='adam', loss=tf.keras.losses.SparseCategoricalCrossentropy(), metrics=['accuracy'])"
   ]
  },
  {
   "cell_type": "code",
   "execution_count": null,
   "metadata": {
    "id": "USMCXVemS_wy"
   },
   "outputs": [],
   "source": [
    "from tensorflow.keras.callbacks import EarlyStopping\n",
    "early = EarlyStopping( monitor='val_loss',min_delta=0.0001, patience=10,verbose=3,restore_best_weights=True)\n",
    "history = model.fit(X_trn_scl, y_train, validation_data=(X_tst_scl, y_test), epochs=1000,\n",
    "                    callbacks=[early])"
   ]
  },
  {
   "cell_type": "code",
   "execution_count": null,
   "metadata": {
    "id": "lktF5MZQTbIz"
   },
   "outputs": [],
   "source": [
    "import matplotlib.pyplot as plt\n",
    "plt.plot(history.history['loss'], label='Training Loss')\n",
    "plt.plot(history.history['val_loss'], label='Testing Loss')\n",
    "plt.legend(loc='best')\n",
    "plt.show()"
   ]
  },
  {
   "cell_type": "code",
   "execution_count": 16,
   "metadata": {
    "colab": {
     "base_uri": "https://localhost:8080/"
    },
    "executionInfo": {
     "elapsed": 782,
     "status": "ok",
     "timestamp": 1672828071637,
     "user": {
      "displayName": "Sanjay Sane",
      "userId": "07643709861745318184"
     },
     "user_tz": -330
    },
    "id": "iFFQIdx1TwtD",
    "outputId": "06ea027f-9248-4ba0-d29d-662f16776ce7"
   },
   "outputs": [
    {
     "name": "stdout",
     "output_type": "stream",
     "text": [
      "2/2 [==============================] - 0s 6ms/step - loss: 0.5366 - accuracy: 0.8095\n",
      "Log Loss = 0.5366353988647461\n",
      "Accuracy = 0.8095238208770752\n"
     ]
    }
   ],
   "source": [
    "loss, acc = model.evaluate(X_tst_scl, y_test)\n",
    "print(\"Log Loss =\", loss)\n",
    "print(\"Accuracy =\", acc)"
   ]
  }
 ],
 "metadata": {
  "colab": {
   "authorship_tag": "ABX9TyPVZTDaSP2Gfj3lKpFuzWa9",
   "mount_file_id": "1XAo9Fm-f-5EygvChkdUgWUt0v5XJm1GK",
   "provenance": []
  },
  "kernelspec": {
   "display_name": "Python 3 (ipykernel)",
   "language": "python",
   "name": "python3"
  },
  "language_info": {
   "codemirror_mode": {
    "name": "ipython",
    "version": 3
   },
   "file_extension": ".py",
   "mimetype": "text/x-python",
   "name": "python",
   "nbconvert_exporter": "python",
   "pygments_lexer": "ipython3",
   "version": "3.9.13"
  }
 },
 "nbformat": 4,
 "nbformat_minor": 1
}
