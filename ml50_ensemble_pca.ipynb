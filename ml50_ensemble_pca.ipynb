{
 "cells": [
  {
   "cell_type": "code",
   "execution_count": 7,
   "id": "a0784e16",
   "metadata": {},
   "outputs": [],
   "source": [
    "import pandas as pd\n",
    "import numpy as np\n",
    "\n",
    "\n",
    "from sklearn.decomposition import PCA\n",
    "\n",
    "from sklearn.metrics import accuracy_score, roc_auc_score, r2_score\n",
    "from sklearn.metrics import r2_score\n",
    "\n",
    "from sklearn.model_selection import GridSearchCV\n",
    "from sklearn.model_selection import KFold, StratifiedKFold\n",
    "from sklearn.model_selection import train_test_split\n",
    "\n",
    "from sklearn.pipeline import Pipeline\n",
    "from sklearn.preprocessing import StandardScaler\n",
    "from sklearn.svm import SVC"
   ]
  },
  {
   "cell_type": "code",
   "execution_count": 8,
   "id": "14f437b8",
   "metadata": {},
   "outputs": [],
   "source": [
    "banka = pd.read_csv(\"C:\\Hogwarts\\machine_learning\\Cases\\Bankruptcy\\Bankruptcy.csv\",\n",
    "                   index_col = 0)"
   ]
  },
  {
   "cell_type": "code",
   "execution_count": 9,
   "id": "9bd279dc",
   "metadata": {},
   "outputs": [],
   "source": [
    "X = banka.drop(['D', 'YR'] , axis =1)\n",
    "y = banka['D']"
   ]
  },
  {
   "cell_type": "code",
   "execution_count": 10,
   "id": "6cbf0ac9",
   "metadata": {},
   "outputs": [],
   "source": [
    "X_train, X_test, y_train, y_test = train_test_split(X,\n",
    "                                                    y,\n",
    "                                                    stratify = y,\n",
    "                                                    random_state = 2022,\n",
    "                                                    train_size = 0.7)"
   ]
  },
  {
   "cell_type": "code",
   "execution_count": 11,
   "id": "da04e1f0",
   "metadata": {},
   "outputs": [],
   "source": [
    "scaler = StandardScaler()"
   ]
  },
  {
   "cell_type": "code",
   "execution_count": 29,
   "id": "bcc08da5",
   "metadata": {},
   "outputs": [],
   "source": [
    "prcomp = PCA()\n",
    "svm = SVC(probability = True, random_state = 2022, kernel = 'linear')"
   ]
  },
  {
   "cell_type": "code",
   "execution_count": 24,
   "id": "9a4e319e",
   "metadata": {},
   "outputs": [],
   "source": [
    "pipe_pca_svm = Pipeline([('STD', scaler),\n",
    "                        ('PCA',prcomp),\n",
    "                        ('SVM',svm)])"
   ]
  },
  {
   "cell_type": "code",
   "execution_count": 25,
   "id": "1d772ad1",
   "metadata": {},
   "outputs": [
    {
     "name": "stdout",
     "output_type": "stream",
     "text": [
      "{'memory': None, 'steps': [('STD', StandardScaler()), ('PCA', PCA(random_state=2022)), ('SVM', SVC(kernel='linear', probability=True, random_state=2022))], 'verbose': False, 'STD': StandardScaler(), 'PCA': PCA(random_state=2022), 'SVM': SVC(kernel='linear', probability=True, random_state=2022), 'STD__copy': True, 'STD__with_mean': True, 'STD__with_std': True, 'PCA__copy': True, 'PCA__iterated_power': 'auto', 'PCA__n_components': None, 'PCA__n_oversamples': 10, 'PCA__power_iteration_normalizer': 'auto', 'PCA__random_state': 2022, 'PCA__svd_solver': 'auto', 'PCA__tol': 0.0, 'PCA__whiten': False, 'SVM__C': 1.0, 'SVM__break_ties': False, 'SVM__cache_size': 200, 'SVM__class_weight': None, 'SVM__coef0': 0.0, 'SVM__decision_function_shape': 'ovr', 'SVM__degree': 3, 'SVM__gamma': 'scale', 'SVM__kernel': 'linear', 'SVM__max_iter': -1, 'SVM__probability': True, 'SVM__random_state': 2022, 'SVM__shrinking': True, 'SVM__tol': 0.001, 'SVM__verbose': False}\n"
     ]
    }
   ],
   "source": [
    "print(pipe_pca_svm.get_params())"
   ]
  },
  {
   "cell_type": "code",
   "execution_count": 26,
   "id": "a3b2b16c",
   "metadata": {},
   "outputs": [],
   "source": [
    "params = {'PCA__n_components':[0.75,0.8,0.85,0.9,0.95],\n",
    "          'SVM__C':[0.4,1,2,2.5]}\n",
    "          "
   ]
  },
  {
   "cell_type": "code",
   "execution_count": 27,
   "id": "34a27103",
   "metadata": {},
   "outputs": [],
   "source": [
    "kfold = StratifiedKFold(n_splits = 5,\n",
    "                       shuffle = True,\n",
    "                       random_state = 2022)"
   ]
  },
  {
   "cell_type": "code",
   "execution_count": 31,
   "id": "f92e4d29",
   "metadata": {},
   "outputs": [
    {
     "name": "stdout",
     "output_type": "stream",
     "text": [
      "Fitting 5 folds for each of 20 candidates, totalling 100 fits\n",
      "[CV 1/5] END PCA__n_components=0.75, SVM__C=0.4;, score=0.863 total time=   0.0s\n",
      "[CV 2/5] END PCA__n_components=0.75, SVM__C=0.4;, score=0.835 total time=   0.0s\n",
      "[CV 3/5] END PCA__n_components=0.75, SVM__C=0.4;, score=0.734 total time=   0.0s\n",
      "[CV 4/5] END PCA__n_components=0.75, SVM__C=0.4;, score=0.970 total time=   0.0s\n",
      "[CV 5/5] END PCA__n_components=0.75, SVM__C=0.4;, score=0.935 total time=   0.0s\n",
      "[CV 1/5] END ..PCA__n_components=0.75, SVM__C=1;, score=0.868 total time=   0.0s\n",
      "[CV 2/5] END ..PCA__n_components=0.75, SVM__C=1;, score=0.846 total time=   0.0s\n",
      "[CV 3/5] END ..PCA__n_components=0.75, SVM__C=1;, score=0.722 total time=   0.0s\n",
      "[CV 4/5] END ..PCA__n_components=0.75, SVM__C=1;, score=0.982 total time=   0.0s\n",
      "[CV 5/5] END ..PCA__n_components=0.75, SVM__C=1;, score=0.929 total time=   0.0s\n",
      "[CV 1/5] END ..PCA__n_components=0.75, SVM__C=2;, score=0.868 total time=   0.0s\n",
      "[CV 2/5] END ..PCA__n_components=0.75, SVM__C=2;, score=0.841 total time=   0.0s\n",
      "[CV 3/5] END ..PCA__n_components=0.75, SVM__C=2;, score=0.704 total time=   0.0s\n",
      "[CV 4/5] END ..PCA__n_components=0.75, SVM__C=2;, score=0.982 total time=   0.0s\n",
      "[CV 5/5] END ..PCA__n_components=0.75, SVM__C=2;, score=0.941 total time=   0.0s\n",
      "[CV 1/5] END PCA__n_components=0.75, SVM__C=2.5;, score=0.868 total time=   0.0s\n",
      "[CV 2/5] END PCA__n_components=0.75, SVM__C=2.5;, score=0.841 total time=   0.0s\n",
      "[CV 3/5] END PCA__n_components=0.75, SVM__C=2.5;, score=0.704 total time=   0.0s\n",
      "[CV 4/5] END PCA__n_components=0.75, SVM__C=2.5;, score=0.982 total time=   0.0s\n",
      "[CV 5/5] END PCA__n_components=0.75, SVM__C=2.5;, score=0.941 total time=   0.0s\n",
      "[CV 1/5] END .PCA__n_components=0.8, SVM__C=0.4;, score=0.863 total time=   0.0s\n",
      "[CV 2/5] END .PCA__n_components=0.8, SVM__C=0.4;, score=0.841 total time=   0.0s\n",
      "[CV 3/5] END .PCA__n_components=0.8, SVM__C=0.4;, score=0.716 total time=   0.0s\n",
      "[CV 4/5] END .PCA__n_components=0.8, SVM__C=0.4;, score=0.970 total time=   0.0s\n",
      "[CV 5/5] END .PCA__n_components=0.8, SVM__C=0.4;, score=0.947 total time=   0.0s\n",
      "[CV 1/5] END ...PCA__n_components=0.8, SVM__C=1;, score=0.863 total time=   0.0s\n",
      "[CV 2/5] END ...PCA__n_components=0.8, SVM__C=1;, score=0.835 total time=   0.0s\n",
      "[CV 3/5] END ...PCA__n_components=0.8, SVM__C=1;, score=0.692 total time=   0.0s\n",
      "[CV 4/5] END ...PCA__n_components=0.8, SVM__C=1;, score=0.982 total time=   0.0s\n",
      "[CV 5/5] END ...PCA__n_components=0.8, SVM__C=1;, score=0.941 total time=   0.0s\n",
      "[CV 1/5] END ...PCA__n_components=0.8, SVM__C=2;, score=0.874 total time=   0.0s\n",
      "[CV 2/5] END ...PCA__n_components=0.8, SVM__C=2;, score=0.835 total time=   0.0s\n",
      "[CV 3/5] END ...PCA__n_components=0.8, SVM__C=2;, score=0.692 total time=   0.0s\n",
      "[CV 4/5] END ...PCA__n_components=0.8, SVM__C=2;, score=0.982 total time=   0.0s\n",
      "[CV 5/5] END ...PCA__n_components=0.8, SVM__C=2;, score=0.941 total time=   0.0s\n",
      "[CV 1/5] END .PCA__n_components=0.8, SVM__C=2.5;, score=0.874 total time=   0.0s\n",
      "[CV 2/5] END .PCA__n_components=0.8, SVM__C=2.5;, score=0.835 total time=   0.0s\n",
      "[CV 3/5] END .PCA__n_components=0.8, SVM__C=2.5;, score=0.686 total time=   0.0s\n",
      "[CV 4/5] END .PCA__n_components=0.8, SVM__C=2.5;, score=0.982 total time=   0.0s\n",
      "[CV 5/5] END .PCA__n_components=0.8, SVM__C=2.5;, score=0.941 total time=   0.0s\n",
      "[CV 1/5] END PCA__n_components=0.85, SVM__C=0.4;, score=0.874 total time=   0.0s\n",
      "[CV 2/5] END PCA__n_components=0.85, SVM__C=0.4;, score=0.841 total time=   0.0s\n",
      "[CV 3/5] END PCA__n_components=0.85, SVM__C=0.4;, score=0.722 total time=   0.0s\n",
      "[CV 4/5] END PCA__n_components=0.85, SVM__C=0.4;, score=0.953 total time=   0.0s\n",
      "[CV 5/5] END PCA__n_components=0.85, SVM__C=0.4;, score=0.923 total time=   0.0s\n",
      "[CV 1/5] END ..PCA__n_components=0.85, SVM__C=1;, score=0.874 total time=   0.0s\n",
      "[CV 2/5] END ..PCA__n_components=0.85, SVM__C=1;, score=0.835 total time=   0.0s\n",
      "[CV 3/5] END ..PCA__n_components=0.85, SVM__C=1;, score=0.716 total time=   0.0s\n",
      "[CV 4/5] END ..PCA__n_components=0.85, SVM__C=1;, score=0.953 total time=   0.0s\n",
      "[CV 5/5] END ..PCA__n_components=0.85, SVM__C=1;, score=0.923 total time=   0.0s\n",
      "[CV 1/5] END ..PCA__n_components=0.85, SVM__C=2;, score=0.874 total time=   0.0s\n",
      "[CV 2/5] END ..PCA__n_components=0.85, SVM__C=2;, score=0.835 total time=   0.0s\n",
      "[CV 3/5] END ..PCA__n_components=0.85, SVM__C=2;, score=0.704 total time=   0.0s\n",
      "[CV 4/5] END ..PCA__n_components=0.85, SVM__C=2;, score=0.953 total time=   0.0s\n",
      "[CV 5/5] END ..PCA__n_components=0.85, SVM__C=2;, score=0.923 total time=   0.0s\n",
      "[CV 1/5] END PCA__n_components=0.85, SVM__C=2.5;, score=0.874 total time=   0.0s\n",
      "[CV 2/5] END PCA__n_components=0.85, SVM__C=2.5;, score=0.835 total time=   0.0s\n",
      "[CV 3/5] END PCA__n_components=0.85, SVM__C=2.5;, score=0.704 total time=   0.0s\n",
      "[CV 4/5] END PCA__n_components=0.85, SVM__C=2.5;, score=0.953 total time=   0.0s\n",
      "[CV 5/5] END PCA__n_components=0.85, SVM__C=2.5;, score=0.923 total time=   0.0s\n",
      "[CV 1/5] END .PCA__n_components=0.9, SVM__C=0.4;, score=0.890 total time=   0.0s\n",
      "[CV 2/5] END .PCA__n_components=0.9, SVM__C=0.4;, score=0.830 total time=   0.0s\n",
      "[CV 3/5] END .PCA__n_components=0.9, SVM__C=0.4;, score=0.734 total time=   0.0s\n",
      "[CV 4/5] END .PCA__n_components=0.9, SVM__C=0.4;, score=0.947 total time=   0.0s\n",
      "[CV 5/5] END .PCA__n_components=0.9, SVM__C=0.4;, score=0.929 total time=   0.0s\n",
      "[CV 1/5] END ...PCA__n_components=0.9, SVM__C=1;, score=0.890 total time=   0.0s\n",
      "[CV 2/5] END ...PCA__n_components=0.9, SVM__C=1;, score=0.841 total time=   0.0s\n",
      "[CV 3/5] END ...PCA__n_components=0.9, SVM__C=1;, score=0.698 total time=   0.0s\n",
      "[CV 4/5] END ...PCA__n_components=0.9, SVM__C=1;, score=0.911 total time=   0.0s\n",
      "[CV 5/5] END ...PCA__n_components=0.9, SVM__C=1;, score=0.923 total time=   0.0s\n",
      "[CV 1/5] END ...PCA__n_components=0.9, SVM__C=2;, score=0.890 total time=   0.0s\n",
      "[CV 2/5] END ...PCA__n_components=0.9, SVM__C=2;, score=0.841 total time=   0.0s\n",
      "[CV 3/5] END ...PCA__n_components=0.9, SVM__C=2;, score=0.710 total time=   0.0s\n",
      "[CV 4/5] END ...PCA__n_components=0.9, SVM__C=2;, score=0.899 total time=   0.0s\n",
      "[CV 5/5] END ...PCA__n_components=0.9, SVM__C=2;, score=0.923 total time=   0.0s\n",
      "[CV 1/5] END .PCA__n_components=0.9, SVM__C=2.5;, score=0.890 total time=   0.0s\n",
      "[CV 2/5] END .PCA__n_components=0.9, SVM__C=2.5;, score=0.841 total time=   0.0s\n",
      "[CV 3/5] END .PCA__n_components=0.9, SVM__C=2.5;, score=0.698 total time=   0.0s\n",
      "[CV 4/5] END .PCA__n_components=0.9, SVM__C=2.5;, score=0.899 total time=   0.0s\n",
      "[CV 5/5] END .PCA__n_components=0.9, SVM__C=2.5;, score=0.923 total time=   0.0s\n",
      "[CV 1/5] END PCA__n_components=0.95, SVM__C=0.4;, score=0.846 total time=   0.0s\n",
      "[CV 2/5] END PCA__n_components=0.95, SVM__C=0.4;, score=0.830 total time=   0.0s\n",
      "[CV 3/5] END PCA__n_components=0.95, SVM__C=0.4;, score=0.704 total time=   0.0s\n",
      "[CV 4/5] END PCA__n_components=0.95, SVM__C=0.4;, score=0.970 total time=   0.0s\n",
      "[CV 5/5] END PCA__n_components=0.95, SVM__C=0.4;, score=0.917 total time=   0.0s\n",
      "[CV 1/5] END ..PCA__n_components=0.95, SVM__C=1;, score=0.841 total time=   0.0s\n",
      "[CV 2/5] END ..PCA__n_components=0.95, SVM__C=1;, score=0.830 total time=   0.0s\n",
      "[CV 3/5] END ..PCA__n_components=0.95, SVM__C=1;, score=0.680 total time=   0.0s\n",
      "[CV 4/5] END ..PCA__n_components=0.95, SVM__C=1;, score=0.929 total time=   0.0s\n",
      "[CV 5/5] END ..PCA__n_components=0.95, SVM__C=1;, score=0.917 total time=   0.0s\n",
      "[CV 1/5] END ..PCA__n_components=0.95, SVM__C=2;, score=0.830 total time=   0.0s\n",
      "[CV 2/5] END ..PCA__n_components=0.95, SVM__C=2;, score=0.846 total time=   0.0s\n",
      "[CV 3/5] END ..PCA__n_components=0.95, SVM__C=2;, score=0.680 total time=   0.0s\n",
      "[CV 4/5] END ..PCA__n_components=0.95, SVM__C=2;, score=0.917 total time=   0.0s\n",
      "[CV 5/5] END ..PCA__n_components=0.95, SVM__C=2;, score=0.911 total time=   0.0s\n",
      "[CV 1/5] END PCA__n_components=0.95, SVM__C=2.5;, score=0.835 total time=   0.0s\n",
      "[CV 2/5] END PCA__n_components=0.95, SVM__C=2.5;, score=0.846 total time=   0.0s\n",
      "[CV 3/5] END PCA__n_components=0.95, SVM__C=2.5;, score=0.686 total time=   0.0s\n",
      "[CV 4/5] END PCA__n_components=0.95, SVM__C=2.5;, score=0.905 total time=   0.0s\n",
      "[CV 5/5] END PCA__n_components=0.95, SVM__C=2.5;, score=0.911 total time=   0.0s\n"
     ]
    },
    {
     "data": {
      "text/html": [
       "<style>#sk-container-id-1 {color: black;background-color: white;}#sk-container-id-1 pre{padding: 0;}#sk-container-id-1 div.sk-toggleable {background-color: white;}#sk-container-id-1 label.sk-toggleable__label {cursor: pointer;display: block;width: 100%;margin-bottom: 0;padding: 0.3em;box-sizing: border-box;text-align: center;}#sk-container-id-1 label.sk-toggleable__label-arrow:before {content: \"▸\";float: left;margin-right: 0.25em;color: #696969;}#sk-container-id-1 label.sk-toggleable__label-arrow:hover:before {color: black;}#sk-container-id-1 div.sk-estimator:hover label.sk-toggleable__label-arrow:before {color: black;}#sk-container-id-1 div.sk-toggleable__content {max-height: 0;max-width: 0;overflow: hidden;text-align: left;background-color: #f0f8ff;}#sk-container-id-1 div.sk-toggleable__content pre {margin: 0.2em;color: black;border-radius: 0.25em;background-color: #f0f8ff;}#sk-container-id-1 input.sk-toggleable__control:checked~div.sk-toggleable__content {max-height: 200px;max-width: 100%;overflow: auto;}#sk-container-id-1 input.sk-toggleable__control:checked~label.sk-toggleable__label-arrow:before {content: \"▾\";}#sk-container-id-1 div.sk-estimator input.sk-toggleable__control:checked~label.sk-toggleable__label {background-color: #d4ebff;}#sk-container-id-1 div.sk-label input.sk-toggleable__control:checked~label.sk-toggleable__label {background-color: #d4ebff;}#sk-container-id-1 input.sk-hidden--visually {border: 0;clip: rect(1px 1px 1px 1px);clip: rect(1px, 1px, 1px, 1px);height: 1px;margin: -1px;overflow: hidden;padding: 0;position: absolute;width: 1px;}#sk-container-id-1 div.sk-estimator {font-family: monospace;background-color: #f0f8ff;border: 1px dotted black;border-radius: 0.25em;box-sizing: border-box;margin-bottom: 0.5em;}#sk-container-id-1 div.sk-estimator:hover {background-color: #d4ebff;}#sk-container-id-1 div.sk-parallel-item::after {content: \"\";width: 100%;border-bottom: 1px solid gray;flex-grow: 1;}#sk-container-id-1 div.sk-label:hover label.sk-toggleable__label {background-color: #d4ebff;}#sk-container-id-1 div.sk-serial::before {content: \"\";position: absolute;border-left: 1px solid gray;box-sizing: border-box;top: 0;bottom: 0;left: 50%;z-index: 0;}#sk-container-id-1 div.sk-serial {display: flex;flex-direction: column;align-items: center;background-color: white;padding-right: 0.2em;padding-left: 0.2em;position: relative;}#sk-container-id-1 div.sk-item {position: relative;z-index: 1;}#sk-container-id-1 div.sk-parallel {display: flex;align-items: stretch;justify-content: center;background-color: white;position: relative;}#sk-container-id-1 div.sk-item::before, #sk-container-id-1 div.sk-parallel-item::before {content: \"\";position: absolute;border-left: 1px solid gray;box-sizing: border-box;top: 0;bottom: 0;left: 50%;z-index: -1;}#sk-container-id-1 div.sk-parallel-item {display: flex;flex-direction: column;z-index: 1;position: relative;background-color: white;}#sk-container-id-1 div.sk-parallel-item:first-child::after {align-self: flex-end;width: 50%;}#sk-container-id-1 div.sk-parallel-item:last-child::after {align-self: flex-start;width: 50%;}#sk-container-id-1 div.sk-parallel-item:only-child::after {width: 0;}#sk-container-id-1 div.sk-dashed-wrapped {border: 1px dashed gray;margin: 0 0.4em 0.5em 0.4em;box-sizing: border-box;padding-bottom: 0.4em;background-color: white;}#sk-container-id-1 div.sk-label label {font-family: monospace;font-weight: bold;display: inline-block;line-height: 1.2em;}#sk-container-id-1 div.sk-label-container {text-align: center;}#sk-container-id-1 div.sk-container {/* jupyter's `normalize.less` sets `[hidden] { display: none; }` but bootstrap.min.css set `[hidden] { display: none !important; }` so we also need the `!important` here to be able to override the default hidden behavior on the sphinx rendered scikit-learn.org. See: https://github.com/scikit-learn/scikit-learn/issues/21755 */display: inline-block !important;position: relative;}#sk-container-id-1 div.sk-text-repr-fallback {display: none;}</style><div id=\"sk-container-id-1\" class=\"sk-top-container\"><div class=\"sk-text-repr-fallback\"><pre>GridSearchCV(cv=StratifiedKFold(n_splits=5, random_state=2022, shuffle=True),\n",
       "             estimator=Pipeline(steps=[(&#x27;STD&#x27;, StandardScaler()),\n",
       "                                       (&#x27;PCA&#x27;, PCA(random_state=2022)),\n",
       "                                       (&#x27;SVM&#x27;,\n",
       "                                        SVC(kernel=&#x27;linear&#x27;, probability=True,\n",
       "                                            random_state=2022))]),\n",
       "             param_grid={&#x27;PCA__n_components&#x27;: [0.75, 0.8, 0.85, 0.9, 0.95],\n",
       "                         &#x27;SVM__C&#x27;: [0.4, 1, 2, 2.5]},\n",
       "             scoring=&#x27;roc_auc&#x27;, verbose=3)</pre><b>In a Jupyter environment, please rerun this cell to show the HTML representation or trust the notebook. <br />On GitHub, the HTML representation is unable to render, please try loading this page with nbviewer.org.</b></div><div class=\"sk-container\" hidden><div class=\"sk-item sk-dashed-wrapped\"><div class=\"sk-label-container\"><div class=\"sk-label sk-toggleable\"><input class=\"sk-toggleable__control sk-hidden--visually\" id=\"sk-estimator-id-1\" type=\"checkbox\" ><label for=\"sk-estimator-id-1\" class=\"sk-toggleable__label sk-toggleable__label-arrow\">GridSearchCV</label><div class=\"sk-toggleable__content\"><pre>GridSearchCV(cv=StratifiedKFold(n_splits=5, random_state=2022, shuffle=True),\n",
       "             estimator=Pipeline(steps=[(&#x27;STD&#x27;, StandardScaler()),\n",
       "                                       (&#x27;PCA&#x27;, PCA(random_state=2022)),\n",
       "                                       (&#x27;SVM&#x27;,\n",
       "                                        SVC(kernel=&#x27;linear&#x27;, probability=True,\n",
       "                                            random_state=2022))]),\n",
       "             param_grid={&#x27;PCA__n_components&#x27;: [0.75, 0.8, 0.85, 0.9, 0.95],\n",
       "                         &#x27;SVM__C&#x27;: [0.4, 1, 2, 2.5]},\n",
       "             scoring=&#x27;roc_auc&#x27;, verbose=3)</pre></div></div></div><div class=\"sk-parallel\"><div class=\"sk-parallel-item\"><div class=\"sk-item\"><div class=\"sk-label-container\"><div class=\"sk-label sk-toggleable\"><input class=\"sk-toggleable__control sk-hidden--visually\" id=\"sk-estimator-id-2\" type=\"checkbox\" ><label for=\"sk-estimator-id-2\" class=\"sk-toggleable__label sk-toggleable__label-arrow\">estimator: Pipeline</label><div class=\"sk-toggleable__content\"><pre>Pipeline(steps=[(&#x27;STD&#x27;, StandardScaler()), (&#x27;PCA&#x27;, PCA(random_state=2022)),\n",
       "                (&#x27;SVM&#x27;,\n",
       "                 SVC(kernel=&#x27;linear&#x27;, probability=True, random_state=2022))])</pre></div></div></div><div class=\"sk-serial\"><div class=\"sk-item\"><div class=\"sk-serial\"><div class=\"sk-item\"><div class=\"sk-estimator sk-toggleable\"><input class=\"sk-toggleable__control sk-hidden--visually\" id=\"sk-estimator-id-3\" type=\"checkbox\" ><label for=\"sk-estimator-id-3\" class=\"sk-toggleable__label sk-toggleable__label-arrow\">StandardScaler</label><div class=\"sk-toggleable__content\"><pre>StandardScaler()</pre></div></div></div><div class=\"sk-item\"><div class=\"sk-estimator sk-toggleable\"><input class=\"sk-toggleable__control sk-hidden--visually\" id=\"sk-estimator-id-4\" type=\"checkbox\" ><label for=\"sk-estimator-id-4\" class=\"sk-toggleable__label sk-toggleable__label-arrow\">PCA</label><div class=\"sk-toggleable__content\"><pre>PCA(random_state=2022)</pre></div></div></div><div class=\"sk-item\"><div class=\"sk-estimator sk-toggleable\"><input class=\"sk-toggleable__control sk-hidden--visually\" id=\"sk-estimator-id-5\" type=\"checkbox\" ><label for=\"sk-estimator-id-5\" class=\"sk-toggleable__label sk-toggleable__label-arrow\">SVC</label><div class=\"sk-toggleable__content\"><pre>SVC(kernel=&#x27;linear&#x27;, probability=True, random_state=2022)</pre></div></div></div></div></div></div></div></div></div></div></div></div>"
      ],
      "text/plain": [
       "GridSearchCV(cv=StratifiedKFold(n_splits=5, random_state=2022, shuffle=True),\n",
       "             estimator=Pipeline(steps=[('STD', StandardScaler()),\n",
       "                                       ('PCA', PCA(random_state=2022)),\n",
       "                                       ('SVM',\n",
       "                                        SVC(kernel='linear', probability=True,\n",
       "                                            random_state=2022))]),\n",
       "             param_grid={'PCA__n_components': [0.75, 0.8, 0.85, 0.9, 0.95],\n",
       "                         'SVM__C': [0.4, 1, 2, 2.5]},\n",
       "             scoring='roc_auc', verbose=3)"
      ]
     },
     "execution_count": 31,
     "metadata": {},
     "output_type": "execute_result"
    }
   ],
   "source": [
    "gcv = GridSearchCV(pipe_pca_svm,\n",
    "                  param_grid = params,\n",
    "                  cv = kfold,\n",
    "                  verbose = 3,\n",
    "                  scoring = \"roc_auc\")\n",
    " \n",
    "gcv.fit(X, y)"
   ]
  },
  {
   "cell_type": "code",
   "execution_count": 32,
   "id": "9c9b131e",
   "metadata": {},
   "outputs": [
    {
     "name": "stdout",
     "output_type": "stream",
     "text": [
      "{'PCA__n_components': 0.75, 'SVM__C': 1}\n"
     ]
    }
   ],
   "source": [
    "print(gcv.best_params_)"
   ]
  },
  {
   "cell_type": "code",
   "execution_count": 33,
   "id": "1b308e5a",
   "metadata": {},
   "outputs": [
    {
     "name": "stdout",
     "output_type": "stream",
     "text": [
      "0.869484361792054\n"
     ]
    }
   ],
   "source": [
    "print(gcv.best_score_)"
   ]
  },
  {
   "cell_type": "code",
   "execution_count": null,
   "id": "4617af91",
   "metadata": {},
   "outputs": [],
   "source": []
  }
 ],
 "metadata": {
  "kernelspec": {
   "display_name": "Python 3 (ipykernel)",
   "language": "python",
   "name": "python3"
  },
  "language_info": {
   "codemirror_mode": {
    "name": "ipython",
    "version": 3
   },
   "file_extension": ".py",
   "mimetype": "text/x-python",
   "name": "python",
   "nbconvert_exporter": "python",
   "pygments_lexer": "ipython3",
   "version": "3.9.13"
  }
 },
 "nbformat": 4,
 "nbformat_minor": 5
}
