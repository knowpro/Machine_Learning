{
 "cells": [
  {
   "cell_type": "code",
   "execution_count": 1,
   "id": "9402a3fa",
   "metadata": {},
   "outputs": [],
   "source": [
    "import pandas as pd\n",
    "from mlxtend.frequent_patterns import apriori\n",
    "from mlxtend.frequent_patterns import association_rules\n",
    "\n",
    "from mlxtend .preprocessing import TransactionEncoder"
   ]
  },
  {
   "cell_type": "code",
   "execution_count": 3,
   "id": "4218d3a5",
   "metadata": {},
   "outputs": [],
   "source": [
    "dataA = []"
   ]
  },
  {
   "cell_type": "code",
   "execution_count": 4,
   "id": "2915f003",
   "metadata": {},
   "outputs": [],
   "source": [
    "with open(r\"C:\\Hogwarts\\machine_learning\\11. Association Rules\\Association Datasets\\DataSetA.csv\") as f:dataA = f.read()\n",
    "dataA = dataA.split(\"\\n\")"
   ]
  },
  {
   "cell_type": "code",
   "execution_count": 5,
   "id": "a84ba960",
   "metadata": {},
   "outputs": [],
   "source": [
    "dataA_list = []\n",
    "for i in dataA:\n",
    "    dataA_list.append(i.split(\",\"))"
   ]
  },
  {
   "cell_type": "code",
   "execution_count": 6,
   "id": "15c42f04",
   "metadata": {},
   "outputs": [
    {
     "data": {
      "text/plain": [
       "array([[ True, False,  True, ..., False, False,  True],\n",
       "       [ True, False, False, ..., False, False, False],\n",
       "       [ True, False,  True, ..., False,  True, False],\n",
       "       ...,\n",
       "       [ True,  True, False, ..., False, False,  True],\n",
       "       [ True,  True, False, ..., False, False,  True],\n",
       "       [ True, False, False, ..., False, False, False]])"
      ]
     },
     "execution_count": 6,
     "metadata": {},
     "output_type": "execute_result"
    }
   ],
   "source": [
    "te =TransactionEncoder()\n",
    "te_ary = te.fit(dataA_list).transform(dataA_list)\n",
    "te_ary"
   ]
  },
  {
   "cell_type": "code",
   "execution_count": 7,
   "id": "d20c2045",
   "metadata": {},
   "outputs": [],
   "source": [
    "fp_df = pd.DataFrame(te_ary, columns=te.columns_)"
   ]
  },
  {
   "cell_type": "markdown",
   "id": "cf56458f",
   "metadata": {},
   "source": [
    "## Create Frequent Itemset"
   ]
  },
  {
   "cell_type": "code",
   "execution_count": 9,
   "id": "ebb76cf5",
   "metadata": {},
   "outputs": [
    {
     "data": {
      "text/html": [
       "<div>\n",
       "<style scoped>\n",
       "    .dataframe tbody tr th:only-of-type {\n",
       "        vertical-align: middle;\n",
       "    }\n",
       "\n",
       "    .dataframe tbody tr th {\n",
       "        vertical-align: top;\n",
       "    }\n",
       "\n",
       "    .dataframe thead th {\n",
       "        text-align: right;\n",
       "    }\n",
       "</style>\n",
       "<table border=\"1\" class=\"dataframe\">\n",
       "  <thead>\n",
       "    <tr style=\"text-align: right;\">\n",
       "      <th></th>\n",
       "      <th>support</th>\n",
       "      <th>itemsets</th>\n",
       "    </tr>\n",
       "  </thead>\n",
       "  <tbody>\n",
       "    <tr>\n",
       "      <th>0</th>\n",
       "      <td>1.000000</td>\n",
       "      <td>()</td>\n",
       "    </tr>\n",
       "    <tr>\n",
       "      <th>1</th>\n",
       "      <td>0.437774</td>\n",
       "      <td>(Bread)</td>\n",
       "    </tr>\n",
       "    <tr>\n",
       "      <th>2</th>\n",
       "      <td>0.437535</td>\n",
       "      <td>(Butter)</td>\n",
       "    </tr>\n",
       "    <tr>\n",
       "      <th>3</th>\n",
       "      <td>0.437136</td>\n",
       "      <td>(Cheese)</td>\n",
       "    </tr>\n",
       "    <tr>\n",
       "      <th>4</th>\n",
       "      <td>0.439770</td>\n",
       "      <td>(Coffee Powder)</td>\n",
       "    </tr>\n",
       "  </tbody>\n",
       "</table>\n",
       "</div>"
      ],
      "text/plain": [
       "    support         itemsets\n",
       "0  1.000000               ()\n",
       "1  0.437774          (Bread)\n",
       "2  0.437535         (Butter)\n",
       "3  0.437136         (Cheese)\n",
       "4  0.439770  (Coffee Powder)"
      ]
     },
     "execution_count": 9,
     "metadata": {},
     "output_type": "execute_result"
    }
   ],
   "source": [
    "itemset = apriori(fp_df, min_support = 0.2,\n",
    "                 use_colnames=True)\n",
    "itemset.head()"
   ]
  },
  {
   "cell_type": "markdown",
   "id": "98b17930",
   "metadata": {},
   "source": [
    "## Convert into rules"
   ]
  },
  {
   "cell_type": "code",
   "execution_count": 11,
   "id": "8bd5c019",
   "metadata": {},
   "outputs": [
    {
     "data": {
      "text/html": [
       "<div>\n",
       "<style scoped>\n",
       "    .dataframe tbody tr th:only-of-type {\n",
       "        vertical-align: middle;\n",
       "    }\n",
       "\n",
       "    .dataframe tbody tr th {\n",
       "        vertical-align: top;\n",
       "    }\n",
       "\n",
       "    .dataframe thead th {\n",
       "        text-align: right;\n",
       "    }\n",
       "</style>\n",
       "<table border=\"1\" class=\"dataframe\">\n",
       "  <thead>\n",
       "    <tr style=\"text-align: right;\">\n",
       "      <th></th>\n",
       "      <th>antecedents</th>\n",
       "      <th>consequents</th>\n",
       "      <th>antecedent support</th>\n",
       "      <th>consequent support</th>\n",
       "      <th>support</th>\n",
       "      <th>confidence</th>\n",
       "      <th>lift</th>\n",
       "      <th>leverage</th>\n",
       "      <th>conviction</th>\n",
       "    </tr>\n",
       "  </thead>\n",
       "  <tbody>\n",
       "    <tr>\n",
       "      <th>0</th>\n",
       "      <td>(Bread)</td>\n",
       "      <td>()</td>\n",
       "      <td>0.437774</td>\n",
       "      <td>1.0</td>\n",
       "      <td>0.437774</td>\n",
       "      <td>1.0</td>\n",
       "      <td>1.0</td>\n",
       "      <td>0.0</td>\n",
       "      <td>inf</td>\n",
       "    </tr>\n",
       "    <tr>\n",
       "      <th>1</th>\n",
       "      <td>(Butter)</td>\n",
       "      <td>()</td>\n",
       "      <td>0.437535</td>\n",
       "      <td>1.0</td>\n",
       "      <td>0.437535</td>\n",
       "      <td>1.0</td>\n",
       "      <td>1.0</td>\n",
       "      <td>0.0</td>\n",
       "      <td>inf</td>\n",
       "    </tr>\n",
       "    <tr>\n",
       "      <th>2</th>\n",
       "      <td>(Cheese)</td>\n",
       "      <td>()</td>\n",
       "      <td>0.437136</td>\n",
       "      <td>1.0</td>\n",
       "      <td>0.437136</td>\n",
       "      <td>1.0</td>\n",
       "      <td>1.0</td>\n",
       "      <td>0.0</td>\n",
       "      <td>inf</td>\n",
       "    </tr>\n",
       "    <tr>\n",
       "      <th>3</th>\n",
       "      <td>(Coffee Powder)</td>\n",
       "      <td>()</td>\n",
       "      <td>0.439770</td>\n",
       "      <td>1.0</td>\n",
       "      <td>0.439770</td>\n",
       "      <td>1.0</td>\n",
       "      <td>1.0</td>\n",
       "      <td>0.0</td>\n",
       "      <td>inf</td>\n",
       "    </tr>\n",
       "    <tr>\n",
       "      <th>4</th>\n",
       "      <td>(Ghee)</td>\n",
       "      <td>()</td>\n",
       "      <td>0.439850</td>\n",
       "      <td>1.0</td>\n",
       "      <td>0.439850</td>\n",
       "      <td>1.0</td>\n",
       "      <td>1.0</td>\n",
       "      <td>0.0</td>\n",
       "      <td>inf</td>\n",
       "    </tr>\n",
       "  </tbody>\n",
       "</table>\n",
       "</div>"
      ],
      "text/plain": [
       "       antecedents consequents  antecedent support  consequent support  \\\n",
       "0          (Bread)          ()            0.437774                 1.0   \n",
       "1         (Butter)          ()            0.437535                 1.0   \n",
       "2         (Cheese)          ()            0.437136                 1.0   \n",
       "3  (Coffee Powder)          ()            0.439770                 1.0   \n",
       "4           (Ghee)          ()            0.439850                 1.0   \n",
       "\n",
       "    support  confidence  lift  leverage  conviction  \n",
       "0  0.437774         1.0   1.0       0.0         inf  \n",
       "1  0.437535         1.0   1.0       0.0         inf  \n",
       "2  0.437136         1.0   1.0       0.0         inf  \n",
       "3  0.439770         1.0   1.0       0.0         inf  \n",
       "4  0.439850         1.0   1.0       0.0         inf  "
      ]
     },
     "execution_count": 11,
     "metadata": {},
     "output_type": "execute_result"
    }
   ],
   "source": [
    "rules = association_rules(itemset,\n",
    "                         min_threshold = 0.5)\n",
    "rules.head()"
   ]
  },
  {
   "cell_type": "code",
   "execution_count": null,
   "id": "25c14a5c",
   "metadata": {},
   "outputs": [],
   "source": [
    "h"
   ]
  }
 ],
 "metadata": {
  "kernelspec": {
   "display_name": "Python 3 (ipykernel)",
   "language": "python",
   "name": "python3"
  },
  "language_info": {
   "codemirror_mode": {
    "name": "ipython",
    "version": 3
   },
   "file_extension": ".py",
   "mimetype": "text/x-python",
   "name": "python",
   "nbconvert_exporter": "python",
   "pygments_lexer": "ipython3",
   "version": "3.9.13"
  }
 },
 "nbformat": 4,
 "nbformat_minor": 5
}
