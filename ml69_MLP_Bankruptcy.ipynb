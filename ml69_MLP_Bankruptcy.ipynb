{
 "cells": [
  {
   "cell_type": "code",
   "execution_count": 2,
   "id": "142bf9d4",
   "metadata": {},
   "outputs": [],
   "source": [
    "import pandas as pd\n",
    "import numpy as np\n",
    "from sklearn.linear_model import SGDClassifier\n",
    "\n",
    "from sklearn.neural_network import MLPClassifier\n",
    "from sklearn.metrics import accuracy_score, roc_auc_score\n",
    "from sklearn.model_selection import train_test_split\n",
    "from sklearn.model_selection import StratifiedKFold\n",
    "from sklearn.model_selection import GridSearchCV\n",
    "\n",
    "from sklearn.preprocessing import MinMaxScaler\n",
    "from sklearn.pipeline import Pipeline"
   ]
  },
  {
   "cell_type": "code",
   "execution_count": 58,
   "id": "2190b04b",
   "metadata": {},
   "outputs": [
    {
     "data": {
      "text/html": [
       "<div>\n",
       "<style scoped>\n",
       "    .dataframe tbody tr th:only-of-type {\n",
       "        vertical-align: middle;\n",
       "    }\n",
       "\n",
       "    .dataframe tbody tr th {\n",
       "        vertical-align: top;\n",
       "    }\n",
       "\n",
       "    .dataframe thead th {\n",
       "        text-align: right;\n",
       "    }\n",
       "</style>\n",
       "<table border=\"1\" class=\"dataframe\">\n",
       "  <thead>\n",
       "    <tr style=\"text-align: right;\">\n",
       "      <th></th>\n",
       "      <th>D</th>\n",
       "      <th>YR</th>\n",
       "      <th>R1</th>\n",
       "      <th>R2</th>\n",
       "      <th>R3</th>\n",
       "      <th>R4</th>\n",
       "      <th>R5</th>\n",
       "      <th>R6</th>\n",
       "      <th>R7</th>\n",
       "      <th>R8</th>\n",
       "      <th>...</th>\n",
       "      <th>R15</th>\n",
       "      <th>R16</th>\n",
       "      <th>R17</th>\n",
       "      <th>R18</th>\n",
       "      <th>R19</th>\n",
       "      <th>R20</th>\n",
       "      <th>R21</th>\n",
       "      <th>R22</th>\n",
       "      <th>R23</th>\n",
       "      <th>R24</th>\n",
       "    </tr>\n",
       "    <tr>\n",
       "      <th>NO</th>\n",
       "      <th></th>\n",
       "      <th></th>\n",
       "      <th></th>\n",
       "      <th></th>\n",
       "      <th></th>\n",
       "      <th></th>\n",
       "      <th></th>\n",
       "      <th></th>\n",
       "      <th></th>\n",
       "      <th></th>\n",
       "      <th></th>\n",
       "      <th></th>\n",
       "      <th></th>\n",
       "      <th></th>\n",
       "      <th></th>\n",
       "      <th></th>\n",
       "      <th></th>\n",
       "      <th></th>\n",
       "      <th></th>\n",
       "      <th></th>\n",
       "      <th></th>\n",
       "    </tr>\n",
       "  </thead>\n",
       "  <tbody>\n",
       "    <tr>\n",
       "      <th>1</th>\n",
       "      <td>0</td>\n",
       "      <td>78</td>\n",
       "      <td>0.23</td>\n",
       "      <td>0.08</td>\n",
       "      <td>0.02</td>\n",
       "      <td>0.03</td>\n",
       "      <td>0.46</td>\n",
       "      <td>0.12</td>\n",
       "      <td>0.19</td>\n",
       "      <td>10.36</td>\n",
       "      <td>...</td>\n",
       "      <td>0.05</td>\n",
       "      <td>0.57</td>\n",
       "      <td>0.15</td>\n",
       "      <td>0.23</td>\n",
       "      <td>3.56</td>\n",
       "      <td>0.26</td>\n",
       "      <td>1.55</td>\n",
       "      <td>0.43</td>\n",
       "      <td>0.11</td>\n",
       "      <td>0.17</td>\n",
       "    </tr>\n",
       "    <tr>\n",
       "      <th>2</th>\n",
       "      <td>0</td>\n",
       "      <td>77</td>\n",
       "      <td>0.19</td>\n",
       "      <td>0.07</td>\n",
       "      <td>0.09</td>\n",
       "      <td>0.12</td>\n",
       "      <td>0.02</td>\n",
       "      <td>0.02</td>\n",
       "      <td>0.03</td>\n",
       "      <td>3.13</td>\n",
       "      <td>...</td>\n",
       "      <td>0.09</td>\n",
       "      <td>0.12</td>\n",
       "      <td>0.16</td>\n",
       "      <td>0.22</td>\n",
       "      <td>3.78</td>\n",
       "      <td>1.29</td>\n",
       "      <td>1.40</td>\n",
       "      <td>0.06</td>\n",
       "      <td>0.07</td>\n",
       "      <td>0.10</td>\n",
       "    </tr>\n",
       "    <tr>\n",
       "      <th>3</th>\n",
       "      <td>0</td>\n",
       "      <td>72</td>\n",
       "      <td>0.07</td>\n",
       "      <td>0.02</td>\n",
       "      <td>0.03</td>\n",
       "      <td>0.05</td>\n",
       "      <td>0.06</td>\n",
       "      <td>0.10</td>\n",
       "      <td>0.14</td>\n",
       "      <td>2.41</td>\n",
       "      <td>...</td>\n",
       "      <td>-0.03</td>\n",
       "      <td>0.02</td>\n",
       "      <td>0.02</td>\n",
       "      <td>0.04</td>\n",
       "      <td>13.29</td>\n",
       "      <td>1.61</td>\n",
       "      <td>1.43</td>\n",
       "      <td>0.03</td>\n",
       "      <td>0.05</td>\n",
       "      <td>0.07</td>\n",
       "    </tr>\n",
       "    <tr>\n",
       "      <th>4</th>\n",
       "      <td>0</td>\n",
       "      <td>80</td>\n",
       "      <td>0.07</td>\n",
       "      <td>0.03</td>\n",
       "      <td>0.04</td>\n",
       "      <td>0.04</td>\n",
       "      <td>0.04</td>\n",
       "      <td>0.06</td>\n",
       "      <td>0.06</td>\n",
       "      <td>5.55</td>\n",
       "      <td>...</td>\n",
       "      <td>-0.02</td>\n",
       "      <td>0.01</td>\n",
       "      <td>0.02</td>\n",
       "      <td>0.02</td>\n",
       "      <td>5.36</td>\n",
       "      <td>1.30</td>\n",
       "      <td>1.12</td>\n",
       "      <td>-0.06</td>\n",
       "      <td>-0.08</td>\n",
       "      <td>-0.09</td>\n",
       "    </tr>\n",
       "    <tr>\n",
       "      <th>5</th>\n",
       "      <td>0</td>\n",
       "      <td>81</td>\n",
       "      <td>0.09</td>\n",
       "      <td>0.02</td>\n",
       "      <td>0.03</td>\n",
       "      <td>0.04</td>\n",
       "      <td>0.06</td>\n",
       "      <td>0.08</td>\n",
       "      <td>0.11</td>\n",
       "      <td>2.85</td>\n",
       "      <td>...</td>\n",
       "      <td>0.02</td>\n",
       "      <td>0.07</td>\n",
       "      <td>0.10</td>\n",
       "      <td>0.14</td>\n",
       "      <td>7.74</td>\n",
       "      <td>1.48</td>\n",
       "      <td>1.41</td>\n",
       "      <td>0.03</td>\n",
       "      <td>0.04</td>\n",
       "      <td>0.06</td>\n",
       "    </tr>\n",
       "  </tbody>\n",
       "</table>\n",
       "<p>5 rows × 26 columns</p>\n",
       "</div>"
      ],
      "text/plain": [
       "    D  YR    R1    R2    R3    R4    R5    R6    R7     R8  ...   R15   R16  \\\n",
       "NO                                                          ...               \n",
       "1   0  78  0.23  0.08  0.02  0.03  0.46  0.12  0.19  10.36  ...  0.05  0.57   \n",
       "2   0  77  0.19  0.07  0.09  0.12  0.02  0.02  0.03   3.13  ...  0.09  0.12   \n",
       "3   0  72  0.07  0.02  0.03  0.05  0.06  0.10  0.14   2.41  ... -0.03  0.02   \n",
       "4   0  80  0.07  0.03  0.04  0.04  0.04  0.06  0.06   5.55  ... -0.02  0.01   \n",
       "5   0  81  0.09  0.02  0.03  0.04  0.06  0.08  0.11   2.85  ...  0.02  0.07   \n",
       "\n",
       "     R17   R18    R19   R20   R21   R22   R23   R24  \n",
       "NO                                                   \n",
       "1   0.15  0.23   3.56  0.26  1.55  0.43  0.11  0.17  \n",
       "2   0.16  0.22   3.78  1.29  1.40  0.06  0.07  0.10  \n",
       "3   0.02  0.04  13.29  1.61  1.43  0.03  0.05  0.07  \n",
       "4   0.02  0.02   5.36  1.30  1.12 -0.06 -0.08 -0.09  \n",
       "5   0.10  0.14   7.74  1.48  1.41  0.03  0.04  0.06  \n",
       "\n",
       "[5 rows x 26 columns]"
      ]
     },
     "execution_count": 58,
     "metadata": {},
     "output_type": "execute_result"
    }
   ],
   "source": [
    "banka = pd.read_csv(r\"Cases\\Bankruptcy\\Bankruptcy.csv\",\n",
    "                   index_col = 0)\n",
    "banka.head()"
   ]
  },
  {
   "cell_type": "code",
   "execution_count": 7,
   "id": "04eacba9",
   "metadata": {},
   "outputs": [],
   "source": [
    "X = banka.drop(['D', 'YR'] , axis =1)\n",
    "y = banka['D']"
   ]
  },
  {
   "cell_type": "code",
   "execution_count": 8,
   "id": "6d466b81",
   "metadata": {},
   "outputs": [],
   "source": [
    "X_train, X_test, y_train, y_test = train_test_split(X,\n",
    "                                                    y,\n",
    "                                                    stratify = y,\n",
    "                                                    random_state = 2022,\n",
    "                                                    train_size = 0.7)"
   ]
  },
  {
   "cell_type": "code",
   "execution_count": 9,
   "id": "472741f6",
   "metadata": {},
   "outputs": [],
   "source": [
    "mm = MinMaxScaler()"
   ]
  },
  {
   "cell_type": "code",
   "execution_count": 35,
   "id": "8a050087",
   "metadata": {},
   "outputs": [],
   "source": [
    "mlp = MLPClassifier(activation = \"logistic\",\n",
    "                   random_state = 2022)"
   ]
  },
  {
   "cell_type": "code",
   "execution_count": 40,
   "id": "f77cb44b",
   "metadata": {},
   "outputs": [
    {
     "name": "stderr",
     "output_type": "stream",
     "text": [
      "C:\\Users\\admin\\anaconda3\\lib\\site-packages\\sklearn\\neural_network\\_multilayer_perceptron.py:679: ConvergenceWarning: Stochastic Optimizer: Maximum iterations (200) reached and the optimization hasn't converged yet.\n",
      "  warnings.warn(\n"
     ]
    },
    {
     "data": {
      "text/html": [
       "<style>#sk-container-id-3 {color: black;background-color: white;}#sk-container-id-3 pre{padding: 0;}#sk-container-id-3 div.sk-toggleable {background-color: white;}#sk-container-id-3 label.sk-toggleable__label {cursor: pointer;display: block;width: 100%;margin-bottom: 0;padding: 0.3em;box-sizing: border-box;text-align: center;}#sk-container-id-3 label.sk-toggleable__label-arrow:before {content: \"▸\";float: left;margin-right: 0.25em;color: #696969;}#sk-container-id-3 label.sk-toggleable__label-arrow:hover:before {color: black;}#sk-container-id-3 div.sk-estimator:hover label.sk-toggleable__label-arrow:before {color: black;}#sk-container-id-3 div.sk-toggleable__content {max-height: 0;max-width: 0;overflow: hidden;text-align: left;background-color: #f0f8ff;}#sk-container-id-3 div.sk-toggleable__content pre {margin: 0.2em;color: black;border-radius: 0.25em;background-color: #f0f8ff;}#sk-container-id-3 input.sk-toggleable__control:checked~div.sk-toggleable__content {max-height: 200px;max-width: 100%;overflow: auto;}#sk-container-id-3 input.sk-toggleable__control:checked~label.sk-toggleable__label-arrow:before {content: \"▾\";}#sk-container-id-3 div.sk-estimator input.sk-toggleable__control:checked~label.sk-toggleable__label {background-color: #d4ebff;}#sk-container-id-3 div.sk-label input.sk-toggleable__control:checked~label.sk-toggleable__label {background-color: #d4ebff;}#sk-container-id-3 input.sk-hidden--visually {border: 0;clip: rect(1px 1px 1px 1px);clip: rect(1px, 1px, 1px, 1px);height: 1px;margin: -1px;overflow: hidden;padding: 0;position: absolute;width: 1px;}#sk-container-id-3 div.sk-estimator {font-family: monospace;background-color: #f0f8ff;border: 1px dotted black;border-radius: 0.25em;box-sizing: border-box;margin-bottom: 0.5em;}#sk-container-id-3 div.sk-estimator:hover {background-color: #d4ebff;}#sk-container-id-3 div.sk-parallel-item::after {content: \"\";width: 100%;border-bottom: 1px solid gray;flex-grow: 1;}#sk-container-id-3 div.sk-label:hover label.sk-toggleable__label {background-color: #d4ebff;}#sk-container-id-3 div.sk-serial::before {content: \"\";position: absolute;border-left: 1px solid gray;box-sizing: border-box;top: 0;bottom: 0;left: 50%;z-index: 0;}#sk-container-id-3 div.sk-serial {display: flex;flex-direction: column;align-items: center;background-color: white;padding-right: 0.2em;padding-left: 0.2em;position: relative;}#sk-container-id-3 div.sk-item {position: relative;z-index: 1;}#sk-container-id-3 div.sk-parallel {display: flex;align-items: stretch;justify-content: center;background-color: white;position: relative;}#sk-container-id-3 div.sk-item::before, #sk-container-id-3 div.sk-parallel-item::before {content: \"\";position: absolute;border-left: 1px solid gray;box-sizing: border-box;top: 0;bottom: 0;left: 50%;z-index: -1;}#sk-container-id-3 div.sk-parallel-item {display: flex;flex-direction: column;z-index: 1;position: relative;background-color: white;}#sk-container-id-3 div.sk-parallel-item:first-child::after {align-self: flex-end;width: 50%;}#sk-container-id-3 div.sk-parallel-item:last-child::after {align-self: flex-start;width: 50%;}#sk-container-id-3 div.sk-parallel-item:only-child::after {width: 0;}#sk-container-id-3 div.sk-dashed-wrapped {border: 1px dashed gray;margin: 0 0.4em 0.5em 0.4em;box-sizing: border-box;padding-bottom: 0.4em;background-color: white;}#sk-container-id-3 div.sk-label label {font-family: monospace;font-weight: bold;display: inline-block;line-height: 1.2em;}#sk-container-id-3 div.sk-label-container {text-align: center;}#sk-container-id-3 div.sk-container {/* jupyter's `normalize.less` sets `[hidden] { display: none; }` but bootstrap.min.css set `[hidden] { display: none !important; }` so we also need the `!important` here to be able to override the default hidden behavior on the sphinx rendered scikit-learn.org. See: https://github.com/scikit-learn/scikit-learn/issues/21755 */display: inline-block !important;position: relative;}#sk-container-id-3 div.sk-text-repr-fallback {display: none;}</style><div id=\"sk-container-id-3\" class=\"sk-top-container\"><div class=\"sk-text-repr-fallback\"><pre>Pipeline(steps=[(&#x27;MM&#x27;, MinMaxScaler()),\n",
       "                (&#x27;MLP&#x27;,\n",
       "                 MLPClassifier(activation=&#x27;logistic&#x27;, random_state=2022))])</pre><b>In a Jupyter environment, please rerun this cell to show the HTML representation or trust the notebook. <br />On GitHub, the HTML representation is unable to render, please try loading this page with nbviewer.org.</b></div><div class=\"sk-container\" hidden><div class=\"sk-item sk-dashed-wrapped\"><div class=\"sk-label-container\"><div class=\"sk-label sk-toggleable\"><input class=\"sk-toggleable__control sk-hidden--visually\" id=\"sk-estimator-id-7\" type=\"checkbox\" ><label for=\"sk-estimator-id-7\" class=\"sk-toggleable__label sk-toggleable__label-arrow\">Pipeline</label><div class=\"sk-toggleable__content\"><pre>Pipeline(steps=[(&#x27;MM&#x27;, MinMaxScaler()),\n",
       "                (&#x27;MLP&#x27;,\n",
       "                 MLPClassifier(activation=&#x27;logistic&#x27;, random_state=2022))])</pre></div></div></div><div class=\"sk-serial\"><div class=\"sk-item\"><div class=\"sk-estimator sk-toggleable\"><input class=\"sk-toggleable__control sk-hidden--visually\" id=\"sk-estimator-id-8\" type=\"checkbox\" ><label for=\"sk-estimator-id-8\" class=\"sk-toggleable__label sk-toggleable__label-arrow\">MinMaxScaler</label><div class=\"sk-toggleable__content\"><pre>MinMaxScaler()</pre></div></div></div><div class=\"sk-item\"><div class=\"sk-estimator sk-toggleable\"><input class=\"sk-toggleable__control sk-hidden--visually\" id=\"sk-estimator-id-9\" type=\"checkbox\" ><label for=\"sk-estimator-id-9\" class=\"sk-toggleable__label sk-toggleable__label-arrow\">MLPClassifier</label><div class=\"sk-toggleable__content\"><pre>MLPClassifier(activation=&#x27;logistic&#x27;, random_state=2022)</pre></div></div></div></div></div></div></div>"
      ],
      "text/plain": [
       "Pipeline(steps=[('MM', MinMaxScaler()),\n",
       "                ('MLP',\n",
       "                 MLPClassifier(activation='logistic', random_state=2022))])"
      ]
     },
     "execution_count": 40,
     "metadata": {},
     "output_type": "execute_result"
    }
   ],
   "source": [
    "pipe = Pipeline([(\"MM\", mm), (\"MLP\", mlp)])\n",
    "pipe.fit(X_train, y_train)"
   ]
  },
  {
   "cell_type": "code",
   "execution_count": 41,
   "id": "41c74e8e",
   "metadata": {
    "scrolled": true
   },
   "outputs": [],
   "source": [
    "y_pred = pipe.predict(X_test)\n",
    "y_pred_prob = pipe.predict_proba(X_test)[:,1]"
   ]
  },
  {
   "cell_type": "code",
   "execution_count": 42,
   "id": "c709bc4a",
   "metadata": {
    "scrolled": true
   },
   "outputs": [
    {
     "name": "stdout",
     "output_type": "stream",
     "text": [
      "0.825\n"
     ]
    }
   ],
   "source": [
    "print(accuracy_score(y_test, y_pred))"
   ]
  },
  {
   "cell_type": "code",
   "execution_count": 43,
   "id": "8306fa82",
   "metadata": {},
   "outputs": [
    {
     "name": "stdout",
     "output_type": "stream",
     "text": [
      "0.9\n"
     ]
    }
   ],
   "source": [
    "print(roc_auc_score(y_test, y_pred_prob))"
   ]
  },
  {
   "cell_type": "markdown",
   "id": "3aba6a6b",
   "metadata": {},
   "source": [
    "# Grid Search CV"
   ]
  },
  {
   "cell_type": "code",
   "execution_count": 44,
   "id": "e47632a4",
   "metadata": {},
   "outputs": [
    {
     "name": "stdout",
     "output_type": "stream",
     "text": [
      "{'memory': None, 'steps': [('MM', MinMaxScaler()), ('MLP', MLPClassifier(activation='logistic', random_state=2022))], 'verbose': False, 'MM': MinMaxScaler(), 'MLP': MLPClassifier(activation='logistic', random_state=2022), 'MM__clip': False, 'MM__copy': True, 'MM__feature_range': (0, 1), 'MLP__activation': 'logistic', 'MLP__alpha': 0.0001, 'MLP__batch_size': 'auto', 'MLP__beta_1': 0.9, 'MLP__beta_2': 0.999, 'MLP__early_stopping': False, 'MLP__epsilon': 1e-08, 'MLP__hidden_layer_sizes': (100,), 'MLP__learning_rate': 'constant', 'MLP__learning_rate_init': 0.001, 'MLP__max_fun': 15000, 'MLP__max_iter': 200, 'MLP__momentum': 0.9, 'MLP__n_iter_no_change': 10, 'MLP__nesterovs_momentum': True, 'MLP__power_t': 0.5, 'MLP__random_state': 2022, 'MLP__shuffle': True, 'MLP__solver': 'adam', 'MLP__tol': 0.0001, 'MLP__validation_fraction': 0.1, 'MLP__verbose': False, 'MLP__warm_start': False}\n"
     ]
    }
   ],
   "source": [
    "pipe = Pipeline([(\"MM\", mm), (\"MLP\", mlp)])\n",
    "print(pipe.get_params())"
   ]
  },
  {
   "cell_type": "code",
   "execution_count": 52,
   "id": "02333643",
   "metadata": {},
   "outputs": [],
   "source": [
    "params = { \"MLP__hidden_layer_sizes\": [(20, 10, 5), (10, 5), (50,)],\n",
    "         \"MLP__activation\": [\"tanh\", \"logistic\", \"identity\"],\n",
    "         \"MLP__learning_rate\": [\"constant\", \"invscaling\", \"adaptive\"],\n",
    "         \"MLP__learning_rate_init\": [0.001, 0.3, 0.5]}"
   ]
  },
  {
   "cell_type": "code",
   "execution_count": 53,
   "id": "04146056",
   "metadata": {},
   "outputs": [],
   "source": [
    "kfold = StratifiedKFold(n_splits = 5,\n",
    "                       shuffle = True,\n",
    "                       random_state =2022)"
   ]
  },
  {
   "cell_type": "code",
   "execution_count": 54,
   "id": "7ea7b31e",
   "metadata": {
    "scrolled": true
   },
   "outputs": [
    {
     "name": "stdout",
     "output_type": "stream",
     "text": [
      "Fitting 5 folds for each of 81 candidates, totalling 405 fits\n",
      "[CV 1/5] END MLP__activation=tanh, MLP__hidden_layer_sizes=(20, 10, 5), MLP__learning_rate=constant, MLP__learning_rate_init=0.001;, score=0.863 total time=   0.1s\n"
     ]
    },
    {
     "name": "stderr",
     "output_type": "stream",
     "text": [
      "C:\\Users\\admin\\anaconda3\\lib\\site-packages\\sklearn\\neural_network\\_multilayer_perceptron.py:679: ConvergenceWarning: Stochastic Optimizer: Maximum iterations (200) reached and the optimization hasn't converged yet.\n",
      "  warnings.warn(\n",
      "C:\\Users\\admin\\anaconda3\\lib\\site-packages\\sklearn\\neural_network\\_multilayer_perceptron.py:679: ConvergenceWarning: Stochastic Optimizer: Maximum iterations (200) reached and the optimization hasn't converged yet.\n",
      "  warnings.warn(\n"
     ]
    },
    {
     "name": "stdout",
     "output_type": "stream",
     "text": [
      "[CV 2/5] END MLP__activation=tanh, MLP__hidden_layer_sizes=(20, 10, 5), MLP__learning_rate=constant, MLP__learning_rate_init=0.001;, score=0.940 total time=   0.1s\n",
      "[CV 3/5] END MLP__activation=tanh, MLP__hidden_layer_sizes=(20, 10, 5), MLP__learning_rate=constant, MLP__learning_rate_init=0.001;, score=0.633 total time=   0.1s\n"
     ]
    },
    {
     "name": "stderr",
     "output_type": "stream",
     "text": [
      "C:\\Users\\admin\\anaconda3\\lib\\site-packages\\sklearn\\neural_network\\_multilayer_perceptron.py:679: ConvergenceWarning: Stochastic Optimizer: Maximum iterations (200) reached and the optimization hasn't converged yet.\n",
      "  warnings.warn(\n",
      "C:\\Users\\admin\\anaconda3\\lib\\site-packages\\sklearn\\neural_network\\_multilayer_perceptron.py:679: ConvergenceWarning: Stochastic Optimizer: Maximum iterations (200) reached and the optimization hasn't converged yet.\n",
      "  warnings.warn(\n"
     ]
    },
    {
     "name": "stdout",
     "output_type": "stream",
     "text": [
      "[CV 4/5] END MLP__activation=tanh, MLP__hidden_layer_sizes=(20, 10, 5), MLP__learning_rate=constant, MLP__learning_rate_init=0.001;, score=0.876 total time=   0.1s\n",
      "[CV 5/5] END MLP__activation=tanh, MLP__hidden_layer_sizes=(20, 10, 5), MLP__learning_rate=constant, MLP__learning_rate_init=0.001;, score=0.917 total time=   0.1s\n",
      "[CV 1/5] END MLP__activation=tanh, MLP__hidden_layer_sizes=(20, 10, 5), MLP__learning_rate=constant, MLP__learning_rate_init=0.3;, score=0.280 total time=   0.0s\n",
      "[CV 2/5] END MLP__activation=tanh, MLP__hidden_layer_sizes=(20, 10, 5), MLP__learning_rate=constant, MLP__learning_rate_init=0.3;, score=0.797 total time=   0.0s\n"
     ]
    },
    {
     "name": "stderr",
     "output_type": "stream",
     "text": [
      "C:\\Users\\admin\\anaconda3\\lib\\site-packages\\sklearn\\neural_network\\_multilayer_perceptron.py:679: ConvergenceWarning: Stochastic Optimizer: Maximum iterations (200) reached and the optimization hasn't converged yet.\n",
      "  warnings.warn(\n"
     ]
    },
    {
     "name": "stdout",
     "output_type": "stream",
     "text": [
      "[CV 3/5] END MLP__activation=tanh, MLP__hidden_layer_sizes=(20, 10, 5), MLP__learning_rate=constant, MLP__learning_rate_init=0.3;, score=0.604 total time=   0.0s\n",
      "[CV 4/5] END MLP__activation=tanh, MLP__hidden_layer_sizes=(20, 10, 5), MLP__learning_rate=constant, MLP__learning_rate_init=0.3;, score=0.500 total time=   0.0s\n",
      "[CV 5/5] END MLP__activation=tanh, MLP__hidden_layer_sizes=(20, 10, 5), MLP__learning_rate=constant, MLP__learning_rate_init=0.3;, score=0.201 total time=   0.0s\n",
      "[CV 1/5] END MLP__activation=tanh, MLP__hidden_layer_sizes=(20, 10, 5), MLP__learning_rate=constant, MLP__learning_rate_init=0.5;, score=0.277 total time=   0.0s\n",
      "[CV 2/5] END MLP__activation=tanh, MLP__hidden_layer_sizes=(20, 10, 5), MLP__learning_rate=constant, MLP__learning_rate_init=0.5;, score=0.500 total time=   0.0s\n",
      "[CV 3/5] END MLP__activation=tanh, MLP__hidden_layer_sizes=(20, 10, 5), MLP__learning_rate=constant, MLP__learning_rate_init=0.5;, score=0.497 total time=   0.0s\n",
      "[CV 4/5] END MLP__activation=tanh, MLP__hidden_layer_sizes=(20, 10, 5), MLP__learning_rate=constant, MLP__learning_rate_init=0.5;, score=0.538 total time=   0.0s\n",
      "[CV 5/5] END MLP__activation=tanh, MLP__hidden_layer_sizes=(20, 10, 5), MLP__learning_rate=constant, MLP__learning_rate_init=0.5;, score=0.627 total time=   0.0s\n"
     ]
    },
    {
     "name": "stderr",
     "output_type": "stream",
     "text": [
      "C:\\Users\\admin\\anaconda3\\lib\\site-packages\\sklearn\\neural_network\\_multilayer_perceptron.py:679: ConvergenceWarning: Stochastic Optimizer: Maximum iterations (200) reached and the optimization hasn't converged yet.\n",
      "  warnings.warn(\n",
      "C:\\Users\\admin\\anaconda3\\lib\\site-packages\\sklearn\\neural_network\\_multilayer_perceptron.py:679: ConvergenceWarning: Stochastic Optimizer: Maximum iterations (200) reached and the optimization hasn't converged yet.\n",
      "  warnings.warn(\n"
     ]
    },
    {
     "name": "stdout",
     "output_type": "stream",
     "text": [
      "[CV 1/5] END MLP__activation=tanh, MLP__hidden_layer_sizes=(20, 10, 5), MLP__learning_rate=invscaling, MLP__learning_rate_init=0.001;, score=0.863 total time=   0.1s\n",
      "[CV 2/5] END MLP__activation=tanh, MLP__hidden_layer_sizes=(20, 10, 5), MLP__learning_rate=invscaling, MLP__learning_rate_init=0.001;, score=0.940 total time=   0.1s\n"
     ]
    },
    {
     "name": "stderr",
     "output_type": "stream",
     "text": [
      "C:\\Users\\admin\\anaconda3\\lib\\site-packages\\sklearn\\neural_network\\_multilayer_perceptron.py:679: ConvergenceWarning: Stochastic Optimizer: Maximum iterations (200) reached and the optimization hasn't converged yet.\n",
      "  warnings.warn(\n",
      "C:\\Users\\admin\\anaconda3\\lib\\site-packages\\sklearn\\neural_network\\_multilayer_perceptron.py:679: ConvergenceWarning: Stochastic Optimizer: Maximum iterations (200) reached and the optimization hasn't converged yet.\n",
      "  warnings.warn(\n"
     ]
    },
    {
     "name": "stdout",
     "output_type": "stream",
     "text": [
      "[CV 3/5] END MLP__activation=tanh, MLP__hidden_layer_sizes=(20, 10, 5), MLP__learning_rate=invscaling, MLP__learning_rate_init=0.001;, score=0.633 total time=   0.1s\n",
      "[CV 4/5] END MLP__activation=tanh, MLP__hidden_layer_sizes=(20, 10, 5), MLP__learning_rate=invscaling, MLP__learning_rate_init=0.001;, score=0.876 total time=   0.1s\n"
     ]
    },
    {
     "name": "stderr",
     "output_type": "stream",
     "text": [
      "C:\\Users\\admin\\anaconda3\\lib\\site-packages\\sklearn\\neural_network\\_multilayer_perceptron.py:679: ConvergenceWarning: Stochastic Optimizer: Maximum iterations (200) reached and the optimization hasn't converged yet.\n",
      "  warnings.warn(\n"
     ]
    },
    {
     "name": "stdout",
     "output_type": "stream",
     "text": [
      "[CV 5/5] END MLP__activation=tanh, MLP__hidden_layer_sizes=(20, 10, 5), MLP__learning_rate=invscaling, MLP__learning_rate_init=0.001;, score=0.917 total time=   0.1s\n",
      "[CV 1/5] END MLP__activation=tanh, MLP__hidden_layer_sizes=(20, 10, 5), MLP__learning_rate=invscaling, MLP__learning_rate_init=0.3;, score=0.280 total time=   0.0s\n",
      "[CV 2/5] END MLP__activation=tanh, MLP__hidden_layer_sizes=(20, 10, 5), MLP__learning_rate=invscaling, MLP__learning_rate_init=0.3;, score=0.797 total time=   0.0s\n",
      "[CV 3/5] END MLP__activation=tanh, MLP__hidden_layer_sizes=(20, 10, 5), MLP__learning_rate=invscaling, MLP__learning_rate_init=0.3;, score=0.604 total time=   0.0s\n",
      "[CV 4/5] END MLP__activation=tanh, MLP__hidden_layer_sizes=(20, 10, 5), MLP__learning_rate=invscaling, MLP__learning_rate_init=0.3;, score=0.500 total time=   0.0s\n",
      "[CV 5/5] END MLP__activation=tanh, MLP__hidden_layer_sizes=(20, 10, 5), MLP__learning_rate=invscaling, MLP__learning_rate_init=0.3;, score=0.201 total time=   0.0s\n",
      "[CV 1/5] END MLP__activation=tanh, MLP__hidden_layer_sizes=(20, 10, 5), MLP__learning_rate=invscaling, MLP__learning_rate_init=0.5;, score=0.277 total time=   0.0s\n",
      "[CV 2/5] END MLP__activation=tanh, MLP__hidden_layer_sizes=(20, 10, 5), MLP__learning_rate=invscaling, MLP__learning_rate_init=0.5;, score=0.500 total time=   0.0s\n",
      "[CV 3/5] END MLP__activation=tanh, MLP__hidden_layer_sizes=(20, 10, 5), MLP__learning_rate=invscaling, MLP__learning_rate_init=0.5;, score=0.497 total time=   0.0s\n",
      "[CV 4/5] END MLP__activation=tanh, MLP__hidden_layer_sizes=(20, 10, 5), MLP__learning_rate=invscaling, MLP__learning_rate_init=0.5;, score=0.538 total time=   0.0s\n",
      "[CV 5/5] END MLP__activation=tanh, MLP__hidden_layer_sizes=(20, 10, 5), MLP__learning_rate=invscaling, MLP__learning_rate_init=0.5;, score=0.627 total time=   0.0s\n"
     ]
    },
    {
     "name": "stderr",
     "output_type": "stream",
     "text": [
      "C:\\Users\\admin\\anaconda3\\lib\\site-packages\\sklearn\\neural_network\\_multilayer_perceptron.py:679: ConvergenceWarning: Stochastic Optimizer: Maximum iterations (200) reached and the optimization hasn't converged yet.\n",
      "  warnings.warn(\n",
      "C:\\Users\\admin\\anaconda3\\lib\\site-packages\\sklearn\\neural_network\\_multilayer_perceptron.py:679: ConvergenceWarning: Stochastic Optimizer: Maximum iterations (200) reached and the optimization hasn't converged yet.\n",
      "  warnings.warn(\n"
     ]
    },
    {
     "name": "stdout",
     "output_type": "stream",
     "text": [
      "[CV 1/5] END MLP__activation=tanh, MLP__hidden_layer_sizes=(20, 10, 5), MLP__learning_rate=adaptive, MLP__learning_rate_init=0.001;, score=0.863 total time=   0.1s\n",
      "[CV 2/5] END MLP__activation=tanh, MLP__hidden_layer_sizes=(20, 10, 5), MLP__learning_rate=adaptive, MLP__learning_rate_init=0.001;, score=0.940 total time=   0.1s\n"
     ]
    },
    {
     "name": "stderr",
     "output_type": "stream",
     "text": [
      "C:\\Users\\admin\\anaconda3\\lib\\site-packages\\sklearn\\neural_network\\_multilayer_perceptron.py:679: ConvergenceWarning: Stochastic Optimizer: Maximum iterations (200) reached and the optimization hasn't converged yet.\n",
      "  warnings.warn(\n",
      "C:\\Users\\admin\\anaconda3\\lib\\site-packages\\sklearn\\neural_network\\_multilayer_perceptron.py:679: ConvergenceWarning: Stochastic Optimizer: Maximum iterations (200) reached and the optimization hasn't converged yet.\n",
      "  warnings.warn(\n"
     ]
    },
    {
     "name": "stdout",
     "output_type": "stream",
     "text": [
      "[CV 3/5] END MLP__activation=tanh, MLP__hidden_layer_sizes=(20, 10, 5), MLP__learning_rate=adaptive, MLP__learning_rate_init=0.001;, score=0.633 total time=   0.1s\n",
      "[CV 4/5] END MLP__activation=tanh, MLP__hidden_layer_sizes=(20, 10, 5), MLP__learning_rate=adaptive, MLP__learning_rate_init=0.001;, score=0.876 total time=   0.1s\n"
     ]
    },
    {
     "name": "stderr",
     "output_type": "stream",
     "text": [
      "C:\\Users\\admin\\anaconda3\\lib\\site-packages\\sklearn\\neural_network\\_multilayer_perceptron.py:679: ConvergenceWarning: Stochastic Optimizer: Maximum iterations (200) reached and the optimization hasn't converged yet.\n",
      "  warnings.warn(\n"
     ]
    },
    {
     "name": "stdout",
     "output_type": "stream",
     "text": [
      "[CV 5/5] END MLP__activation=tanh, MLP__hidden_layer_sizes=(20, 10, 5), MLP__learning_rate=adaptive, MLP__learning_rate_init=0.001;, score=0.917 total time=   0.1s\n",
      "[CV 1/5] END MLP__activation=tanh, MLP__hidden_layer_sizes=(20, 10, 5), MLP__learning_rate=adaptive, MLP__learning_rate_init=0.3;, score=0.280 total time=   0.0s\n",
      "[CV 2/5] END MLP__activation=tanh, MLP__hidden_layer_sizes=(20, 10, 5), MLP__learning_rate=adaptive, MLP__learning_rate_init=0.3;, score=0.797 total time=   0.0s\n",
      "[CV 3/5] END MLP__activation=tanh, MLP__hidden_layer_sizes=(20, 10, 5), MLP__learning_rate=adaptive, MLP__learning_rate_init=0.3;, score=0.604 total time=   0.0s\n",
      "[CV 4/5] END MLP__activation=tanh, MLP__hidden_layer_sizes=(20, 10, 5), MLP__learning_rate=adaptive, MLP__learning_rate_init=0.3;, score=0.500 total time=   0.0s\n",
      "[CV 5/5] END MLP__activation=tanh, MLP__hidden_layer_sizes=(20, 10, 5), MLP__learning_rate=adaptive, MLP__learning_rate_init=0.3;, score=0.201 total time=   0.0s\n",
      "[CV 1/5] END MLP__activation=tanh, MLP__hidden_layer_sizes=(20, 10, 5), MLP__learning_rate=adaptive, MLP__learning_rate_init=0.5;, score=0.277 total time=   0.0s\n",
      "[CV 2/5] END MLP__activation=tanh, MLP__hidden_layer_sizes=(20, 10, 5), MLP__learning_rate=adaptive, MLP__learning_rate_init=0.5;, score=0.500 total time=   0.0s\n",
      "[CV 3/5] END MLP__activation=tanh, MLP__hidden_layer_sizes=(20, 10, 5), MLP__learning_rate=adaptive, MLP__learning_rate_init=0.5;, score=0.497 total time=   0.0s\n",
      "[CV 4/5] END MLP__activation=tanh, MLP__hidden_layer_sizes=(20, 10, 5), MLP__learning_rate=adaptive, MLP__learning_rate_init=0.5;, score=0.538 total time=   0.0s\n",
      "[CV 5/5] END MLP__activation=tanh, MLP__hidden_layer_sizes=(20, 10, 5), MLP__learning_rate=adaptive, MLP__learning_rate_init=0.5;, score=0.627 total time=   0.0s\n",
      "[CV 1/5] END MLP__activation=tanh, MLP__hidden_layer_sizes=(10, 5), MLP__learning_rate=constant, MLP__learning_rate_init=0.001;, score=0.846 total time=   0.0s\n"
     ]
    },
    {
     "name": "stderr",
     "output_type": "stream",
     "text": [
      "C:\\Users\\admin\\anaconda3\\lib\\site-packages\\sklearn\\neural_network\\_multilayer_perceptron.py:679: ConvergenceWarning: Stochastic Optimizer: Maximum iterations (200) reached and the optimization hasn't converged yet.\n",
      "  warnings.warn(\n",
      "C:\\Users\\admin\\anaconda3\\lib\\site-packages\\sklearn\\neural_network\\_multilayer_perceptron.py:679: ConvergenceWarning: Stochastic Optimizer: Maximum iterations (200) reached and the optimization hasn't converged yet.\n",
      "  warnings.warn(\n"
     ]
    },
    {
     "name": "stdout",
     "output_type": "stream",
     "text": [
      "[CV 2/5] END MLP__activation=tanh, MLP__hidden_layer_sizes=(10, 5), MLP__learning_rate=constant, MLP__learning_rate_init=0.001;, score=0.890 total time=   0.0s\n",
      "[CV 3/5] END MLP__activation=tanh, MLP__hidden_layer_sizes=(10, 5), MLP__learning_rate=constant, MLP__learning_rate_init=0.001;, score=0.763 total time=   0.0s\n"
     ]
    },
    {
     "name": "stderr",
     "output_type": "stream",
     "text": [
      "C:\\Users\\admin\\anaconda3\\lib\\site-packages\\sklearn\\neural_network\\_multilayer_perceptron.py:679: ConvergenceWarning: Stochastic Optimizer: Maximum iterations (200) reached and the optimization hasn't converged yet.\n",
      "  warnings.warn(\n",
      "C:\\Users\\admin\\anaconda3\\lib\\site-packages\\sklearn\\neural_network\\_multilayer_perceptron.py:679: ConvergenceWarning: Stochastic Optimizer: Maximum iterations (200) reached and the optimization hasn't converged yet.\n",
      "  warnings.warn(\n"
     ]
    },
    {
     "name": "stdout",
     "output_type": "stream",
     "text": [
      "[CV 4/5] END MLP__activation=tanh, MLP__hidden_layer_sizes=(10, 5), MLP__learning_rate=constant, MLP__learning_rate_init=0.001;, score=0.941 total time=   0.0s\n",
      "[CV 5/5] END MLP__activation=tanh, MLP__hidden_layer_sizes=(10, 5), MLP__learning_rate=constant, MLP__learning_rate_init=0.001;, score=0.899 total time=   0.0s\n",
      "[CV 1/5] END MLP__activation=tanh, MLP__hidden_layer_sizes=(10, 5), MLP__learning_rate=constant, MLP__learning_rate_init=0.3;, score=0.429 total time=   0.0s\n",
      "[CV 2/5] END MLP__activation=tanh, MLP__hidden_layer_sizes=(10, 5), MLP__learning_rate=constant, MLP__learning_rate_init=0.3;, score=0.393 total time=   0.0s\n",
      "[CV 3/5] END MLP__activation=tanh, MLP__hidden_layer_sizes=(10, 5), MLP__learning_rate=constant, MLP__learning_rate_init=0.3;, score=0.689 total time=   0.0s\n",
      "[CV 4/5] END MLP__activation=tanh, MLP__hidden_layer_sizes=(10, 5), MLP__learning_rate=constant, MLP__learning_rate_init=0.3;, score=0.396 total time=   0.0s\n"
     ]
    },
    {
     "name": "stderr",
     "output_type": "stream",
     "text": [
      "C:\\Users\\admin\\anaconda3\\lib\\site-packages\\sklearn\\neural_network\\_multilayer_perceptron.py:679: ConvergenceWarning: Stochastic Optimizer: Maximum iterations (200) reached and the optimization hasn't converged yet.\n",
      "  warnings.warn(\n"
     ]
    },
    {
     "name": "stdout",
     "output_type": "stream",
     "text": [
      "[CV 5/5] END MLP__activation=tanh, MLP__hidden_layer_sizes=(10, 5), MLP__learning_rate=constant, MLP__learning_rate_init=0.3;, score=0.500 total time=   0.0s\n",
      "[CV 1/5] END MLP__activation=tanh, MLP__hidden_layer_sizes=(10, 5), MLP__learning_rate=constant, MLP__learning_rate_init=0.5;, score=0.500 total time=   0.0s\n",
      "[CV 2/5] END MLP__activation=tanh, MLP__hidden_layer_sizes=(10, 5), MLP__learning_rate=constant, MLP__learning_rate_init=0.5;, score=0.500 total time=   0.0s\n",
      "[CV 3/5] END MLP__activation=tanh, MLP__hidden_layer_sizes=(10, 5), MLP__learning_rate=constant, MLP__learning_rate_init=0.5;, score=0.462 total time=   0.0s\n",
      "[CV 4/5] END MLP__activation=tanh, MLP__hidden_layer_sizes=(10, 5), MLP__learning_rate=constant, MLP__learning_rate_init=0.5;, score=0.500 total time=   0.0s\n",
      "[CV 5/5] END MLP__activation=tanh, MLP__hidden_layer_sizes=(10, 5), MLP__learning_rate=constant, MLP__learning_rate_init=0.5;, score=0.500 total time=   0.0s\n"
     ]
    },
    {
     "name": "stderr",
     "output_type": "stream",
     "text": [
      "C:\\Users\\admin\\anaconda3\\lib\\site-packages\\sklearn\\neural_network\\_multilayer_perceptron.py:679: ConvergenceWarning: Stochastic Optimizer: Maximum iterations (200) reached and the optimization hasn't converged yet.\n",
      "  warnings.warn(\n",
      "C:\\Users\\admin\\anaconda3\\lib\\site-packages\\sklearn\\neural_network\\_multilayer_perceptron.py:679: ConvergenceWarning: Stochastic Optimizer: Maximum iterations (200) reached and the optimization hasn't converged yet.\n",
      "  warnings.warn(\n"
     ]
    },
    {
     "name": "stdout",
     "output_type": "stream",
     "text": [
      "[CV 1/5] END MLP__activation=tanh, MLP__hidden_layer_sizes=(10, 5), MLP__learning_rate=invscaling, MLP__learning_rate_init=0.001;, score=0.846 total time=   0.0s\n",
      "[CV 2/5] END MLP__activation=tanh, MLP__hidden_layer_sizes=(10, 5), MLP__learning_rate=invscaling, MLP__learning_rate_init=0.001;, score=0.890 total time=   0.0s\n"
     ]
    },
    {
     "name": "stderr",
     "output_type": "stream",
     "text": [
      "C:\\Users\\admin\\anaconda3\\lib\\site-packages\\sklearn\\neural_network\\_multilayer_perceptron.py:679: ConvergenceWarning: Stochastic Optimizer: Maximum iterations (200) reached and the optimization hasn't converged yet.\n",
      "  warnings.warn(\n",
      "C:\\Users\\admin\\anaconda3\\lib\\site-packages\\sklearn\\neural_network\\_multilayer_perceptron.py:679: ConvergenceWarning: Stochastic Optimizer: Maximum iterations (200) reached and the optimization hasn't converged yet.\n",
      "  warnings.warn(\n"
     ]
    },
    {
     "name": "stdout",
     "output_type": "stream",
     "text": [
      "[CV 3/5] END MLP__activation=tanh, MLP__hidden_layer_sizes=(10, 5), MLP__learning_rate=invscaling, MLP__learning_rate_init=0.001;, score=0.763 total time=   0.0s\n",
      "[CV 4/5] END MLP__activation=tanh, MLP__hidden_layer_sizes=(10, 5), MLP__learning_rate=invscaling, MLP__learning_rate_init=0.001;, score=0.941 total time=   0.0s\n"
     ]
    },
    {
     "name": "stderr",
     "output_type": "stream",
     "text": [
      "C:\\Users\\admin\\anaconda3\\lib\\site-packages\\sklearn\\neural_network\\_multilayer_perceptron.py:679: ConvergenceWarning: Stochastic Optimizer: Maximum iterations (200) reached and the optimization hasn't converged yet.\n",
      "  warnings.warn(\n"
     ]
    },
    {
     "name": "stdout",
     "output_type": "stream",
     "text": [
      "[CV 5/5] END MLP__activation=tanh, MLP__hidden_layer_sizes=(10, 5), MLP__learning_rate=invscaling, MLP__learning_rate_init=0.001;, score=0.899 total time=   0.0s\n",
      "[CV 1/5] END MLP__activation=tanh, MLP__hidden_layer_sizes=(10, 5), MLP__learning_rate=invscaling, MLP__learning_rate_init=0.3;, score=0.429 total time=   0.0s\n",
      "[CV 2/5] END MLP__activation=tanh, MLP__hidden_layer_sizes=(10, 5), MLP__learning_rate=invscaling, MLP__learning_rate_init=0.3;, score=0.393 total time=   0.0s\n",
      "[CV 3/5] END MLP__activation=tanh, MLP__hidden_layer_sizes=(10, 5), MLP__learning_rate=invscaling, MLP__learning_rate_init=0.3;, score=0.689 total time=   0.0s\n",
      "[CV 4/5] END MLP__activation=tanh, MLP__hidden_layer_sizes=(10, 5), MLP__learning_rate=invscaling, MLP__learning_rate_init=0.3;, score=0.396 total time=   0.0s\n",
      "[CV 5/5] END MLP__activation=tanh, MLP__hidden_layer_sizes=(10, 5), MLP__learning_rate=invscaling, MLP__learning_rate_init=0.3;, score=0.500 total time=   0.0s\n",
      "[CV 1/5] END MLP__activation=tanh, MLP__hidden_layer_sizes=(10, 5), MLP__learning_rate=invscaling, MLP__learning_rate_init=0.5;, score=0.500 total time=   0.0s\n",
      "[CV 2/5] END MLP__activation=tanh, MLP__hidden_layer_sizes=(10, 5), MLP__learning_rate=invscaling, MLP__learning_rate_init=0.5;, score=0.500 total time=   0.0s\n",
      "[CV 3/5] END MLP__activation=tanh, MLP__hidden_layer_sizes=(10, 5), MLP__learning_rate=invscaling, MLP__learning_rate_init=0.5;, score=0.462 total time=   0.0s\n",
      "[CV 4/5] END MLP__activation=tanh, MLP__hidden_layer_sizes=(10, 5), MLP__learning_rate=invscaling, MLP__learning_rate_init=0.5;, score=0.500 total time=   0.0s\n",
      "[CV 5/5] END MLP__activation=tanh, MLP__hidden_layer_sizes=(10, 5), MLP__learning_rate=invscaling, MLP__learning_rate_init=0.5;, score=0.500 total time=   0.0s\n"
     ]
    },
    {
     "name": "stderr",
     "output_type": "stream",
     "text": [
      "C:\\Users\\admin\\anaconda3\\lib\\site-packages\\sklearn\\neural_network\\_multilayer_perceptron.py:679: ConvergenceWarning: Stochastic Optimizer: Maximum iterations (200) reached and the optimization hasn't converged yet.\n",
      "  warnings.warn(\n",
      "C:\\Users\\admin\\anaconda3\\lib\\site-packages\\sklearn\\neural_network\\_multilayer_perceptron.py:679: ConvergenceWarning: Stochastic Optimizer: Maximum iterations (200) reached and the optimization hasn't converged yet.\n",
      "  warnings.warn(\n"
     ]
    },
    {
     "name": "stdout",
     "output_type": "stream",
     "text": [
      "[CV 1/5] END MLP__activation=tanh, MLP__hidden_layer_sizes=(10, 5), MLP__learning_rate=adaptive, MLP__learning_rate_init=0.001;, score=0.846 total time=   0.0s\n",
      "[CV 2/5] END MLP__activation=tanh, MLP__hidden_layer_sizes=(10, 5), MLP__learning_rate=adaptive, MLP__learning_rate_init=0.001;, score=0.890 total time=   0.0s\n"
     ]
    },
    {
     "name": "stderr",
     "output_type": "stream",
     "text": [
      "C:\\Users\\admin\\anaconda3\\lib\\site-packages\\sklearn\\neural_network\\_multilayer_perceptron.py:679: ConvergenceWarning: Stochastic Optimizer: Maximum iterations (200) reached and the optimization hasn't converged yet.\n",
      "  warnings.warn(\n",
      "C:\\Users\\admin\\anaconda3\\lib\\site-packages\\sklearn\\neural_network\\_multilayer_perceptron.py:679: ConvergenceWarning: Stochastic Optimizer: Maximum iterations (200) reached and the optimization hasn't converged yet.\n",
      "  warnings.warn(\n"
     ]
    },
    {
     "name": "stdout",
     "output_type": "stream",
     "text": [
      "[CV 3/5] END MLP__activation=tanh, MLP__hidden_layer_sizes=(10, 5), MLP__learning_rate=adaptive, MLP__learning_rate_init=0.001;, score=0.763 total time=   0.0s\n",
      "[CV 4/5] END MLP__activation=tanh, MLP__hidden_layer_sizes=(10, 5), MLP__learning_rate=adaptive, MLP__learning_rate_init=0.001;, score=0.941 total time=   0.0s\n"
     ]
    },
    {
     "name": "stderr",
     "output_type": "stream",
     "text": [
      "C:\\Users\\admin\\anaconda3\\lib\\site-packages\\sklearn\\neural_network\\_multilayer_perceptron.py:679: ConvergenceWarning: Stochastic Optimizer: Maximum iterations (200) reached and the optimization hasn't converged yet.\n",
      "  warnings.warn(\n"
     ]
    },
    {
     "name": "stdout",
     "output_type": "stream",
     "text": [
      "[CV 5/5] END MLP__activation=tanh, MLP__hidden_layer_sizes=(10, 5), MLP__learning_rate=adaptive, MLP__learning_rate_init=0.001;, score=0.899 total time=   0.0s\n",
      "[CV 1/5] END MLP__activation=tanh, MLP__hidden_layer_sizes=(10, 5), MLP__learning_rate=adaptive, MLP__learning_rate_init=0.3;, score=0.429 total time=   0.0s\n",
      "[CV 2/5] END MLP__activation=tanh, MLP__hidden_layer_sizes=(10, 5), MLP__learning_rate=adaptive, MLP__learning_rate_init=0.3;, score=0.393 total time=   0.0s\n",
      "[CV 3/5] END MLP__activation=tanh, MLP__hidden_layer_sizes=(10, 5), MLP__learning_rate=adaptive, MLP__learning_rate_init=0.3;, score=0.689 total time=   0.0s\n",
      "[CV 4/5] END MLP__activation=tanh, MLP__hidden_layer_sizes=(10, 5), MLP__learning_rate=adaptive, MLP__learning_rate_init=0.3;, score=0.396 total time=   0.0s\n",
      "[CV 5/5] END MLP__activation=tanh, MLP__hidden_layer_sizes=(10, 5), MLP__learning_rate=adaptive, MLP__learning_rate_init=0.3;, score=0.500 total time=   0.0s\n",
      "[CV 1/5] END MLP__activation=tanh, MLP__hidden_layer_sizes=(10, 5), MLP__learning_rate=adaptive, MLP__learning_rate_init=0.5;, score=0.500 total time=   0.0s\n",
      "[CV 2/5] END MLP__activation=tanh, MLP__hidden_layer_sizes=(10, 5), MLP__learning_rate=adaptive, MLP__learning_rate_init=0.5;, score=0.500 total time=   0.0s\n",
      "[CV 3/5] END MLP__activation=tanh, MLP__hidden_layer_sizes=(10, 5), MLP__learning_rate=adaptive, MLP__learning_rate_init=0.5;, score=0.462 total time=   0.0s\n",
      "[CV 4/5] END MLP__activation=tanh, MLP__hidden_layer_sizes=(10, 5), MLP__learning_rate=adaptive, MLP__learning_rate_init=0.5;, score=0.500 total time=   0.0s\n",
      "[CV 5/5] END MLP__activation=tanh, MLP__hidden_layer_sizes=(10, 5), MLP__learning_rate=adaptive, MLP__learning_rate_init=0.5;, score=0.500 total time=   0.0s\n",
      "[CV 1/5] END MLP__activation=tanh, MLP__hidden_layer_sizes=(50,), MLP__learning_rate=constant, MLP__learning_rate_init=0.001;, score=0.863 total time=   0.0s\n"
     ]
    },
    {
     "name": "stderr",
     "output_type": "stream",
     "text": [
      "C:\\Users\\admin\\anaconda3\\lib\\site-packages\\sklearn\\neural_network\\_multilayer_perceptron.py:679: ConvergenceWarning: Stochastic Optimizer: Maximum iterations (200) reached and the optimization hasn't converged yet.\n",
      "  warnings.warn(\n",
      "C:\\Users\\admin\\anaconda3\\lib\\site-packages\\sklearn\\neural_network\\_multilayer_perceptron.py:679: ConvergenceWarning: Stochastic Optimizer: Maximum iterations (200) reached and the optimization hasn't converged yet.\n",
      "  warnings.warn(\n"
     ]
    },
    {
     "name": "stdout",
     "output_type": "stream",
     "text": [
      "[CV 2/5] END MLP__activation=tanh, MLP__hidden_layer_sizes=(50,), MLP__learning_rate=constant, MLP__learning_rate_init=0.001;, score=0.824 total time=   0.0s\n",
      "[CV 3/5] END MLP__activation=tanh, MLP__hidden_layer_sizes=(50,), MLP__learning_rate=constant, MLP__learning_rate_init=0.001;, score=0.675 total time=   0.0s\n"
     ]
    },
    {
     "name": "stderr",
     "output_type": "stream",
     "text": [
      "C:\\Users\\admin\\anaconda3\\lib\\site-packages\\sklearn\\neural_network\\_multilayer_perceptron.py:679: ConvergenceWarning: Stochastic Optimizer: Maximum iterations (200) reached and the optimization hasn't converged yet.\n",
      "  warnings.warn(\n",
      "C:\\Users\\admin\\anaconda3\\lib\\site-packages\\sklearn\\neural_network\\_multilayer_perceptron.py:679: ConvergenceWarning: Stochastic Optimizer: Maximum iterations (200) reached and the optimization hasn't converged yet.\n",
      "  warnings.warn(\n"
     ]
    },
    {
     "name": "stdout",
     "output_type": "stream",
     "text": [
      "[CV 4/5] END MLP__activation=tanh, MLP__hidden_layer_sizes=(50,), MLP__learning_rate=constant, MLP__learning_rate_init=0.001;, score=0.970 total time=   0.0s\n",
      "[CV 5/5] END MLP__activation=tanh, MLP__hidden_layer_sizes=(50,), MLP__learning_rate=constant, MLP__learning_rate_init=0.001;, score=0.899 total time=   0.0s\n",
      "[CV 1/5] END MLP__activation=tanh, MLP__hidden_layer_sizes=(50,), MLP__learning_rate=constant, MLP__learning_rate_init=0.3;, score=0.324 total time=   0.0s\n",
      "[CV 2/5] END MLP__activation=tanh, MLP__hidden_layer_sizes=(50,), MLP__learning_rate=constant, MLP__learning_rate_init=0.3;, score=0.286 total time=   0.0s\n"
     ]
    },
    {
     "name": "stderr",
     "output_type": "stream",
     "text": [
      "C:\\Users\\admin\\anaconda3\\lib\\site-packages\\sklearn\\neural_network\\_multilayer_perceptron.py:679: ConvergenceWarning: Stochastic Optimizer: Maximum iterations (200) reached and the optimization hasn't converged yet.\n",
      "  warnings.warn(\n",
      "C:\\Users\\admin\\anaconda3\\lib\\site-packages\\sklearn\\neural_network\\_multilayer_perceptron.py:679: ConvergenceWarning: Stochastic Optimizer: Maximum iterations (200) reached and the optimization hasn't converged yet.\n",
      "  warnings.warn(\n"
     ]
    },
    {
     "name": "stdout",
     "output_type": "stream",
     "text": [
      "[CV 3/5] END MLP__activation=tanh, MLP__hidden_layer_sizes=(50,), MLP__learning_rate=constant, MLP__learning_rate_init=0.3;, score=0.698 total time=   0.0s\n",
      "[CV 4/5] END MLP__activation=tanh, MLP__hidden_layer_sizes=(50,), MLP__learning_rate=constant, MLP__learning_rate_init=0.3;, score=0.947 total time=   0.0s\n",
      "[CV 5/5] END MLP__activation=tanh, MLP__hidden_layer_sizes=(50,), MLP__learning_rate=constant, MLP__learning_rate_init=0.3;, score=0.178 total time=   0.0s\n",
      "[CV 1/5] END MLP__activation=tanh, MLP__hidden_layer_sizes=(50,), MLP__learning_rate=constant, MLP__learning_rate_init=0.5;, score=0.170 total time=   0.0s\n",
      "[CV 2/5] END MLP__activation=tanh, MLP__hidden_layer_sizes=(50,), MLP__learning_rate=constant, MLP__learning_rate_init=0.5;, score=0.198 total time=   0.0s\n",
      "[CV 3/5] END MLP__activation=tanh, MLP__hidden_layer_sizes=(50,), MLP__learning_rate=constant, MLP__learning_rate_init=0.5;, score=0.781 total time=   0.0s\n"
     ]
    },
    {
     "name": "stderr",
     "output_type": "stream",
     "text": [
      "C:\\Users\\admin\\anaconda3\\lib\\site-packages\\sklearn\\neural_network\\_multilayer_perceptron.py:679: ConvergenceWarning: Stochastic Optimizer: Maximum iterations (200) reached and the optimization hasn't converged yet.\n",
      "  warnings.warn(\n"
     ]
    },
    {
     "name": "stdout",
     "output_type": "stream",
     "text": [
      "[CV 4/5] END MLP__activation=tanh, MLP__hidden_layer_sizes=(50,), MLP__learning_rate=constant, MLP__learning_rate_init=0.5;, score=0.278 total time=   0.0s\n",
      "[CV 5/5] END MLP__activation=tanh, MLP__hidden_layer_sizes=(50,), MLP__learning_rate=constant, MLP__learning_rate_init=0.5;, score=0.923 total time=   0.0s\n"
     ]
    },
    {
     "name": "stderr",
     "output_type": "stream",
     "text": [
      "C:\\Users\\admin\\anaconda3\\lib\\site-packages\\sklearn\\neural_network\\_multilayer_perceptron.py:679: ConvergenceWarning: Stochastic Optimizer: Maximum iterations (200) reached and the optimization hasn't converged yet.\n",
      "  warnings.warn(\n",
      "C:\\Users\\admin\\anaconda3\\lib\\site-packages\\sklearn\\neural_network\\_multilayer_perceptron.py:679: ConvergenceWarning: Stochastic Optimizer: Maximum iterations (200) reached and the optimization hasn't converged yet.\n",
      "  warnings.warn(\n"
     ]
    },
    {
     "name": "stdout",
     "output_type": "stream",
     "text": [
      "[CV 1/5] END MLP__activation=tanh, MLP__hidden_layer_sizes=(50,), MLP__learning_rate=invscaling, MLP__learning_rate_init=0.001;, score=0.863 total time=   0.0s\n",
      "[CV 2/5] END MLP__activation=tanh, MLP__hidden_layer_sizes=(50,), MLP__learning_rate=invscaling, MLP__learning_rate_init=0.001;, score=0.824 total time=   0.0s\n"
     ]
    },
    {
     "name": "stderr",
     "output_type": "stream",
     "text": [
      "C:\\Users\\admin\\anaconda3\\lib\\site-packages\\sklearn\\neural_network\\_multilayer_perceptron.py:679: ConvergenceWarning: Stochastic Optimizer: Maximum iterations (200) reached and the optimization hasn't converged yet.\n",
      "  warnings.warn(\n",
      "C:\\Users\\admin\\anaconda3\\lib\\site-packages\\sklearn\\neural_network\\_multilayer_perceptron.py:679: ConvergenceWarning: Stochastic Optimizer: Maximum iterations (200) reached and the optimization hasn't converged yet.\n",
      "  warnings.warn(\n"
     ]
    },
    {
     "name": "stdout",
     "output_type": "stream",
     "text": [
      "[CV 3/5] END MLP__activation=tanh, MLP__hidden_layer_sizes=(50,), MLP__learning_rate=invscaling, MLP__learning_rate_init=0.001;, score=0.675 total time=   0.0s\n",
      "[CV 4/5] END MLP__activation=tanh, MLP__hidden_layer_sizes=(50,), MLP__learning_rate=invscaling, MLP__learning_rate_init=0.001;, score=0.970 total time=   0.0s\n"
     ]
    },
    {
     "name": "stderr",
     "output_type": "stream",
     "text": [
      "C:\\Users\\admin\\anaconda3\\lib\\site-packages\\sklearn\\neural_network\\_multilayer_perceptron.py:679: ConvergenceWarning: Stochastic Optimizer: Maximum iterations (200) reached and the optimization hasn't converged yet.\n",
      "  warnings.warn(\n",
      "C:\\Users\\admin\\anaconda3\\lib\\site-packages\\sklearn\\neural_network\\_multilayer_perceptron.py:679: ConvergenceWarning: Stochastic Optimizer: Maximum iterations (200) reached and the optimization hasn't converged yet.\n",
      "  warnings.warn(\n"
     ]
    },
    {
     "name": "stdout",
     "output_type": "stream",
     "text": [
      "[CV 5/5] END MLP__activation=tanh, MLP__hidden_layer_sizes=(50,), MLP__learning_rate=invscaling, MLP__learning_rate_init=0.001;, score=0.899 total time=   0.0s\n",
      "[CV 1/5] END MLP__activation=tanh, MLP__hidden_layer_sizes=(50,), MLP__learning_rate=invscaling, MLP__learning_rate_init=0.3;, score=0.324 total time=   0.0s\n",
      "[CV 2/5] END MLP__activation=tanh, MLP__hidden_layer_sizes=(50,), MLP__learning_rate=invscaling, MLP__learning_rate_init=0.3;, score=0.286 total time=   0.0s\n",
      "[CV 3/5] END MLP__activation=tanh, MLP__hidden_layer_sizes=(50,), MLP__learning_rate=invscaling, MLP__learning_rate_init=0.3;, score=0.698 total time=   0.0s\n"
     ]
    },
    {
     "name": "stderr",
     "output_type": "stream",
     "text": [
      "C:\\Users\\admin\\anaconda3\\lib\\site-packages\\sklearn\\neural_network\\_multilayer_perceptron.py:679: ConvergenceWarning: Stochastic Optimizer: Maximum iterations (200) reached and the optimization hasn't converged yet.\n",
      "  warnings.warn(\n"
     ]
    },
    {
     "name": "stdout",
     "output_type": "stream",
     "text": [
      "[CV 4/5] END MLP__activation=tanh, MLP__hidden_layer_sizes=(50,), MLP__learning_rate=invscaling, MLP__learning_rate_init=0.3;, score=0.947 total time=   0.0s\n",
      "[CV 5/5] END MLP__activation=tanh, MLP__hidden_layer_sizes=(50,), MLP__learning_rate=invscaling, MLP__learning_rate_init=0.3;, score=0.178 total time=   0.0s\n",
      "[CV 1/5] END MLP__activation=tanh, MLP__hidden_layer_sizes=(50,), MLP__learning_rate=invscaling, MLP__learning_rate_init=0.5;, score=0.170 total time=   0.0s\n",
      "[CV 2/5] END MLP__activation=tanh, MLP__hidden_layer_sizes=(50,), MLP__learning_rate=invscaling, MLP__learning_rate_init=0.5;, score=0.198 total time=   0.0s\n",
      "[CV 3/5] END MLP__activation=tanh, MLP__hidden_layer_sizes=(50,), MLP__learning_rate=invscaling, MLP__learning_rate_init=0.5;, score=0.781 total time=   0.0s\n",
      "[CV 4/5] END MLP__activation=tanh, MLP__hidden_layer_sizes=(50,), MLP__learning_rate=invscaling, MLP__learning_rate_init=0.5;, score=0.278 total time=   0.0s\n",
      "[CV 5/5] END MLP__activation=tanh, MLP__hidden_layer_sizes=(50,), MLP__learning_rate=invscaling, MLP__learning_rate_init=0.5;, score=0.923 total time=   0.0s\n"
     ]
    },
    {
     "name": "stderr",
     "output_type": "stream",
     "text": [
      "C:\\Users\\admin\\anaconda3\\lib\\site-packages\\sklearn\\neural_network\\_multilayer_perceptron.py:679: ConvergenceWarning: Stochastic Optimizer: Maximum iterations (200) reached and the optimization hasn't converged yet.\n",
      "  warnings.warn(\n",
      "C:\\Users\\admin\\anaconda3\\lib\\site-packages\\sklearn\\neural_network\\_multilayer_perceptron.py:679: ConvergenceWarning: Stochastic Optimizer: Maximum iterations (200) reached and the optimization hasn't converged yet.\n",
      "  warnings.warn(\n"
     ]
    },
    {
     "name": "stdout",
     "output_type": "stream",
     "text": [
      "[CV 1/5] END MLP__activation=tanh, MLP__hidden_layer_sizes=(50,), MLP__learning_rate=adaptive, MLP__learning_rate_init=0.001;, score=0.863 total time=   0.0s\n",
      "[CV 2/5] END MLP__activation=tanh, MLP__hidden_layer_sizes=(50,), MLP__learning_rate=adaptive, MLP__learning_rate_init=0.001;, score=0.824 total time=   0.0s\n"
     ]
    },
    {
     "name": "stderr",
     "output_type": "stream",
     "text": [
      "C:\\Users\\admin\\anaconda3\\lib\\site-packages\\sklearn\\neural_network\\_multilayer_perceptron.py:679: ConvergenceWarning: Stochastic Optimizer: Maximum iterations (200) reached and the optimization hasn't converged yet.\n",
      "  warnings.warn(\n",
      "C:\\Users\\admin\\anaconda3\\lib\\site-packages\\sklearn\\neural_network\\_multilayer_perceptron.py:679: ConvergenceWarning: Stochastic Optimizer: Maximum iterations (200) reached and the optimization hasn't converged yet.\n",
      "  warnings.warn(\n"
     ]
    },
    {
     "name": "stdout",
     "output_type": "stream",
     "text": [
      "[CV 3/5] END MLP__activation=tanh, MLP__hidden_layer_sizes=(50,), MLP__learning_rate=adaptive, MLP__learning_rate_init=0.001;, score=0.675 total time=   0.0s\n",
      "[CV 4/5] END MLP__activation=tanh, MLP__hidden_layer_sizes=(50,), MLP__learning_rate=adaptive, MLP__learning_rate_init=0.001;, score=0.970 total time=   0.0s\n"
     ]
    },
    {
     "name": "stderr",
     "output_type": "stream",
     "text": [
      "C:\\Users\\admin\\anaconda3\\lib\\site-packages\\sklearn\\neural_network\\_multilayer_perceptron.py:679: ConvergenceWarning: Stochastic Optimizer: Maximum iterations (200) reached and the optimization hasn't converged yet.\n",
      "  warnings.warn(\n",
      "C:\\Users\\admin\\anaconda3\\lib\\site-packages\\sklearn\\neural_network\\_multilayer_perceptron.py:679: ConvergenceWarning: Stochastic Optimizer: Maximum iterations (200) reached and the optimization hasn't converged yet.\n",
      "  warnings.warn(\n"
     ]
    },
    {
     "name": "stdout",
     "output_type": "stream",
     "text": [
      "[CV 5/5] END MLP__activation=tanh, MLP__hidden_layer_sizes=(50,), MLP__learning_rate=adaptive, MLP__learning_rate_init=0.001;, score=0.899 total time=   0.0s\n",
      "[CV 1/5] END MLP__activation=tanh, MLP__hidden_layer_sizes=(50,), MLP__learning_rate=adaptive, MLP__learning_rate_init=0.3;, score=0.324 total time=   0.0s\n",
      "[CV 2/5] END MLP__activation=tanh, MLP__hidden_layer_sizes=(50,), MLP__learning_rate=adaptive, MLP__learning_rate_init=0.3;, score=0.286 total time=   0.0s\n",
      "[CV 3/5] END MLP__activation=tanh, MLP__hidden_layer_sizes=(50,), MLP__learning_rate=adaptive, MLP__learning_rate_init=0.3;, score=0.698 total time=   0.0s\n"
     ]
    },
    {
     "name": "stderr",
     "output_type": "stream",
     "text": [
      "C:\\Users\\admin\\anaconda3\\lib\\site-packages\\sklearn\\neural_network\\_multilayer_perceptron.py:679: ConvergenceWarning: Stochastic Optimizer: Maximum iterations (200) reached and the optimization hasn't converged yet.\n",
      "  warnings.warn(\n"
     ]
    },
    {
     "name": "stdout",
     "output_type": "stream",
     "text": [
      "[CV 4/5] END MLP__activation=tanh, MLP__hidden_layer_sizes=(50,), MLP__learning_rate=adaptive, MLP__learning_rate_init=0.3;, score=0.947 total time=   0.0s\n",
      "[CV 5/5] END MLP__activation=tanh, MLP__hidden_layer_sizes=(50,), MLP__learning_rate=adaptive, MLP__learning_rate_init=0.3;, score=0.178 total time=   0.0s\n",
      "[CV 1/5] END MLP__activation=tanh, MLP__hidden_layer_sizes=(50,), MLP__learning_rate=adaptive, MLP__learning_rate_init=0.5;, score=0.170 total time=   0.0s\n",
      "[CV 2/5] END MLP__activation=tanh, MLP__hidden_layer_sizes=(50,), MLP__learning_rate=adaptive, MLP__learning_rate_init=0.5;, score=0.198 total time=   0.0s\n",
      "[CV 3/5] END MLP__activation=tanh, MLP__hidden_layer_sizes=(50,), MLP__learning_rate=adaptive, MLP__learning_rate_init=0.5;, score=0.781 total time=   0.0s\n",
      "[CV 4/5] END MLP__activation=tanh, MLP__hidden_layer_sizes=(50,), MLP__learning_rate=adaptive, MLP__learning_rate_init=0.5;, score=0.278 total time=   0.0s\n",
      "[CV 5/5] END MLP__activation=tanh, MLP__hidden_layer_sizes=(50,), MLP__learning_rate=adaptive, MLP__learning_rate_init=0.5;, score=0.923 total time=   0.0s\n",
      "[CV 1/5] END MLP__activation=logistic, MLP__hidden_layer_sizes=(20, 10, 5), MLP__learning_rate=constant, MLP__learning_rate_init=0.001;, score=0.604 total time=   0.0s\n",
      "[CV 2/5] END MLP__activation=logistic, MLP__hidden_layer_sizes=(20, 10, 5), MLP__learning_rate=constant, MLP__learning_rate_init=0.001;, score=0.764 total time=   0.0s\n",
      "[CV 3/5] END MLP__activation=logistic, MLP__hidden_layer_sizes=(20, 10, 5), MLP__learning_rate=constant, MLP__learning_rate_init=0.001;, score=0.432 total time=   0.0s\n",
      "[CV 4/5] END MLP__activation=logistic, MLP__hidden_layer_sizes=(20, 10, 5), MLP__learning_rate=constant, MLP__learning_rate_init=0.001;, score=0.615 total time=   0.0s\n",
      "[CV 5/5] END MLP__activation=logistic, MLP__hidden_layer_sizes=(20, 10, 5), MLP__learning_rate=constant, MLP__learning_rate_init=0.001;, score=0.627 total time=   0.0s\n",
      "[CV 1/5] END MLP__activation=logistic, MLP__hidden_layer_sizes=(20, 10, 5), MLP__learning_rate=constant, MLP__learning_rate_init=0.3;, score=0.758 total time=   0.0s\n",
      "[CV 2/5] END MLP__activation=logistic, MLP__hidden_layer_sizes=(20, 10, 5), MLP__learning_rate=constant, MLP__learning_rate_init=0.3;, score=0.440 total time=   0.0s\n",
      "[CV 3/5] END MLP__activation=logistic, MLP__hidden_layer_sizes=(20, 10, 5), MLP__learning_rate=constant, MLP__learning_rate_init=0.3;, score=0.769 total time=   0.0s\n",
      "[CV 4/5] END MLP__activation=logistic, MLP__hidden_layer_sizes=(20, 10, 5), MLP__learning_rate=constant, MLP__learning_rate_init=0.3;, score=0.686 total time=   0.0s\n",
      "[CV 5/5] END MLP__activation=logistic, MLP__hidden_layer_sizes=(20, 10, 5), MLP__learning_rate=constant, MLP__learning_rate_init=0.3;, score=0.953 total time=   0.0s\n",
      "[CV 1/5] END MLP__activation=logistic, MLP__hidden_layer_sizes=(20, 10, 5), MLP__learning_rate=constant, MLP__learning_rate_init=0.5;, score=0.621 total time=   0.0s\n",
      "[CV 2/5] END MLP__activation=logistic, MLP__hidden_layer_sizes=(20, 10, 5), MLP__learning_rate=constant, MLP__learning_rate_init=0.5;, score=0.343 total time=   0.0s\n",
      "[CV 3/5] END MLP__activation=logistic, MLP__hidden_layer_sizes=(20, 10, 5), MLP__learning_rate=constant, MLP__learning_rate_init=0.5;, score=0.527 total time=   0.0s\n",
      "[CV 4/5] END MLP__activation=logistic, MLP__hidden_layer_sizes=(20, 10, 5), MLP__learning_rate=constant, MLP__learning_rate_init=0.5;, score=0.633 total time=   0.0s\n",
      "[CV 5/5] END MLP__activation=logistic, MLP__hidden_layer_sizes=(20, 10, 5), MLP__learning_rate=constant, MLP__learning_rate_init=0.5;, score=0.574 total time=   0.0s\n",
      "[CV 1/5] END MLP__activation=logistic, MLP__hidden_layer_sizes=(20, 10, 5), MLP__learning_rate=invscaling, MLP__learning_rate_init=0.001;, score=0.604 total time=   0.0s\n",
      "[CV 2/5] END MLP__activation=logistic, MLP__hidden_layer_sizes=(20, 10, 5), MLP__learning_rate=invscaling, MLP__learning_rate_init=0.001;, score=0.764 total time=   0.0s\n",
      "[CV 3/5] END MLP__activation=logistic, MLP__hidden_layer_sizes=(20, 10, 5), MLP__learning_rate=invscaling, MLP__learning_rate_init=0.001;, score=0.432 total time=   0.0s\n",
      "[CV 4/5] END MLP__activation=logistic, MLP__hidden_layer_sizes=(20, 10, 5), MLP__learning_rate=invscaling, MLP__learning_rate_init=0.001;, score=0.615 total time=   0.0s\n",
      "[CV 5/5] END MLP__activation=logistic, MLP__hidden_layer_sizes=(20, 10, 5), MLP__learning_rate=invscaling, MLP__learning_rate_init=0.001;, score=0.627 total time=   0.0s\n",
      "[CV 1/5] END MLP__activation=logistic, MLP__hidden_layer_sizes=(20, 10, 5), MLP__learning_rate=invscaling, MLP__learning_rate_init=0.3;, score=0.758 total time=   0.0s\n",
      "[CV 2/5] END MLP__activation=logistic, MLP__hidden_layer_sizes=(20, 10, 5), MLP__learning_rate=invscaling, MLP__learning_rate_init=0.3;, score=0.440 total time=   0.0s\n",
      "[CV 3/5] END MLP__activation=logistic, MLP__hidden_layer_sizes=(20, 10, 5), MLP__learning_rate=invscaling, MLP__learning_rate_init=0.3;, score=0.769 total time=   0.0s\n",
      "[CV 4/5] END MLP__activation=logistic, MLP__hidden_layer_sizes=(20, 10, 5), MLP__learning_rate=invscaling, MLP__learning_rate_init=0.3;, score=0.686 total time=   0.0s\n",
      "[CV 5/5] END MLP__activation=logistic, MLP__hidden_layer_sizes=(20, 10, 5), MLP__learning_rate=invscaling, MLP__learning_rate_init=0.3;, score=0.953 total time=   0.0s\n",
      "[CV 1/5] END MLP__activation=logistic, MLP__hidden_layer_sizes=(20, 10, 5), MLP__learning_rate=invscaling, MLP__learning_rate_init=0.5;, score=0.621 total time=   0.0s\n",
      "[CV 2/5] END MLP__activation=logistic, MLP__hidden_layer_sizes=(20, 10, 5), MLP__learning_rate=invscaling, MLP__learning_rate_init=0.5;, score=0.343 total time=   0.0s\n",
      "[CV 3/5] END MLP__activation=logistic, MLP__hidden_layer_sizes=(20, 10, 5), MLP__learning_rate=invscaling, MLP__learning_rate_init=0.5;, score=0.527 total time=   0.0s\n",
      "[CV 4/5] END MLP__activation=logistic, MLP__hidden_layer_sizes=(20, 10, 5), MLP__learning_rate=invscaling, MLP__learning_rate_init=0.5;, score=0.633 total time=   0.0s\n",
      "[CV 5/5] END MLP__activation=logistic, MLP__hidden_layer_sizes=(20, 10, 5), MLP__learning_rate=invscaling, MLP__learning_rate_init=0.5;, score=0.574 total time=   0.0s\n",
      "[CV 1/5] END MLP__activation=logistic, MLP__hidden_layer_sizes=(20, 10, 5), MLP__learning_rate=adaptive, MLP__learning_rate_init=0.001;, score=0.604 total time=   0.0s\n",
      "[CV 2/5] END MLP__activation=logistic, MLP__hidden_layer_sizes=(20, 10, 5), MLP__learning_rate=adaptive, MLP__learning_rate_init=0.001;, score=0.764 total time=   0.0s\n",
      "[CV 3/5] END MLP__activation=logistic, MLP__hidden_layer_sizes=(20, 10, 5), MLP__learning_rate=adaptive, MLP__learning_rate_init=0.001;, score=0.432 total time=   0.0s\n",
      "[CV 4/5] END MLP__activation=logistic, MLP__hidden_layer_sizes=(20, 10, 5), MLP__learning_rate=adaptive, MLP__learning_rate_init=0.001;, score=0.615 total time=   0.0s\n",
      "[CV 5/5] END MLP__activation=logistic, MLP__hidden_layer_sizes=(20, 10, 5), MLP__learning_rate=adaptive, MLP__learning_rate_init=0.001;, score=0.627 total time=   0.0s\n",
      "[CV 1/5] END MLP__activation=logistic, MLP__hidden_layer_sizes=(20, 10, 5), MLP__learning_rate=adaptive, MLP__learning_rate_init=0.3;, score=0.758 total time=   0.0s\n",
      "[CV 2/5] END MLP__activation=logistic, MLP__hidden_layer_sizes=(20, 10, 5), MLP__learning_rate=adaptive, MLP__learning_rate_init=0.3;, score=0.440 total time=   0.0s\n",
      "[CV 3/5] END MLP__activation=logistic, MLP__hidden_layer_sizes=(20, 10, 5), MLP__learning_rate=adaptive, MLP__learning_rate_init=0.3;, score=0.769 total time=   0.0s\n",
      "[CV 4/5] END MLP__activation=logistic, MLP__hidden_layer_sizes=(20, 10, 5), MLP__learning_rate=adaptive, MLP__learning_rate_init=0.3;, score=0.686 total time=   0.0s\n",
      "[CV 5/5] END MLP__activation=logistic, MLP__hidden_layer_sizes=(20, 10, 5), MLP__learning_rate=adaptive, MLP__learning_rate_init=0.3;, score=0.953 total time=   0.0s\n",
      "[CV 1/5] END MLP__activation=logistic, MLP__hidden_layer_sizes=(20, 10, 5), MLP__learning_rate=adaptive, MLP__learning_rate_init=0.5;, score=0.621 total time=   0.0s\n",
      "[CV 2/5] END MLP__activation=logistic, MLP__hidden_layer_sizes=(20, 10, 5), MLP__learning_rate=adaptive, MLP__learning_rate_init=0.5;, score=0.343 total time=   0.0s\n",
      "[CV 3/5] END MLP__activation=logistic, MLP__hidden_layer_sizes=(20, 10, 5), MLP__learning_rate=adaptive, MLP__learning_rate_init=0.5;, score=0.527 total time=   0.0s\n",
      "[CV 4/5] END MLP__activation=logistic, MLP__hidden_layer_sizes=(20, 10, 5), MLP__learning_rate=adaptive, MLP__learning_rate_init=0.5;, score=0.633 total time=   0.0s\n",
      "[CV 5/5] END MLP__activation=logistic, MLP__hidden_layer_sizes=(20, 10, 5), MLP__learning_rate=adaptive, MLP__learning_rate_init=0.5;, score=0.574 total time=   0.0s\n",
      "[CV 1/5] END MLP__activation=logistic, MLP__hidden_layer_sizes=(10, 5), MLP__learning_rate=constant, MLP__learning_rate_init=0.001;, score=0.758 total time=   0.0s\n",
      "[CV 2/5] END MLP__activation=logistic, MLP__hidden_layer_sizes=(10, 5), MLP__learning_rate=constant, MLP__learning_rate_init=0.001;, score=0.786 total time=   0.0s\n",
      "[CV 3/5] END MLP__activation=logistic, MLP__hidden_layer_sizes=(10, 5), MLP__learning_rate=constant, MLP__learning_rate_init=0.001;, score=0.769 total time=   0.0s\n"
     ]
    },
    {
     "name": "stdout",
     "output_type": "stream",
     "text": [
      "[CV 4/5] END MLP__activation=logistic, MLP__hidden_layer_sizes=(10, 5), MLP__learning_rate=constant, MLP__learning_rate_init=0.001;, score=0.959 total time=   0.0s\n",
      "[CV 5/5] END MLP__activation=logistic, MLP__hidden_layer_sizes=(10, 5), MLP__learning_rate=constant, MLP__learning_rate_init=0.001;, score=0.680 total time=   0.0s\n",
      "[CV 1/5] END MLP__activation=logistic, MLP__hidden_layer_sizes=(10, 5), MLP__learning_rate=constant, MLP__learning_rate_init=0.3;, score=0.769 total time=   0.0s\n",
      "[CV 2/5] END MLP__activation=logistic, MLP__hidden_layer_sizes=(10, 5), MLP__learning_rate=constant, MLP__learning_rate_init=0.3;, score=0.819 total time=   0.0s\n",
      "[CV 3/5] END MLP__activation=logistic, MLP__hidden_layer_sizes=(10, 5), MLP__learning_rate=constant, MLP__learning_rate_init=0.3;, score=0.680 total time=   0.0s\n"
     ]
    },
    {
     "name": "stderr",
     "output_type": "stream",
     "text": [
      "C:\\Users\\admin\\anaconda3\\lib\\site-packages\\sklearn\\neural_network\\_multilayer_perceptron.py:679: ConvergenceWarning: Stochastic Optimizer: Maximum iterations (200) reached and the optimization hasn't converged yet.\n",
      "  warnings.warn(\n",
      "C:\\Users\\admin\\anaconda3\\lib\\site-packages\\sklearn\\neural_network\\_multilayer_perceptron.py:679: ConvergenceWarning: Stochastic Optimizer: Maximum iterations (200) reached and the optimization hasn't converged yet.\n",
      "  warnings.warn(\n"
     ]
    },
    {
     "name": "stdout",
     "output_type": "stream",
     "text": [
      "[CV 4/5] END MLP__activation=logistic, MLP__hidden_layer_sizes=(10, 5), MLP__learning_rate=constant, MLP__learning_rate_init=0.3;, score=0.935 total time=   0.0s\n",
      "[CV 5/5] END MLP__activation=logistic, MLP__hidden_layer_sizes=(10, 5), MLP__learning_rate=constant, MLP__learning_rate_init=0.3;, score=0.911 total time=   0.0s\n",
      "[CV 1/5] END MLP__activation=logistic, MLP__hidden_layer_sizes=(10, 5), MLP__learning_rate=constant, MLP__learning_rate_init=0.5;, score=0.198 total time=   0.0s\n",
      "[CV 2/5] END MLP__activation=logistic, MLP__hidden_layer_sizes=(10, 5), MLP__learning_rate=constant, MLP__learning_rate_init=0.5;, score=0.632 total time=   0.0s\n",
      "[CV 3/5] END MLP__activation=logistic, MLP__hidden_layer_sizes=(10, 5), MLP__learning_rate=constant, MLP__learning_rate_init=0.5;, score=0.751 total time=   0.0s\n",
      "[CV 4/5] END MLP__activation=logistic, MLP__hidden_layer_sizes=(10, 5), MLP__learning_rate=constant, MLP__learning_rate_init=0.5;, score=0.231 total time=   0.0s\n"
     ]
    },
    {
     "name": "stderr",
     "output_type": "stream",
     "text": [
      "C:\\Users\\admin\\anaconda3\\lib\\site-packages\\sklearn\\neural_network\\_multilayer_perceptron.py:679: ConvergenceWarning: Stochastic Optimizer: Maximum iterations (200) reached and the optimization hasn't converged yet.\n",
      "  warnings.warn(\n"
     ]
    },
    {
     "name": "stdout",
     "output_type": "stream",
     "text": [
      "[CV 5/5] END MLP__activation=logistic, MLP__hidden_layer_sizes=(10, 5), MLP__learning_rate=constant, MLP__learning_rate_init=0.5;, score=0.059 total time=   0.0s\n",
      "[CV 1/5] END MLP__activation=logistic, MLP__hidden_layer_sizes=(10, 5), MLP__learning_rate=invscaling, MLP__learning_rate_init=0.001;, score=0.758 total time=   0.0s\n",
      "[CV 2/5] END MLP__activation=logistic, MLP__hidden_layer_sizes=(10, 5), MLP__learning_rate=invscaling, MLP__learning_rate_init=0.001;, score=0.786 total time=   0.0s\n",
      "[CV 3/5] END MLP__activation=logistic, MLP__hidden_layer_sizes=(10, 5), MLP__learning_rate=invscaling, MLP__learning_rate_init=0.001;, score=0.769 total time=   0.0s\n",
      "[CV 4/5] END MLP__activation=logistic, MLP__hidden_layer_sizes=(10, 5), MLP__learning_rate=invscaling, MLP__learning_rate_init=0.001;, score=0.959 total time=   0.0s\n",
      "[CV 5/5] END MLP__activation=logistic, MLP__hidden_layer_sizes=(10, 5), MLP__learning_rate=invscaling, MLP__learning_rate_init=0.001;, score=0.680 total time=   0.0s\n",
      "[CV 1/5] END MLP__activation=logistic, MLP__hidden_layer_sizes=(10, 5), MLP__learning_rate=invscaling, MLP__learning_rate_init=0.3;, score=0.769 total time=   0.0s\n",
      "[CV 2/5] END MLP__activation=logistic, MLP__hidden_layer_sizes=(10, 5), MLP__learning_rate=invscaling, MLP__learning_rate_init=0.3;, score=0.819 total time=   0.0s\n",
      "[CV 3/5] END MLP__activation=logistic, MLP__hidden_layer_sizes=(10, 5), MLP__learning_rate=invscaling, MLP__learning_rate_init=0.3;, score=0.680 total time=   0.0s\n"
     ]
    },
    {
     "name": "stderr",
     "output_type": "stream",
     "text": [
      "C:\\Users\\admin\\anaconda3\\lib\\site-packages\\sklearn\\neural_network\\_multilayer_perceptron.py:679: ConvergenceWarning: Stochastic Optimizer: Maximum iterations (200) reached and the optimization hasn't converged yet.\n",
      "  warnings.warn(\n",
      "C:\\Users\\admin\\anaconda3\\lib\\site-packages\\sklearn\\neural_network\\_multilayer_perceptron.py:679: ConvergenceWarning: Stochastic Optimizer: Maximum iterations (200) reached and the optimization hasn't converged yet.\n",
      "  warnings.warn(\n"
     ]
    },
    {
     "name": "stdout",
     "output_type": "stream",
     "text": [
      "[CV 4/5] END MLP__activation=logistic, MLP__hidden_layer_sizes=(10, 5), MLP__learning_rate=invscaling, MLP__learning_rate_init=0.3;, score=0.935 total time=   0.0s\n",
      "[CV 5/5] END MLP__activation=logistic, MLP__hidden_layer_sizes=(10, 5), MLP__learning_rate=invscaling, MLP__learning_rate_init=0.3;, score=0.911 total time=   0.0s\n",
      "[CV 1/5] END MLP__activation=logistic, MLP__hidden_layer_sizes=(10, 5), MLP__learning_rate=invscaling, MLP__learning_rate_init=0.5;, score=0.198 total time=   0.0s\n",
      "[CV 2/5] END MLP__activation=logistic, MLP__hidden_layer_sizes=(10, 5), MLP__learning_rate=invscaling, MLP__learning_rate_init=0.5;, score=0.632 total time=   0.0s\n",
      "[CV 3/5] END MLP__activation=logistic, MLP__hidden_layer_sizes=(10, 5), MLP__learning_rate=invscaling, MLP__learning_rate_init=0.5;, score=0.751 total time=   0.0s\n",
      "[CV 4/5] END MLP__activation=logistic, MLP__hidden_layer_sizes=(10, 5), MLP__learning_rate=invscaling, MLP__learning_rate_init=0.5;, score=0.231 total time=   0.0s\n",
      "[CV 5/5] END MLP__activation=logistic, MLP__hidden_layer_sizes=(10, 5), MLP__learning_rate=invscaling, MLP__learning_rate_init=0.5;, score=0.059 total time=   0.0s\n"
     ]
    },
    {
     "name": "stderr",
     "output_type": "stream",
     "text": [
      "C:\\Users\\admin\\anaconda3\\lib\\site-packages\\sklearn\\neural_network\\_multilayer_perceptron.py:679: ConvergenceWarning: Stochastic Optimizer: Maximum iterations (200) reached and the optimization hasn't converged yet.\n",
      "  warnings.warn(\n"
     ]
    },
    {
     "name": "stdout",
     "output_type": "stream",
     "text": [
      "[CV 1/5] END MLP__activation=logistic, MLP__hidden_layer_sizes=(10, 5), MLP__learning_rate=adaptive, MLP__learning_rate_init=0.001;, score=0.758 total time=   0.0s\n",
      "[CV 2/5] END MLP__activation=logistic, MLP__hidden_layer_sizes=(10, 5), MLP__learning_rate=adaptive, MLP__learning_rate_init=0.001;, score=0.786 total time=   0.0s\n",
      "[CV 3/5] END MLP__activation=logistic, MLP__hidden_layer_sizes=(10, 5), MLP__learning_rate=adaptive, MLP__learning_rate_init=0.001;, score=0.769 total time=   0.0s\n",
      "[CV 4/5] END MLP__activation=logistic, MLP__hidden_layer_sizes=(10, 5), MLP__learning_rate=adaptive, MLP__learning_rate_init=0.001;, score=0.959 total time=   0.0s\n",
      "[CV 5/5] END MLP__activation=logistic, MLP__hidden_layer_sizes=(10, 5), MLP__learning_rate=adaptive, MLP__learning_rate_init=0.001;, score=0.680 total time=   0.0s\n",
      "[CV 1/5] END MLP__activation=logistic, MLP__hidden_layer_sizes=(10, 5), MLP__learning_rate=adaptive, MLP__learning_rate_init=0.3;, score=0.769 total time=   0.0s\n",
      "[CV 2/5] END MLP__activation=logistic, MLP__hidden_layer_sizes=(10, 5), MLP__learning_rate=adaptive, MLP__learning_rate_init=0.3;, score=0.819 total time=   0.0s\n",
      "[CV 3/5] END MLP__activation=logistic, MLP__hidden_layer_sizes=(10, 5), MLP__learning_rate=adaptive, MLP__learning_rate_init=0.3;, score=0.680 total time=   0.0s\n"
     ]
    },
    {
     "name": "stderr",
     "output_type": "stream",
     "text": [
      "C:\\Users\\admin\\anaconda3\\lib\\site-packages\\sklearn\\neural_network\\_multilayer_perceptron.py:679: ConvergenceWarning: Stochastic Optimizer: Maximum iterations (200) reached and the optimization hasn't converged yet.\n",
      "  warnings.warn(\n",
      "C:\\Users\\admin\\anaconda3\\lib\\site-packages\\sklearn\\neural_network\\_multilayer_perceptron.py:679: ConvergenceWarning: Stochastic Optimizer: Maximum iterations (200) reached and the optimization hasn't converged yet.\n",
      "  warnings.warn(\n"
     ]
    },
    {
     "name": "stdout",
     "output_type": "stream",
     "text": [
      "[CV 4/5] END MLP__activation=logistic, MLP__hidden_layer_sizes=(10, 5), MLP__learning_rate=adaptive, MLP__learning_rate_init=0.3;, score=0.935 total time=   0.0s\n",
      "[CV 5/5] END MLP__activation=logistic, MLP__hidden_layer_sizes=(10, 5), MLP__learning_rate=adaptive, MLP__learning_rate_init=0.3;, score=0.911 total time=   0.0s\n",
      "[CV 1/5] END MLP__activation=logistic, MLP__hidden_layer_sizes=(10, 5), MLP__learning_rate=adaptive, MLP__learning_rate_init=0.5;, score=0.198 total time=   0.0s\n",
      "[CV 2/5] END MLP__activation=logistic, MLP__hidden_layer_sizes=(10, 5), MLP__learning_rate=adaptive, MLP__learning_rate_init=0.5;, score=0.632 total time=   0.0s\n",
      "[CV 3/5] END MLP__activation=logistic, MLP__hidden_layer_sizes=(10, 5), MLP__learning_rate=adaptive, MLP__learning_rate_init=0.5;, score=0.751 total time=   0.0s\n",
      "[CV 4/5] END MLP__activation=logistic, MLP__hidden_layer_sizes=(10, 5), MLP__learning_rate=adaptive, MLP__learning_rate_init=0.5;, score=0.231 total time=   0.0s\n",
      "[CV 5/5] END MLP__activation=logistic, MLP__hidden_layer_sizes=(10, 5), MLP__learning_rate=adaptive, MLP__learning_rate_init=0.5;, score=0.059 total time=   0.0s\n"
     ]
    },
    {
     "name": "stderr",
     "output_type": "stream",
     "text": [
      "C:\\Users\\admin\\anaconda3\\lib\\site-packages\\sklearn\\neural_network\\_multilayer_perceptron.py:679: ConvergenceWarning: Stochastic Optimizer: Maximum iterations (200) reached and the optimization hasn't converged yet.\n",
      "  warnings.warn(\n",
      "C:\\Users\\admin\\anaconda3\\lib\\site-packages\\sklearn\\neural_network\\_multilayer_perceptron.py:679: ConvergenceWarning: Stochastic Optimizer: Maximum iterations (200) reached and the optimization hasn't converged yet.\n",
      "  warnings.warn(\n"
     ]
    },
    {
     "name": "stdout",
     "output_type": "stream",
     "text": [
      "[CV 1/5] END MLP__activation=logistic, MLP__hidden_layer_sizes=(50,), MLP__learning_rate=constant, MLP__learning_rate_init=0.001;, score=0.852 total time=   0.0s\n",
      "[CV 2/5] END MLP__activation=logistic, MLP__hidden_layer_sizes=(50,), MLP__learning_rate=constant, MLP__learning_rate_init=0.001;, score=0.813 total time=   0.0s\n"
     ]
    },
    {
     "name": "stderr",
     "output_type": "stream",
     "text": [
      "C:\\Users\\admin\\anaconda3\\lib\\site-packages\\sklearn\\neural_network\\_multilayer_perceptron.py:679: ConvergenceWarning: Stochastic Optimizer: Maximum iterations (200) reached and the optimization hasn't converged yet.\n",
      "  warnings.warn(\n",
      "C:\\Users\\admin\\anaconda3\\lib\\site-packages\\sklearn\\neural_network\\_multilayer_perceptron.py:679: ConvergenceWarning: Stochastic Optimizer: Maximum iterations (200) reached and the optimization hasn't converged yet.\n",
      "  warnings.warn(\n"
     ]
    },
    {
     "name": "stdout",
     "output_type": "stream",
     "text": [
      "[CV 3/5] END MLP__activation=logistic, MLP__hidden_layer_sizes=(50,), MLP__learning_rate=constant, MLP__learning_rate_init=0.001;, score=0.757 total time=   0.0s\n",
      "[CV 4/5] END MLP__activation=logistic, MLP__hidden_layer_sizes=(50,), MLP__learning_rate=constant, MLP__learning_rate_init=0.001;, score=0.911 total time=   0.0s\n"
     ]
    },
    {
     "name": "stderr",
     "output_type": "stream",
     "text": [
      "C:\\Users\\admin\\anaconda3\\lib\\site-packages\\sklearn\\neural_network\\_multilayer_perceptron.py:679: ConvergenceWarning: Stochastic Optimizer: Maximum iterations (200) reached and the optimization hasn't converged yet.\n",
      "  warnings.warn(\n",
      "C:\\Users\\admin\\anaconda3\\lib\\site-packages\\sklearn\\neural_network\\_multilayer_perceptron.py:679: ConvergenceWarning: Stochastic Optimizer: Maximum iterations (200) reached and the optimization hasn't converged yet.\n",
      "  warnings.warn(\n"
     ]
    },
    {
     "name": "stdout",
     "output_type": "stream",
     "text": [
      "[CV 5/5] END MLP__activation=logistic, MLP__hidden_layer_sizes=(50,), MLP__learning_rate=constant, MLP__learning_rate_init=0.001;, score=0.917 total time=   0.0s\n",
      "[CV 1/5] END MLP__activation=logistic, MLP__hidden_layer_sizes=(50,), MLP__learning_rate=constant, MLP__learning_rate_init=0.3;, score=0.791 total time=   0.0s\n",
      "[CV 2/5] END MLP__activation=logistic, MLP__hidden_layer_sizes=(50,), MLP__learning_rate=constant, MLP__learning_rate_init=0.3;, score=0.753 total time=   0.0s\n",
      "[CV 3/5] END MLP__activation=logistic, MLP__hidden_layer_sizes=(50,), MLP__learning_rate=constant, MLP__learning_rate_init=0.3;, score=0.888 total time=   0.0s\n",
      "[CV 4/5] END MLP__activation=logistic, MLP__hidden_layer_sizes=(50,), MLP__learning_rate=constant, MLP__learning_rate_init=0.3;, score=0.698 total time=   0.0s\n",
      "[CV 5/5] END MLP__activation=logistic, MLP__hidden_layer_sizes=(50,), MLP__learning_rate=constant, MLP__learning_rate_init=0.3;, score=0.917 total time=   0.0s\n",
      "[CV 1/5] END MLP__activation=logistic, MLP__hidden_layer_sizes=(50,), MLP__learning_rate=constant, MLP__learning_rate_init=0.5;, score=0.852 total time=   0.0s\n"
     ]
    },
    {
     "name": "stderr",
     "output_type": "stream",
     "text": [
      "C:\\Users\\admin\\anaconda3\\lib\\site-packages\\sklearn\\neural_network\\_multilayer_perceptron.py:679: ConvergenceWarning: Stochastic Optimizer: Maximum iterations (200) reached and the optimization hasn't converged yet.\n",
      "  warnings.warn(\n",
      "C:\\Users\\admin\\anaconda3\\lib\\site-packages\\sklearn\\neural_network\\_multilayer_perceptron.py:679: ConvergenceWarning: Stochastic Optimizer: Maximum iterations (200) reached and the optimization hasn't converged yet.\n",
      "  warnings.warn(\n"
     ]
    },
    {
     "name": "stdout",
     "output_type": "stream",
     "text": [
      "[CV 2/5] END MLP__activation=logistic, MLP__hidden_layer_sizes=(50,), MLP__learning_rate=constant, MLP__learning_rate_init=0.5;, score=0.813 total time=   0.0s\n",
      "[CV 3/5] END MLP__activation=logistic, MLP__hidden_layer_sizes=(50,), MLP__learning_rate=constant, MLP__learning_rate_init=0.5;, score=0.160 total time=   0.0s\n",
      "[CV 4/5] END MLP__activation=logistic, MLP__hidden_layer_sizes=(50,), MLP__learning_rate=constant, MLP__learning_rate_init=0.5;, score=0.947 total time=   0.0s\n",
      "[CV 5/5] END MLP__activation=logistic, MLP__hidden_layer_sizes=(50,), MLP__learning_rate=constant, MLP__learning_rate_init=0.5;, score=0.059 total time=   0.0s\n"
     ]
    },
    {
     "name": "stderr",
     "output_type": "stream",
     "text": [
      "C:\\Users\\admin\\anaconda3\\lib\\site-packages\\sklearn\\neural_network\\_multilayer_perceptron.py:679: ConvergenceWarning: Stochastic Optimizer: Maximum iterations (200) reached and the optimization hasn't converged yet.\n",
      "  warnings.warn(\n",
      "C:\\Users\\admin\\anaconda3\\lib\\site-packages\\sklearn\\neural_network\\_multilayer_perceptron.py:679: ConvergenceWarning: Stochastic Optimizer: Maximum iterations (200) reached and the optimization hasn't converged yet.\n",
      "  warnings.warn(\n"
     ]
    },
    {
     "name": "stdout",
     "output_type": "stream",
     "text": [
      "[CV 1/5] END MLP__activation=logistic, MLP__hidden_layer_sizes=(50,), MLP__learning_rate=invscaling, MLP__learning_rate_init=0.001;, score=0.852 total time=   0.0s\n",
      "[CV 2/5] END MLP__activation=logistic, MLP__hidden_layer_sizes=(50,), MLP__learning_rate=invscaling, MLP__learning_rate_init=0.001;, score=0.813 total time=   0.0s\n"
     ]
    },
    {
     "name": "stderr",
     "output_type": "stream",
     "text": [
      "C:\\Users\\admin\\anaconda3\\lib\\site-packages\\sklearn\\neural_network\\_multilayer_perceptron.py:679: ConvergenceWarning: Stochastic Optimizer: Maximum iterations (200) reached and the optimization hasn't converged yet.\n",
      "  warnings.warn(\n",
      "C:\\Users\\admin\\anaconda3\\lib\\site-packages\\sklearn\\neural_network\\_multilayer_perceptron.py:679: ConvergenceWarning: Stochastic Optimizer: Maximum iterations (200) reached and the optimization hasn't converged yet.\n",
      "  warnings.warn(\n"
     ]
    },
    {
     "name": "stdout",
     "output_type": "stream",
     "text": [
      "[CV 3/5] END MLP__activation=logistic, MLP__hidden_layer_sizes=(50,), MLP__learning_rate=invscaling, MLP__learning_rate_init=0.001;, score=0.757 total time=   0.0s\n",
      "[CV 4/5] END MLP__activation=logistic, MLP__hidden_layer_sizes=(50,), MLP__learning_rate=invscaling, MLP__learning_rate_init=0.001;, score=0.911 total time=   0.0s\n"
     ]
    },
    {
     "name": "stderr",
     "output_type": "stream",
     "text": [
      "C:\\Users\\admin\\anaconda3\\lib\\site-packages\\sklearn\\neural_network\\_multilayer_perceptron.py:679: ConvergenceWarning: Stochastic Optimizer: Maximum iterations (200) reached and the optimization hasn't converged yet.\n",
      "  warnings.warn(\n"
     ]
    },
    {
     "name": "stdout",
     "output_type": "stream",
     "text": [
      "[CV 5/5] END MLP__activation=logistic, MLP__hidden_layer_sizes=(50,), MLP__learning_rate=invscaling, MLP__learning_rate_init=0.001;, score=0.917 total time=   0.0s\n",
      "[CV 1/5] END MLP__activation=logistic, MLP__hidden_layer_sizes=(50,), MLP__learning_rate=invscaling, MLP__learning_rate_init=0.3;, score=0.791 total time=   0.0s\n",
      "[CV 2/5] END MLP__activation=logistic, MLP__hidden_layer_sizes=(50,), MLP__learning_rate=invscaling, MLP__learning_rate_init=0.3;, score=0.753 total time=   0.0s\n",
      "[CV 3/5] END MLP__activation=logistic, MLP__hidden_layer_sizes=(50,), MLP__learning_rate=invscaling, MLP__learning_rate_init=0.3;, score=0.888 total time=   0.0s\n",
      "[CV 4/5] END MLP__activation=logistic, MLP__hidden_layer_sizes=(50,), MLP__learning_rate=invscaling, MLP__learning_rate_init=0.3;, score=0.698 total time=   0.0s\n",
      "[CV 5/5] END MLP__activation=logistic, MLP__hidden_layer_sizes=(50,), MLP__learning_rate=invscaling, MLP__learning_rate_init=0.3;, score=0.917 total time=   0.0s\n",
      "[CV 1/5] END MLP__activation=logistic, MLP__hidden_layer_sizes=(50,), MLP__learning_rate=invscaling, MLP__learning_rate_init=0.5;, score=0.852 total time=   0.0s\n"
     ]
    },
    {
     "name": "stderr",
     "output_type": "stream",
     "text": [
      "C:\\Users\\admin\\anaconda3\\lib\\site-packages\\sklearn\\neural_network\\_multilayer_perceptron.py:679: ConvergenceWarning: Stochastic Optimizer: Maximum iterations (200) reached and the optimization hasn't converged yet.\n",
      "  warnings.warn(\n",
      "C:\\Users\\admin\\anaconda3\\lib\\site-packages\\sklearn\\neural_network\\_multilayer_perceptron.py:679: ConvergenceWarning: Stochastic Optimizer: Maximum iterations (200) reached and the optimization hasn't converged yet.\n",
      "  warnings.warn(\n"
     ]
    },
    {
     "name": "stdout",
     "output_type": "stream",
     "text": [
      "[CV 2/5] END MLP__activation=logistic, MLP__hidden_layer_sizes=(50,), MLP__learning_rate=invscaling, MLP__learning_rate_init=0.5;, score=0.813 total time=   0.0s\n",
      "[CV 3/5] END MLP__activation=logistic, MLP__hidden_layer_sizes=(50,), MLP__learning_rate=invscaling, MLP__learning_rate_init=0.5;, score=0.160 total time=   0.0s\n",
      "[CV 4/5] END MLP__activation=logistic, MLP__hidden_layer_sizes=(50,), MLP__learning_rate=invscaling, MLP__learning_rate_init=0.5;, score=0.947 total time=   0.0s\n",
      "[CV 5/5] END MLP__activation=logistic, MLP__hidden_layer_sizes=(50,), MLP__learning_rate=invscaling, MLP__learning_rate_init=0.5;, score=0.059 total time=   0.0s\n"
     ]
    },
    {
     "name": "stderr",
     "output_type": "stream",
     "text": [
      "C:\\Users\\admin\\anaconda3\\lib\\site-packages\\sklearn\\neural_network\\_multilayer_perceptron.py:679: ConvergenceWarning: Stochastic Optimizer: Maximum iterations (200) reached and the optimization hasn't converged yet.\n",
      "  warnings.warn(\n",
      "C:\\Users\\admin\\anaconda3\\lib\\site-packages\\sklearn\\neural_network\\_multilayer_perceptron.py:679: ConvergenceWarning: Stochastic Optimizer: Maximum iterations (200) reached and the optimization hasn't converged yet.\n",
      "  warnings.warn(\n"
     ]
    },
    {
     "name": "stdout",
     "output_type": "stream",
     "text": [
      "[CV 1/5] END MLP__activation=logistic, MLP__hidden_layer_sizes=(50,), MLP__learning_rate=adaptive, MLP__learning_rate_init=0.001;, score=0.852 total time=   0.0s\n",
      "[CV 2/5] END MLP__activation=logistic, MLP__hidden_layer_sizes=(50,), MLP__learning_rate=adaptive, MLP__learning_rate_init=0.001;, score=0.813 total time=   0.0s\n"
     ]
    },
    {
     "name": "stderr",
     "output_type": "stream",
     "text": [
      "C:\\Users\\admin\\anaconda3\\lib\\site-packages\\sklearn\\neural_network\\_multilayer_perceptron.py:679: ConvergenceWarning: Stochastic Optimizer: Maximum iterations (200) reached and the optimization hasn't converged yet.\n",
      "  warnings.warn(\n",
      "C:\\Users\\admin\\anaconda3\\lib\\site-packages\\sklearn\\neural_network\\_multilayer_perceptron.py:679: ConvergenceWarning: Stochastic Optimizer: Maximum iterations (200) reached and the optimization hasn't converged yet.\n",
      "  warnings.warn(\n"
     ]
    },
    {
     "name": "stdout",
     "output_type": "stream",
     "text": [
      "[CV 3/5] END MLP__activation=logistic, MLP__hidden_layer_sizes=(50,), MLP__learning_rate=adaptive, MLP__learning_rate_init=0.001;, score=0.757 total time=   0.0s\n",
      "[CV 4/5] END MLP__activation=logistic, MLP__hidden_layer_sizes=(50,), MLP__learning_rate=adaptive, MLP__learning_rate_init=0.001;, score=0.911 total time=   0.0s\n"
     ]
    },
    {
     "name": "stderr",
     "output_type": "stream",
     "text": [
      "C:\\Users\\admin\\anaconda3\\lib\\site-packages\\sklearn\\neural_network\\_multilayer_perceptron.py:679: ConvergenceWarning: Stochastic Optimizer: Maximum iterations (200) reached and the optimization hasn't converged yet.\n",
      "  warnings.warn(\n"
     ]
    },
    {
     "name": "stdout",
     "output_type": "stream",
     "text": [
      "[CV 5/5] END MLP__activation=logistic, MLP__hidden_layer_sizes=(50,), MLP__learning_rate=adaptive, MLP__learning_rate_init=0.001;, score=0.917 total time=   0.0s\n",
      "[CV 1/5] END MLP__activation=logistic, MLP__hidden_layer_sizes=(50,), MLP__learning_rate=adaptive, MLP__learning_rate_init=0.3;, score=0.791 total time=   0.0s\n",
      "[CV 2/5] END MLP__activation=logistic, MLP__hidden_layer_sizes=(50,), MLP__learning_rate=adaptive, MLP__learning_rate_init=0.3;, score=0.753 total time=   0.0s\n",
      "[CV 3/5] END MLP__activation=logistic, MLP__hidden_layer_sizes=(50,), MLP__learning_rate=adaptive, MLP__learning_rate_init=0.3;, score=0.888 total time=   0.0s\n",
      "[CV 4/5] END MLP__activation=logistic, MLP__hidden_layer_sizes=(50,), MLP__learning_rate=adaptive, MLP__learning_rate_init=0.3;, score=0.698 total time=   0.0s\n",
      "[CV 5/5] END MLP__activation=logistic, MLP__hidden_layer_sizes=(50,), MLP__learning_rate=adaptive, MLP__learning_rate_init=0.3;, score=0.917 total time=   0.0s\n",
      "[CV 1/5] END MLP__activation=logistic, MLP__hidden_layer_sizes=(50,), MLP__learning_rate=adaptive, MLP__learning_rate_init=0.5;, score=0.852 total time=   0.0s\n"
     ]
    },
    {
     "name": "stderr",
     "output_type": "stream",
     "text": [
      "C:\\Users\\admin\\anaconda3\\lib\\site-packages\\sklearn\\neural_network\\_multilayer_perceptron.py:679: ConvergenceWarning: Stochastic Optimizer: Maximum iterations (200) reached and the optimization hasn't converged yet.\n",
      "  warnings.warn(\n",
      "C:\\Users\\admin\\anaconda3\\lib\\site-packages\\sklearn\\neural_network\\_multilayer_perceptron.py:679: ConvergenceWarning: Stochastic Optimizer: Maximum iterations (200) reached and the optimization hasn't converged yet.\n",
      "  warnings.warn(\n"
     ]
    },
    {
     "name": "stdout",
     "output_type": "stream",
     "text": [
      "[CV 2/5] END MLP__activation=logistic, MLP__hidden_layer_sizes=(50,), MLP__learning_rate=adaptive, MLP__learning_rate_init=0.5;, score=0.813 total time=   0.0s\n",
      "[CV 3/5] END MLP__activation=logistic, MLP__hidden_layer_sizes=(50,), MLP__learning_rate=adaptive, MLP__learning_rate_init=0.5;, score=0.160 total time=   0.0s\n",
      "[CV 4/5] END MLP__activation=logistic, MLP__hidden_layer_sizes=(50,), MLP__learning_rate=adaptive, MLP__learning_rate_init=0.5;, score=0.947 total time=   0.0s\n",
      "[CV 5/5] END MLP__activation=logistic, MLP__hidden_layer_sizes=(50,), MLP__learning_rate=adaptive, MLP__learning_rate_init=0.5;, score=0.059 total time=   0.0s\n"
     ]
    },
    {
     "name": "stderr",
     "output_type": "stream",
     "text": [
      "C:\\Users\\admin\\anaconda3\\lib\\site-packages\\sklearn\\neural_network\\_multilayer_perceptron.py:679: ConvergenceWarning: Stochastic Optimizer: Maximum iterations (200) reached and the optimization hasn't converged yet.\n",
      "  warnings.warn(\n",
      "C:\\Users\\admin\\anaconda3\\lib\\site-packages\\sklearn\\neural_network\\_multilayer_perceptron.py:679: ConvergenceWarning: Stochastic Optimizer: Maximum iterations (200) reached and the optimization hasn't converged yet.\n",
      "  warnings.warn(\n"
     ]
    },
    {
     "name": "stdout",
     "output_type": "stream",
     "text": [
      "[CV 1/5] END MLP__activation=identity, MLP__hidden_layer_sizes=(20, 10, 5), MLP__learning_rate=constant, MLP__learning_rate_init=0.001;, score=0.852 total time=   0.0s\n",
      "[CV 2/5] END MLP__activation=identity, MLP__hidden_layer_sizes=(20, 10, 5), MLP__learning_rate=constant, MLP__learning_rate_init=0.001;, score=0.918 total time=   0.0s\n"
     ]
    },
    {
     "name": "stderr",
     "output_type": "stream",
     "text": [
      "C:\\Users\\admin\\anaconda3\\lib\\site-packages\\sklearn\\neural_network\\_multilayer_perceptron.py:679: ConvergenceWarning: Stochastic Optimizer: Maximum iterations (200) reached and the optimization hasn't converged yet.\n",
      "  warnings.warn(\n",
      "C:\\Users\\admin\\anaconda3\\lib\\site-packages\\sklearn\\neural_network\\_multilayer_perceptron.py:679: ConvergenceWarning: Stochastic Optimizer: Maximum iterations (200) reached and the optimization hasn't converged yet.\n",
      "  warnings.warn(\n"
     ]
    },
    {
     "name": "stdout",
     "output_type": "stream",
     "text": [
      "[CV 3/5] END MLP__activation=identity, MLP__hidden_layer_sizes=(20, 10, 5), MLP__learning_rate=constant, MLP__learning_rate_init=0.001;, score=0.621 total time=   0.0s\n",
      "[CV 4/5] END MLP__activation=identity, MLP__hidden_layer_sizes=(20, 10, 5), MLP__learning_rate=constant, MLP__learning_rate_init=0.001;, score=0.893 total time=   0.0s\n"
     ]
    },
    {
     "name": "stderr",
     "output_type": "stream",
     "text": [
      "C:\\Users\\admin\\anaconda3\\lib\\site-packages\\sklearn\\neural_network\\_multilayer_perceptron.py:679: ConvergenceWarning: Stochastic Optimizer: Maximum iterations (200) reached and the optimization hasn't converged yet.\n",
      "  warnings.warn(\n",
      "C:\\Users\\admin\\anaconda3\\lib\\site-packages\\sklearn\\neural_network\\_multilayer_perceptron.py:679: ConvergenceWarning: Stochastic Optimizer: Maximum iterations (200) reached and the optimization hasn't converged yet.\n",
      "  warnings.warn(\n"
     ]
    },
    {
     "name": "stdout",
     "output_type": "stream",
     "text": [
      "[CV 5/5] END MLP__activation=identity, MLP__hidden_layer_sizes=(20, 10, 5), MLP__learning_rate=constant, MLP__learning_rate_init=0.001;, score=0.899 total time=   0.0s\n",
      "[CV 1/5] END MLP__activation=identity, MLP__hidden_layer_sizes=(20, 10, 5), MLP__learning_rate=constant, MLP__learning_rate_init=0.3;, score=0.170 total time=   0.0s\n",
      "[CV 2/5] END MLP__activation=identity, MLP__hidden_layer_sizes=(20, 10, 5), MLP__learning_rate=constant, MLP__learning_rate_init=0.3;, score=0.522 total time=   0.0s\n",
      "[CV 3/5] END MLP__activation=identity, MLP__hidden_layer_sizes=(20, 10, 5), MLP__learning_rate=constant, MLP__learning_rate_init=0.3;, score=0.657 total time=   0.0s\n",
      "[CV 4/5] END MLP__activation=identity, MLP__hidden_layer_sizes=(20, 10, 5), MLP__learning_rate=constant, MLP__learning_rate_init=0.3;, score=0.148 total time=   0.0s\n",
      "[CV 5/5] END MLP__activation=identity, MLP__hidden_layer_sizes=(20, 10, 5), MLP__learning_rate=constant, MLP__learning_rate_init=0.3;, score=0.746 total time=   0.0s\n",
      "[CV 1/5] END MLP__activation=identity, MLP__hidden_layer_sizes=(20, 10, 5), MLP__learning_rate=constant, MLP__learning_rate_init=0.5;, score=0.209 total time=   0.0s\n",
      "[CV 2/5] END MLP__activation=identity, MLP__hidden_layer_sizes=(20, 10, 5), MLP__learning_rate=constant, MLP__learning_rate_init=0.5;, score=0.753 total time=   0.0s\n",
      "[CV 3/5] END MLP__activation=identity, MLP__hidden_layer_sizes=(20, 10, 5), MLP__learning_rate=constant, MLP__learning_rate_init=0.5;, score=0.183 total time=   0.0s\n",
      "[CV 4/5] END MLP__activation=identity, MLP__hidden_layer_sizes=(20, 10, 5), MLP__learning_rate=constant, MLP__learning_rate_init=0.5;, score=0.124 total time=   0.0s\n",
      "[CV 5/5] END MLP__activation=identity, MLP__hidden_layer_sizes=(20, 10, 5), MLP__learning_rate=constant, MLP__learning_rate_init=0.5;, score=0.500 total time=   0.0s\n"
     ]
    },
    {
     "name": "stderr",
     "output_type": "stream",
     "text": [
      "C:\\Users\\admin\\anaconda3\\lib\\site-packages\\sklearn\\neural_network\\_multilayer_perceptron.py:679: ConvergenceWarning: Stochastic Optimizer: Maximum iterations (200) reached and the optimization hasn't converged yet.\n",
      "  warnings.warn(\n",
      "C:\\Users\\admin\\anaconda3\\lib\\site-packages\\sklearn\\neural_network\\_multilayer_perceptron.py:679: ConvergenceWarning: Stochastic Optimizer: Maximum iterations (200) reached and the optimization hasn't converged yet.\n",
      "  warnings.warn(\n"
     ]
    },
    {
     "name": "stdout",
     "output_type": "stream",
     "text": [
      "[CV 1/5] END MLP__activation=identity, MLP__hidden_layer_sizes=(20, 10, 5), MLP__learning_rate=invscaling, MLP__learning_rate_init=0.001;, score=0.852 total time=   0.0s\n",
      "[CV 2/5] END MLP__activation=identity, MLP__hidden_layer_sizes=(20, 10, 5), MLP__learning_rate=invscaling, MLP__learning_rate_init=0.001;, score=0.918 total time=   0.0s\n"
     ]
    },
    {
     "name": "stderr",
     "output_type": "stream",
     "text": [
      "C:\\Users\\admin\\anaconda3\\lib\\site-packages\\sklearn\\neural_network\\_multilayer_perceptron.py:679: ConvergenceWarning: Stochastic Optimizer: Maximum iterations (200) reached and the optimization hasn't converged yet.\n",
      "  warnings.warn(\n",
      "C:\\Users\\admin\\anaconda3\\lib\\site-packages\\sklearn\\neural_network\\_multilayer_perceptron.py:679: ConvergenceWarning: Stochastic Optimizer: Maximum iterations (200) reached and the optimization hasn't converged yet.\n",
      "  warnings.warn(\n"
     ]
    },
    {
     "name": "stdout",
     "output_type": "stream",
     "text": [
      "[CV 3/5] END MLP__activation=identity, MLP__hidden_layer_sizes=(20, 10, 5), MLP__learning_rate=invscaling, MLP__learning_rate_init=0.001;, score=0.621 total time=   0.0s\n",
      "[CV 4/5] END MLP__activation=identity, MLP__hidden_layer_sizes=(20, 10, 5), MLP__learning_rate=invscaling, MLP__learning_rate_init=0.001;, score=0.893 total time=   0.0s\n"
     ]
    },
    {
     "name": "stderr",
     "output_type": "stream",
     "text": [
      "C:\\Users\\admin\\anaconda3\\lib\\site-packages\\sklearn\\neural_network\\_multilayer_perceptron.py:679: ConvergenceWarning: Stochastic Optimizer: Maximum iterations (200) reached and the optimization hasn't converged yet.\n",
      "  warnings.warn(\n",
      "C:\\Users\\admin\\anaconda3\\lib\\site-packages\\sklearn\\neural_network\\_multilayer_perceptron.py:679: ConvergenceWarning: Stochastic Optimizer: Maximum iterations (200) reached and the optimization hasn't converged yet.\n",
      "  warnings.warn(\n"
     ]
    },
    {
     "name": "stdout",
     "output_type": "stream",
     "text": [
      "[CV 5/5] END MLP__activation=identity, MLP__hidden_layer_sizes=(20, 10, 5), MLP__learning_rate=invscaling, MLP__learning_rate_init=0.001;, score=0.899 total time=   0.0s\n",
      "[CV 1/5] END MLP__activation=identity, MLP__hidden_layer_sizes=(20, 10, 5), MLP__learning_rate=invscaling, MLP__learning_rate_init=0.3;, score=0.170 total time=   0.0s\n",
      "[CV 2/5] END MLP__activation=identity, MLP__hidden_layer_sizes=(20, 10, 5), MLP__learning_rate=invscaling, MLP__learning_rate_init=0.3;, score=0.522 total time=   0.0s\n",
      "[CV 3/5] END MLP__activation=identity, MLP__hidden_layer_sizes=(20, 10, 5), MLP__learning_rate=invscaling, MLP__learning_rate_init=0.3;, score=0.657 total time=   0.0s\n",
      "[CV 4/5] END MLP__activation=identity, MLP__hidden_layer_sizes=(20, 10, 5), MLP__learning_rate=invscaling, MLP__learning_rate_init=0.3;, score=0.148 total time=   0.0s\n",
      "[CV 5/5] END MLP__activation=identity, MLP__hidden_layer_sizes=(20, 10, 5), MLP__learning_rate=invscaling, MLP__learning_rate_init=0.3;, score=0.746 total time=   0.0s\n",
      "[CV 1/5] END MLP__activation=identity, MLP__hidden_layer_sizes=(20, 10, 5), MLP__learning_rate=invscaling, MLP__learning_rate_init=0.5;, score=0.209 total time=   0.0s\n",
      "[CV 2/5] END MLP__activation=identity, MLP__hidden_layer_sizes=(20, 10, 5), MLP__learning_rate=invscaling, MLP__learning_rate_init=0.5;, score=0.753 total time=   0.0s\n",
      "[CV 3/5] END MLP__activation=identity, MLP__hidden_layer_sizes=(20, 10, 5), MLP__learning_rate=invscaling, MLP__learning_rate_init=0.5;, score=0.183 total time=   0.0s\n",
      "[CV 4/5] END MLP__activation=identity, MLP__hidden_layer_sizes=(20, 10, 5), MLP__learning_rate=invscaling, MLP__learning_rate_init=0.5;, score=0.124 total time=   0.0s\n",
      "[CV 5/5] END MLP__activation=identity, MLP__hidden_layer_sizes=(20, 10, 5), MLP__learning_rate=invscaling, MLP__learning_rate_init=0.5;, score=0.500 total time=   0.0s\n"
     ]
    },
    {
     "name": "stderr",
     "output_type": "stream",
     "text": [
      "C:\\Users\\admin\\anaconda3\\lib\\site-packages\\sklearn\\neural_network\\_multilayer_perceptron.py:679: ConvergenceWarning: Stochastic Optimizer: Maximum iterations (200) reached and the optimization hasn't converged yet.\n",
      "  warnings.warn(\n",
      "C:\\Users\\admin\\anaconda3\\lib\\site-packages\\sklearn\\neural_network\\_multilayer_perceptron.py:679: ConvergenceWarning: Stochastic Optimizer: Maximum iterations (200) reached and the optimization hasn't converged yet.\n",
      "  warnings.warn(\n"
     ]
    },
    {
     "name": "stdout",
     "output_type": "stream",
     "text": [
      "[CV 1/5] END MLP__activation=identity, MLP__hidden_layer_sizes=(20, 10, 5), MLP__learning_rate=adaptive, MLP__learning_rate_init=0.001;, score=0.852 total time=   0.0s\n",
      "[CV 2/5] END MLP__activation=identity, MLP__hidden_layer_sizes=(20, 10, 5), MLP__learning_rate=adaptive, MLP__learning_rate_init=0.001;, score=0.918 total time=   0.0s\n"
     ]
    },
    {
     "name": "stderr",
     "output_type": "stream",
     "text": [
      "C:\\Users\\admin\\anaconda3\\lib\\site-packages\\sklearn\\neural_network\\_multilayer_perceptron.py:679: ConvergenceWarning: Stochastic Optimizer: Maximum iterations (200) reached and the optimization hasn't converged yet.\n",
      "  warnings.warn(\n",
      "C:\\Users\\admin\\anaconda3\\lib\\site-packages\\sklearn\\neural_network\\_multilayer_perceptron.py:679: ConvergenceWarning: Stochastic Optimizer: Maximum iterations (200) reached and the optimization hasn't converged yet.\n",
      "  warnings.warn(\n"
     ]
    },
    {
     "name": "stdout",
     "output_type": "stream",
     "text": [
      "[CV 3/5] END MLP__activation=identity, MLP__hidden_layer_sizes=(20, 10, 5), MLP__learning_rate=adaptive, MLP__learning_rate_init=0.001;, score=0.621 total time=   0.0s\n",
      "[CV 4/5] END MLP__activation=identity, MLP__hidden_layer_sizes=(20, 10, 5), MLP__learning_rate=adaptive, MLP__learning_rate_init=0.001;, score=0.893 total time=   0.0s\n"
     ]
    },
    {
     "name": "stderr",
     "output_type": "stream",
     "text": [
      "C:\\Users\\admin\\anaconda3\\lib\\site-packages\\sklearn\\neural_network\\_multilayer_perceptron.py:679: ConvergenceWarning: Stochastic Optimizer: Maximum iterations (200) reached and the optimization hasn't converged yet.\n",
      "  warnings.warn(\n",
      "C:\\Users\\admin\\anaconda3\\lib\\site-packages\\sklearn\\neural_network\\_multilayer_perceptron.py:679: ConvergenceWarning: Stochastic Optimizer: Maximum iterations (200) reached and the optimization hasn't converged yet.\n",
      "  warnings.warn(\n"
     ]
    },
    {
     "name": "stdout",
     "output_type": "stream",
     "text": [
      "[CV 5/5] END MLP__activation=identity, MLP__hidden_layer_sizes=(20, 10, 5), MLP__learning_rate=adaptive, MLP__learning_rate_init=0.001;, score=0.899 total time=   0.0s\n",
      "[CV 1/5] END MLP__activation=identity, MLP__hidden_layer_sizes=(20, 10, 5), MLP__learning_rate=adaptive, MLP__learning_rate_init=0.3;, score=0.170 total time=   0.0s\n",
      "[CV 2/5] END MLP__activation=identity, MLP__hidden_layer_sizes=(20, 10, 5), MLP__learning_rate=adaptive, MLP__learning_rate_init=0.3;, score=0.522 total time=   0.0s\n",
      "[CV 3/5] END MLP__activation=identity, MLP__hidden_layer_sizes=(20, 10, 5), MLP__learning_rate=adaptive, MLP__learning_rate_init=0.3;, score=0.657 total time=   0.0s\n",
      "[CV 4/5] END MLP__activation=identity, MLP__hidden_layer_sizes=(20, 10, 5), MLP__learning_rate=adaptive, MLP__learning_rate_init=0.3;, score=0.148 total time=   0.0s\n",
      "[CV 5/5] END MLP__activation=identity, MLP__hidden_layer_sizes=(20, 10, 5), MLP__learning_rate=adaptive, MLP__learning_rate_init=0.3;, score=0.746 total time=   0.0s\n",
      "[CV 1/5] END MLP__activation=identity, MLP__hidden_layer_sizes=(20, 10, 5), MLP__learning_rate=adaptive, MLP__learning_rate_init=0.5;, score=0.209 total time=   0.0s\n",
      "[CV 2/5] END MLP__activation=identity, MLP__hidden_layer_sizes=(20, 10, 5), MLP__learning_rate=adaptive, MLP__learning_rate_init=0.5;, score=0.753 total time=   0.0s\n",
      "[CV 3/5] END MLP__activation=identity, MLP__hidden_layer_sizes=(20, 10, 5), MLP__learning_rate=adaptive, MLP__learning_rate_init=0.5;, score=0.183 total time=   0.0s\n",
      "[CV 4/5] END MLP__activation=identity, MLP__hidden_layer_sizes=(20, 10, 5), MLP__learning_rate=adaptive, MLP__learning_rate_init=0.5;, score=0.124 total time=   0.0s\n",
      "[CV 5/5] END MLP__activation=identity, MLP__hidden_layer_sizes=(20, 10, 5), MLP__learning_rate=adaptive, MLP__learning_rate_init=0.5;, score=0.500 total time=   0.0s\n",
      "[CV 1/5] END MLP__activation=identity, MLP__hidden_layer_sizes=(10, 5), MLP__learning_rate=constant, MLP__learning_rate_init=0.001;, score=0.808 total time=   0.0s\n"
     ]
    },
    {
     "name": "stderr",
     "output_type": "stream",
     "text": [
      "C:\\Users\\admin\\anaconda3\\lib\\site-packages\\sklearn\\neural_network\\_multilayer_perceptron.py:679: ConvergenceWarning: Stochastic Optimizer: Maximum iterations (200) reached and the optimization hasn't converged yet.\n",
      "  warnings.warn(\n",
      "C:\\Users\\admin\\anaconda3\\lib\\site-packages\\sklearn\\neural_network\\_multilayer_perceptron.py:679: ConvergenceWarning: Stochastic Optimizer: Maximum iterations (200) reached and the optimization hasn't converged yet.\n",
      "  warnings.warn(\n"
     ]
    },
    {
     "name": "stdout",
     "output_type": "stream",
     "text": [
      "[CV 2/5] END MLP__activation=identity, MLP__hidden_layer_sizes=(10, 5), MLP__learning_rate=constant, MLP__learning_rate_init=0.001;, score=0.912 total time=   0.0s\n",
      "[CV 3/5] END MLP__activation=identity, MLP__hidden_layer_sizes=(10, 5), MLP__learning_rate=constant, MLP__learning_rate_init=0.001;, score=0.751 total time=   0.0s\n"
     ]
    },
    {
     "name": "stderr",
     "output_type": "stream",
     "text": [
      "C:\\Users\\admin\\anaconda3\\lib\\site-packages\\sklearn\\neural_network\\_multilayer_perceptron.py:679: ConvergenceWarning: Stochastic Optimizer: Maximum iterations (200) reached and the optimization hasn't converged yet.\n",
      "  warnings.warn(\n",
      "C:\\Users\\admin\\anaconda3\\lib\\site-packages\\sklearn\\neural_network\\_multilayer_perceptron.py:679: ConvergenceWarning: Stochastic Optimizer: Maximum iterations (200) reached and the optimization hasn't converged yet.\n",
      "  warnings.warn(\n"
     ]
    },
    {
     "name": "stdout",
     "output_type": "stream",
     "text": [
      "[CV 4/5] END MLP__activation=identity, MLP__hidden_layer_sizes=(10, 5), MLP__learning_rate=constant, MLP__learning_rate_init=0.001;, score=0.923 total time=   0.0s\n",
      "[CV 5/5] END MLP__activation=identity, MLP__hidden_layer_sizes=(10, 5), MLP__learning_rate=constant, MLP__learning_rate_init=0.001;, score=0.822 total time=   0.0s\n",
      "[CV 1/5] END MLP__activation=identity, MLP__hidden_layer_sizes=(10, 5), MLP__learning_rate=constant, MLP__learning_rate_init=0.3;, score=0.863 total time=   0.0s\n"
     ]
    },
    {
     "name": "stderr",
     "output_type": "stream",
     "text": [
      "C:\\Users\\admin\\anaconda3\\lib\\site-packages\\sklearn\\neural_network\\_multilayer_perceptron.py:679: ConvergenceWarning: Stochastic Optimizer: Maximum iterations (200) reached and the optimization hasn't converged yet.\n",
      "  warnings.warn(\n"
     ]
    },
    {
     "name": "stdout",
     "output_type": "stream",
     "text": [
      "[CV 2/5] END MLP__activation=identity, MLP__hidden_layer_sizes=(10, 5), MLP__learning_rate=constant, MLP__learning_rate_init=0.3;, score=0.841 total time=   0.0s\n",
      "[CV 3/5] END MLP__activation=identity, MLP__hidden_layer_sizes=(10, 5), MLP__learning_rate=constant, MLP__learning_rate_init=0.3;, score=0.663 total time=   0.0s\n",
      "[CV 4/5] END MLP__activation=identity, MLP__hidden_layer_sizes=(10, 5), MLP__learning_rate=constant, MLP__learning_rate_init=0.3;, score=0.953 total time=   0.0s\n"
     ]
    },
    {
     "name": "stderr",
     "output_type": "stream",
     "text": [
      "C:\\Users\\admin\\anaconda3\\lib\\site-packages\\sklearn\\neural_network\\_multilayer_perceptron.py:679: ConvergenceWarning: Stochastic Optimizer: Maximum iterations (200) reached and the optimization hasn't converged yet.\n",
      "  warnings.warn(\n"
     ]
    },
    {
     "name": "stdout",
     "output_type": "stream",
     "text": [
      "[CV 5/5] END MLP__activation=identity, MLP__hidden_layer_sizes=(10, 5), MLP__learning_rate=constant, MLP__learning_rate_init=0.3;, score=0.893 total time=   0.0s\n",
      "[CV 1/5] END MLP__activation=identity, MLP__hidden_layer_sizes=(10, 5), MLP__learning_rate=constant, MLP__learning_rate_init=0.5;, score=0.802 total time=   0.0s\n",
      "[CV 2/5] END MLP__activation=identity, MLP__hidden_layer_sizes=(10, 5), MLP__learning_rate=constant, MLP__learning_rate_init=0.5;, score=0.907 total time=   0.0s\n",
      "[CV 3/5] END MLP__activation=identity, MLP__hidden_layer_sizes=(10, 5), MLP__learning_rate=constant, MLP__learning_rate_init=0.5;, score=0.657 total time=   0.0s\n",
      "[CV 4/5] END MLP__activation=identity, MLP__hidden_layer_sizes=(10, 5), MLP__learning_rate=constant, MLP__learning_rate_init=0.5;, score=0.840 total time=   0.0s\n",
      "[CV 5/5] END MLP__activation=identity, MLP__hidden_layer_sizes=(10, 5), MLP__learning_rate=constant, MLP__learning_rate_init=0.5;, score=0.870 total time=   0.0s\n",
      "[CV 1/5] END MLP__activation=identity, MLP__hidden_layer_sizes=(10, 5), MLP__learning_rate=invscaling, MLP__learning_rate_init=0.001;, score=0.808 total time=   0.0s\n"
     ]
    },
    {
     "name": "stderr",
     "output_type": "stream",
     "text": [
      "C:\\Users\\admin\\anaconda3\\lib\\site-packages\\sklearn\\neural_network\\_multilayer_perceptron.py:679: ConvergenceWarning: Stochastic Optimizer: Maximum iterations (200) reached and the optimization hasn't converged yet.\n",
      "  warnings.warn(\n",
      "C:\\Users\\admin\\anaconda3\\lib\\site-packages\\sklearn\\neural_network\\_multilayer_perceptron.py:679: ConvergenceWarning: Stochastic Optimizer: Maximum iterations (200) reached and the optimization hasn't converged yet.\n",
      "  warnings.warn(\n"
     ]
    },
    {
     "name": "stdout",
     "output_type": "stream",
     "text": [
      "[CV 2/5] END MLP__activation=identity, MLP__hidden_layer_sizes=(10, 5), MLP__learning_rate=invscaling, MLP__learning_rate_init=0.001;, score=0.912 total time=   0.0s\n",
      "[CV 3/5] END MLP__activation=identity, MLP__hidden_layer_sizes=(10, 5), MLP__learning_rate=invscaling, MLP__learning_rate_init=0.001;, score=0.751 total time=   0.0s\n"
     ]
    },
    {
     "name": "stderr",
     "output_type": "stream",
     "text": [
      "C:\\Users\\admin\\anaconda3\\lib\\site-packages\\sklearn\\neural_network\\_multilayer_perceptron.py:679: ConvergenceWarning: Stochastic Optimizer: Maximum iterations (200) reached and the optimization hasn't converged yet.\n",
      "  warnings.warn(\n",
      "C:\\Users\\admin\\anaconda3\\lib\\site-packages\\sklearn\\neural_network\\_multilayer_perceptron.py:679: ConvergenceWarning: Stochastic Optimizer: Maximum iterations (200) reached and the optimization hasn't converged yet.\n",
      "  warnings.warn(\n"
     ]
    },
    {
     "name": "stdout",
     "output_type": "stream",
     "text": [
      "[CV 4/5] END MLP__activation=identity, MLP__hidden_layer_sizes=(10, 5), MLP__learning_rate=invscaling, MLP__learning_rate_init=0.001;, score=0.923 total time=   0.0s\n",
      "[CV 5/5] END MLP__activation=identity, MLP__hidden_layer_sizes=(10, 5), MLP__learning_rate=invscaling, MLP__learning_rate_init=0.001;, score=0.822 total time=   0.0s\n",
      "[CV 1/5] END MLP__activation=identity, MLP__hidden_layer_sizes=(10, 5), MLP__learning_rate=invscaling, MLP__learning_rate_init=0.3;, score=0.863 total time=   0.0s\n"
     ]
    },
    {
     "name": "stderr",
     "output_type": "stream",
     "text": [
      "C:\\Users\\admin\\anaconda3\\lib\\site-packages\\sklearn\\neural_network\\_multilayer_perceptron.py:679: ConvergenceWarning: Stochastic Optimizer: Maximum iterations (200) reached and the optimization hasn't converged yet.\n",
      "  warnings.warn(\n"
     ]
    },
    {
     "name": "stdout",
     "output_type": "stream",
     "text": [
      "[CV 2/5] END MLP__activation=identity, MLP__hidden_layer_sizes=(10, 5), MLP__learning_rate=invscaling, MLP__learning_rate_init=0.3;, score=0.841 total time=   0.0s\n",
      "[CV 3/5] END MLP__activation=identity, MLP__hidden_layer_sizes=(10, 5), MLP__learning_rate=invscaling, MLP__learning_rate_init=0.3;, score=0.663 total time=   0.0s\n",
      "[CV 4/5] END MLP__activation=identity, MLP__hidden_layer_sizes=(10, 5), MLP__learning_rate=invscaling, MLP__learning_rate_init=0.3;, score=0.953 total time=   0.0s\n"
     ]
    },
    {
     "name": "stderr",
     "output_type": "stream",
     "text": [
      "C:\\Users\\admin\\anaconda3\\lib\\site-packages\\sklearn\\neural_network\\_multilayer_perceptron.py:679: ConvergenceWarning: Stochastic Optimizer: Maximum iterations (200) reached and the optimization hasn't converged yet.\n",
      "  warnings.warn(\n"
     ]
    },
    {
     "name": "stdout",
     "output_type": "stream",
     "text": [
      "[CV 5/5] END MLP__activation=identity, MLP__hidden_layer_sizes=(10, 5), MLP__learning_rate=invscaling, MLP__learning_rate_init=0.3;, score=0.893 total time=   0.0s\n",
      "[CV 1/5] END MLP__activation=identity, MLP__hidden_layer_sizes=(10, 5), MLP__learning_rate=invscaling, MLP__learning_rate_init=0.5;, score=0.802 total time=   0.0s\n",
      "[CV 2/5] END MLP__activation=identity, MLP__hidden_layer_sizes=(10, 5), MLP__learning_rate=invscaling, MLP__learning_rate_init=0.5;, score=0.907 total time=   0.0s\n",
      "[CV 3/5] END MLP__activation=identity, MLP__hidden_layer_sizes=(10, 5), MLP__learning_rate=invscaling, MLP__learning_rate_init=0.5;, score=0.657 total time=   0.0s\n",
      "[CV 4/5] END MLP__activation=identity, MLP__hidden_layer_sizes=(10, 5), MLP__learning_rate=invscaling, MLP__learning_rate_init=0.5;, score=0.840 total time=   0.0s\n",
      "[CV 5/5] END MLP__activation=identity, MLP__hidden_layer_sizes=(10, 5), MLP__learning_rate=invscaling, MLP__learning_rate_init=0.5;, score=0.870 total time=   0.0s\n"
     ]
    },
    {
     "name": "stderr",
     "output_type": "stream",
     "text": [
      "C:\\Users\\admin\\anaconda3\\lib\\site-packages\\sklearn\\neural_network\\_multilayer_perceptron.py:679: ConvergenceWarning: Stochastic Optimizer: Maximum iterations (200) reached and the optimization hasn't converged yet.\n",
      "  warnings.warn(\n",
      "C:\\Users\\admin\\anaconda3\\lib\\site-packages\\sklearn\\neural_network\\_multilayer_perceptron.py:679: ConvergenceWarning: Stochastic Optimizer: Maximum iterations (200) reached and the optimization hasn't converged yet.\n",
      "  warnings.warn(\n"
     ]
    },
    {
     "name": "stdout",
     "output_type": "stream",
     "text": [
      "[CV 1/5] END MLP__activation=identity, MLP__hidden_layer_sizes=(10, 5), MLP__learning_rate=adaptive, MLP__learning_rate_init=0.001;, score=0.808 total time=   0.0s\n",
      "[CV 2/5] END MLP__activation=identity, MLP__hidden_layer_sizes=(10, 5), MLP__learning_rate=adaptive, MLP__learning_rate_init=0.001;, score=0.912 total time=   0.0s\n"
     ]
    },
    {
     "name": "stderr",
     "output_type": "stream",
     "text": [
      "C:\\Users\\admin\\anaconda3\\lib\\site-packages\\sklearn\\neural_network\\_multilayer_perceptron.py:679: ConvergenceWarning: Stochastic Optimizer: Maximum iterations (200) reached and the optimization hasn't converged yet.\n",
      "  warnings.warn(\n",
      "C:\\Users\\admin\\anaconda3\\lib\\site-packages\\sklearn\\neural_network\\_multilayer_perceptron.py:679: ConvergenceWarning: Stochastic Optimizer: Maximum iterations (200) reached and the optimization hasn't converged yet.\n",
      "  warnings.warn(\n"
     ]
    },
    {
     "name": "stdout",
     "output_type": "stream",
     "text": [
      "[CV 3/5] END MLP__activation=identity, MLP__hidden_layer_sizes=(10, 5), MLP__learning_rate=adaptive, MLP__learning_rate_init=0.001;, score=0.751 total time=   0.0s\n",
      "[CV 4/5] END MLP__activation=identity, MLP__hidden_layer_sizes=(10, 5), MLP__learning_rate=adaptive, MLP__learning_rate_init=0.001;, score=0.923 total time=   0.0s\n"
     ]
    },
    {
     "name": "stderr",
     "output_type": "stream",
     "text": [
      "C:\\Users\\admin\\anaconda3\\lib\\site-packages\\sklearn\\neural_network\\_multilayer_perceptron.py:679: ConvergenceWarning: Stochastic Optimizer: Maximum iterations (200) reached and the optimization hasn't converged yet.\n",
      "  warnings.warn(\n"
     ]
    },
    {
     "name": "stdout",
     "output_type": "stream",
     "text": [
      "[CV 5/5] END MLP__activation=identity, MLP__hidden_layer_sizes=(10, 5), MLP__learning_rate=adaptive, MLP__learning_rate_init=0.001;, score=0.822 total time=   0.0s\n",
      "[CV 1/5] END MLP__activation=identity, MLP__hidden_layer_sizes=(10, 5), MLP__learning_rate=adaptive, MLP__learning_rate_init=0.3;, score=0.863 total time=   0.0s\n",
      "[CV 2/5] END MLP__activation=identity, MLP__hidden_layer_sizes=(10, 5), MLP__learning_rate=adaptive, MLP__learning_rate_init=0.3;, score=0.841 total time=   0.0s\n"
     ]
    },
    {
     "name": "stderr",
     "output_type": "stream",
     "text": [
      "C:\\Users\\admin\\anaconda3\\lib\\site-packages\\sklearn\\neural_network\\_multilayer_perceptron.py:679: ConvergenceWarning: Stochastic Optimizer: Maximum iterations (200) reached and the optimization hasn't converged yet.\n",
      "  warnings.warn(\n"
     ]
    },
    {
     "name": "stdout",
     "output_type": "stream",
     "text": [
      "[CV 3/5] END MLP__activation=identity, MLP__hidden_layer_sizes=(10, 5), MLP__learning_rate=adaptive, MLP__learning_rate_init=0.3;, score=0.663 total time=   0.0s\n",
      "[CV 4/5] END MLP__activation=identity, MLP__hidden_layer_sizes=(10, 5), MLP__learning_rate=adaptive, MLP__learning_rate_init=0.3;, score=0.953 total time=   0.0s\n",
      "[CV 5/5] END MLP__activation=identity, MLP__hidden_layer_sizes=(10, 5), MLP__learning_rate=adaptive, MLP__learning_rate_init=0.3;, score=0.893 total time=   0.0s\n",
      "[CV 1/5] END MLP__activation=identity, MLP__hidden_layer_sizes=(10, 5), MLP__learning_rate=adaptive, MLP__learning_rate_init=0.5;, score=0.802 total time=   0.0s\n",
      "[CV 2/5] END MLP__activation=identity, MLP__hidden_layer_sizes=(10, 5), MLP__learning_rate=adaptive, MLP__learning_rate_init=0.5;, score=0.907 total time=   0.0s\n",
      "[CV 3/5] END MLP__activation=identity, MLP__hidden_layer_sizes=(10, 5), MLP__learning_rate=adaptive, MLP__learning_rate_init=0.5;, score=0.657 total time=   0.0s\n",
      "[CV 4/5] END MLP__activation=identity, MLP__hidden_layer_sizes=(10, 5), MLP__learning_rate=adaptive, MLP__learning_rate_init=0.5;, score=0.840 total time=   0.0s\n",
      "[CV 5/5] END MLP__activation=identity, MLP__hidden_layer_sizes=(10, 5), MLP__learning_rate=adaptive, MLP__learning_rate_init=0.5;, score=0.870 total time=   0.0s\n"
     ]
    },
    {
     "name": "stderr",
     "output_type": "stream",
     "text": [
      "C:\\Users\\admin\\anaconda3\\lib\\site-packages\\sklearn\\neural_network\\_multilayer_perceptron.py:679: ConvergenceWarning: Stochastic Optimizer: Maximum iterations (200) reached and the optimization hasn't converged yet.\n",
      "  warnings.warn(\n",
      "C:\\Users\\admin\\anaconda3\\lib\\site-packages\\sklearn\\neural_network\\_multilayer_perceptron.py:679: ConvergenceWarning: Stochastic Optimizer: Maximum iterations (200) reached and the optimization hasn't converged yet.\n",
      "  warnings.warn(\n"
     ]
    },
    {
     "name": "stdout",
     "output_type": "stream",
     "text": [
      "[CV 1/5] END MLP__activation=identity, MLP__hidden_layer_sizes=(50,), MLP__learning_rate=constant, MLP__learning_rate_init=0.001;, score=0.863 total time=   0.0s\n",
      "[CV 2/5] END MLP__activation=identity, MLP__hidden_layer_sizes=(50,), MLP__learning_rate=constant, MLP__learning_rate_init=0.001;, score=0.824 total time=   0.0s\n"
     ]
    },
    {
     "name": "stderr",
     "output_type": "stream",
     "text": [
      "C:\\Users\\admin\\anaconda3\\lib\\site-packages\\sklearn\\neural_network\\_multilayer_perceptron.py:679: ConvergenceWarning: Stochastic Optimizer: Maximum iterations (200) reached and the optimization hasn't converged yet.\n",
      "  warnings.warn(\n",
      "C:\\Users\\admin\\anaconda3\\lib\\site-packages\\sklearn\\neural_network\\_multilayer_perceptron.py:679: ConvergenceWarning: Stochastic Optimizer: Maximum iterations (200) reached and the optimization hasn't converged yet.\n",
      "  warnings.warn(\n"
     ]
    },
    {
     "name": "stdout",
     "output_type": "stream",
     "text": [
      "[CV 3/5] END MLP__activation=identity, MLP__hidden_layer_sizes=(50,), MLP__learning_rate=constant, MLP__learning_rate_init=0.001;, score=0.639 total time=   0.0s\n",
      "[CV 4/5] END MLP__activation=identity, MLP__hidden_layer_sizes=(50,), MLP__learning_rate=constant, MLP__learning_rate_init=0.001;, score=0.970 total time=   0.0s\n"
     ]
    },
    {
     "name": "stderr",
     "output_type": "stream",
     "text": [
      "C:\\Users\\admin\\anaconda3\\lib\\site-packages\\sklearn\\neural_network\\_multilayer_perceptron.py:679: ConvergenceWarning: Stochastic Optimizer: Maximum iterations (200) reached and the optimization hasn't converged yet.\n",
      "  warnings.warn(\n"
     ]
    },
    {
     "name": "stdout",
     "output_type": "stream",
     "text": [
      "[CV 5/5] END MLP__activation=identity, MLP__hidden_layer_sizes=(50,), MLP__learning_rate=constant, MLP__learning_rate_init=0.001;, score=0.893 total time=   0.0s\n",
      "[CV 1/5] END MLP__activation=identity, MLP__hidden_layer_sizes=(50,), MLP__learning_rate=constant, MLP__learning_rate_init=0.3;, score=0.857 total time=   0.0s\n",
      "[CV 2/5] END MLP__activation=identity, MLP__hidden_layer_sizes=(50,), MLP__learning_rate=constant, MLP__learning_rate_init=0.3;, score=0.901 total time=   0.0s\n",
      "[CV 3/5] END MLP__activation=identity, MLP__hidden_layer_sizes=(50,), MLP__learning_rate=constant, MLP__learning_rate_init=0.3;, score=0.757 total time=   0.0s\n",
      "[CV 4/5] END MLP__activation=identity, MLP__hidden_layer_sizes=(50,), MLP__learning_rate=constant, MLP__learning_rate_init=0.3;, score=0.852 total time=   0.0s\n",
      "[CV 5/5] END MLP__activation=identity, MLP__hidden_layer_sizes=(50,), MLP__learning_rate=constant, MLP__learning_rate_init=0.3;, score=0.935 total time=   0.0s\n",
      "[CV 1/5] END MLP__activation=identity, MLP__hidden_layer_sizes=(50,), MLP__learning_rate=constant, MLP__learning_rate_init=0.5;, score=0.775 total time=   0.0s\n",
      "[CV 2/5] END MLP__activation=identity, MLP__hidden_layer_sizes=(50,), MLP__learning_rate=constant, MLP__learning_rate_init=0.5;, score=0.890 total time=   0.0s\n",
      "[CV 3/5] END MLP__activation=identity, MLP__hidden_layer_sizes=(50,), MLP__learning_rate=constant, MLP__learning_rate_init=0.5;, score=0.355 total time=   0.0s\n",
      "[CV 4/5] END MLP__activation=identity, MLP__hidden_layer_sizes=(50,), MLP__learning_rate=constant, MLP__learning_rate_init=0.5;, score=0.870 total time=   0.0s\n",
      "[CV 5/5] END MLP__activation=identity, MLP__hidden_layer_sizes=(50,), MLP__learning_rate=constant, MLP__learning_rate_init=0.5;, score=0.822 total time=   0.0s\n"
     ]
    },
    {
     "name": "stderr",
     "output_type": "stream",
     "text": [
      "C:\\Users\\admin\\anaconda3\\lib\\site-packages\\sklearn\\neural_network\\_multilayer_perceptron.py:679: ConvergenceWarning: Stochastic Optimizer: Maximum iterations (200) reached and the optimization hasn't converged yet.\n",
      "  warnings.warn(\n",
      "C:\\Users\\admin\\anaconda3\\lib\\site-packages\\sklearn\\neural_network\\_multilayer_perceptron.py:679: ConvergenceWarning: Stochastic Optimizer: Maximum iterations (200) reached and the optimization hasn't converged yet.\n",
      "  warnings.warn(\n"
     ]
    },
    {
     "name": "stdout",
     "output_type": "stream",
     "text": [
      "[CV 1/5] END MLP__activation=identity, MLP__hidden_layer_sizes=(50,), MLP__learning_rate=invscaling, MLP__learning_rate_init=0.001;, score=0.863 total time=   0.0s\n",
      "[CV 2/5] END MLP__activation=identity, MLP__hidden_layer_sizes=(50,), MLP__learning_rate=invscaling, MLP__learning_rate_init=0.001;, score=0.824 total time=   0.0s\n"
     ]
    },
    {
     "name": "stderr",
     "output_type": "stream",
     "text": [
      "C:\\Users\\admin\\anaconda3\\lib\\site-packages\\sklearn\\neural_network\\_multilayer_perceptron.py:679: ConvergenceWarning: Stochastic Optimizer: Maximum iterations (200) reached and the optimization hasn't converged yet.\n",
      "  warnings.warn(\n",
      "C:\\Users\\admin\\anaconda3\\lib\\site-packages\\sklearn\\neural_network\\_multilayer_perceptron.py:679: ConvergenceWarning: Stochastic Optimizer: Maximum iterations (200) reached and the optimization hasn't converged yet.\n",
      "  warnings.warn(\n"
     ]
    },
    {
     "name": "stdout",
     "output_type": "stream",
     "text": [
      "[CV 3/5] END MLP__activation=identity, MLP__hidden_layer_sizes=(50,), MLP__learning_rate=invscaling, MLP__learning_rate_init=0.001;, score=0.639 total time=   0.0s\n",
      "[CV 4/5] END MLP__activation=identity, MLP__hidden_layer_sizes=(50,), MLP__learning_rate=invscaling, MLP__learning_rate_init=0.001;, score=0.970 total time=   0.0s\n"
     ]
    },
    {
     "name": "stderr",
     "output_type": "stream",
     "text": [
      "C:\\Users\\admin\\anaconda3\\lib\\site-packages\\sklearn\\neural_network\\_multilayer_perceptron.py:679: ConvergenceWarning: Stochastic Optimizer: Maximum iterations (200) reached and the optimization hasn't converged yet.\n",
      "  warnings.warn(\n"
     ]
    },
    {
     "name": "stdout",
     "output_type": "stream",
     "text": [
      "[CV 5/5] END MLP__activation=identity, MLP__hidden_layer_sizes=(50,), MLP__learning_rate=invscaling, MLP__learning_rate_init=0.001;, score=0.893 total time=   0.0s\n",
      "[CV 1/5] END MLP__activation=identity, MLP__hidden_layer_sizes=(50,), MLP__learning_rate=invscaling, MLP__learning_rate_init=0.3;, score=0.857 total time=   0.0s\n",
      "[CV 2/5] END MLP__activation=identity, MLP__hidden_layer_sizes=(50,), MLP__learning_rate=invscaling, MLP__learning_rate_init=0.3;, score=0.901 total time=   0.0s\n",
      "[CV 3/5] END MLP__activation=identity, MLP__hidden_layer_sizes=(50,), MLP__learning_rate=invscaling, MLP__learning_rate_init=0.3;, score=0.757 total time=   0.0s\n",
      "[CV 4/5] END MLP__activation=identity, MLP__hidden_layer_sizes=(50,), MLP__learning_rate=invscaling, MLP__learning_rate_init=0.3;, score=0.852 total time=   0.0s\n",
      "[CV 5/5] END MLP__activation=identity, MLP__hidden_layer_sizes=(50,), MLP__learning_rate=invscaling, MLP__learning_rate_init=0.3;, score=0.935 total time=   0.0s\n",
      "[CV 1/5] END MLP__activation=identity, MLP__hidden_layer_sizes=(50,), MLP__learning_rate=invscaling, MLP__learning_rate_init=0.5;, score=0.775 total time=   0.0s\n",
      "[CV 2/5] END MLP__activation=identity, MLP__hidden_layer_sizes=(50,), MLP__learning_rate=invscaling, MLP__learning_rate_init=0.5;, score=0.890 total time=   0.0s\n",
      "[CV 3/5] END MLP__activation=identity, MLP__hidden_layer_sizes=(50,), MLP__learning_rate=invscaling, MLP__learning_rate_init=0.5;, score=0.355 total time=   0.0s\n",
      "[CV 4/5] END MLP__activation=identity, MLP__hidden_layer_sizes=(50,), MLP__learning_rate=invscaling, MLP__learning_rate_init=0.5;, score=0.870 total time=   0.0s\n",
      "[CV 5/5] END MLP__activation=identity, MLP__hidden_layer_sizes=(50,), MLP__learning_rate=invscaling, MLP__learning_rate_init=0.5;, score=0.822 total time=   0.0s\n"
     ]
    },
    {
     "name": "stderr",
     "output_type": "stream",
     "text": [
      "C:\\Users\\admin\\anaconda3\\lib\\site-packages\\sklearn\\neural_network\\_multilayer_perceptron.py:679: ConvergenceWarning: Stochastic Optimizer: Maximum iterations (200) reached and the optimization hasn't converged yet.\n",
      "  warnings.warn(\n",
      "C:\\Users\\admin\\anaconda3\\lib\\site-packages\\sklearn\\neural_network\\_multilayer_perceptron.py:679: ConvergenceWarning: Stochastic Optimizer: Maximum iterations (200) reached and the optimization hasn't converged yet.\n",
      "  warnings.warn(\n"
     ]
    },
    {
     "name": "stdout",
     "output_type": "stream",
     "text": [
      "[CV 1/5] END MLP__activation=identity, MLP__hidden_layer_sizes=(50,), MLP__learning_rate=adaptive, MLP__learning_rate_init=0.001;, score=0.863 total time=   0.0s\n",
      "[CV 2/5] END MLP__activation=identity, MLP__hidden_layer_sizes=(50,), MLP__learning_rate=adaptive, MLP__learning_rate_init=0.001;, score=0.824 total time=   0.0s\n"
     ]
    },
    {
     "name": "stderr",
     "output_type": "stream",
     "text": [
      "C:\\Users\\admin\\anaconda3\\lib\\site-packages\\sklearn\\neural_network\\_multilayer_perceptron.py:679: ConvergenceWarning: Stochastic Optimizer: Maximum iterations (200) reached and the optimization hasn't converged yet.\n",
      "  warnings.warn(\n",
      "C:\\Users\\admin\\anaconda3\\lib\\site-packages\\sklearn\\neural_network\\_multilayer_perceptron.py:679: ConvergenceWarning: Stochastic Optimizer: Maximum iterations (200) reached and the optimization hasn't converged yet.\n",
      "  warnings.warn(\n"
     ]
    },
    {
     "name": "stdout",
     "output_type": "stream",
     "text": [
      "[CV 3/5] END MLP__activation=identity, MLP__hidden_layer_sizes=(50,), MLP__learning_rate=adaptive, MLP__learning_rate_init=0.001;, score=0.639 total time=   0.0s\n",
      "[CV 4/5] END MLP__activation=identity, MLP__hidden_layer_sizes=(50,), MLP__learning_rate=adaptive, MLP__learning_rate_init=0.001;, score=0.970 total time=   0.0s\n"
     ]
    },
    {
     "name": "stderr",
     "output_type": "stream",
     "text": [
      "C:\\Users\\admin\\anaconda3\\lib\\site-packages\\sklearn\\neural_network\\_multilayer_perceptron.py:679: ConvergenceWarning: Stochastic Optimizer: Maximum iterations (200) reached and the optimization hasn't converged yet.\n",
      "  warnings.warn(\n"
     ]
    },
    {
     "name": "stdout",
     "output_type": "stream",
     "text": [
      "[CV 5/5] END MLP__activation=identity, MLP__hidden_layer_sizes=(50,), MLP__learning_rate=adaptive, MLP__learning_rate_init=0.001;, score=0.893 total time=   0.0s\n",
      "[CV 1/5] END MLP__activation=identity, MLP__hidden_layer_sizes=(50,), MLP__learning_rate=adaptive, MLP__learning_rate_init=0.3;, score=0.857 total time=   0.0s\n",
      "[CV 2/5] END MLP__activation=identity, MLP__hidden_layer_sizes=(50,), MLP__learning_rate=adaptive, MLP__learning_rate_init=0.3;, score=0.901 total time=   0.0s\n",
      "[CV 3/5] END MLP__activation=identity, MLP__hidden_layer_sizes=(50,), MLP__learning_rate=adaptive, MLP__learning_rate_init=0.3;, score=0.757 total time=   0.0s\n",
      "[CV 4/5] END MLP__activation=identity, MLP__hidden_layer_sizes=(50,), MLP__learning_rate=adaptive, MLP__learning_rate_init=0.3;, score=0.852 total time=   0.0s\n",
      "[CV 5/5] END MLP__activation=identity, MLP__hidden_layer_sizes=(50,), MLP__learning_rate=adaptive, MLP__learning_rate_init=0.3;, score=0.935 total time=   0.0s\n",
      "[CV 1/5] END MLP__activation=identity, MLP__hidden_layer_sizes=(50,), MLP__learning_rate=adaptive, MLP__learning_rate_init=0.5;, score=0.775 total time=   0.0s\n",
      "[CV 2/5] END MLP__activation=identity, MLP__hidden_layer_sizes=(50,), MLP__learning_rate=adaptive, MLP__learning_rate_init=0.5;, score=0.890 total time=   0.0s\n",
      "[CV 3/5] END MLP__activation=identity, MLP__hidden_layer_sizes=(50,), MLP__learning_rate=adaptive, MLP__learning_rate_init=0.5;, score=0.355 total time=   0.0s\n",
      "[CV 4/5] END MLP__activation=identity, MLP__hidden_layer_sizes=(50,), MLP__learning_rate=adaptive, MLP__learning_rate_init=0.5;, score=0.870 total time=   0.0s\n",
      "[CV 5/5] END MLP__activation=identity, MLP__hidden_layer_sizes=(50,), MLP__learning_rate=adaptive, MLP__learning_rate_init=0.5;, score=0.822 total time=   0.0s\n"
     ]
    },
    {
     "name": "stderr",
     "output_type": "stream",
     "text": [
      "C:\\Users\\admin\\anaconda3\\lib\\site-packages\\sklearn\\neural_network\\_multilayer_perceptron.py:679: ConvergenceWarning: Stochastic Optimizer: Maximum iterations (200) reached and the optimization hasn't converged yet.\n",
      "  warnings.warn(\n"
     ]
    },
    {
     "data": {
      "text/html": [
       "<style>#sk-container-id-4 {color: black;background-color: white;}#sk-container-id-4 pre{padding: 0;}#sk-container-id-4 div.sk-toggleable {background-color: white;}#sk-container-id-4 label.sk-toggleable__label {cursor: pointer;display: block;width: 100%;margin-bottom: 0;padding: 0.3em;box-sizing: border-box;text-align: center;}#sk-container-id-4 label.sk-toggleable__label-arrow:before {content: \"▸\";float: left;margin-right: 0.25em;color: #696969;}#sk-container-id-4 label.sk-toggleable__label-arrow:hover:before {color: black;}#sk-container-id-4 div.sk-estimator:hover label.sk-toggleable__label-arrow:before {color: black;}#sk-container-id-4 div.sk-toggleable__content {max-height: 0;max-width: 0;overflow: hidden;text-align: left;background-color: #f0f8ff;}#sk-container-id-4 div.sk-toggleable__content pre {margin: 0.2em;color: black;border-radius: 0.25em;background-color: #f0f8ff;}#sk-container-id-4 input.sk-toggleable__control:checked~div.sk-toggleable__content {max-height: 200px;max-width: 100%;overflow: auto;}#sk-container-id-4 input.sk-toggleable__control:checked~label.sk-toggleable__label-arrow:before {content: \"▾\";}#sk-container-id-4 div.sk-estimator input.sk-toggleable__control:checked~label.sk-toggleable__label {background-color: #d4ebff;}#sk-container-id-4 div.sk-label input.sk-toggleable__control:checked~label.sk-toggleable__label {background-color: #d4ebff;}#sk-container-id-4 input.sk-hidden--visually {border: 0;clip: rect(1px 1px 1px 1px);clip: rect(1px, 1px, 1px, 1px);height: 1px;margin: -1px;overflow: hidden;padding: 0;position: absolute;width: 1px;}#sk-container-id-4 div.sk-estimator {font-family: monospace;background-color: #f0f8ff;border: 1px dotted black;border-radius: 0.25em;box-sizing: border-box;margin-bottom: 0.5em;}#sk-container-id-4 div.sk-estimator:hover {background-color: #d4ebff;}#sk-container-id-4 div.sk-parallel-item::after {content: \"\";width: 100%;border-bottom: 1px solid gray;flex-grow: 1;}#sk-container-id-4 div.sk-label:hover label.sk-toggleable__label {background-color: #d4ebff;}#sk-container-id-4 div.sk-serial::before {content: \"\";position: absolute;border-left: 1px solid gray;box-sizing: border-box;top: 0;bottom: 0;left: 50%;z-index: 0;}#sk-container-id-4 div.sk-serial {display: flex;flex-direction: column;align-items: center;background-color: white;padding-right: 0.2em;padding-left: 0.2em;position: relative;}#sk-container-id-4 div.sk-item {position: relative;z-index: 1;}#sk-container-id-4 div.sk-parallel {display: flex;align-items: stretch;justify-content: center;background-color: white;position: relative;}#sk-container-id-4 div.sk-item::before, #sk-container-id-4 div.sk-parallel-item::before {content: \"\";position: absolute;border-left: 1px solid gray;box-sizing: border-box;top: 0;bottom: 0;left: 50%;z-index: -1;}#sk-container-id-4 div.sk-parallel-item {display: flex;flex-direction: column;z-index: 1;position: relative;background-color: white;}#sk-container-id-4 div.sk-parallel-item:first-child::after {align-self: flex-end;width: 50%;}#sk-container-id-4 div.sk-parallel-item:last-child::after {align-self: flex-start;width: 50%;}#sk-container-id-4 div.sk-parallel-item:only-child::after {width: 0;}#sk-container-id-4 div.sk-dashed-wrapped {border: 1px dashed gray;margin: 0 0.4em 0.5em 0.4em;box-sizing: border-box;padding-bottom: 0.4em;background-color: white;}#sk-container-id-4 div.sk-label label {font-family: monospace;font-weight: bold;display: inline-block;line-height: 1.2em;}#sk-container-id-4 div.sk-label-container {text-align: center;}#sk-container-id-4 div.sk-container {/* jupyter's `normalize.less` sets `[hidden] { display: none; }` but bootstrap.min.css set `[hidden] { display: none !important; }` so we also need the `!important` here to be able to override the default hidden behavior on the sphinx rendered scikit-learn.org. See: https://github.com/scikit-learn/scikit-learn/issues/21755 */display: inline-block !important;position: relative;}#sk-container-id-4 div.sk-text-repr-fallback {display: none;}</style><div id=\"sk-container-id-4\" class=\"sk-top-container\"><div class=\"sk-text-repr-fallback\"><pre>GridSearchCV(cv=StratifiedKFold(n_splits=5, random_state=2022, shuffle=True),\n",
       "             estimator=Pipeline(steps=[(&#x27;MM&#x27;, MinMaxScaler()),\n",
       "                                       (&#x27;MLP&#x27;,\n",
       "                                        MLPClassifier(activation=&#x27;logistic&#x27;,\n",
       "                                                      random_state=2022))]),\n",
       "             param_grid={&#x27;MLP__activation&#x27;: [&#x27;tanh&#x27;, &#x27;logistic&#x27;, &#x27;identity&#x27;],\n",
       "                         &#x27;MLP__hidden_layer_sizes&#x27;: [(20, 10, 5), (10, 5),\n",
       "                                                     (50,)],\n",
       "                         &#x27;MLP__learning_rate&#x27;: [&#x27;constant&#x27;, &#x27;invscaling&#x27;,\n",
       "                                                &#x27;adaptive&#x27;],\n",
       "                         &#x27;MLP__learning_rate_init&#x27;: [0.001, 0.3, 0.5]},\n",
       "             scoring=&#x27;roc_auc&#x27;, verbose=3)</pre><b>In a Jupyter environment, please rerun this cell to show the HTML representation or trust the notebook. <br />On GitHub, the HTML representation is unable to render, please try loading this page with nbviewer.org.</b></div><div class=\"sk-container\" hidden><div class=\"sk-item sk-dashed-wrapped\"><div class=\"sk-label-container\"><div class=\"sk-label sk-toggleable\"><input class=\"sk-toggleable__control sk-hidden--visually\" id=\"sk-estimator-id-10\" type=\"checkbox\" ><label for=\"sk-estimator-id-10\" class=\"sk-toggleable__label sk-toggleable__label-arrow\">GridSearchCV</label><div class=\"sk-toggleable__content\"><pre>GridSearchCV(cv=StratifiedKFold(n_splits=5, random_state=2022, shuffle=True),\n",
       "             estimator=Pipeline(steps=[(&#x27;MM&#x27;, MinMaxScaler()),\n",
       "                                       (&#x27;MLP&#x27;,\n",
       "                                        MLPClassifier(activation=&#x27;logistic&#x27;,\n",
       "                                                      random_state=2022))]),\n",
       "             param_grid={&#x27;MLP__activation&#x27;: [&#x27;tanh&#x27;, &#x27;logistic&#x27;, &#x27;identity&#x27;],\n",
       "                         &#x27;MLP__hidden_layer_sizes&#x27;: [(20, 10, 5), (10, 5),\n",
       "                                                     (50,)],\n",
       "                         &#x27;MLP__learning_rate&#x27;: [&#x27;constant&#x27;, &#x27;invscaling&#x27;,\n",
       "                                                &#x27;adaptive&#x27;],\n",
       "                         &#x27;MLP__learning_rate_init&#x27;: [0.001, 0.3, 0.5]},\n",
       "             scoring=&#x27;roc_auc&#x27;, verbose=3)</pre></div></div></div><div class=\"sk-parallel\"><div class=\"sk-parallel-item\"><div class=\"sk-item\"><div class=\"sk-label-container\"><div class=\"sk-label sk-toggleable\"><input class=\"sk-toggleable__control sk-hidden--visually\" id=\"sk-estimator-id-11\" type=\"checkbox\" ><label for=\"sk-estimator-id-11\" class=\"sk-toggleable__label sk-toggleable__label-arrow\">estimator: Pipeline</label><div class=\"sk-toggleable__content\"><pre>Pipeline(steps=[(&#x27;MM&#x27;, MinMaxScaler()),\n",
       "                (&#x27;MLP&#x27;,\n",
       "                 MLPClassifier(activation=&#x27;logistic&#x27;, random_state=2022))])</pre></div></div></div><div class=\"sk-serial\"><div class=\"sk-item\"><div class=\"sk-serial\"><div class=\"sk-item\"><div class=\"sk-estimator sk-toggleable\"><input class=\"sk-toggleable__control sk-hidden--visually\" id=\"sk-estimator-id-12\" type=\"checkbox\" ><label for=\"sk-estimator-id-12\" class=\"sk-toggleable__label sk-toggleable__label-arrow\">MinMaxScaler</label><div class=\"sk-toggleable__content\"><pre>MinMaxScaler()</pre></div></div></div><div class=\"sk-item\"><div class=\"sk-estimator sk-toggleable\"><input class=\"sk-toggleable__control sk-hidden--visually\" id=\"sk-estimator-id-13\" type=\"checkbox\" ><label for=\"sk-estimator-id-13\" class=\"sk-toggleable__label sk-toggleable__label-arrow\">MLPClassifier</label><div class=\"sk-toggleable__content\"><pre>MLPClassifier(activation=&#x27;logistic&#x27;, random_state=2022)</pre></div></div></div></div></div></div></div></div></div></div></div></div>"
      ],
      "text/plain": [
       "GridSearchCV(cv=StratifiedKFold(n_splits=5, random_state=2022, shuffle=True),\n",
       "             estimator=Pipeline(steps=[('MM', MinMaxScaler()),\n",
       "                                       ('MLP',\n",
       "                                        MLPClassifier(activation='logistic',\n",
       "                                                      random_state=2022))]),\n",
       "             param_grid={'MLP__activation': ['tanh', 'logistic', 'identity'],\n",
       "                         'MLP__hidden_layer_sizes': [(20, 10, 5), (10, 5),\n",
       "                                                     (50,)],\n",
       "                         'MLP__learning_rate': ['constant', 'invscaling',\n",
       "                                                'adaptive'],\n",
       "                         'MLP__learning_rate_init': [0.001, 0.3, 0.5]},\n",
       "             scoring='roc_auc', verbose=3)"
      ]
     },
     "execution_count": 54,
     "metadata": {},
     "output_type": "execute_result"
    }
   ],
   "source": [
    "gcv = GridSearchCV(pipe,\n",
    "                  param_grid = params,\n",
    "                  cv = kfold,\n",
    "                  scoring = \"roc_auc\",\n",
    "                  verbose = 3)\n",
    "\n",
    "gcv.fit(X, y)"
   ]
  },
  {
   "cell_type": "code",
   "execution_count": 55,
   "id": "cb5c3633",
   "metadata": {},
   "outputs": [
    {
     "name": "stdout",
     "output_type": "stream",
     "text": [
      "{'MLP__activation': 'tanh', 'MLP__hidden_layer_sizes': (10, 5), 'MLP__learning_rate': 'constant', 'MLP__learning_rate_init': 0.001}\n"
     ]
    }
   ],
   "source": [
    "print(gcv.best_params_)"
   ]
  },
  {
   "cell_type": "code",
   "execution_count": 57,
   "id": "7fbf9238",
   "metadata": {},
   "outputs": [
    {
     "name": "stdout",
     "output_type": "stream",
     "text": [
      "0.8679628064243449\n"
     ]
    }
   ],
   "source": [
    "print(gcv.best_score_)"
   ]
  },
  {
   "cell_type": "code",
   "execution_count": null,
   "id": "8c1d657f",
   "metadata": {},
   "outputs": [],
   "source": []
  }
 ],
 "metadata": {
  "kernelspec": {
   "display_name": "Python 3 (ipykernel)",
   "language": "python",
   "name": "python3"
  },
  "language_info": {
   "codemirror_mode": {
    "name": "ipython",
    "version": 3
   },
   "file_extension": ".py",
   "mimetype": "text/x-python",
   "name": "python",
   "nbconvert_exporter": "python",
   "pygments_lexer": "ipython3",
   "version": "3.9.13"
  }
 },
 "nbformat": 4,
 "nbformat_minor": 5
}
