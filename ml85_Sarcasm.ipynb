{
 "cells": [
  {
   "cell_type": "code",
   "execution_count": 23,
   "id": "2e4a7cc4",
   "metadata": {},
   "outputs": [],
   "source": [
    "import pandas as pd\n",
    "import numpy as np\n",
    "from nltk.corpus import stopwords\n",
    "\n",
    "import re\n",
    "import nltk\n",
    "from nltk.stem.porter import PorterStemmer\n",
    "from sklearn.feature_extraction.text import CountVectorizer\n",
    "\n",
    "from sklearn.ensemble import RandomForestClassifier\n",
    "from sklearn.model_selection import StratifiedKFold, GridSearchCV"
   ]
  },
  {
   "cell_type": "code",
   "execution_count": 24,
   "id": "ba132e87",
   "metadata": {},
   "outputs": [],
   "source": [
    "ds = pd.read_json(r\"Cases\\News Sarcasm\\Sarcasm_Headlines_Dataset_v2.json\",\n",
    "                 lines = True)"
   ]
  },
  {
   "cell_type": "code",
   "execution_count": 25,
   "id": "b706f03c",
   "metadata": {},
   "outputs": [
    {
     "data": {
      "text/html": [
       "<div>\n",
       "<style scoped>\n",
       "    .dataframe tbody tr th:only-of-type {\n",
       "        vertical-align: middle;\n",
       "    }\n",
       "\n",
       "    .dataframe tbody tr th {\n",
       "        vertical-align: top;\n",
       "    }\n",
       "\n",
       "    .dataframe thead th {\n",
       "        text-align: right;\n",
       "    }\n",
       "</style>\n",
       "<table border=\"1\" class=\"dataframe\">\n",
       "  <thead>\n",
       "    <tr style=\"text-align: right;\">\n",
       "      <th></th>\n",
       "      <th>is_sarcastic</th>\n",
       "      <th>headline</th>\n",
       "    </tr>\n",
       "  </thead>\n",
       "  <tbody>\n",
       "    <tr>\n",
       "      <th>0</th>\n",
       "      <td>1</td>\n",
       "      <td>thirtysomething scientists unveil doomsday clo...</td>\n",
       "    </tr>\n",
       "    <tr>\n",
       "      <th>1</th>\n",
       "      <td>0</td>\n",
       "      <td>dem rep. totally nails why congress is falling...</td>\n",
       "    </tr>\n",
       "    <tr>\n",
       "      <th>2</th>\n",
       "      <td>0</td>\n",
       "      <td>eat your veggies: 9 deliciously different recipes</td>\n",
       "    </tr>\n",
       "    <tr>\n",
       "      <th>3</th>\n",
       "      <td>1</td>\n",
       "      <td>inclement weather prevents liar from getting t...</td>\n",
       "    </tr>\n",
       "    <tr>\n",
       "      <th>4</th>\n",
       "      <td>1</td>\n",
       "      <td>mother comes pretty close to using word 'strea...</td>\n",
       "    </tr>\n",
       "  </tbody>\n",
       "</table>\n",
       "</div>"
      ],
      "text/plain": [
       "   is_sarcastic                                           headline\n",
       "0             1  thirtysomething scientists unveil doomsday clo...\n",
       "1             0  dem rep. totally nails why congress is falling...\n",
       "2             0  eat your veggies: 9 deliciously different recipes\n",
       "3             1  inclement weather prevents liar from getting t...\n",
       "4             1  mother comes pretty close to using word 'strea..."
      ]
     },
     "execution_count": 25,
     "metadata": {},
     "output_type": "execute_result"
    }
   ],
   "source": [
    "df.head()"
   ]
  },
  {
   "cell_type": "code",
   "execution_count": 26,
   "id": "24b7c0fa",
   "metadata": {},
   "outputs": [],
   "source": [
    "ds = ds[[\"is_sarcastic\", \"headline\"]]"
   ]
  },
  {
   "cell_type": "code",
   "execution_count": 27,
   "id": "d712195b",
   "metadata": {},
   "outputs": [],
   "source": [
    "stops = stopwords.words(\"English\")"
   ]
  },
  {
   "cell_type": "code",
   "execution_count": 28,
   "id": "d2064b49",
   "metadata": {},
   "outputs": [],
   "source": [
    "ps = PorterStemmer()"
   ]
  },
  {
   "cell_type": "code",
   "execution_count": 29,
   "id": "fceff06d",
   "metadata": {},
   "outputs": [],
   "source": [
    "corpus = []\n",
    "\n",
    "for i in np.arange(0, ds.shape[0]):\n",
    "    review = ds[\"headline\"][i]\n",
    "    review = re.sub(\"[^a-zA-Z]\", \" \", review)\n",
    "    review = review.lower()\n",
    "    review = review.split()\n",
    "    \n",
    "    # Below line \n",
    "    review = [ps.stem(word) for word in review if not word in set(stops)]\n",
    "    review = \" \".join(review)\n",
    "    corpus.append(review)"
   ]
  },
  {
   "cell_type": "markdown",
   "id": "d34a4179",
   "metadata": {},
   "source": [
    "# Count Vectorization"
   ]
  },
  {
   "cell_type": "code",
   "execution_count": 30,
   "id": "97e8a2bb",
   "metadata": {},
   "outputs": [
    {
     "name": "stdout",
     "output_type": "stream",
     "text": [
      "['abort' 'abus' 'accept' 'accus' 'across' 'act' 'activist' 'actor'\n",
      " 'actual' 'ad' 'add' 'address' 'administr' 'admit' 'ador' 'age' 'aid'\n",
      " 'air' 'al' 'alleg' 'allow' 'alreadi' 'alway' 'amazon' 'america'\n",
      " 'american' 'anim' 'announc' 'anoth' 'anti' 'anyth' 'apart' 'apolog'\n",
      " 'appear' 'appl' 'approv' 'area' 'around' 'arrest' 'art' 'artist' 'ask'\n",
      " 'assault' 'assur' 'attack' 'attempt' 'attend' 'author' 'avoid' 'award'\n",
      " 'away' 'babi' 'back' 'bad' 'ban' 'band' 'bank' 'bar' 'battl' 'bear'\n",
      " 'beat' 'beauti' 'becom' 'begin' 'behind' 'believ' 'berni' 'best' 'better'\n",
      " 'biden' 'big' 'bill' 'billion' 'birth' 'birthday' 'black' 'blame' 'blast'\n",
      " 'blood' 'board' 'bodi' 'bomb' 'book' 'box' 'boy' 'boyfriend' 'break'\n",
      " 'bring' 'brother' 'build' 'burn' 'bush' 'busi' 'buy' 'california' 'call'\n",
      " 'campaign' 'cancer' 'candid' 'car' 'card' 'care' 'career' 'case' 'cat'\n",
      " 'caus' 'celebr' 'center' 'ceo' 'challeng' 'chanc' 'chang' 'charact'\n",
      " 'charg' 'check' 'chief' 'child' 'children' 'china' 'chines' 'chri'\n",
      " 'christian' 'christma' 'church' 'citi' 'claim' 'class' 'clean' 'clearli'\n",
      " 'climat' 'clinton' 'close' 'cnn' 'colleg' 'color' 'come' 'comment'\n",
      " 'commun' 'compani' 'complet' 'concern' 'confirm' 'congress' 'congressman'\n",
      " 'conserv' 'consid' 'continu' 'control' 'controversi' 'convers' 'cop'\n",
      " 'cost' 'could' 'countri' 'coupl' 'court' 'cover' 'cowork' 'crash' 'creat'\n",
      " 'crime' 'crisi' 'critic' 'cruz' 'cultur' 'current' 'custom' 'cut' 'dad'\n",
      " 'danc' 'danger' 'date' 'daughter' 'david' 'day' 'dead' 'deal' 'death'\n",
      " 'debat' 'decid' 'decis' 'defend' 'deliv' 'demand' 'democrat' 'deni'\n",
      " 'depart' 'depress' 'design' 'desper' 'die' 'differ' 'dinner' 'director'\n",
      " 'discov' 'divorc' 'doctor' 'dog' 'donald' 'door' 'dream' 'dress' 'drink'\n",
      " 'drive' 'driver' 'drop' 'drug' 'drunk' 'earli' 'earth' 'eat' 'educ'\n",
      " 'elect' 'email' 'emerg' 'emot' 'employe' 'end' 'enjoy' 'enough' 'enter'\n",
      " 'entir' 'equal' 'even' 'ever' 'everi' 'everyon' 'everyth' 'evid' 'ex'\n",
      " 'excit' 'execut' 'expect' 'experi' 'expert' 'explain' 'eye' 'face'\n",
      " 'facebook' 'fail' 'fall' 'famili' 'fan' 'far' 'fashion' 'father'\n",
      " 'favorit' 'fbi' 'fear' 'featur' 'feder' 'feel' 'femal' 'fight' 'figur'\n",
      " 'film' 'final' 'find' 'fire' 'first' 'florida' 'follow' 'food' 'forc'\n",
      " 'former' 'found' 'fox' 'franci' 'free' 'friend' 'front' 'fuck' 'full'\n",
      " 'fun' 'fund' 'futur' 'game' 'gay' 'gener' 'georg' 'get' 'gift' 'girl'\n",
      " 'girlfriend' 'give' 'global' 'go' 'god' 'goe' 'good' 'gop' 'got' 'govern'\n",
      " 'great' 'group' 'grow' 'guest' 'guid' 'gun' 'guy' 'hair' 'half' 'hall'\n",
      " 'hand' 'happen' 'happi' 'harass' 'hard' 'harri' 'hate' 'head' 'health'\n",
      " 'hear' 'heart' 'help' 'hero' 'high' 'hilari' 'hillari' 'histor' 'histori'\n",
      " 'hit' 'hold' 'holiday' 'hollywood' 'home' 'honor' 'hope' 'hospit' 'host'\n",
      " 'hot' 'hour' 'hous' 'huffpost' 'huge' 'human' 'hurrican' 'husband' 'ice'\n",
      " 'idea' 'immigr' 'import' 'impress' 'increas' 'industri' 'inform' 'insid'\n",
      " 'inspir' 'interest' 'intern' 'internet' 'interview' 'introduc' 'investig'\n",
      " 'iran' 'iraq' 'isi' 'issu' 'jame' 'jimmi' 'job' 'joe' 'john' 'join'\n",
      " 'judg' 'justic' 'kardashian' 'keep' 'key' 'kid' 'kill' 'kim' 'kind'\n",
      " 'king' 'know' 'korea' 'ladi' 'land' 'last' 'late' 'latest' 'launch' 'law'\n",
      " 'lawyer' 'lead' 'leader' 'learn' 'least' 'leav' 'left' 'legal' 'less'\n",
      " 'lesson' 'let' 'letter' 'lie' 'life' 'light' 'like' 'line' 'link' 'list'\n",
      " 'listen' 'littl' 'live' 'local' 'long' 'look' 'lose' 'lost' 'lot' 'love'\n",
      " 'low' 'made' 'magic' 'major' 'make' 'man' 'manag' 'mani' 'march' 'mark'\n",
      " 'market' 'marriag' 'mass' 'massiv' 'matter' 'may' 'mean' 'media' 'meet'\n",
      " 'member' 'memori' 'men' 'mental' 'messag' 'michael' 'michel' 'middl'\n",
      " 'might' 'mike' 'militari' 'million' 'mind' 'minut' 'miss' 'mom' 'moment'\n",
      " 'money' 'month' 'morn' 'mother' 'move' 'movi' 'much' 'mueller' 'murder'\n",
      " 'music' 'muslim' 'must' 'name' 'nation' 'need' 'never' 'new' 'news'\n",
      " 'next' 'night' 'nomin' 'non' 'north' 'noth' 'nuclear' 'number' 'obama'\n",
      " 'obamacar' 'offer' 'offic' 'offici' 'oil' 'old' 'olymp' 'one' 'onion'\n",
      " 'onlin' 'open' 'order' 'organ' 'oscar' 'outsid' 'owner' 'parent' 'park'\n",
      " 'part' 'parti' 'pass' 'past' 'paul' 'pay' 'peac' 'penc' 'peopl' 'percent'\n",
      " 'perfect' 'perform' 'person' 'phone' 'photo' 'pick' 'pictur' 'place'\n",
      " 'plan' 'plane' 'play' 'player' 'point' 'polic' 'polici' 'polit' 'poll'\n",
      " 'pope' 'posit' 'possibl' 'post' 'power' 'prepar' 'presid' 'presidenti'\n",
      " 'press' 'pretti' 'prevent' 'princ' 'prison' 'probabl' 'problem' 'product'\n",
      " 'program' 'promis' 'protect' 'protest' 'prove' 'public' 'pull' 'purchas'\n",
      " 'push' 'put' 'queer' 'question' 'race' 'rais' 'ralli' 'rate' 'reach'\n",
      " 'read' 'readi' 'real' 'realiti' 'realiz' 'realli' 'reason' 'recal'\n",
      " 'receiv' 'recommend' 'record' 'red' 'reform' 'refuge' 'refus'\n",
      " 'relationship' 'releas' 'remain' 'rememb' 'remind' 'remov' 'replac'\n",
      " 'report' 'republican' 'research' 'resid' 'resign' 'respond' 'respons'\n",
      " 'restaur' 'retir' 'return' 'reveal' 'review' 'ride' 'right' 'rise' 'risk'\n",
      " 'road' 'robert' 'rock' 'role' 'roll' 'romney' 'room' 'rule' 'run'\n",
      " 'russia' 'russian' 'ryan' 'sale' 'sander' 'save' 'say' 'school'\n",
      " 'scientist' 'scott' 'search' 'season' 'second' 'secret' 'secretari'\n",
      " 'secur' 'see' 'self' 'senat' 'send' 'sentenc' 'seri' 'servic' 'set' 'sex'\n",
      " 'sexual' 'share' 'shirt' 'shit' 'shoot' 'shop' 'shot' 'show' 'shut'\n",
      " 'sick' 'side' 'sign' 'sinc' 'singl' 'sit' 'slam' 'sleep' 'small' 'social'\n",
      " 'someon' 'someth' 'son' 'song' 'sound' 'south' 'space' 'speak' 'special'\n",
      " 'speech' 'spend' 'sport' 'spot' 'st' 'stage' 'stand' 'star' 'start'\n",
      " 'state' 'stay' 'step' 'stephen' 'still' 'stop' 'store' 'stori' 'straight'\n",
      " 'street' 'strike' 'struggl' 'student' 'studi' 'stun' 'style' 'success'\n",
      " 'suggest' 'summer' 'super' 'support' 'suprem' 'sure' 'surpris' 'suspect'\n",
      " 'syria' 'syrian' 'system' 'tabl' 'take' 'talk' 'target' 'tax' 'taylor'\n",
      " 'teach' 'teacher' 'team' 'tear' 'ted' 'teen' 'tell' 'terror' 'test'\n",
      " 'texa' 'th' 'thank' 'thing' 'think' 'third' 'thought' 'thousand' 'threat'\n",
      " 'threaten' 'three' 'throw' 'time' 'tip' 'today' 'togeth' 'told' 'tom'\n",
      " 'top' 'total' 'tour' 'town' 'track' 'trailer' 'train' 'travel' 'tri'\n",
      " 'trip' 'true' 'trump' 'turn' 'tv' 'tweet' 'twitter' 'two' 'un' 'union'\n",
      " 'unit' 'univers' 'unveil' 'updat' 'urg' 'us' 'use' 'user' 'vacat'\n",
      " 'victim' 'video' 'violenc' 'visit' 'voic' 'vote' 'voter' 'vow' 'wait'\n",
      " 'walk' 'wall' 'want' 'war' 'warn' 'washington' 'wast' 'watch' 'water'\n",
      " 'way' 'wear' 'wed' 'week' 'weekend' 'weird' 'well' 'west' 'whether'\n",
      " 'white' 'whole' 'wife' 'william' 'win' 'wish' 'without' 'woman' 'women'\n",
      " 'wonder' 'word' 'work' 'worker' 'world' 'worri' 'would' 'write' 'wrong'\n",
      " 'year' 'yet' 'york' 'young']\n"
     ]
    }
   ],
   "source": [
    "vtz = CountVectorizer(max_features = 800)\n",
    "X = vtz.fit_transform(corpus).toarray()\n",
    "\n",
    "print(vtz.get_feature_names_out())\n",
    "\n",
    "y = ds[\"is_sarcastic\"]"
   ]
  },
  {
   "cell_type": "code",
   "execution_count": 31,
   "id": "02c90d9e",
   "metadata": {},
   "outputs": [],
   "source": [
    "rf = RandomForestClassifier(random_state = 2022)"
   ]
  },
  {
   "cell_type": "code",
   "execution_count": 32,
   "id": "3009edb9",
   "metadata": {},
   "outputs": [],
   "source": [
    "kfold = StratifiedKFold(n_splits = 5,\n",
    "                       shuffle = True,\n",
    "                       random_state = 2022)"
   ]
  },
  {
   "cell_type": "code",
   "execution_count": 33,
   "id": "c01520f2",
   "metadata": {},
   "outputs": [
    {
     "name": "stdout",
     "output_type": "stream",
     "text": [
      "{'bootstrap': True, 'ccp_alpha': 0.0, 'class_weight': None, 'criterion': 'gini', 'max_depth': None, 'max_features': 'sqrt', 'max_leaf_nodes': None, 'max_samples': None, 'min_impurity_decrease': 0.0, 'min_samples_leaf': 1, 'min_samples_split': 2, 'min_weight_fraction_leaf': 0.0, 'n_estimators': 100, 'n_jobs': None, 'oob_score': False, 'random_state': 2022, 'verbose': 0, 'warm_start': False}\n"
     ]
    }
   ],
   "source": [
    "print(rf.get_params())"
   ]
  },
  {
   "cell_type": "code",
   "execution_count": 34,
   "id": "f4f20d40",
   "metadata": {},
   "outputs": [],
   "source": [
    "params = {\"max_features\": [10, 50, 100, 200]}               "
   ]
  },
  {
   "cell_type": "code",
   "execution_count": null,
   "id": "e9790985",
   "metadata": {},
   "outputs": [
    {
     "name": "stdout",
     "output_type": "stream",
     "text": [
      "Fitting 5 folds for each of 4 candidates, totalling 20 fits\n",
      "[CV 1/5] END ...................max_features=10;, score=0.772 total time=  41.4s\n",
      "[CV 2/5] END ...................max_features=10;, score=0.785 total time=  41.8s\n",
      "[CV 3/5] END ...................max_features=10;, score=0.781 total time=  40.7s\n",
      "[CV 4/5] END ...................max_features=10;, score=0.781 total time=  40.9s\n",
      "[CV 5/5] END ...................max_features=10;, score=0.789 total time=  41.0s\n",
      "[CV 1/5] END ...................max_features=50;, score=0.766 total time= 2.4min\n",
      "[CV 2/5] END ...................max_features=50;, score=0.782 total time= 2.4min\n",
      "[CV 3/5] END ...................max_features=50;, score=0.775 total time= 2.5min\n",
      "[CV 4/5] END ...................max_features=50;, score=0.772 total time= 2.4min\n",
      "[CV 5/5] END ...................max_features=50;, score=0.783 total time= 2.5min\n",
      "[CV 1/5] END ..................max_features=100;, score=0.764 total time= 4.6min\n",
      "[CV 2/5] END ..................max_features=100;, score=0.779 total time= 4.6min\n",
      "[CV 3/5] END ..................max_features=100;, score=0.772 total time= 4.6min\n",
      "[CV 4/5] END ..................max_features=100;, score=0.768 total time= 4.5min\n"
     ]
    }
   ],
   "source": [
    "gcv = GridSearchCV(rf,\n",
    "                  param_grid = params,\n",
    "                  verbose = 3,\n",
    "                  scoring = \"roc_auc\",\n",
    "                  cv = kfold)\n",
    "gcv.fit(X, y)\n",
    "\n",
    "print(gcv.best_params_)\n",
    "print(gcv.best_score_)\n"
   ]
  },
  {
   "cell_type": "code",
   "execution_count": null,
   "id": "10b1a6c8",
   "metadata": {},
   "outputs": [],
   "source": []
  }
 ],
 "metadata": {
  "kernelspec": {
   "display_name": "Python 3 (ipykernel)",
   "language": "python",
   "name": "python3"
  },
  "language_info": {
   "codemirror_mode": {
    "name": "ipython",
    "version": 3
   },
   "file_extension": ".py",
   "mimetype": "text/x-python",
   "name": "python",
   "nbconvert_exporter": "python",
   "pygments_lexer": "ipython3",
   "version": "3.9.13"
  }
 },
 "nbformat": 4,
 "nbformat_minor": 5
}
