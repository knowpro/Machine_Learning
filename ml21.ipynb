{
 "cells": [
  {
   "cell_type": "code",
   "execution_count": 12,
   "id": "1b35f813",
   "metadata": {},
   "outputs": [],
   "source": [
    "import pandas as pd\n",
    "import numpy as np\n",
    "\n",
    "from sklearn.naive_bayes import BernoulliNB\n",
    "from sklearn.model_selection import train_test_split\n",
    "from sklearn.metrics import accuracy_score\n",
    "from sklearn.metrics import roc_auc_score\n",
    "from sklearn.model_selection import StratifiedKFold\n",
    "from sklearn.model_selection import cross_val_score\n",
    "from sklearn.naive_bayes import GaussianNB\n",
    "\n",
    "import os"
   ]
  },
  {
   "cell_type": "code",
   "execution_count": 13,
   "id": "9d8e9259",
   "metadata": {},
   "outputs": [],
   "source": [
    "os.chdir(r\"C:\\Hogwarts\\machine_learning\\Cases\\Bankruptcy\")"
   ]
  },
  {
   "cell_type": "code",
   "execution_count": 14,
   "id": "a05a7872",
   "metadata": {},
   "outputs": [],
   "source": [
    "brupt = pd.read_csv(\"Bankruptcy.csv\",index_col=0)\n",
    "X = brupt.drop(['D','YR'],axis=1)\n",
    "y = brupt['D']"
   ]
  },
  {
   "cell_type": "code",
   "execution_count": 15,
   "id": "d948088c",
   "metadata": {},
   "outputs": [],
   "source": [
    "X_train,X_test, y_train, y_test = train_test_split(X,\n",
    "                                                   y,\n",
    "                                                   stratify=y,\n",
    "                                                   train_size=0.7,\n",
    "                                                   random_state=2022)"
   ]
  },
  {
   "cell_type": "code",
   "execution_count": 16,
   "id": "9da67f95",
   "metadata": {},
   "outputs": [
    {
     "data": {
      "text/plain": [
       "GaussianNB()"
      ]
     },
     "execution_count": 16,
     "metadata": {},
     "output_type": "execute_result"
    }
   ],
   "source": [
    "nb = GaussianNB()\n",
    "nb.fit(X_train,y_train)"
   ]
  },
  {
   "cell_type": "code",
   "execution_count": 18,
   "id": "4c188028",
   "metadata": {},
   "outputs": [
    {
     "name": "stdout",
     "output_type": "stream",
     "text": [
      "0.875\n",
      "0.875\n"
     ]
    }
   ],
   "source": [
    "y_pred = nb.predict(X_test)\n",
    "print(accuracy_score(y_test,y_pred))\n",
    "\n",
    "y_pred_proba = nb.predict_proba(X_test)[:,1]\n",
    "print(roc_auc_score(y_test,y_pred_proba))"
   ]
  },
  {
   "cell_type": "code",
   "execution_count": null,
   "id": "15343c47",
   "metadata": {},
   "outputs": [],
   "source": []
  },
  {
   "cell_type": "code",
   "execution_count": null,
   "id": "58ea1444",
   "metadata": {},
   "outputs": [],
   "source": []
  }
 ],
 "metadata": {
  "kernelspec": {
   "display_name": "Python 3 (ipykernel)",
   "language": "python",
   "name": "python3"
  },
  "language_info": {
   "codemirror_mode": {
    "name": "ipython",
    "version": 3
   },
   "file_extension": ".py",
   "mimetype": "text/x-python",
   "name": "python",
   "nbconvert_exporter": "python",
   "pygments_lexer": "ipython3",
   "version": "3.9.13"
  }
 },
 "nbformat": 4,
 "nbformat_minor": 5
}
