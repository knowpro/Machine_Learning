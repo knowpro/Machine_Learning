{
 "cells": [
  {
   "cell_type": "code",
   "execution_count": 1,
   "id": "1b6a80f6",
   "metadata": {},
   "outputs": [],
   "source": [
    "import pandas as pd\n",
    "import numpy as np\n",
    "import surprise"
   ]
  },
  {
   "cell_type": "code",
   "execution_count": null,
   "id": "b3ce19e0",
   "metadata": {},
   "outputs": [],
   "source": []
  },
  {
   "cell_type": "code",
   "execution_count": 26,
   "id": "5c4eeacd",
   "metadata": {
    "scrolled": true
   },
   "outputs": [
    {
     "data": {
      "text/html": [
       "<div>\n",
       "<style scoped>\n",
       "    .dataframe tbody tr th:only-of-type {\n",
       "        vertical-align: middle;\n",
       "    }\n",
       "\n",
       "    .dataframe tbody tr th {\n",
       "        vertical-align: top;\n",
       "    }\n",
       "\n",
       "    .dataframe thead th {\n",
       "        text-align: right;\n",
       "    }\n",
       "</style>\n",
       "<table border=\"1\" class=\"dataframe\">\n",
       "  <thead>\n",
       "    <tr style=\"text-align: right;\">\n",
       "      <th></th>\n",
       "      <th>user_id</th>\n",
       "      <th>item_id</th>\n",
       "      <th>rating</th>\n",
       "    </tr>\n",
       "  </thead>\n",
       "  <tbody>\n",
       "    <tr>\n",
       "      <th>0</th>\n",
       "      <td>A3R5OBKS7OM2IR</td>\n",
       "      <td>Movie1</td>\n",
       "      <td>5.0</td>\n",
       "    </tr>\n",
       "    <tr>\n",
       "      <th>1</th>\n",
       "      <td>AH3QC2PC1VTGP</td>\n",
       "      <td>Movie1</td>\n",
       "      <td>NaN</td>\n",
       "    </tr>\n",
       "    <tr>\n",
       "      <th>2</th>\n",
       "      <td>A3LKP6WPMP9UKX</td>\n",
       "      <td>Movie1</td>\n",
       "      <td>NaN</td>\n",
       "    </tr>\n",
       "    <tr>\n",
       "      <th>3</th>\n",
       "      <td>AVIY68KEPQ5ZD</td>\n",
       "      <td>Movie1</td>\n",
       "      <td>NaN</td>\n",
       "    </tr>\n",
       "    <tr>\n",
       "      <th>4</th>\n",
       "      <td>A1CV1WROP5KTTW</td>\n",
       "      <td>Movie1</td>\n",
       "      <td>NaN</td>\n",
       "    </tr>\n",
       "    <tr>\n",
       "      <th>...</th>\n",
       "      <td>...</td>\n",
       "      <td>...</td>\n",
       "      <td>...</td>\n",
       "    </tr>\n",
       "    <tr>\n",
       "      <th>998683</th>\n",
       "      <td>A1IMQ9WMFYKWH5</td>\n",
       "      <td>Movie206</td>\n",
       "      <td>5.0</td>\n",
       "    </tr>\n",
       "    <tr>\n",
       "      <th>998684</th>\n",
       "      <td>A1KLIKPUF5E88I</td>\n",
       "      <td>Movie206</td>\n",
       "      <td>5.0</td>\n",
       "    </tr>\n",
       "    <tr>\n",
       "      <th>998685</th>\n",
       "      <td>A5HG6WFZLO10D</td>\n",
       "      <td>Movie206</td>\n",
       "      <td>5.0</td>\n",
       "    </tr>\n",
       "    <tr>\n",
       "      <th>998686</th>\n",
       "      <td>A3UU690TWXCG1X</td>\n",
       "      <td>Movie206</td>\n",
       "      <td>5.0</td>\n",
       "    </tr>\n",
       "    <tr>\n",
       "      <th>998687</th>\n",
       "      <td>AI4J762YI6S06</td>\n",
       "      <td>Movie206</td>\n",
       "      <td>5.0</td>\n",
       "    </tr>\n",
       "  </tbody>\n",
       "</table>\n",
       "<p>998688 rows × 3 columns</p>\n",
       "</div>"
      ],
      "text/plain": [
       "               user_id   item_id  rating\n",
       "0       A3R5OBKS7OM2IR    Movie1     5.0\n",
       "1        AH3QC2PC1VTGP    Movie1     NaN\n",
       "2       A3LKP6WPMP9UKX    Movie1     NaN\n",
       "3        AVIY68KEPQ5ZD    Movie1     NaN\n",
       "4       A1CV1WROP5KTTW    Movie1     NaN\n",
       "...                ...       ...     ...\n",
       "998683  A1IMQ9WMFYKWH5  Movie206     5.0\n",
       "998684  A1KLIKPUF5E88I  Movie206     5.0\n",
       "998685   A5HG6WFZLO10D  Movie206     5.0\n",
       "998686  A3UU690TWXCG1X  Movie206     5.0\n",
       "998687   AI4J762YI6S06  Movie206     5.0\n",
       "\n",
       "[998688 rows x 3 columns]"
      ]
     },
     "execution_count": 26,
     "metadata": {},
     "output_type": "execute_result"
    }
   ],
   "source": [
    "amz = pd.read_csv(r\"12. Recommender Systems\\Amazon Movie Ratings\\Amazon.csv\")\n",
    "\n",
    "ratings = pd.melt(amz, id_vars = \"user_id\",\n",
    "              var_name=\"item_id\",\n",
    "              value_name=\"rating\")\n",
    "ratings\n"
   ]
  },
  {
   "cell_type": "code",
   "execution_count": 27,
   "id": "38f1da22",
   "metadata": {
    "scrolled": true
   },
   "outputs": [
    {
     "data": {
      "text/html": [
       "<div>\n",
       "<style scoped>\n",
       "    .dataframe tbody tr th:only-of-type {\n",
       "        vertical-align: middle;\n",
       "    }\n",
       "\n",
       "    .dataframe tbody tr th {\n",
       "        vertical-align: top;\n",
       "    }\n",
       "\n",
       "    .dataframe thead th {\n",
       "        text-align: right;\n",
       "    }\n",
       "</style>\n",
       "<table border=\"1\" class=\"dataframe\">\n",
       "  <thead>\n",
       "    <tr style=\"text-align: right;\">\n",
       "      <th></th>\n",
       "      <th>user_id</th>\n",
       "      <th>item_id</th>\n",
       "      <th>rating</th>\n",
       "    </tr>\n",
       "  </thead>\n",
       "  <tbody>\n",
       "    <tr>\n",
       "      <th>0</th>\n",
       "      <td>A3R5OBKS7OM2IR</td>\n",
       "      <td>Movie1</td>\n",
       "      <td>5.0</td>\n",
       "    </tr>\n",
       "    <tr>\n",
       "      <th>4848</th>\n",
       "      <td>A3R5OBKS7OM2IR</td>\n",
       "      <td>Movie2</td>\n",
       "      <td>5.0</td>\n",
       "    </tr>\n",
       "    <tr>\n",
       "      <th>9697</th>\n",
       "      <td>AH3QC2PC1VTGP</td>\n",
       "      <td>Movie3</td>\n",
       "      <td>2.0</td>\n",
       "    </tr>\n",
       "    <tr>\n",
       "      <th>14546</th>\n",
       "      <td>A3LKP6WPMP9UKX</td>\n",
       "      <td>Movie4</td>\n",
       "      <td>5.0</td>\n",
       "    </tr>\n",
       "    <tr>\n",
       "      <th>14547</th>\n",
       "      <td>AVIY68KEPQ5ZD</td>\n",
       "      <td>Movie4</td>\n",
       "      <td>5.0</td>\n",
       "    </tr>\n",
       "    <tr>\n",
       "      <th>...</th>\n",
       "      <td>...</td>\n",
       "      <td>...</td>\n",
       "      <td>...</td>\n",
       "    </tr>\n",
       "    <tr>\n",
       "      <th>998683</th>\n",
       "      <td>A1IMQ9WMFYKWH5</td>\n",
       "      <td>Movie206</td>\n",
       "      <td>5.0</td>\n",
       "    </tr>\n",
       "    <tr>\n",
       "      <th>998684</th>\n",
       "      <td>A1KLIKPUF5E88I</td>\n",
       "      <td>Movie206</td>\n",
       "      <td>5.0</td>\n",
       "    </tr>\n",
       "    <tr>\n",
       "      <th>998685</th>\n",
       "      <td>A5HG6WFZLO10D</td>\n",
       "      <td>Movie206</td>\n",
       "      <td>5.0</td>\n",
       "    </tr>\n",
       "    <tr>\n",
       "      <th>998686</th>\n",
       "      <td>A3UU690TWXCG1X</td>\n",
       "      <td>Movie206</td>\n",
       "      <td>5.0</td>\n",
       "    </tr>\n",
       "    <tr>\n",
       "      <th>998687</th>\n",
       "      <td>AI4J762YI6S06</td>\n",
       "      <td>Movie206</td>\n",
       "      <td>5.0</td>\n",
       "    </tr>\n",
       "  </tbody>\n",
       "</table>\n",
       "<p>5000 rows × 3 columns</p>\n",
       "</div>"
      ],
      "text/plain": [
       "               user_id   item_id  rating\n",
       "0       A3R5OBKS7OM2IR    Movie1     5.0\n",
       "4848    A3R5OBKS7OM2IR    Movie2     5.0\n",
       "9697     AH3QC2PC1VTGP    Movie3     2.0\n",
       "14546   A3LKP6WPMP9UKX    Movie4     5.0\n",
       "14547    AVIY68KEPQ5ZD    Movie4     5.0\n",
       "...                ...       ...     ...\n",
       "998683  A1IMQ9WMFYKWH5  Movie206     5.0\n",
       "998684  A1KLIKPUF5E88I  Movie206     5.0\n",
       "998685   A5HG6WFZLO10D  Movie206     5.0\n",
       "998686  A3UU690TWXCG1X  Movie206     5.0\n",
       "998687   AI4J762YI6S06  Movie206     5.0\n",
       "\n",
       "[5000 rows x 3 columns]"
      ]
     },
     "execution_count": 27,
     "metadata": {},
     "output_type": "execute_result"
    }
   ],
   "source": [
    "ratings = ratings[ratings['rating'].notna()]\n",
    "ratings"
   ]
  },
  {
   "cell_type": "code",
   "execution_count": 28,
   "id": "e7ff322d",
   "metadata": {},
   "outputs": [
    {
     "name": "stdout",
     "output_type": "stream",
     "text": [
      "Ratings range between 1.0 and 5.0\n"
     ]
    }
   ],
   "source": [
    "lowest_rating = ratings['rating'].min()\n",
    "highest_rating = ratings['rating'].max()\n",
    "print(\"Ratings range between {0} and {1}\".format(lowest_rating,highest_rating))\n",
    "reader = surprise.Reader(rating_scale = (lowest_rating,highest_rating))"
   ]
  },
  {
   "cell_type": "markdown",
   "id": "5f4ab6ed",
   "metadata": {},
   "source": [
    "Converting the data into surprise format:"
   ]
  },
  {
   "cell_type": "code",
   "execution_count": 29,
   "id": "c0e0c217",
   "metadata": {},
   "outputs": [
    {
     "data": {
      "text/plain": [
       "surprise.dataset.DatasetAutoFolds"
      ]
     },
     "execution_count": 29,
     "metadata": {},
     "output_type": "execute_result"
    }
   ],
   "source": [
    "data = surprise.Dataset.load_from_df(ratings,reader)\n",
    "type(data)"
   ]
  },
  {
   "cell_type": "markdown",
   "id": "745a3802",
   "metadata": {},
   "source": [
    "Similarity options:\n",
    "\n",
    "In case of Item based filtering, 'user_based' value will be False\n"
   ]
  },
  {
   "cell_type": "code",
   "execution_count": 30,
   "id": "bbbb4fe7",
   "metadata": {},
   "outputs": [],
   "source": [
    "similarity_options = {'name': 'cosine', 'user_based': True}"
   ]
  },
  {
   "cell_type": "markdown",
   "id": "917396de",
   "metadata": {},
   "source": [
    "Default K = 40"
   ]
  },
  {
   "cell_type": "code",
   "execution_count": 38,
   "id": "b6989f71",
   "metadata": {},
   "outputs": [
    {
     "name": "stdout",
     "output_type": "stream",
     "text": [
      "Computing the cosine similarity matrix...\n",
      "Done computing similarity matrix.\n"
     ]
    }
   ],
   "source": [
    "algo = surprise.KNNBasic(sim_options = similarity_options)\n",
    "output = algo.fit(data.build_full_trainset())"
   ]
  },
  {
   "cell_type": "markdown",
   "id": "e8d7fb9f",
   "metadata": {},
   "source": [
    "The above .fit() calculates expected rating for all the users </b>\n",
    "Say we want expected rating of user=A3LKP6WPMP9UKX for item Movie4"
   ]
  },
  {
   "cell_type": "code",
   "execution_count": 39,
   "id": "06f83e61",
   "metadata": {},
   "outputs": [
    {
     "name": "stdout",
     "output_type": "stream",
     "text": [
      "5.0\n"
     ]
    }
   ],
   "source": [
    "pred = algo.predict( uid = 'A3LKP6WPMP9UKX', iid = 'Movie4')\n",
    "score = pred.est\n",
    "print(score)"
   ]
  },
  {
   "cell_type": "markdown",
   "id": "95933adb",
   "metadata": {},
   "source": [
    "All the users"
   ]
  },
  {
   "cell_type": "code",
   "execution_count": 40,
   "id": "ce71073b",
   "metadata": {
    "scrolled": true
   },
   "outputs": [
    {
     "data": {
      "text/plain": [
       "array(['Movie1', 'Movie2', 'Movie3', 'Movie4', 'Movie5', 'Movie6',\n",
       "       'Movie7', 'Movie8', 'Movie9', 'Movie10', 'Movie11', 'Movie12',\n",
       "       'Movie13', 'Movie14', 'Movie15', 'Movie16', 'Movie17', 'Movie18',\n",
       "       'Movie19', 'Movie20', 'Movie21', 'Movie22', 'Movie23', 'Movie24',\n",
       "       'Movie25', 'Movie26', 'Movie27', 'Movie28', 'Movie29', 'Movie30',\n",
       "       'Movie31', 'Movie32', 'Movie33', 'Movie34', 'Movie35', 'Movie36',\n",
       "       'Movie37', 'Movie38', 'Movie39', 'Movie40', 'Movie41', 'Movie42',\n",
       "       'Movie43', 'Movie44', 'Movie45', 'Movie46', 'Movie47', 'Movie48',\n",
       "       'Movie49', 'Movie50', 'Movie51', 'Movie52', 'Movie53', 'Movie54',\n",
       "       'Movie55', 'Movie56', 'Movie57', 'Movie58', 'Movie59', 'Movie60',\n",
       "       'Movie61', 'Movie62', 'Movie63', 'Movie64', 'Movie65', 'Movie66',\n",
       "       'Movie67', 'Movie68', 'Movie69', 'Movie70', 'Movie71', 'Movie72',\n",
       "       'Movie73', 'Movie74', 'Movie75', 'Movie76', 'Movie77', 'Movie78',\n",
       "       'Movie79', 'Movie80', 'Movie81', 'Movie82', 'Movie83', 'Movie84',\n",
       "       'Movie85', 'Movie86', 'Movie87', 'Movie88', 'Movie89', 'Movie90',\n",
       "       'Movie91', 'Movie92', 'Movie93', 'Movie94', 'Movie95', 'Movie96',\n",
       "       'Movie97', 'Movie98', 'Movie99', 'Movie100', 'Movie101',\n",
       "       'Movie102', 'Movie103', 'Movie104', 'Movie105', 'Movie106',\n",
       "       'Movie107', 'Movie108', 'Movie109', 'Movie110', 'Movie111',\n",
       "       'Movie112', 'Movie113', 'Movie114', 'Movie115', 'Movie116',\n",
       "       'Movie117', 'Movie118', 'Movie119', 'Movie120', 'Movie121',\n",
       "       'Movie122', 'Movie123', 'Movie124', 'Movie125', 'Movie126',\n",
       "       'Movie127', 'Movie128', 'Movie129', 'Movie130', 'Movie131',\n",
       "       'Movie132', 'Movie133', 'Movie134', 'Movie135', 'Movie136',\n",
       "       'Movie137', 'Movie138', 'Movie139', 'Movie140', 'Movie141',\n",
       "       'Movie142', 'Movie143', 'Movie144', 'Movie145', 'Movie146',\n",
       "       'Movie147', 'Movie148', 'Movie149', 'Movie150', 'Movie151',\n",
       "       'Movie152', 'Movie153', 'Movie154', 'Movie155', 'Movie156',\n",
       "       'Movie157', 'Movie158', 'Movie159', 'Movie160', 'Movie161',\n",
       "       'Movie162', 'Movie163', 'Movie164', 'Movie165', 'Movie166',\n",
       "       'Movie167', 'Movie168', 'Movie169', 'Movie170', 'Movie171',\n",
       "       'Movie172', 'Movie173', 'Movie174', 'Movie175', 'Movie176',\n",
       "       'Movie177', 'Movie178', 'Movie179', 'Movie180', 'Movie181',\n",
       "       'Movie182', 'Movie183', 'Movie184', 'Movie185', 'Movie186',\n",
       "       'Movie187', 'Movie188', 'Movie189', 'Movie190', 'Movie191',\n",
       "       'Movie192', 'Movie193', 'Movie194', 'Movie195', 'Movie196',\n",
       "       'Movie197', 'Movie198', 'Movie199', 'Movie200', 'Movie201',\n",
       "       'Movie202', 'Movie203', 'Movie204', 'Movie205', 'Movie206'],\n",
       "      dtype=object)"
      ]
     },
     "execution_count": 40,
     "metadata": {},
     "output_type": "execute_result"
    }
   ],
   "source": [
    "iids = ratings['item_id'].unique()\n",
    "iids"
   ]
  },
  {
   "cell_type": "code",
   "execution_count": 45,
   "id": "3d4f7726",
   "metadata": {
    "scrolled": true
   },
   "outputs": [
    {
     "name": "stdout",
     "output_type": "stream",
     "text": [
      "List of iid that uid = A3LKP6WPMP9UKX has rated:\n",
      "14546    Movie4\n",
      "Name: item_id, dtype: object\n"
     ]
    }
   ],
   "source": [
    "rec_A3LKP6WPMP9UKX = ratings[ratings['user_id'] == \"A3LKP6WPMP9UKX\"]\n",
    "iidsA3LKP6WPMP9UKX = rec_A3LKP6WPMP9UKX['item_id']\n",
    "print(\"List of iid that uid = {0} has rated:\".format(\"A3LKP6WPMP9UKX\"))\n",
    "print(iidsA3LKP6WPMP9UKX)"
   ]
  },
  {
   "cell_type": "code",
   "execution_count": 47,
   "id": "a82caaec",
   "metadata": {
    "scrolled": true
   },
   "outputs": [
    {
     "name": "stdout",
     "output_type": "stream",
     "text": [
      "List of iid which uid=A3LKP6WPMP9UKX did not rate(in all 205) :\n",
      "['Movie1' 'Movie10' 'Movie100' 'Movie101' 'Movie102' 'Movie103' 'Movie104'\n",
      " 'Movie105' 'Movie106' 'Movie107' 'Movie108' 'Movie109' 'Movie11'\n",
      " 'Movie110' 'Movie111' 'Movie112' 'Movie113' 'Movie114' 'Movie115'\n",
      " 'Movie116' 'Movie117' 'Movie118' 'Movie119' 'Movie12' 'Movie120'\n",
      " 'Movie121' 'Movie122' 'Movie123' 'Movie124' 'Movie125' 'Movie126'\n",
      " 'Movie127' 'Movie128' 'Movie129' 'Movie13' 'Movie130' 'Movie131'\n",
      " 'Movie132' 'Movie133' 'Movie134' 'Movie135' 'Movie136' 'Movie137'\n",
      " 'Movie138' 'Movie139' 'Movie14' 'Movie140' 'Movie141' 'Movie142'\n",
      " 'Movie143' 'Movie144' 'Movie145' 'Movie146' 'Movie147' 'Movie148'\n",
      " 'Movie149' 'Movie15' 'Movie150' 'Movie151' 'Movie152' 'Movie153'\n",
      " 'Movie154' 'Movie155' 'Movie156' 'Movie157' 'Movie158' 'Movie159'\n",
      " 'Movie16' 'Movie160' 'Movie161' 'Movie162' 'Movie163' 'Movie164'\n",
      " 'Movie165' 'Movie166' 'Movie167' 'Movie168' 'Movie169' 'Movie17'\n",
      " 'Movie170' 'Movie171' 'Movie172' 'Movie173' 'Movie174' 'Movie175'\n",
      " 'Movie176' 'Movie177' 'Movie178' 'Movie179' 'Movie18' 'Movie180'\n",
      " 'Movie181' 'Movie182' 'Movie183' 'Movie184' 'Movie185' 'Movie186'\n",
      " 'Movie187' 'Movie188' 'Movie189' 'Movie19' 'Movie190' 'Movie191'\n",
      " 'Movie192' 'Movie193' 'Movie194' 'Movie195' 'Movie196' 'Movie197'\n",
      " 'Movie198' 'Movie199' 'Movie2' 'Movie20' 'Movie200' 'Movie201' 'Movie202'\n",
      " 'Movie203' 'Movie204' 'Movie205' 'Movie206' 'Movie21' 'Movie22' 'Movie23'\n",
      " 'Movie24' 'Movie25' 'Movie26' 'Movie27' 'Movie28' 'Movie29' 'Movie3'\n",
      " 'Movie30' 'Movie31' 'Movie32' 'Movie33' 'Movie34' 'Movie35' 'Movie36'\n",
      " 'Movie37' 'Movie38' 'Movie39' 'Movie40' 'Movie41' 'Movie42' 'Movie43'\n",
      " 'Movie44' 'Movie45' 'Movie46' 'Movie47' 'Movie48' 'Movie49' 'Movie5'\n",
      " 'Movie50' 'Movie51' 'Movie52' 'Movie53' 'Movie54' 'Movie55' 'Movie56'\n",
      " 'Movie57' 'Movie58' 'Movie59' 'Movie6' 'Movie60' 'Movie61' 'Movie62'\n",
      " 'Movie63' 'Movie64' 'Movie65' 'Movie66' 'Movie67' 'Movie68' 'Movie69'\n",
      " 'Movie7' 'Movie70' 'Movie71' 'Movie72' 'Movie73' 'Movie74' 'Movie75'\n",
      " 'Movie76' 'Movie77' 'Movie78' 'Movie79' 'Movie8' 'Movie80' 'Movie81'\n",
      " 'Movie82' 'Movie83' 'Movie84' 'Movie85' 'Movie86' 'Movie87' 'Movie88'\n",
      " 'Movie89' 'Movie9' 'Movie90' 'Movie91' 'Movie92' 'Movie93' 'Movie94'\n",
      " 'Movie95' 'Movie96' 'Movie97' 'Movie98' 'Movie99']\n"
     ]
    }
   ],
   "source": [
    "iids_to_predict = np.setdiff1d(iids,iidsA3LKP6WPMP9UKX)\n",
    "print(\"List of iid which uid={0} did not rate(in all {1}) :\".format(\"A3LKP6WPMP9UKX\",len(iids_to_predict)))\n",
    "print(iids_to_predict)"
   ]
  },
  {
   "cell_type": "code",
   "execution_count": 48,
   "id": "aff5ab15",
   "metadata": {},
   "outputs": [
    {
     "data": {
      "text/plain": [
       "[['A3LKP6WPMP9UKX', 'Movie1', 0.0],\n",
       " ['A3LKP6WPMP9UKX', 'Movie10', 0.0],\n",
       " ['A3LKP6WPMP9UKX', 'Movie100', 0.0],\n",
       " ['A3LKP6WPMP9UKX', 'Movie101', 0.0],\n",
       " ['A3LKP6WPMP9UKX', 'Movie102', 0.0],\n",
       " ['A3LKP6WPMP9UKX', 'Movie103', 0.0],\n",
       " ['A3LKP6WPMP9UKX', 'Movie104', 0.0],\n",
       " ['A3LKP6WPMP9UKX', 'Movie105', 0.0],\n",
       " ['A3LKP6WPMP9UKX', 'Movie106', 0.0],\n",
       " ['A3LKP6WPMP9UKX', 'Movie107', 0.0],\n",
       " ['A3LKP6WPMP9UKX', 'Movie108', 0.0],\n",
       " ['A3LKP6WPMP9UKX', 'Movie109', 0.0],\n",
       " ['A3LKP6WPMP9UKX', 'Movie11', 0.0],\n",
       " ['A3LKP6WPMP9UKX', 'Movie110', 0.0],\n",
       " ['A3LKP6WPMP9UKX', 'Movie111', 0.0],\n",
       " ['A3LKP6WPMP9UKX', 'Movie112', 0.0],\n",
       " ['A3LKP6WPMP9UKX', 'Movie113', 0.0],\n",
       " ['A3LKP6WPMP9UKX', 'Movie114', 0.0],\n",
       " ['A3LKP6WPMP9UKX', 'Movie115', 0.0],\n",
       " ['A3LKP6WPMP9UKX', 'Movie116', 0.0],\n",
       " ['A3LKP6WPMP9UKX', 'Movie117', 0.0],\n",
       " ['A3LKP6WPMP9UKX', 'Movie118', 0.0],\n",
       " ['A3LKP6WPMP9UKX', 'Movie119', 0.0],\n",
       " ['A3LKP6WPMP9UKX', 'Movie12', 0.0],\n",
       " ['A3LKP6WPMP9UKX', 'Movie120', 0.0],\n",
       " ['A3LKP6WPMP9UKX', 'Movie121', 0.0],\n",
       " ['A3LKP6WPMP9UKX', 'Movie122', 0.0],\n",
       " ['A3LKP6WPMP9UKX', 'Movie123', 0.0],\n",
       " ['A3LKP6WPMP9UKX', 'Movie124', 0.0],\n",
       " ['A3LKP6WPMP9UKX', 'Movie125', 0.0],\n",
       " ['A3LKP6WPMP9UKX', 'Movie126', 0.0],\n",
       " ['A3LKP6WPMP9UKX', 'Movie127', 0.0],\n",
       " ['A3LKP6WPMP9UKX', 'Movie128', 0.0],\n",
       " ['A3LKP6WPMP9UKX', 'Movie129', 0.0],\n",
       " ['A3LKP6WPMP9UKX', 'Movie13', 0.0],\n",
       " ['A3LKP6WPMP9UKX', 'Movie130', 0.0],\n",
       " ['A3LKP6WPMP9UKX', 'Movie131', 0.0],\n",
       " ['A3LKP6WPMP9UKX', 'Movie132', 0.0],\n",
       " ['A3LKP6WPMP9UKX', 'Movie133', 0.0],\n",
       " ['A3LKP6WPMP9UKX', 'Movie134', 0.0],\n",
       " ['A3LKP6WPMP9UKX', 'Movie135', 0.0],\n",
       " ['A3LKP6WPMP9UKX', 'Movie136', 0.0],\n",
       " ['A3LKP6WPMP9UKX', 'Movie137', 0.0],\n",
       " ['A3LKP6WPMP9UKX', 'Movie138', 0.0],\n",
       " ['A3LKP6WPMP9UKX', 'Movie139', 0.0],\n",
       " ['A3LKP6WPMP9UKX', 'Movie14', 0.0],\n",
       " ['A3LKP6WPMP9UKX', 'Movie140', 0.0],\n",
       " ['A3LKP6WPMP9UKX', 'Movie141', 0.0],\n",
       " ['A3LKP6WPMP9UKX', 'Movie142', 0.0],\n",
       " ['A3LKP6WPMP9UKX', 'Movie143', 0.0],\n",
       " ['A3LKP6WPMP9UKX', 'Movie144', 0.0],\n",
       " ['A3LKP6WPMP9UKX', 'Movie145', 0.0],\n",
       " ['A3LKP6WPMP9UKX', 'Movie146', 0.0],\n",
       " ['A3LKP6WPMP9UKX', 'Movie147', 0.0],\n",
       " ['A3LKP6WPMP9UKX', 'Movie148', 0.0],\n",
       " ['A3LKP6WPMP9UKX', 'Movie149', 0.0],\n",
       " ['A3LKP6WPMP9UKX', 'Movie15', 0.0],\n",
       " ['A3LKP6WPMP9UKX', 'Movie150', 0.0],\n",
       " ['A3LKP6WPMP9UKX', 'Movie151', 0.0],\n",
       " ['A3LKP6WPMP9UKX', 'Movie152', 0.0],\n",
       " ['A3LKP6WPMP9UKX', 'Movie153', 0.0],\n",
       " ['A3LKP6WPMP9UKX', 'Movie154', 0.0],\n",
       " ['A3LKP6WPMP9UKX', 'Movie155', 0.0],\n",
       " ['A3LKP6WPMP9UKX', 'Movie156', 0.0],\n",
       " ['A3LKP6WPMP9UKX', 'Movie157', 0.0],\n",
       " ['A3LKP6WPMP9UKX', 'Movie158', 0.0],\n",
       " ['A3LKP6WPMP9UKX', 'Movie159', 0.0],\n",
       " ['A3LKP6WPMP9UKX', 'Movie16', 0.0],\n",
       " ['A3LKP6WPMP9UKX', 'Movie160', 0.0],\n",
       " ['A3LKP6WPMP9UKX', 'Movie161', 0.0],\n",
       " ['A3LKP6WPMP9UKX', 'Movie162', 0.0],\n",
       " ['A3LKP6WPMP9UKX', 'Movie163', 0.0],\n",
       " ['A3LKP6WPMP9UKX', 'Movie164', 0.0],\n",
       " ['A3LKP6WPMP9UKX', 'Movie165', 0.0],\n",
       " ['A3LKP6WPMP9UKX', 'Movie166', 0.0],\n",
       " ['A3LKP6WPMP9UKX', 'Movie167', 0.0],\n",
       " ['A3LKP6WPMP9UKX', 'Movie168', 0.0],\n",
       " ['A3LKP6WPMP9UKX', 'Movie169', 0.0],\n",
       " ['A3LKP6WPMP9UKX', 'Movie17', 0.0],\n",
       " ['A3LKP6WPMP9UKX', 'Movie170', 0.0],\n",
       " ['A3LKP6WPMP9UKX', 'Movie171', 0.0],\n",
       " ['A3LKP6WPMP9UKX', 'Movie172', 0.0],\n",
       " ['A3LKP6WPMP9UKX', 'Movie173', 0.0],\n",
       " ['A3LKP6WPMP9UKX', 'Movie174', 0.0],\n",
       " ['A3LKP6WPMP9UKX', 'Movie175', 0.0],\n",
       " ['A3LKP6WPMP9UKX', 'Movie176', 0.0],\n",
       " ['A3LKP6WPMP9UKX', 'Movie177', 0.0],\n",
       " ['A3LKP6WPMP9UKX', 'Movie178', 0.0],\n",
       " ['A3LKP6WPMP9UKX', 'Movie179', 0.0],\n",
       " ['A3LKP6WPMP9UKX', 'Movie18', 0.0],\n",
       " ['A3LKP6WPMP9UKX', 'Movie180', 0.0],\n",
       " ['A3LKP6WPMP9UKX', 'Movie181', 0.0],\n",
       " ['A3LKP6WPMP9UKX', 'Movie182', 0.0],\n",
       " ['A3LKP6WPMP9UKX', 'Movie183', 0.0],\n",
       " ['A3LKP6WPMP9UKX', 'Movie184', 0.0],\n",
       " ['A3LKP6WPMP9UKX', 'Movie185', 0.0],\n",
       " ['A3LKP6WPMP9UKX', 'Movie186', 0.0],\n",
       " ['A3LKP6WPMP9UKX', 'Movie187', 0.0],\n",
       " ['A3LKP6WPMP9UKX', 'Movie188', 0.0],\n",
       " ['A3LKP6WPMP9UKX', 'Movie189', 0.0],\n",
       " ['A3LKP6WPMP9UKX', 'Movie19', 0.0],\n",
       " ['A3LKP6WPMP9UKX', 'Movie190', 0.0],\n",
       " ['A3LKP6WPMP9UKX', 'Movie191', 0.0],\n",
       " ['A3LKP6WPMP9UKX', 'Movie192', 0.0],\n",
       " ['A3LKP6WPMP9UKX', 'Movie193', 0.0],\n",
       " ['A3LKP6WPMP9UKX', 'Movie194', 0.0],\n",
       " ['A3LKP6WPMP9UKX', 'Movie195', 0.0],\n",
       " ['A3LKP6WPMP9UKX', 'Movie196', 0.0],\n",
       " ['A3LKP6WPMP9UKX', 'Movie197', 0.0],\n",
       " ['A3LKP6WPMP9UKX', 'Movie198', 0.0],\n",
       " ['A3LKP6WPMP9UKX', 'Movie199', 0.0],\n",
       " ['A3LKP6WPMP9UKX', 'Movie2', 0.0],\n",
       " ['A3LKP6WPMP9UKX', 'Movie20', 0.0],\n",
       " ['A3LKP6WPMP9UKX', 'Movie200', 0.0],\n",
       " ['A3LKP6WPMP9UKX', 'Movie201', 0.0],\n",
       " ['A3LKP6WPMP9UKX', 'Movie202', 0.0],\n",
       " ['A3LKP6WPMP9UKX', 'Movie203', 0.0],\n",
       " ['A3LKP6WPMP9UKX', 'Movie204', 0.0],\n",
       " ['A3LKP6WPMP9UKX', 'Movie205', 0.0],\n",
       " ['A3LKP6WPMP9UKX', 'Movie206', 0.0],\n",
       " ['A3LKP6WPMP9UKX', 'Movie21', 0.0],\n",
       " ['A3LKP6WPMP9UKX', 'Movie22', 0.0],\n",
       " ['A3LKP6WPMP9UKX', 'Movie23', 0.0],\n",
       " ['A3LKP6WPMP9UKX', 'Movie24', 0.0],\n",
       " ['A3LKP6WPMP9UKX', 'Movie25', 0.0],\n",
       " ['A3LKP6WPMP9UKX', 'Movie26', 0.0],\n",
       " ['A3LKP6WPMP9UKX', 'Movie27', 0.0],\n",
       " ['A3LKP6WPMP9UKX', 'Movie28', 0.0],\n",
       " ['A3LKP6WPMP9UKX', 'Movie29', 0.0],\n",
       " ['A3LKP6WPMP9UKX', 'Movie3', 0.0],\n",
       " ['A3LKP6WPMP9UKX', 'Movie30', 0.0],\n",
       " ['A3LKP6WPMP9UKX', 'Movie31', 0.0],\n",
       " ['A3LKP6WPMP9UKX', 'Movie32', 0.0],\n",
       " ['A3LKP6WPMP9UKX', 'Movie33', 0.0],\n",
       " ['A3LKP6WPMP9UKX', 'Movie34', 0.0],\n",
       " ['A3LKP6WPMP9UKX', 'Movie35', 0.0],\n",
       " ['A3LKP6WPMP9UKX', 'Movie36', 0.0],\n",
       " ['A3LKP6WPMP9UKX', 'Movie37', 0.0],\n",
       " ['A3LKP6WPMP9UKX', 'Movie38', 0.0],\n",
       " ['A3LKP6WPMP9UKX', 'Movie39', 0.0],\n",
       " ['A3LKP6WPMP9UKX', 'Movie40', 0.0],\n",
       " ['A3LKP6WPMP9UKX', 'Movie41', 0.0],\n",
       " ['A3LKP6WPMP9UKX', 'Movie42', 0.0],\n",
       " ['A3LKP6WPMP9UKX', 'Movie43', 0.0],\n",
       " ['A3LKP6WPMP9UKX', 'Movie44', 0.0],\n",
       " ['A3LKP6WPMP9UKX', 'Movie45', 0.0],\n",
       " ['A3LKP6WPMP9UKX', 'Movie46', 0.0],\n",
       " ['A3LKP6WPMP9UKX', 'Movie47', 0.0],\n",
       " ['A3LKP6WPMP9UKX', 'Movie48', 0.0],\n",
       " ['A3LKP6WPMP9UKX', 'Movie49', 0.0],\n",
       " ['A3LKP6WPMP9UKX', 'Movie5', 0.0],\n",
       " ['A3LKP6WPMP9UKX', 'Movie50', 0.0],\n",
       " ['A3LKP6WPMP9UKX', 'Movie51', 0.0],\n",
       " ['A3LKP6WPMP9UKX', 'Movie52', 0.0],\n",
       " ['A3LKP6WPMP9UKX', 'Movie53', 0.0],\n",
       " ['A3LKP6WPMP9UKX', 'Movie54', 0.0],\n",
       " ['A3LKP6WPMP9UKX', 'Movie55', 0.0],\n",
       " ['A3LKP6WPMP9UKX', 'Movie56', 0.0],\n",
       " ['A3LKP6WPMP9UKX', 'Movie57', 0.0],\n",
       " ['A3LKP6WPMP9UKX', 'Movie58', 0.0],\n",
       " ['A3LKP6WPMP9UKX', 'Movie59', 0.0],\n",
       " ['A3LKP6WPMP9UKX', 'Movie6', 0.0],\n",
       " ['A3LKP6WPMP9UKX', 'Movie60', 0.0],\n",
       " ['A3LKP6WPMP9UKX', 'Movie61', 0.0],\n",
       " ['A3LKP6WPMP9UKX', 'Movie62', 0.0],\n",
       " ['A3LKP6WPMP9UKX', 'Movie63', 0.0],\n",
       " ['A3LKP6WPMP9UKX', 'Movie64', 0.0],\n",
       " ['A3LKP6WPMP9UKX', 'Movie65', 0.0],\n",
       " ['A3LKP6WPMP9UKX', 'Movie66', 0.0],\n",
       " ['A3LKP6WPMP9UKX', 'Movie67', 0.0],\n",
       " ['A3LKP6WPMP9UKX', 'Movie68', 0.0],\n",
       " ['A3LKP6WPMP9UKX', 'Movie69', 0.0],\n",
       " ['A3LKP6WPMP9UKX', 'Movie7', 0.0],\n",
       " ['A3LKP6WPMP9UKX', 'Movie70', 0.0],\n",
       " ['A3LKP6WPMP9UKX', 'Movie71', 0.0],\n",
       " ['A3LKP6WPMP9UKX', 'Movie72', 0.0],\n",
       " ['A3LKP6WPMP9UKX', 'Movie73', 0.0],\n",
       " ['A3LKP6WPMP9UKX', 'Movie74', 0.0],\n",
       " ['A3LKP6WPMP9UKX', 'Movie75', 0.0],\n",
       " ['A3LKP6WPMP9UKX', 'Movie76', 0.0],\n",
       " ['A3LKP6WPMP9UKX', 'Movie77', 0.0],\n",
       " ['A3LKP6WPMP9UKX', 'Movie78', 0.0],\n",
       " ['A3LKP6WPMP9UKX', 'Movie79', 0.0],\n",
       " ['A3LKP6WPMP9UKX', 'Movie8', 0.0],\n",
       " ['A3LKP6WPMP9UKX', 'Movie80', 0.0],\n",
       " ['A3LKP6WPMP9UKX', 'Movie81', 0.0],\n",
       " ['A3LKP6WPMP9UKX', 'Movie82', 0.0],\n",
       " ['A3LKP6WPMP9UKX', 'Movie83', 0.0],\n",
       " ['A3LKP6WPMP9UKX', 'Movie84', 0.0],\n",
       " ['A3LKP6WPMP9UKX', 'Movie85', 0.0],\n",
       " ['A3LKP6WPMP9UKX', 'Movie86', 0.0],\n",
       " ['A3LKP6WPMP9UKX', 'Movie87', 0.0],\n",
       " ['A3LKP6WPMP9UKX', 'Movie88', 0.0],\n",
       " ['A3LKP6WPMP9UKX', 'Movie89', 0.0],\n",
       " ['A3LKP6WPMP9UKX', 'Movie9', 0.0],\n",
       " ['A3LKP6WPMP9UKX', 'Movie90', 0.0],\n",
       " ['A3LKP6WPMP9UKX', 'Movie91', 0.0],\n",
       " ['A3LKP6WPMP9UKX', 'Movie92', 0.0],\n",
       " ['A3LKP6WPMP9UKX', 'Movie93', 0.0],\n",
       " ['A3LKP6WPMP9UKX', 'Movie94', 0.0],\n",
       " ['A3LKP6WPMP9UKX', 'Movie95', 0.0],\n",
       " ['A3LKP6WPMP9UKX', 'Movie96', 0.0],\n",
       " ['A3LKP6WPMP9UKX', 'Movie97', 0.0],\n",
       " ['A3LKP6WPMP9UKX', 'Movie98', 0.0],\n",
       " ['A3LKP6WPMP9UKX', 'Movie99', 0.0]]"
      ]
     },
     "execution_count": 48,
     "metadata": {},
     "output_type": "execute_result"
    }
   ],
   "source": [
    "testset = [[\"A3LKP6WPMP9UKX\",iid,0.] for iid in iids_to_predict]\n",
    "testset"
   ]
  },
  {
   "cell_type": "markdown",
   "id": "8271ddf5",
   "metadata": {},
   "source": [
    "Generate predictions on testset"
   ]
  },
  {
   "cell_type": "code",
   "execution_count": 49,
   "id": "a65652cf",
   "metadata": {},
   "outputs": [
    {
     "data": {
      "text/plain": [
       "Prediction(uid='A3LKP6WPMP9UKX', iid='Movie103', r_ui=0.0, est=4.3856, details={'was_impossible': True, 'reason': 'Not enough neighbors.'})"
      ]
     },
     "execution_count": 49,
     "metadata": {},
     "output_type": "execute_result"
    }
   ],
   "source": [
    "predictions = algo.test(testset)\n",
    "predictions[5]"
   ]
  },
  {
   "cell_type": "code",
   "execution_count": null,
   "id": "5f82e33e",
   "metadata": {},
   "outputs": [],
   "source": []
  },
  {
   "cell_type": "code",
   "execution_count": null,
   "id": "548a23b2",
   "metadata": {},
   "outputs": [],
   "source": []
  },
  {
   "cell_type": "code",
   "execution_count": null,
   "id": "2010274f",
   "metadata": {},
   "outputs": [],
   "source": []
  },
  {
   "cell_type": "code",
   "execution_count": null,
   "id": "94909d15",
   "metadata": {},
   "outputs": [],
   "source": []
  },
  {
   "cell_type": "code",
   "execution_count": null,
   "id": "44e9ba41",
   "metadata": {},
   "outputs": [],
   "source": []
  },
  {
   "cell_type": "code",
   "execution_count": null,
   "id": "c6398bf6",
   "metadata": {},
   "outputs": [],
   "source": []
  },
  {
   "cell_type": "code",
   "execution_count": null,
   "id": "812743e1",
   "metadata": {},
   "outputs": [],
   "source": []
  },
  {
   "cell_type": "code",
   "execution_count": null,
   "id": "bbbe95ac",
   "metadata": {},
   "outputs": [],
   "source": []
  },
  {
   "cell_type": "code",
   "execution_count": null,
   "id": "233c8a0e",
   "metadata": {},
   "outputs": [],
   "source": []
  },
  {
   "cell_type": "code",
   "execution_count": null,
   "id": "2013cbba",
   "metadata": {},
   "outputs": [],
   "source": []
  },
  {
   "cell_type": "code",
   "execution_count": null,
   "id": "acc3dd45",
   "metadata": {},
   "outputs": [],
   "source": []
  },
  {
   "cell_type": "code",
   "execution_count": null,
   "id": "afac121b",
   "metadata": {},
   "outputs": [],
   "source": []
  },
  {
   "cell_type": "code",
   "execution_count": null,
   "id": "6c8a1c3d",
   "metadata": {},
   "outputs": [],
   "source": []
  },
  {
   "cell_type": "code",
   "execution_count": null,
   "id": "30444d07",
   "metadata": {},
   "outputs": [],
   "source": []
  },
  {
   "cell_type": "code",
   "execution_count": null,
   "id": "1422c694",
   "metadata": {},
   "outputs": [],
   "source": []
  },
  {
   "cell_type": "code",
   "execution_count": null,
   "id": "933fc42e",
   "metadata": {},
   "outputs": [],
   "source": []
  },
  {
   "cell_type": "code",
   "execution_count": null,
   "id": "39dbc315",
   "metadata": {},
   "outputs": [],
   "source": []
  },
  {
   "cell_type": "code",
   "execution_count": null,
   "id": "768f5da2",
   "metadata": {},
   "outputs": [],
   "source": []
  }
 ],
 "metadata": {
  "kernelspec": {
   "display_name": "Python 3 (ipykernel)",
   "language": "python",
   "name": "python3"
  },
  "language_info": {
   "codemirror_mode": {
    "name": "ipython",
    "version": 3
   },
   "file_extension": ".py",
   "mimetype": "text/x-python",
   "name": "python",
   "nbconvert_exporter": "python",
   "pygments_lexer": "ipython3",
   "version": "3.9.13"
  }
 },
 "nbformat": 4,
 "nbformat_minor": 5
}
