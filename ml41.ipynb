{
 "cells": [
  {
   "cell_type": "code",
   "execution_count": 1,
   "id": "4c1a2906",
   "metadata": {},
   "outputs": [],
   "source": [
    "import pandas as pd\n",
    "import numpy as np\n",
    "\n",
    "from sklearn.metrics import accuracy_score, roc_auc_score\n",
    "from sklearn.model_selection import GridSearchCV\n",
    "from sklearn.model_selection import KFold, StratifiedKFold\n",
    "from sklearn.model_selection import train_test_split\n",
    "from sklearn.ensemble import RandomForestClassifier"
   ]
  },
  {
   "cell_type": "code",
   "execution_count": 2,
   "id": "b96c2e93",
   "metadata": {},
   "outputs": [],
   "source": [
    "hr = pd.read_csv(\"C:\\Hogwarts\\machine_learning\\Cases\\human-resources-analytics\\HR_comma_sep.csv\")"
   ]
  },
  {
   "cell_type": "code",
   "execution_count": 3,
   "id": "697a96a4",
   "metadata": {},
   "outputs": [
    {
     "data": {
      "text/html": [
       "<div>\n",
       "<style scoped>\n",
       "    .dataframe tbody tr th:only-of-type {\n",
       "        vertical-align: middle;\n",
       "    }\n",
       "\n",
       "    .dataframe tbody tr th {\n",
       "        vertical-align: top;\n",
       "    }\n",
       "\n",
       "    .dataframe thead th {\n",
       "        text-align: right;\n",
       "    }\n",
       "</style>\n",
       "<table border=\"1\" class=\"dataframe\">\n",
       "  <thead>\n",
       "    <tr style=\"text-align: right;\">\n",
       "      <th></th>\n",
       "      <th>satisfaction_level</th>\n",
       "      <th>last_evaluation</th>\n",
       "      <th>number_project</th>\n",
       "      <th>average_montly_hours</th>\n",
       "      <th>time_spend_company</th>\n",
       "      <th>Work_accident</th>\n",
       "      <th>left</th>\n",
       "      <th>promotion_last_5years</th>\n",
       "      <th>Department</th>\n",
       "      <th>salary</th>\n",
       "    </tr>\n",
       "  </thead>\n",
       "  <tbody>\n",
       "    <tr>\n",
       "      <th>0</th>\n",
       "      <td>0.38</td>\n",
       "      <td>0.53</td>\n",
       "      <td>2</td>\n",
       "      <td>157</td>\n",
       "      <td>3</td>\n",
       "      <td>0</td>\n",
       "      <td>1</td>\n",
       "      <td>0</td>\n",
       "      <td>sales</td>\n",
       "      <td>low</td>\n",
       "    </tr>\n",
       "    <tr>\n",
       "      <th>1</th>\n",
       "      <td>0.80</td>\n",
       "      <td>0.86</td>\n",
       "      <td>5</td>\n",
       "      <td>262</td>\n",
       "      <td>6</td>\n",
       "      <td>0</td>\n",
       "      <td>1</td>\n",
       "      <td>0</td>\n",
       "      <td>sales</td>\n",
       "      <td>medium</td>\n",
       "    </tr>\n",
       "    <tr>\n",
       "      <th>2</th>\n",
       "      <td>0.11</td>\n",
       "      <td>0.88</td>\n",
       "      <td>7</td>\n",
       "      <td>272</td>\n",
       "      <td>4</td>\n",
       "      <td>0</td>\n",
       "      <td>1</td>\n",
       "      <td>0</td>\n",
       "      <td>sales</td>\n",
       "      <td>medium</td>\n",
       "    </tr>\n",
       "    <tr>\n",
       "      <th>3</th>\n",
       "      <td>0.72</td>\n",
       "      <td>0.87</td>\n",
       "      <td>5</td>\n",
       "      <td>223</td>\n",
       "      <td>5</td>\n",
       "      <td>0</td>\n",
       "      <td>1</td>\n",
       "      <td>0</td>\n",
       "      <td>sales</td>\n",
       "      <td>low</td>\n",
       "    </tr>\n",
       "    <tr>\n",
       "      <th>4</th>\n",
       "      <td>0.37</td>\n",
       "      <td>0.52</td>\n",
       "      <td>2</td>\n",
       "      <td>159</td>\n",
       "      <td>3</td>\n",
       "      <td>0</td>\n",
       "      <td>1</td>\n",
       "      <td>0</td>\n",
       "      <td>sales</td>\n",
       "      <td>low</td>\n",
       "    </tr>\n",
       "  </tbody>\n",
       "</table>\n",
       "</div>"
      ],
      "text/plain": [
       "   satisfaction_level  last_evaluation  number_project  average_montly_hours  \\\n",
       "0                0.38             0.53               2                   157   \n",
       "1                0.80             0.86               5                   262   \n",
       "2                0.11             0.88               7                   272   \n",
       "3                0.72             0.87               5                   223   \n",
       "4                0.37             0.52               2                   159   \n",
       "\n",
       "   time_spend_company  Work_accident  left  promotion_last_5years Department  \\\n",
       "0                   3              0     1                      0      sales   \n",
       "1                   6              0     1                      0      sales   \n",
       "2                   4              0     1                      0      sales   \n",
       "3                   5              0     1                      0      sales   \n",
       "4                   3              0     1                      0      sales   \n",
       "\n",
       "   salary  \n",
       "0     low  \n",
       "1  medium  \n",
       "2  medium  \n",
       "3     low  \n",
       "4     low  "
      ]
     },
     "execution_count": 3,
     "metadata": {},
     "output_type": "execute_result"
    }
   ],
   "source": [
    "hr.head()"
   ]
  },
  {
   "cell_type": "code",
   "execution_count": 11,
   "id": "e16d19cb",
   "metadata": {},
   "outputs": [],
   "source": [
    "X = hr.drop(['left',\"Department\",\"salary\" ] , axis =1)\n",
    "y = hr['left']"
   ]
  },
  {
   "cell_type": "code",
   "execution_count": 12,
   "id": "557391b6",
   "metadata": {},
   "outputs": [],
   "source": [
    "X_train, X_test, y_train, y_test = train_test_split(X,\n",
    "                                                    y,\n",
    "                                                    stratify = y,\n",
    "                                                    random_state = 2022,\n",
    "                                                    train_size = 0.7)"
   ]
  },
  {
   "cell_type": "code",
   "execution_count": 13,
   "id": "346e0b24",
   "metadata": {},
   "outputs": [],
   "source": [
    "rf = RandomForestClassifier(random_state = 2022)"
   ]
  },
  {
   "cell_type": "code",
   "execution_count": null,
   "id": "8da2d996",
   "metadata": {},
   "outputs": [],
   "source": []
  },
  {
   "cell_type": "code",
   "execution_count": 14,
   "id": "e6e56a90",
   "metadata": {},
   "outputs": [
    {
     "data": {
      "text/html": [
       "<style>#sk-container-id-1 {color: black;background-color: white;}#sk-container-id-1 pre{padding: 0;}#sk-container-id-1 div.sk-toggleable {background-color: white;}#sk-container-id-1 label.sk-toggleable__label {cursor: pointer;display: block;width: 100%;margin-bottom: 0;padding: 0.3em;box-sizing: border-box;text-align: center;}#sk-container-id-1 label.sk-toggleable__label-arrow:before {content: \"▸\";float: left;margin-right: 0.25em;color: #696969;}#sk-container-id-1 label.sk-toggleable__label-arrow:hover:before {color: black;}#sk-container-id-1 div.sk-estimator:hover label.sk-toggleable__label-arrow:before {color: black;}#sk-container-id-1 div.sk-toggleable__content {max-height: 0;max-width: 0;overflow: hidden;text-align: left;background-color: #f0f8ff;}#sk-container-id-1 div.sk-toggleable__content pre {margin: 0.2em;color: black;border-radius: 0.25em;background-color: #f0f8ff;}#sk-container-id-1 input.sk-toggleable__control:checked~div.sk-toggleable__content {max-height: 200px;max-width: 100%;overflow: auto;}#sk-container-id-1 input.sk-toggleable__control:checked~label.sk-toggleable__label-arrow:before {content: \"▾\";}#sk-container-id-1 div.sk-estimator input.sk-toggleable__control:checked~label.sk-toggleable__label {background-color: #d4ebff;}#sk-container-id-1 div.sk-label input.sk-toggleable__control:checked~label.sk-toggleable__label {background-color: #d4ebff;}#sk-container-id-1 input.sk-hidden--visually {border: 0;clip: rect(1px 1px 1px 1px);clip: rect(1px, 1px, 1px, 1px);height: 1px;margin: -1px;overflow: hidden;padding: 0;position: absolute;width: 1px;}#sk-container-id-1 div.sk-estimator {font-family: monospace;background-color: #f0f8ff;border: 1px dotted black;border-radius: 0.25em;box-sizing: border-box;margin-bottom: 0.5em;}#sk-container-id-1 div.sk-estimator:hover {background-color: #d4ebff;}#sk-container-id-1 div.sk-parallel-item::after {content: \"\";width: 100%;border-bottom: 1px solid gray;flex-grow: 1;}#sk-container-id-1 div.sk-label:hover label.sk-toggleable__label {background-color: #d4ebff;}#sk-container-id-1 div.sk-serial::before {content: \"\";position: absolute;border-left: 1px solid gray;box-sizing: border-box;top: 0;bottom: 0;left: 50%;z-index: 0;}#sk-container-id-1 div.sk-serial {display: flex;flex-direction: column;align-items: center;background-color: white;padding-right: 0.2em;padding-left: 0.2em;position: relative;}#sk-container-id-1 div.sk-item {position: relative;z-index: 1;}#sk-container-id-1 div.sk-parallel {display: flex;align-items: stretch;justify-content: center;background-color: white;position: relative;}#sk-container-id-1 div.sk-item::before, #sk-container-id-1 div.sk-parallel-item::before {content: \"\";position: absolute;border-left: 1px solid gray;box-sizing: border-box;top: 0;bottom: 0;left: 50%;z-index: -1;}#sk-container-id-1 div.sk-parallel-item {display: flex;flex-direction: column;z-index: 1;position: relative;background-color: white;}#sk-container-id-1 div.sk-parallel-item:first-child::after {align-self: flex-end;width: 50%;}#sk-container-id-1 div.sk-parallel-item:last-child::after {align-self: flex-start;width: 50%;}#sk-container-id-1 div.sk-parallel-item:only-child::after {width: 0;}#sk-container-id-1 div.sk-dashed-wrapped {border: 1px dashed gray;margin: 0 0.4em 0.5em 0.4em;box-sizing: border-box;padding-bottom: 0.4em;background-color: white;}#sk-container-id-1 div.sk-label label {font-family: monospace;font-weight: bold;display: inline-block;line-height: 1.2em;}#sk-container-id-1 div.sk-label-container {text-align: center;}#sk-container-id-1 div.sk-container {/* jupyter's `normalize.less` sets `[hidden] { display: none; }` but bootstrap.min.css set `[hidden] { display: none !important; }` so we also need the `!important` here to be able to override the default hidden behavior on the sphinx rendered scikit-learn.org. See: https://github.com/scikit-learn/scikit-learn/issues/21755 */display: inline-block !important;position: relative;}#sk-container-id-1 div.sk-text-repr-fallback {display: none;}</style><div id=\"sk-container-id-1\" class=\"sk-top-container\"><div class=\"sk-text-repr-fallback\"><pre>RandomForestClassifier(random_state=2022)</pre><b>In a Jupyter environment, please rerun this cell to show the HTML representation or trust the notebook. <br />On GitHub, the HTML representation is unable to render, please try loading this page with nbviewer.org.</b></div><div class=\"sk-container\" hidden><div class=\"sk-item\"><div class=\"sk-estimator sk-toggleable\"><input class=\"sk-toggleable__control sk-hidden--visually\" id=\"sk-estimator-id-1\" type=\"checkbox\" checked><label for=\"sk-estimator-id-1\" class=\"sk-toggleable__label sk-toggleable__label-arrow\">RandomForestClassifier</label><div class=\"sk-toggleable__content\"><pre>RandomForestClassifier(random_state=2022)</pre></div></div></div></div></div>"
      ],
      "text/plain": [
       "RandomForestClassifier(random_state=2022)"
      ]
     },
     "execution_count": 14,
     "metadata": {},
     "output_type": "execute_result"
    }
   ],
   "source": [
    "rf.fit(X_train , y_train)"
   ]
  },
  {
   "cell_type": "code",
   "execution_count": 24,
   "id": "cd32c6d7",
   "metadata": {},
   "outputs": [],
   "source": [
    "kfold = StratifiedKFold(n_splits=5,\n",
    "                       shuffle = True,\n",
    "                       random_state =2022)"
   ]
  },
  {
   "cell_type": "code",
   "execution_count": 25,
   "id": "661fa7ff",
   "metadata": {},
   "outputs": [],
   "source": [
    "params = {\"max_features\":np.arange(3,15)}"
   ]
  },
  {
   "cell_type": "code",
   "execution_count": 26,
   "id": "638a4ac5",
   "metadata": {},
   "outputs": [],
   "source": [
    "gcv = GridSearchCV(rf,\n",
    "                  param_grid = params,\n",
    "                  cv = kfold,\n",
    "                  verbose = 3,\n",
    "                  scoring = \"roc_auc\")"
   ]
  },
  {
   "cell_type": "code",
   "execution_count": 27,
   "id": "a0106313",
   "metadata": {},
   "outputs": [
    {
     "name": "stdout",
     "output_type": "stream",
     "text": [
      "0.99\n"
     ]
    }
   ],
   "source": [
    "y_pred = rf.predict(X_test)\n",
    "print(accuracy_score(y_test, y_pred))"
   ]
  },
  {
   "cell_type": "code",
   "execution_count": 28,
   "id": "bfb06278",
   "metadata": {},
   "outputs": [
    {
     "name": "stdout",
     "output_type": "stream",
     "text": [
      "0.9915429961233061\n"
     ]
    }
   ],
   "source": [
    "y_pred_prob = rf.predict_proba(X_test)[:,1]\n",
    "print(roc_auc_score(y_test, y_pred_prob))"
   ]
  },
  {
   "cell_type": "markdown",
   "id": "68976f1c",
   "metadata": {},
   "source": [
    "# Using Grid Search"
   ]
  },
  {
   "cell_type": "code",
   "execution_count": 33,
   "id": "e9265d7b",
   "metadata": {},
   "outputs": [],
   "source": [
    "kfold = StratifiedKFold(n_splits=5,\n",
    "                       shuffle = True,\n",
    "                       random_state =2022)"
   ]
  },
  {
   "cell_type": "code",
   "execution_count": 34,
   "id": "f6b1dd5f",
   "metadata": {},
   "outputs": [],
   "source": [
    "params = {\"max_features\":np.arange(3,15)}"
   ]
  },
  {
   "cell_type": "code",
   "execution_count": 35,
   "id": "33577002",
   "metadata": {},
   "outputs": [],
   "source": [
    "gcv = GridSearchCV(rf,\n",
    "                  param_grid = params,\n",
    "                  cv = kfold,\n",
    "                  verbose = 3,\n",
    "                  scoring = \"roc_auc\")"
   ]
  },
  {
   "cell_type": "code",
   "execution_count": 36,
   "id": "7daaebfd",
   "metadata": {
    "scrolled": true
   },
   "outputs": [
    {
     "name": "stdout",
     "output_type": "stream",
     "text": [
      "Fitting 5 folds for each of 12 candidates, totalling 60 fits\n",
      "[CV 1/5] END ....................max_features=3;, score=0.993 total time=   0.9s\n",
      "[CV 2/5] END ....................max_features=3;, score=0.992 total time=   0.9s\n",
      "[CV 3/5] END ....................max_features=3;, score=0.996 total time=   1.0s\n",
      "[CV 4/5] END ....................max_features=3;, score=0.991 total time=   0.9s\n",
      "[CV 5/5] END ....................max_features=3;, score=0.996 total time=   0.9s\n",
      "[CV 1/5] END ....................max_features=4;, score=0.992 total time=   1.1s\n",
      "[CV 2/5] END ....................max_features=4;, score=0.993 total time=   1.1s\n",
      "[CV 3/5] END ....................max_features=4;, score=0.996 total time=   1.1s\n",
      "[CV 4/5] END ....................max_features=4;, score=0.991 total time=   1.1s\n",
      "[CV 5/5] END ....................max_features=4;, score=0.997 total time=   1.1s\n",
      "[CV 1/5] END ....................max_features=5;, score=0.993 total time=   1.4s\n",
      "[CV 2/5] END ....................max_features=5;, score=0.991 total time=   1.4s\n",
      "[CV 3/5] END ....................max_features=5;, score=0.995 total time=   1.3s\n",
      "[CV 4/5] END ....................max_features=5;, score=0.991 total time=   1.3s\n",
      "[CV 5/5] END ....................max_features=5;, score=0.995 total time=   1.4s\n",
      "[CV 1/5] END ....................max_features=6;, score=0.991 total time=   1.6s\n",
      "[CV 2/5] END ....................max_features=6;, score=0.992 total time=   1.6s\n",
      "[CV 3/5] END ....................max_features=6;, score=0.994 total time=   1.5s\n",
      "[CV 4/5] END ....................max_features=6;, score=0.991 total time=   1.6s\n",
      "[CV 5/5] END ....................max_features=6;, score=0.995 total time=   1.6s\n",
      "[CV 1/5] END ....................max_features=7;, score=0.990 total time=   1.8s\n",
      "[CV 2/5] END ....................max_features=7;, score=0.991 total time=   1.8s\n",
      "[CV 3/5] END ....................max_features=7;, score=0.993 total time=   1.8s\n",
      "[CV 4/5] END ....................max_features=7;, score=0.990 total time=   1.8s\n",
      "[CV 5/5] END ....................max_features=7;, score=0.993 total time=   1.7s\n",
      "[CV 1/5] END ....................max_features=8;, score=0.990 total time=   1.8s\n",
      "[CV 2/5] END ....................max_features=8;, score=0.991 total time=   1.8s\n",
      "[CV 3/5] END ....................max_features=8;, score=0.993 total time=   1.8s\n",
      "[CV 4/5] END ....................max_features=8;, score=0.990 total time=   1.8s\n",
      "[CV 5/5] END ....................max_features=8;, score=0.993 total time=   1.8s\n",
      "[CV 1/5] END ....................max_features=9;, score=0.990 total time=   1.7s\n",
      "[CV 2/5] END ....................max_features=9;, score=0.991 total time=   1.7s\n",
      "[CV 3/5] END ....................max_features=9;, score=0.993 total time=   1.7s\n",
      "[CV 4/5] END ....................max_features=9;, score=0.990 total time=   1.8s\n",
      "[CV 5/5] END ....................max_features=9;, score=0.993 total time=   1.8s\n",
      "[CV 1/5] END ...................max_features=10;, score=0.990 total time=   1.8s\n",
      "[CV 2/5] END ...................max_features=10;, score=0.991 total time=   1.7s\n",
      "[CV 3/5] END ...................max_features=10;, score=0.993 total time=   1.7s\n",
      "[CV 4/5] END ...................max_features=10;, score=0.990 total time=   1.7s\n",
      "[CV 5/5] END ...................max_features=10;, score=0.993 total time=   1.7s\n",
      "[CV 1/5] END ...................max_features=11;, score=0.990 total time=   1.7s\n",
      "[CV 2/5] END ...................max_features=11;, score=0.991 total time=   1.7s\n",
      "[CV 3/5] END ...................max_features=11;, score=0.993 total time=   1.7s\n",
      "[CV 4/5] END ...................max_features=11;, score=0.990 total time=   1.7s\n",
      "[CV 5/5] END ...................max_features=11;, score=0.993 total time=   1.7s\n",
      "[CV 1/5] END ...................max_features=12;, score=0.990 total time=   1.7s\n",
      "[CV 2/5] END ...................max_features=12;, score=0.991 total time=   1.7s\n",
      "[CV 3/5] END ...................max_features=12;, score=0.993 total time=   1.7s\n",
      "[CV 4/5] END ...................max_features=12;, score=0.990 total time=   1.7s\n",
      "[CV 5/5] END ...................max_features=12;, score=0.993 total time=   1.7s\n",
      "[CV 1/5] END ...................max_features=13;, score=0.990 total time=   1.7s\n",
      "[CV 2/5] END ...................max_features=13;, score=0.991 total time=   1.7s\n",
      "[CV 3/5] END ...................max_features=13;, score=0.993 total time=   1.7s\n",
      "[CV 4/5] END ...................max_features=13;, score=0.990 total time=   1.7s\n",
      "[CV 5/5] END ...................max_features=13;, score=0.993 total time=   1.7s\n",
      "[CV 1/5] END ...................max_features=14;, score=0.990 total time=   1.7s\n",
      "[CV 2/5] END ...................max_features=14;, score=0.991 total time=   1.7s\n",
      "[CV 3/5] END ...................max_features=14;, score=0.993 total time=   1.7s\n",
      "[CV 4/5] END ...................max_features=14;, score=0.990 total time=   1.7s\n",
      "[CV 5/5] END ...................max_features=14;, score=0.993 total time=   1.8s\n"
     ]
    },
    {
     "data": {
      "text/html": [
       "<style>#sk-container-id-2 {color: black;background-color: white;}#sk-container-id-2 pre{padding: 0;}#sk-container-id-2 div.sk-toggleable {background-color: white;}#sk-container-id-2 label.sk-toggleable__label {cursor: pointer;display: block;width: 100%;margin-bottom: 0;padding: 0.3em;box-sizing: border-box;text-align: center;}#sk-container-id-2 label.sk-toggleable__label-arrow:before {content: \"▸\";float: left;margin-right: 0.25em;color: #696969;}#sk-container-id-2 label.sk-toggleable__label-arrow:hover:before {color: black;}#sk-container-id-2 div.sk-estimator:hover label.sk-toggleable__label-arrow:before {color: black;}#sk-container-id-2 div.sk-toggleable__content {max-height: 0;max-width: 0;overflow: hidden;text-align: left;background-color: #f0f8ff;}#sk-container-id-2 div.sk-toggleable__content pre {margin: 0.2em;color: black;border-radius: 0.25em;background-color: #f0f8ff;}#sk-container-id-2 input.sk-toggleable__control:checked~div.sk-toggleable__content {max-height: 200px;max-width: 100%;overflow: auto;}#sk-container-id-2 input.sk-toggleable__control:checked~label.sk-toggleable__label-arrow:before {content: \"▾\";}#sk-container-id-2 div.sk-estimator input.sk-toggleable__control:checked~label.sk-toggleable__label {background-color: #d4ebff;}#sk-container-id-2 div.sk-label input.sk-toggleable__control:checked~label.sk-toggleable__label {background-color: #d4ebff;}#sk-container-id-2 input.sk-hidden--visually {border: 0;clip: rect(1px 1px 1px 1px);clip: rect(1px, 1px, 1px, 1px);height: 1px;margin: -1px;overflow: hidden;padding: 0;position: absolute;width: 1px;}#sk-container-id-2 div.sk-estimator {font-family: monospace;background-color: #f0f8ff;border: 1px dotted black;border-radius: 0.25em;box-sizing: border-box;margin-bottom: 0.5em;}#sk-container-id-2 div.sk-estimator:hover {background-color: #d4ebff;}#sk-container-id-2 div.sk-parallel-item::after {content: \"\";width: 100%;border-bottom: 1px solid gray;flex-grow: 1;}#sk-container-id-2 div.sk-label:hover label.sk-toggleable__label {background-color: #d4ebff;}#sk-container-id-2 div.sk-serial::before {content: \"\";position: absolute;border-left: 1px solid gray;box-sizing: border-box;top: 0;bottom: 0;left: 50%;z-index: 0;}#sk-container-id-2 div.sk-serial {display: flex;flex-direction: column;align-items: center;background-color: white;padding-right: 0.2em;padding-left: 0.2em;position: relative;}#sk-container-id-2 div.sk-item {position: relative;z-index: 1;}#sk-container-id-2 div.sk-parallel {display: flex;align-items: stretch;justify-content: center;background-color: white;position: relative;}#sk-container-id-2 div.sk-item::before, #sk-container-id-2 div.sk-parallel-item::before {content: \"\";position: absolute;border-left: 1px solid gray;box-sizing: border-box;top: 0;bottom: 0;left: 50%;z-index: -1;}#sk-container-id-2 div.sk-parallel-item {display: flex;flex-direction: column;z-index: 1;position: relative;background-color: white;}#sk-container-id-2 div.sk-parallel-item:first-child::after {align-self: flex-end;width: 50%;}#sk-container-id-2 div.sk-parallel-item:last-child::after {align-self: flex-start;width: 50%;}#sk-container-id-2 div.sk-parallel-item:only-child::after {width: 0;}#sk-container-id-2 div.sk-dashed-wrapped {border: 1px dashed gray;margin: 0 0.4em 0.5em 0.4em;box-sizing: border-box;padding-bottom: 0.4em;background-color: white;}#sk-container-id-2 div.sk-label label {font-family: monospace;font-weight: bold;display: inline-block;line-height: 1.2em;}#sk-container-id-2 div.sk-label-container {text-align: center;}#sk-container-id-2 div.sk-container {/* jupyter's `normalize.less` sets `[hidden] { display: none; }` but bootstrap.min.css set `[hidden] { display: none !important; }` so we also need the `!important` here to be able to override the default hidden behavior on the sphinx rendered scikit-learn.org. See: https://github.com/scikit-learn/scikit-learn/issues/21755 */display: inline-block !important;position: relative;}#sk-container-id-2 div.sk-text-repr-fallback {display: none;}</style><div id=\"sk-container-id-2\" class=\"sk-top-container\"><div class=\"sk-text-repr-fallback\"><pre>GridSearchCV(cv=StratifiedKFold(n_splits=5, random_state=2022, shuffle=True),\n",
       "             estimator=RandomForestClassifier(random_state=2022),\n",
       "             param_grid={&#x27;max_features&#x27;: array([ 3,  4,  5,  6,  7,  8,  9, 10, 11, 12, 13, 14])},\n",
       "             scoring=&#x27;roc_auc&#x27;, verbose=3)</pre><b>In a Jupyter environment, please rerun this cell to show the HTML representation or trust the notebook. <br />On GitHub, the HTML representation is unable to render, please try loading this page with nbviewer.org.</b></div><div class=\"sk-container\" hidden><div class=\"sk-item sk-dashed-wrapped\"><div class=\"sk-label-container\"><div class=\"sk-label sk-toggleable\"><input class=\"sk-toggleable__control sk-hidden--visually\" id=\"sk-estimator-id-2\" type=\"checkbox\" ><label for=\"sk-estimator-id-2\" class=\"sk-toggleable__label sk-toggleable__label-arrow\">GridSearchCV</label><div class=\"sk-toggleable__content\"><pre>GridSearchCV(cv=StratifiedKFold(n_splits=5, random_state=2022, shuffle=True),\n",
       "             estimator=RandomForestClassifier(random_state=2022),\n",
       "             param_grid={&#x27;max_features&#x27;: array([ 3,  4,  5,  6,  7,  8,  9, 10, 11, 12, 13, 14])},\n",
       "             scoring=&#x27;roc_auc&#x27;, verbose=3)</pre></div></div></div><div class=\"sk-parallel\"><div class=\"sk-parallel-item\"><div class=\"sk-item\"><div class=\"sk-label-container\"><div class=\"sk-label sk-toggleable\"><input class=\"sk-toggleable__control sk-hidden--visually\" id=\"sk-estimator-id-3\" type=\"checkbox\" ><label for=\"sk-estimator-id-3\" class=\"sk-toggleable__label sk-toggleable__label-arrow\">estimator: RandomForestClassifier</label><div class=\"sk-toggleable__content\"><pre>RandomForestClassifier(random_state=2022)</pre></div></div></div><div class=\"sk-serial\"><div class=\"sk-item\"><div class=\"sk-estimator sk-toggleable\"><input class=\"sk-toggleable__control sk-hidden--visually\" id=\"sk-estimator-id-4\" type=\"checkbox\" ><label for=\"sk-estimator-id-4\" class=\"sk-toggleable__label sk-toggleable__label-arrow\">RandomForestClassifier</label><div class=\"sk-toggleable__content\"><pre>RandomForestClassifier(random_state=2022)</pre></div></div></div></div></div></div></div></div></div></div>"
      ],
      "text/plain": [
       "GridSearchCV(cv=StratifiedKFold(n_splits=5, random_state=2022, shuffle=True),\n",
       "             estimator=RandomForestClassifier(random_state=2022),\n",
       "             param_grid={'max_features': array([ 3,  4,  5,  6,  7,  8,  9, 10, 11, 12, 13, 14])},\n",
       "             scoring='roc_auc', verbose=3)"
      ]
     },
     "execution_count": 36,
     "metadata": {},
     "output_type": "execute_result"
    }
   ],
   "source": [
    "gcv.fit(X,y)"
   ]
  },
  {
   "cell_type": "code",
   "execution_count": 37,
   "id": "4caf0c02",
   "metadata": {},
   "outputs": [
    {
     "name": "stdout",
     "output_type": "stream",
     "text": [
      "{'max_features': 3}\n"
     ]
    }
   ],
   "source": [
    "print(gcv.best_params_)"
   ]
  },
  {
   "cell_type": "code",
   "execution_count": 40,
   "id": "a2806a7d",
   "metadata": {},
   "outputs": [
    {
     "name": "stdout",
     "output_type": "stream",
     "text": [
      "0.9938014973381568\n"
     ]
    }
   ],
   "source": [
    "print(gcv.best_score_)"
   ]
  },
  {
   "cell_type": "code",
   "execution_count": null,
   "id": "ce54ad5d",
   "metadata": {},
   "outputs": [],
   "source": []
  },
  {
   "cell_type": "code",
   "execution_count": 41,
   "id": "805aa6cd",
   "metadata": {},
   "outputs": [],
   "source": [
    "import matplotlib.pyplot as plt"
   ]
  },
  {
   "cell_type": "code",
   "execution_count": 42,
   "id": "4b1fcc1d",
   "metadata": {},
   "outputs": [],
   "source": [
    "best_model = gcv.best_estimator_"
   ]
  },
  {
   "cell_type": "code",
   "execution_count": 43,
   "id": "90e233b5",
   "metadata": {},
   "outputs": [],
   "source": [
    "imps = best_model.feature_importances_"
   ]
  },
  {
   "cell_type": "code",
   "execution_count": 44,
   "id": "e26e05ab",
   "metadata": {},
   "outputs": [
    {
     "data": {
      "image/png": "[encoded data removed]",
      "text/plain": [
       "<Figure size 640x480 with 1 Axes>"
      ]
     },
     "metadata": {},
     "output_type": "display_data"
    }
   ],
   "source": [
    "plt.barh(X.columns , imps)\n",
    "plt.show()"
   ]
  },
  {
   "cell_type": "code",
   "execution_count": 45,
   "id": "0dbcf5c6",
   "metadata": {},
   "outputs": [],
   "source": [
    "i_sorted = np.argsort(-imps)"
   ]
  },
  {
   "cell_type": "code",
   "execution_count": 46,
   "id": "11303534",
   "metadata": {},
   "outputs": [],
   "source": [
    "n_sorted = X.columns[i_sorted]\n",
    "imp_sort = imps[i_sorted]"
   ]
  },
  {
   "cell_type": "code",
   "execution_count": 47,
   "id": "d6d14897",
   "metadata": {},
   "outputs": [
    {
     "data": {
      "image/png": "[encoded data removed]",
      "text/plain": [
       "<Figure size 640x480 with 1 Axes>"
      ]
     },
     "metadata": {},
     "output_type": "display_data"
    }
   ],
   "source": [
    "plt.barh(n_sorted , imp_sort)\n",
    "plt.show()"
   ]
  },
  {
   "cell_type": "code",
   "execution_count": null,
   "id": "d7050791",
   "metadata": {},
   "outputs": [],
   "source": []
  }
 ],
 "metadata": {
  "kernelspec": {
   "display_name": "Python 3 (ipykernel)",
   "language": "python",
   "name": "python3"
  },
  "language_info": {
   "codemirror_mode": {
    "name": "ipython",
    "version": 3
   },
   "file_extension": ".py",
   "mimetype": "text/x-python",
   "name": "python",
   "nbconvert_exporter": "python",
   "pygments_lexer": "ipython3",
   "version": "3.9.13"
  }
 },
 "nbformat": 4,
 "nbformat_minor": 5
}
