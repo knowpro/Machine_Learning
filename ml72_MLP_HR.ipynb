{
 "cells": [
  {
   "cell_type": "code",
   "execution_count": 1,
   "id": "5538bdf9",
   "metadata": {},
   "outputs": [],
   "source": [
    "import pandas as pd\n",
    "import numpy as np\n",
    "\n",
    "from sklearn.neural_network import MLPClassifier\n",
    "from sklearn.metrics import accuracy_score, roc_auc_score\n",
    "\n",
    "from sklearn.model_selection import StratifiedKFold\n",
    "from sklearn.model_selection import GridSearchCV\n",
    "\n",
    "from sklearn.preprocessing import MinMaxScaler\n",
    "from sklearn.pipeline import Pipeline"
   ]
  },
  {
   "cell_type": "code",
   "execution_count": 2,
   "id": "ab54007c",
   "metadata": {
    "scrolled": true
   },
   "outputs": [],
   "source": [
    "hr = pd.read_csv(r\"Cases\\human-resources-analytics\\HR_comma_sep.csv\")"
   ]
  },
  {
   "cell_type": "code",
   "execution_count": 3,
   "id": "1a0dc0b0",
   "metadata": {},
   "outputs": [
    {
     "data": {
      "text/html": [
       "<div>\n",
       "<style scoped>\n",
       "    .dataframe tbody tr th:only-of-type {\n",
       "        vertical-align: middle;\n",
       "    }\n",
       "\n",
       "    .dataframe tbody tr th {\n",
       "        vertical-align: top;\n",
       "    }\n",
       "\n",
       "    .dataframe thead th {\n",
       "        text-align: right;\n",
       "    }\n",
       "</style>\n",
       "<table border=\"1\" class=\"dataframe\">\n",
       "  <thead>\n",
       "    <tr style=\"text-align: right;\">\n",
       "      <th></th>\n",
       "      <th>satisfaction_level</th>\n",
       "      <th>last_evaluation</th>\n",
       "      <th>number_project</th>\n",
       "      <th>average_montly_hours</th>\n",
       "      <th>time_spend_company</th>\n",
       "      <th>Work_accident</th>\n",
       "      <th>left</th>\n",
       "      <th>promotion_last_5years</th>\n",
       "      <th>Department</th>\n",
       "      <th>salary</th>\n",
       "    </tr>\n",
       "  </thead>\n",
       "  <tbody>\n",
       "    <tr>\n",
       "      <th>0</th>\n",
       "      <td>0.38</td>\n",
       "      <td>0.53</td>\n",
       "      <td>2</td>\n",
       "      <td>157</td>\n",
       "      <td>3</td>\n",
       "      <td>0</td>\n",
       "      <td>1</td>\n",
       "      <td>0</td>\n",
       "      <td>sales</td>\n",
       "      <td>low</td>\n",
       "    </tr>\n",
       "    <tr>\n",
       "      <th>1</th>\n",
       "      <td>0.80</td>\n",
       "      <td>0.86</td>\n",
       "      <td>5</td>\n",
       "      <td>262</td>\n",
       "      <td>6</td>\n",
       "      <td>0</td>\n",
       "      <td>1</td>\n",
       "      <td>0</td>\n",
       "      <td>sales</td>\n",
       "      <td>medium</td>\n",
       "    </tr>\n",
       "    <tr>\n",
       "      <th>2</th>\n",
       "      <td>0.11</td>\n",
       "      <td>0.88</td>\n",
       "      <td>7</td>\n",
       "      <td>272</td>\n",
       "      <td>4</td>\n",
       "      <td>0</td>\n",
       "      <td>1</td>\n",
       "      <td>0</td>\n",
       "      <td>sales</td>\n",
       "      <td>medium</td>\n",
       "    </tr>\n",
       "    <tr>\n",
       "      <th>3</th>\n",
       "      <td>0.72</td>\n",
       "      <td>0.87</td>\n",
       "      <td>5</td>\n",
       "      <td>223</td>\n",
       "      <td>5</td>\n",
       "      <td>0</td>\n",
       "      <td>1</td>\n",
       "      <td>0</td>\n",
       "      <td>sales</td>\n",
       "      <td>low</td>\n",
       "    </tr>\n",
       "    <tr>\n",
       "      <th>4</th>\n",
       "      <td>0.37</td>\n",
       "      <td>0.52</td>\n",
       "      <td>2</td>\n",
       "      <td>159</td>\n",
       "      <td>3</td>\n",
       "      <td>0</td>\n",
       "      <td>1</td>\n",
       "      <td>0</td>\n",
       "      <td>sales</td>\n",
       "      <td>low</td>\n",
       "    </tr>\n",
       "  </tbody>\n",
       "</table>\n",
       "</div>"
      ],
      "text/plain": [
       "   satisfaction_level  last_evaluation  number_project  average_montly_hours  \\\n",
       "0                0.38             0.53               2                   157   \n",
       "1                0.80             0.86               5                   262   \n",
       "2                0.11             0.88               7                   272   \n",
       "3                0.72             0.87               5                   223   \n",
       "4                0.37             0.52               2                   159   \n",
       "\n",
       "   time_spend_company  Work_accident  left  promotion_last_5years Department  \\\n",
       "0                   3              0     1                      0      sales   \n",
       "1                   6              0     1                      0      sales   \n",
       "2                   4              0     1                      0      sales   \n",
       "3                   5              0     1                      0      sales   \n",
       "4                   3              0     1                      0      sales   \n",
       "\n",
       "   salary  \n",
       "0     low  \n",
       "1  medium  \n",
       "2  medium  \n",
       "3     low  \n",
       "4     low  "
      ]
     },
     "execution_count": 3,
     "metadata": {},
     "output_type": "execute_result"
    }
   ],
   "source": [
    "hr.head()"
   ]
  },
  {
   "cell_type": "code",
   "execution_count": 12,
   "id": "a9810b47",
   "metadata": {
    "scrolled": true
   },
   "outputs": [],
   "source": [
    "y = hr[\"left\"]\n",
    "#X = hr.drop(\"left\", axis = 1)\n",
    "X = hr.drop([\"left\",\"Department\",\"salary\"], axis = 1)"
   ]
  },
  {
   "cell_type": "code",
   "execution_count": 25,
   "id": "921a436a",
   "metadata": {},
   "outputs": [
    {
     "data": {
      "text/plain": [
       "0    11428\n",
       "1     3571\n",
       "Name: left, dtype: int64"
      ]
     },
     "execution_count": 25,
     "metadata": {},
     "output_type": "execute_result"
    }
   ],
   "source": [
    "y.value_counts()"
   ]
  },
  {
   "cell_type": "code",
   "execution_count": 14,
   "id": "0d8ec93f",
   "metadata": {},
   "outputs": [],
   "source": [
    "kfold  = StratifiedKFold(n_splits = 5,\n",
    "                       shuffle = True,\n",
    "                       random_state =2022)"
   ]
  },
  {
   "cell_type": "code",
   "execution_count": 15,
   "id": "8f9287f6",
   "metadata": {},
   "outputs": [],
   "source": [
    "mm = MinMaxScaler()"
   ]
  },
  {
   "cell_type": "code",
   "execution_count": 16,
   "id": "8c998819",
   "metadata": {},
   "outputs": [],
   "source": [
    "mlp = MLPClassifier(random_state = 2022)"
   ]
  },
  {
   "cell_type": "code",
   "execution_count": 17,
   "id": "f1a4c76b",
   "metadata": {},
   "outputs": [],
   "source": [
    "pipe = Pipeline([('MM',mm),('MLP',mlp)])"
   ]
  },
  {
   "cell_type": "code",
   "execution_count": 18,
   "id": "72ca4d6f",
   "metadata": {},
   "outputs": [],
   "source": [
    "params = { \"MLP__hidden_layer_sizes\": [(20, 10, 5), (30, 20, 10), (40,30,10)],\n",
    "         \"MLP__activation\": [\"tanh\", \"logistic\", \"identity\"], \n",
    "         \"MLP__learning_rate\": [\"constant\", \"invscaling\", \"adaptive\"],\n",
    "         \"MLP__learning_rate_init\": [0.001, 0.3, 0.5]}"
   ]
  },
  {
   "cell_type": "code",
   "execution_count": 19,
   "id": "82631ca8",
   "metadata": {
    "scrolled": true
   },
   "outputs": [
    {
     "name": "stdout",
     "output_type": "stream",
     "text": [
      "Fitting 5 folds for each of 81 candidates, totalling 405 fits\n"
     ]
    },
    {
     "name": "stderr",
     "output_type": "stream",
     "text": [
      "C:\\Users\\admin\\anaconda3\\lib\\site-packages\\sklearn\\neural_network\\_multilayer_perceptron.py:679: ConvergenceWarning: Stochastic Optimizer: Maximum iterations (200) reached and the optimization hasn't converged yet.\n",
      "  warnings.warn(\n"
     ]
    },
    {
     "name": "stdout",
     "output_type": "stream",
     "text": [
      "[CV 1/5] END MLP__activation=tanh, MLP__hidden_layer_sizes=(20, 10, 5), MLP__learning_rate=constant, MLP__learning_rate_init=0.001;, score=0.978 total time=   9.7s\n"
     ]
    },
    {
     "name": "stderr",
     "output_type": "stream",
     "text": [
      "C:\\Users\\admin\\anaconda3\\lib\\site-packages\\sklearn\\neural_network\\_multilayer_perceptron.py:679: ConvergenceWarning: Stochastic Optimizer: Maximum iterations (200) reached and the optimization hasn't converged yet.\n",
      "  warnings.warn(\n"
     ]
    },
    {
     "name": "stdout",
     "output_type": "stream",
     "text": [
      "[CV 2/5] END MLP__activation=tanh, MLP__hidden_layer_sizes=(20, 10, 5), MLP__learning_rate=constant, MLP__learning_rate_init=0.001;, score=0.980 total time=   9.7s\n"
     ]
    },
    {
     "name": "stderr",
     "output_type": "stream",
     "text": [
      "C:\\Users\\admin\\anaconda3\\lib\\site-packages\\sklearn\\neural_network\\_multilayer_perceptron.py:679: ConvergenceWarning: Stochastic Optimizer: Maximum iterations (200) reached and the optimization hasn't converged yet.\n",
      "  warnings.warn(\n"
     ]
    },
    {
     "name": "stdout",
     "output_type": "stream",
     "text": [
      "[CV 3/5] END MLP__activation=tanh, MLP__hidden_layer_sizes=(20, 10, 5), MLP__learning_rate=constant, MLP__learning_rate_init=0.001;, score=0.983 total time=   9.6s\n"
     ]
    },
    {
     "name": "stderr",
     "output_type": "stream",
     "text": [
      "C:\\Users\\admin\\anaconda3\\lib\\site-packages\\sklearn\\neural_network\\_multilayer_perceptron.py:679: ConvergenceWarning: Stochastic Optimizer: Maximum iterations (200) reached and the optimization hasn't converged yet.\n",
      "  warnings.warn(\n"
     ]
    },
    {
     "name": "stdout",
     "output_type": "stream",
     "text": [
      "[CV 4/5] END MLP__activation=tanh, MLP__hidden_layer_sizes=(20, 10, 5), MLP__learning_rate=constant, MLP__learning_rate_init=0.001;, score=0.977 total time=   9.6s\n"
     ]
    },
    {
     "name": "stderr",
     "output_type": "stream",
     "text": [
      "C:\\Users\\admin\\anaconda3\\lib\\site-packages\\sklearn\\neural_network\\_multilayer_perceptron.py:679: ConvergenceWarning: Stochastic Optimizer: Maximum iterations (200) reached and the optimization hasn't converged yet.\n",
      "  warnings.warn(\n"
     ]
    },
    {
     "name": "stdout",
     "output_type": "stream",
     "text": [
      "[CV 5/5] END MLP__activation=tanh, MLP__hidden_layer_sizes=(20, 10, 5), MLP__learning_rate=constant, MLP__learning_rate_init=0.001;, score=0.980 total time=   9.6s\n",
      "[CV 1/5] END MLP__activation=tanh, MLP__hidden_layer_sizes=(20, 10, 5), MLP__learning_rate=constant, MLP__learning_rate_init=0.3;, score=0.791 total time=   1.1s\n",
      "[CV 2/5] END MLP__activation=tanh, MLP__hidden_layer_sizes=(20, 10, 5), MLP__learning_rate=constant, MLP__learning_rate_init=0.3;, score=0.312 total time=   1.1s\n",
      "[CV 3/5] END MLP__activation=tanh, MLP__hidden_layer_sizes=(20, 10, 5), MLP__learning_rate=constant, MLP__learning_rate_init=0.3;, score=0.287 total time=   1.2s\n",
      "[CV 4/5] END MLP__activation=tanh, MLP__hidden_layer_sizes=(20, 10, 5), MLP__learning_rate=constant, MLP__learning_rate_init=0.3;, score=0.291 total time=   1.6s\n",
      "[CV 5/5] END MLP__activation=tanh, MLP__hidden_layer_sizes=(20, 10, 5), MLP__learning_rate=constant, MLP__learning_rate_init=0.3;, score=0.510 total time=   1.9s\n",
      "[CV 1/5] END MLP__activation=tanh, MLP__hidden_layer_sizes=(20, 10, 5), MLP__learning_rate=constant, MLP__learning_rate_init=0.5;, score=0.594 total time=   0.7s\n",
      "[CV 2/5] END MLP__activation=tanh, MLP__hidden_layer_sizes=(20, 10, 5), MLP__learning_rate=constant, MLP__learning_rate_init=0.5;, score=0.731 total time=   1.1s\n",
      "[CV 3/5] END MLP__activation=tanh, MLP__hidden_layer_sizes=(20, 10, 5), MLP__learning_rate=constant, MLP__learning_rate_init=0.5;, score=0.500 total time=   0.7s\n",
      "[CV 4/5] END MLP__activation=tanh, MLP__hidden_layer_sizes=(20, 10, 5), MLP__learning_rate=constant, MLP__learning_rate_init=0.5;, score=0.366 total time=   0.7s\n",
      "[CV 5/5] END MLP__activation=tanh, MLP__hidden_layer_sizes=(20, 10, 5), MLP__learning_rate=constant, MLP__learning_rate_init=0.5;, score=0.710 total time=   1.0s\n"
     ]
    },
    {
     "name": "stderr",
     "output_type": "stream",
     "text": [
      "C:\\Users\\admin\\anaconda3\\lib\\site-packages\\sklearn\\neural_network\\_multilayer_perceptron.py:679: ConvergenceWarning: Stochastic Optimizer: Maximum iterations (200) reached and the optimization hasn't converged yet.\n",
      "  warnings.warn(\n"
     ]
    },
    {
     "name": "stdout",
     "output_type": "stream",
     "text": [
      "[CV 1/5] END MLP__activation=tanh, MLP__hidden_layer_sizes=(20, 10, 5), MLP__learning_rate=invscaling, MLP__learning_rate_init=0.001;, score=0.978 total time=   9.8s\n"
     ]
    },
    {
     "name": "stderr",
     "output_type": "stream",
     "text": [
      "C:\\Users\\admin\\anaconda3\\lib\\site-packages\\sklearn\\neural_network\\_multilayer_perceptron.py:679: ConvergenceWarning: Stochastic Optimizer: Maximum iterations (200) reached and the optimization hasn't converged yet.\n",
      "  warnings.warn(\n"
     ]
    },
    {
     "name": "stdout",
     "output_type": "stream",
     "text": [
      "[CV 2/5] END MLP__activation=tanh, MLP__hidden_layer_sizes=(20, 10, 5), MLP__learning_rate=invscaling, MLP__learning_rate_init=0.001;, score=0.980 total time=   9.8s\n"
     ]
    },
    {
     "name": "stderr",
     "output_type": "stream",
     "text": [
      "C:\\Users\\admin\\anaconda3\\lib\\site-packages\\sklearn\\neural_network\\_multilayer_perceptron.py:679: ConvergenceWarning: Stochastic Optimizer: Maximum iterations (200) reached and the optimization hasn't converged yet.\n",
      "  warnings.warn(\n"
     ]
    },
    {
     "name": "stdout",
     "output_type": "stream",
     "text": [
      "[CV 3/5] END MLP__activation=tanh, MLP__hidden_layer_sizes=(20, 10, 5), MLP__learning_rate=invscaling, MLP__learning_rate_init=0.001;, score=0.983 total time=   9.8s\n"
     ]
    },
    {
     "name": "stderr",
     "output_type": "stream",
     "text": [
      "C:\\Users\\admin\\anaconda3\\lib\\site-packages\\sklearn\\neural_network\\_multilayer_perceptron.py:679: ConvergenceWarning: Stochastic Optimizer: Maximum iterations (200) reached and the optimization hasn't converged yet.\n",
      "  warnings.warn(\n"
     ]
    },
    {
     "name": "stdout",
     "output_type": "stream",
     "text": [
      "[CV 4/5] END MLP__activation=tanh, MLP__hidden_layer_sizes=(20, 10, 5), MLP__learning_rate=invscaling, MLP__learning_rate_init=0.001;, score=0.977 total time=   9.8s\n"
     ]
    },
    {
     "name": "stderr",
     "output_type": "stream",
     "text": [
      "C:\\Users\\admin\\anaconda3\\lib\\site-packages\\sklearn\\neural_network\\_multilayer_perceptron.py:679: ConvergenceWarning: Stochastic Optimizer: Maximum iterations (200) reached and the optimization hasn't converged yet.\n",
      "  warnings.warn(\n"
     ]
    },
    {
     "name": "stdout",
     "output_type": "stream",
     "text": [
      "[CV 5/5] END MLP__activation=tanh, MLP__hidden_layer_sizes=(20, 10, 5), MLP__learning_rate=invscaling, MLP__learning_rate_init=0.001;, score=0.980 total time=   9.7s\n",
      "[CV 1/5] END MLP__activation=tanh, MLP__hidden_layer_sizes=(20, 10, 5), MLP__learning_rate=invscaling, MLP__learning_rate_init=0.3;, score=0.791 total time=   1.2s\n",
      "[CV 2/5] END MLP__activation=tanh, MLP__hidden_layer_sizes=(20, 10, 5), MLP__learning_rate=invscaling, MLP__learning_rate_init=0.3;, score=0.312 total time=   1.1s\n",
      "[CV 3/5] END MLP__activation=tanh, MLP__hidden_layer_sizes=(20, 10, 5), MLP__learning_rate=invscaling, MLP__learning_rate_init=0.3;, score=0.287 total time=   1.1s\n",
      "[CV 4/5] END MLP__activation=tanh, MLP__hidden_layer_sizes=(20, 10, 5), MLP__learning_rate=invscaling, MLP__learning_rate_init=0.3;, score=0.291 total time=   1.6s\n",
      "[CV 5/5] END MLP__activation=tanh, MLP__hidden_layer_sizes=(20, 10, 5), MLP__learning_rate=invscaling, MLP__learning_rate_init=0.3;, score=0.510 total time=   1.9s\n",
      "[CV 1/5] END MLP__activation=tanh, MLP__hidden_layer_sizes=(20, 10, 5), MLP__learning_rate=invscaling, MLP__learning_rate_init=0.5;, score=0.594 total time=   0.7s\n",
      "[CV 2/5] END MLP__activation=tanh, MLP__hidden_layer_sizes=(20, 10, 5), MLP__learning_rate=invscaling, MLP__learning_rate_init=0.5;, score=0.731 total time=   1.1s\n",
      "[CV 3/5] END MLP__activation=tanh, MLP__hidden_layer_sizes=(20, 10, 5), MLP__learning_rate=invscaling, MLP__learning_rate_init=0.5;, score=0.500 total time=   0.7s\n",
      "[CV 4/5] END MLP__activation=tanh, MLP__hidden_layer_sizes=(20, 10, 5), MLP__learning_rate=invscaling, MLP__learning_rate_init=0.5;, score=0.366 total time=   0.7s\n",
      "[CV 5/5] END MLP__activation=tanh, MLP__hidden_layer_sizes=(20, 10, 5), MLP__learning_rate=invscaling, MLP__learning_rate_init=0.5;, score=0.710 total time=   1.0s\n"
     ]
    },
    {
     "name": "stderr",
     "output_type": "stream",
     "text": [
      "C:\\Users\\admin\\anaconda3\\lib\\site-packages\\sklearn\\neural_network\\_multilayer_perceptron.py:679: ConvergenceWarning: Stochastic Optimizer: Maximum iterations (200) reached and the optimization hasn't converged yet.\n",
      "  warnings.warn(\n"
     ]
    },
    {
     "name": "stdout",
     "output_type": "stream",
     "text": [
      "[CV 1/5] END MLP__activation=tanh, MLP__hidden_layer_sizes=(20, 10, 5), MLP__learning_rate=adaptive, MLP__learning_rate_init=0.001;, score=0.978 total time=   9.6s\n"
     ]
    },
    {
     "name": "stderr",
     "output_type": "stream",
     "text": [
      "C:\\Users\\admin\\anaconda3\\lib\\site-packages\\sklearn\\neural_network\\_multilayer_perceptron.py:679: ConvergenceWarning: Stochastic Optimizer: Maximum iterations (200) reached and the optimization hasn't converged yet.\n",
      "  warnings.warn(\n"
     ]
    },
    {
     "name": "stdout",
     "output_type": "stream",
     "text": [
      "[CV 2/5] END MLP__activation=tanh, MLP__hidden_layer_sizes=(20, 10, 5), MLP__learning_rate=adaptive, MLP__learning_rate_init=0.001;, score=0.980 total time=   9.6s\n"
     ]
    },
    {
     "name": "stderr",
     "output_type": "stream",
     "text": [
      "C:\\Users\\admin\\anaconda3\\lib\\site-packages\\sklearn\\neural_network\\_multilayer_perceptron.py:679: ConvergenceWarning: Stochastic Optimizer: Maximum iterations (200) reached and the optimization hasn't converged yet.\n",
      "  warnings.warn(\n"
     ]
    },
    {
     "name": "stdout",
     "output_type": "stream",
     "text": [
      "[CV 3/5] END MLP__activation=tanh, MLP__hidden_layer_sizes=(20, 10, 5), MLP__learning_rate=adaptive, MLP__learning_rate_init=0.001;, score=0.983 total time=   9.7s\n"
     ]
    },
    {
     "name": "stderr",
     "output_type": "stream",
     "text": [
      "C:\\Users\\admin\\anaconda3\\lib\\site-packages\\sklearn\\neural_network\\_multilayer_perceptron.py:679: ConvergenceWarning: Stochastic Optimizer: Maximum iterations (200) reached and the optimization hasn't converged yet.\n",
      "  warnings.warn(\n"
     ]
    },
    {
     "name": "stdout",
     "output_type": "stream",
     "text": [
      "[CV 4/5] END MLP__activation=tanh, MLP__hidden_layer_sizes=(20, 10, 5), MLP__learning_rate=adaptive, MLP__learning_rate_init=0.001;, score=0.977 total time=   9.6s\n"
     ]
    },
    {
     "name": "stderr",
     "output_type": "stream",
     "text": [
      "C:\\Users\\admin\\anaconda3\\lib\\site-packages\\sklearn\\neural_network\\_multilayer_perceptron.py:679: ConvergenceWarning: Stochastic Optimizer: Maximum iterations (200) reached and the optimization hasn't converged yet.\n",
      "  warnings.warn(\n"
     ]
    },
    {
     "name": "stdout",
     "output_type": "stream",
     "text": [
      "[CV 5/5] END MLP__activation=tanh, MLP__hidden_layer_sizes=(20, 10, 5), MLP__learning_rate=adaptive, MLP__learning_rate_init=0.001;, score=0.980 total time=   9.6s\n",
      "[CV 1/5] END MLP__activation=tanh, MLP__hidden_layer_sizes=(20, 10, 5), MLP__learning_rate=adaptive, MLP__learning_rate_init=0.3;, score=0.791 total time=   1.1s\n",
      "[CV 2/5] END MLP__activation=tanh, MLP__hidden_layer_sizes=(20, 10, 5), MLP__learning_rate=adaptive, MLP__learning_rate_init=0.3;, score=0.312 total time=   1.2s\n",
      "[CV 3/5] END MLP__activation=tanh, MLP__hidden_layer_sizes=(20, 10, 5), MLP__learning_rate=adaptive, MLP__learning_rate_init=0.3;, score=0.287 total time=   1.1s\n",
      "[CV 4/5] END MLP__activation=tanh, MLP__hidden_layer_sizes=(20, 10, 5), MLP__learning_rate=adaptive, MLP__learning_rate_init=0.3;, score=0.291 total time=   1.6s\n",
      "[CV 5/5] END MLP__activation=tanh, MLP__hidden_layer_sizes=(20, 10, 5), MLP__learning_rate=adaptive, MLP__learning_rate_init=0.3;, score=0.510 total time=   1.9s\n",
      "[CV 1/5] END MLP__activation=tanh, MLP__hidden_layer_sizes=(20, 10, 5), MLP__learning_rate=adaptive, MLP__learning_rate_init=0.5;, score=0.594 total time=   0.7s\n",
      "[CV 2/5] END MLP__activation=tanh, MLP__hidden_layer_sizes=(20, 10, 5), MLP__learning_rate=adaptive, MLP__learning_rate_init=0.5;, score=0.731 total time=   1.1s\n",
      "[CV 3/5] END MLP__activation=tanh, MLP__hidden_layer_sizes=(20, 10, 5), MLP__learning_rate=adaptive, MLP__learning_rate_init=0.5;, score=0.500 total time=   0.7s\n",
      "[CV 4/5] END MLP__activation=tanh, MLP__hidden_layer_sizes=(20, 10, 5), MLP__learning_rate=adaptive, MLP__learning_rate_init=0.5;, score=0.366 total time=   0.6s\n",
      "[CV 5/5] END MLP__activation=tanh, MLP__hidden_layer_sizes=(20, 10, 5), MLP__learning_rate=adaptive, MLP__learning_rate_init=0.5;, score=0.710 total time=   1.0s\n"
     ]
    },
    {
     "name": "stderr",
     "output_type": "stream",
     "text": [
      "C:\\Users\\admin\\anaconda3\\lib\\site-packages\\sklearn\\neural_network\\_multilayer_perceptron.py:679: ConvergenceWarning: Stochastic Optimizer: Maximum iterations (200) reached and the optimization hasn't converged yet.\n",
      "  warnings.warn(\n"
     ]
    },
    {
     "name": "stdout",
     "output_type": "stream",
     "text": [
      "[CV 1/5] END MLP__activation=tanh, MLP__hidden_layer_sizes=(30, 20, 10), MLP__learning_rate=constant, MLP__learning_rate_init=0.001;, score=0.984 total time=  11.7s\n"
     ]
    },
    {
     "name": "stderr",
     "output_type": "stream",
     "text": [
      "C:\\Users\\admin\\anaconda3\\lib\\site-packages\\sklearn\\neural_network\\_multilayer_perceptron.py:679: ConvergenceWarning: Stochastic Optimizer: Maximum iterations (200) reached and the optimization hasn't converged yet.\n",
      "  warnings.warn(\n"
     ]
    },
    {
     "name": "stdout",
     "output_type": "stream",
     "text": [
      "[CV 2/5] END MLP__activation=tanh, MLP__hidden_layer_sizes=(30, 20, 10), MLP__learning_rate=constant, MLP__learning_rate_init=0.001;, score=0.985 total time=  11.7s\n"
     ]
    },
    {
     "name": "stderr",
     "output_type": "stream",
     "text": [
      "C:\\Users\\admin\\anaconda3\\lib\\site-packages\\sklearn\\neural_network\\_multilayer_perceptron.py:679: ConvergenceWarning: Stochastic Optimizer: Maximum iterations (200) reached and the optimization hasn't converged yet.\n",
      "  warnings.warn(\n"
     ]
    },
    {
     "name": "stdout",
     "output_type": "stream",
     "text": [
      "[CV 3/5] END MLP__activation=tanh, MLP__hidden_layer_sizes=(30, 20, 10), MLP__learning_rate=constant, MLP__learning_rate_init=0.001;, score=0.985 total time=  11.7s\n"
     ]
    },
    {
     "name": "stderr",
     "output_type": "stream",
     "text": [
      "C:\\Users\\admin\\anaconda3\\lib\\site-packages\\sklearn\\neural_network\\_multilayer_perceptron.py:679: ConvergenceWarning: Stochastic Optimizer: Maximum iterations (200) reached and the optimization hasn't converged yet.\n",
      "  warnings.warn(\n"
     ]
    },
    {
     "name": "stdout",
     "output_type": "stream",
     "text": [
      "[CV 4/5] END MLP__activation=tanh, MLP__hidden_layer_sizes=(30, 20, 10), MLP__learning_rate=constant, MLP__learning_rate_init=0.001;, score=0.976 total time=  11.7s\n"
     ]
    },
    {
     "name": "stderr",
     "output_type": "stream",
     "text": [
      "C:\\Users\\admin\\anaconda3\\lib\\site-packages\\sklearn\\neural_network\\_multilayer_perceptron.py:679: ConvergenceWarning: Stochastic Optimizer: Maximum iterations (200) reached and the optimization hasn't converged yet.\n",
      "  warnings.warn(\n"
     ]
    },
    {
     "name": "stdout",
     "output_type": "stream",
     "text": [
      "[CV 5/5] END MLP__activation=tanh, MLP__hidden_layer_sizes=(30, 20, 10), MLP__learning_rate=constant, MLP__learning_rate_init=0.001;, score=0.983 total time=  11.7s\n",
      "[CV 1/5] END MLP__activation=tanh, MLP__hidden_layer_sizes=(30, 20, 10), MLP__learning_rate=constant, MLP__learning_rate_init=0.3;, score=0.561 total time=   1.2s\n",
      "[CV 2/5] END MLP__activation=tanh, MLP__hidden_layer_sizes=(30, 20, 10), MLP__learning_rate=constant, MLP__learning_rate_init=0.3;, score=0.559 total time=   0.7s\n",
      "[CV 3/5] END MLP__activation=tanh, MLP__hidden_layer_sizes=(30, 20, 10), MLP__learning_rate=constant, MLP__learning_rate_init=0.3;, score=0.603 total time=   1.3s\n",
      "[CV 4/5] END MLP__activation=tanh, MLP__hidden_layer_sizes=(30, 20, 10), MLP__learning_rate=constant, MLP__learning_rate_init=0.3;, score=0.649 total time=   0.7s\n",
      "[CV 5/5] END MLP__activation=tanh, MLP__hidden_layer_sizes=(30, 20, 10), MLP__learning_rate=constant, MLP__learning_rate_init=0.3;, score=0.500 total time=   0.9s\n",
      "[CV 1/5] END MLP__activation=tanh, MLP__hidden_layer_sizes=(30, 20, 10), MLP__learning_rate=constant, MLP__learning_rate_init=0.5;, score=0.425 total time=   1.0s\n",
      "[CV 2/5] END MLP__activation=tanh, MLP__hidden_layer_sizes=(30, 20, 10), MLP__learning_rate=constant, MLP__learning_rate_init=0.5;, score=0.409 total time=   1.0s\n",
      "[CV 3/5] END MLP__activation=tanh, MLP__hidden_layer_sizes=(30, 20, 10), MLP__learning_rate=constant, MLP__learning_rate_init=0.5;, score=0.522 total time=   0.7s\n",
      "[CV 4/5] END MLP__activation=tanh, MLP__hidden_layer_sizes=(30, 20, 10), MLP__learning_rate=constant, MLP__learning_rate_init=0.5;, score=0.303 total time=   1.5s\n",
      "[CV 5/5] END MLP__activation=tanh, MLP__hidden_layer_sizes=(30, 20, 10), MLP__learning_rate=constant, MLP__learning_rate_init=0.5;, score=0.451 total time=   1.0s\n"
     ]
    },
    {
     "name": "stderr",
     "output_type": "stream",
     "text": [
      "C:\\Users\\admin\\anaconda3\\lib\\site-packages\\sklearn\\neural_network\\_multilayer_perceptron.py:679: ConvergenceWarning: Stochastic Optimizer: Maximum iterations (200) reached and the optimization hasn't converged yet.\n",
      "  warnings.warn(\n"
     ]
    },
    {
     "name": "stdout",
     "output_type": "stream",
     "text": [
      "[CV 1/5] END MLP__activation=tanh, MLP__hidden_layer_sizes=(30, 20, 10), MLP__learning_rate=invscaling, MLP__learning_rate_init=0.001;, score=0.984 total time=  12.2s\n"
     ]
    },
    {
     "name": "stderr",
     "output_type": "stream",
     "text": [
      "C:\\Users\\admin\\anaconda3\\lib\\site-packages\\sklearn\\neural_network\\_multilayer_perceptron.py:679: ConvergenceWarning: Stochastic Optimizer: Maximum iterations (200) reached and the optimization hasn't converged yet.\n",
      "  warnings.warn(\n"
     ]
    },
    {
     "name": "stdout",
     "output_type": "stream",
     "text": [
      "[CV 2/5] END MLP__activation=tanh, MLP__hidden_layer_sizes=(30, 20, 10), MLP__learning_rate=invscaling, MLP__learning_rate_init=0.001;, score=0.985 total time=  11.8s\n"
     ]
    },
    {
     "name": "stderr",
     "output_type": "stream",
     "text": [
      "C:\\Users\\admin\\anaconda3\\lib\\site-packages\\sklearn\\neural_network\\_multilayer_perceptron.py:679: ConvergenceWarning: Stochastic Optimizer: Maximum iterations (200) reached and the optimization hasn't converged yet.\n",
      "  warnings.warn(\n"
     ]
    },
    {
     "name": "stdout",
     "output_type": "stream",
     "text": [
      "[CV 3/5] END MLP__activation=tanh, MLP__hidden_layer_sizes=(30, 20, 10), MLP__learning_rate=invscaling, MLP__learning_rate_init=0.001;, score=0.985 total time=  11.7s\n"
     ]
    },
    {
     "name": "stderr",
     "output_type": "stream",
     "text": [
      "C:\\Users\\admin\\anaconda3\\lib\\site-packages\\sklearn\\neural_network\\_multilayer_perceptron.py:679: ConvergenceWarning: Stochastic Optimizer: Maximum iterations (200) reached and the optimization hasn't converged yet.\n",
      "  warnings.warn(\n"
     ]
    },
    {
     "name": "stdout",
     "output_type": "stream",
     "text": [
      "[CV 4/5] END MLP__activation=tanh, MLP__hidden_layer_sizes=(30, 20, 10), MLP__learning_rate=invscaling, MLP__learning_rate_init=0.001;, score=0.976 total time=  11.7s\n"
     ]
    },
    {
     "name": "stderr",
     "output_type": "stream",
     "text": [
      "C:\\Users\\admin\\anaconda3\\lib\\site-packages\\sklearn\\neural_network\\_multilayer_perceptron.py:679: ConvergenceWarning: Stochastic Optimizer: Maximum iterations (200) reached and the optimization hasn't converged yet.\n",
      "  warnings.warn(\n"
     ]
    },
    {
     "name": "stdout",
     "output_type": "stream",
     "text": [
      "[CV 5/5] END MLP__activation=tanh, MLP__hidden_layer_sizes=(30, 20, 10), MLP__learning_rate=invscaling, MLP__learning_rate_init=0.001;, score=0.983 total time=  11.7s\n",
      "[CV 1/5] END MLP__activation=tanh, MLP__hidden_layer_sizes=(30, 20, 10), MLP__learning_rate=invscaling, MLP__learning_rate_init=0.3;, score=0.561 total time=   1.2s\n",
      "[CV 2/5] END MLP__activation=tanh, MLP__hidden_layer_sizes=(30, 20, 10), MLP__learning_rate=invscaling, MLP__learning_rate_init=0.3;, score=0.559 total time=   0.7s\n",
      "[CV 3/5] END MLP__activation=tanh, MLP__hidden_layer_sizes=(30, 20, 10), MLP__learning_rate=invscaling, MLP__learning_rate_init=0.3;, score=0.603 total time=   1.3s\n",
      "[CV 4/5] END MLP__activation=tanh, MLP__hidden_layer_sizes=(30, 20, 10), MLP__learning_rate=invscaling, MLP__learning_rate_init=0.3;, score=0.649 total time=   0.7s\n",
      "[CV 5/5] END MLP__activation=tanh, MLP__hidden_layer_sizes=(30, 20, 10), MLP__learning_rate=invscaling, MLP__learning_rate_init=0.3;, score=0.500 total time=   0.9s\n",
      "[CV 1/5] END MLP__activation=tanh, MLP__hidden_layer_sizes=(30, 20, 10), MLP__learning_rate=invscaling, MLP__learning_rate_init=0.5;, score=0.425 total time=   1.0s\n",
      "[CV 2/5] END MLP__activation=tanh, MLP__hidden_layer_sizes=(30, 20, 10), MLP__learning_rate=invscaling, MLP__learning_rate_init=0.5;, score=0.409 total time=   1.0s\n",
      "[CV 3/5] END MLP__activation=tanh, MLP__hidden_layer_sizes=(30, 20, 10), MLP__learning_rate=invscaling, MLP__learning_rate_init=0.5;, score=0.522 total time=   0.7s\n",
      "[CV 4/5] END MLP__activation=tanh, MLP__hidden_layer_sizes=(30, 20, 10), MLP__learning_rate=invscaling, MLP__learning_rate_init=0.5;, score=0.303 total time=   1.5s\n",
      "[CV 5/5] END MLP__activation=tanh, MLP__hidden_layer_sizes=(30, 20, 10), MLP__learning_rate=invscaling, MLP__learning_rate_init=0.5;, score=0.451 total time=   1.0s\n"
     ]
    },
    {
     "name": "stderr",
     "output_type": "stream",
     "text": [
      "C:\\Users\\admin\\anaconda3\\lib\\site-packages\\sklearn\\neural_network\\_multilayer_perceptron.py:679: ConvergenceWarning: Stochastic Optimizer: Maximum iterations (200) reached and the optimization hasn't converged yet.\n",
      "  warnings.warn(\n"
     ]
    },
    {
     "name": "stdout",
     "output_type": "stream",
     "text": [
      "[CV 1/5] END MLP__activation=tanh, MLP__hidden_layer_sizes=(30, 20, 10), MLP__learning_rate=adaptive, MLP__learning_rate_init=0.001;, score=0.984 total time=  11.7s\n"
     ]
    },
    {
     "name": "stderr",
     "output_type": "stream",
     "text": [
      "C:\\Users\\admin\\anaconda3\\lib\\site-packages\\sklearn\\neural_network\\_multilayer_perceptron.py:679: ConvergenceWarning: Stochastic Optimizer: Maximum iterations (200) reached and the optimization hasn't converged yet.\n",
      "  warnings.warn(\n"
     ]
    },
    {
     "name": "stdout",
     "output_type": "stream",
     "text": [
      "[CV 2/5] END MLP__activation=tanh, MLP__hidden_layer_sizes=(30, 20, 10), MLP__learning_rate=adaptive, MLP__learning_rate_init=0.001;, score=0.985 total time=  11.8s\n"
     ]
    },
    {
     "name": "stderr",
     "output_type": "stream",
     "text": [
      "C:\\Users\\admin\\anaconda3\\lib\\site-packages\\sklearn\\neural_network\\_multilayer_perceptron.py:679: ConvergenceWarning: Stochastic Optimizer: Maximum iterations (200) reached and the optimization hasn't converged yet.\n",
      "  warnings.warn(\n"
     ]
    },
    {
     "name": "stdout",
     "output_type": "stream",
     "text": [
      "[CV 3/5] END MLP__activation=tanh, MLP__hidden_layer_sizes=(30, 20, 10), MLP__learning_rate=adaptive, MLP__learning_rate_init=0.001;, score=0.985 total time=  11.7s\n"
     ]
    },
    {
     "name": "stderr",
     "output_type": "stream",
     "text": [
      "C:\\Users\\admin\\anaconda3\\lib\\site-packages\\sklearn\\neural_network\\_multilayer_perceptron.py:679: ConvergenceWarning: Stochastic Optimizer: Maximum iterations (200) reached and the optimization hasn't converged yet.\n",
      "  warnings.warn(\n"
     ]
    },
    {
     "name": "stdout",
     "output_type": "stream",
     "text": [
      "[CV 4/5] END MLP__activation=tanh, MLP__hidden_layer_sizes=(30, 20, 10), MLP__learning_rate=adaptive, MLP__learning_rate_init=0.001;, score=0.976 total time=  11.7s\n"
     ]
    },
    {
     "name": "stderr",
     "output_type": "stream",
     "text": [
      "C:\\Users\\admin\\anaconda3\\lib\\site-packages\\sklearn\\neural_network\\_multilayer_perceptron.py:679: ConvergenceWarning: Stochastic Optimizer: Maximum iterations (200) reached and the optimization hasn't converged yet.\n",
      "  warnings.warn(\n"
     ]
    },
    {
     "name": "stdout",
     "output_type": "stream",
     "text": [
      "[CV 5/5] END MLP__activation=tanh, MLP__hidden_layer_sizes=(30, 20, 10), MLP__learning_rate=adaptive, MLP__learning_rate_init=0.001;, score=0.983 total time=  11.8s\n",
      "[CV 1/5] END MLP__activation=tanh, MLP__hidden_layer_sizes=(30, 20, 10), MLP__learning_rate=adaptive, MLP__learning_rate_init=0.3;, score=0.561 total time=   1.2s\n",
      "[CV 2/5] END MLP__activation=tanh, MLP__hidden_layer_sizes=(30, 20, 10), MLP__learning_rate=adaptive, MLP__learning_rate_init=0.3;, score=0.559 total time=   0.7s\n",
      "[CV 3/5] END MLP__activation=tanh, MLP__hidden_layer_sizes=(30, 20, 10), MLP__learning_rate=adaptive, MLP__learning_rate_init=0.3;, score=0.603 total time=   1.3s\n",
      "[CV 4/5] END MLP__activation=tanh, MLP__hidden_layer_sizes=(30, 20, 10), MLP__learning_rate=adaptive, MLP__learning_rate_init=0.3;, score=0.649 total time=   0.7s\n",
      "[CV 5/5] END MLP__activation=tanh, MLP__hidden_layer_sizes=(30, 20, 10), MLP__learning_rate=adaptive, MLP__learning_rate_init=0.3;, score=0.500 total time=   0.9s\n",
      "[CV 1/5] END MLP__activation=tanh, MLP__hidden_layer_sizes=(30, 20, 10), MLP__learning_rate=adaptive, MLP__learning_rate_init=0.5;, score=0.425 total time=   1.0s\n",
      "[CV 2/5] END MLP__activation=tanh, MLP__hidden_layer_sizes=(30, 20, 10), MLP__learning_rate=adaptive, MLP__learning_rate_init=0.5;, score=0.409 total time=   1.0s\n",
      "[CV 3/5] END MLP__activation=tanh, MLP__hidden_layer_sizes=(30, 20, 10), MLP__learning_rate=adaptive, MLP__learning_rate_init=0.5;, score=0.522 total time=   0.7s\n",
      "[CV 4/5] END MLP__activation=tanh, MLP__hidden_layer_sizes=(30, 20, 10), MLP__learning_rate=adaptive, MLP__learning_rate_init=0.5;, score=0.303 total time=   1.5s\n",
      "[CV 5/5] END MLP__activation=tanh, MLP__hidden_layer_sizes=(30, 20, 10), MLP__learning_rate=adaptive, MLP__learning_rate_init=0.5;, score=0.451 total time=   1.0s\n"
     ]
    },
    {
     "name": "stderr",
     "output_type": "stream",
     "text": [
      "C:\\Users\\admin\\anaconda3\\lib\\site-packages\\sklearn\\neural_network\\_multilayer_perceptron.py:679: ConvergenceWarning: Stochastic Optimizer: Maximum iterations (200) reached and the optimization hasn't converged yet.\n",
      "  warnings.warn(\n"
     ]
    },
    {
     "name": "stdout",
     "output_type": "stream",
     "text": [
      "[CV 1/5] END MLP__activation=tanh, MLP__hidden_layer_sizes=(40, 30, 10), MLP__learning_rate=constant, MLP__learning_rate_init=0.001;, score=0.984 total time=  13.1s\n"
     ]
    },
    {
     "name": "stderr",
     "output_type": "stream",
     "text": [
      "C:\\Users\\admin\\anaconda3\\lib\\site-packages\\sklearn\\neural_network\\_multilayer_perceptron.py:679: ConvergenceWarning: Stochastic Optimizer: Maximum iterations (200) reached and the optimization hasn't converged yet.\n",
      "  warnings.warn(\n"
     ]
    },
    {
     "name": "stdout",
     "output_type": "stream",
     "text": [
      "[CV 2/5] END MLP__activation=tanh, MLP__hidden_layer_sizes=(40, 30, 10), MLP__learning_rate=constant, MLP__learning_rate_init=0.001;, score=0.982 total time=  13.2s\n"
     ]
    },
    {
     "name": "stderr",
     "output_type": "stream",
     "text": [
      "C:\\Users\\admin\\anaconda3\\lib\\site-packages\\sklearn\\neural_network\\_multilayer_perceptron.py:679: ConvergenceWarning: Stochastic Optimizer: Maximum iterations (200) reached and the optimization hasn't converged yet.\n",
      "  warnings.warn(\n"
     ]
    },
    {
     "name": "stdout",
     "output_type": "stream",
     "text": [
      "[CV 3/5] END MLP__activation=tanh, MLP__hidden_layer_sizes=(40, 30, 10), MLP__learning_rate=constant, MLP__learning_rate_init=0.001;, score=0.987 total time=  13.1s\n"
     ]
    },
    {
     "name": "stderr",
     "output_type": "stream",
     "text": [
      "C:\\Users\\admin\\anaconda3\\lib\\site-packages\\sklearn\\neural_network\\_multilayer_perceptron.py:679: ConvergenceWarning: Stochastic Optimizer: Maximum iterations (200) reached and the optimization hasn't converged yet.\n",
      "  warnings.warn(\n"
     ]
    },
    {
     "name": "stdout",
     "output_type": "stream",
     "text": [
      "[CV 4/5] END MLP__activation=tanh, MLP__hidden_layer_sizes=(40, 30, 10), MLP__learning_rate=constant, MLP__learning_rate_init=0.001;, score=0.978 total time=  13.0s\n"
     ]
    },
    {
     "name": "stderr",
     "output_type": "stream",
     "text": [
      "C:\\Users\\admin\\anaconda3\\lib\\site-packages\\sklearn\\neural_network\\_multilayer_perceptron.py:679: ConvergenceWarning: Stochastic Optimizer: Maximum iterations (200) reached and the optimization hasn't converged yet.\n",
      "  warnings.warn(\n"
     ]
    },
    {
     "name": "stdout",
     "output_type": "stream",
     "text": [
      "[CV 5/5] END MLP__activation=tanh, MLP__hidden_layer_sizes=(40, 30, 10), MLP__learning_rate=constant, MLP__learning_rate_init=0.001;, score=0.984 total time=  13.0s\n",
      "[CV 1/5] END MLP__activation=tanh, MLP__hidden_layer_sizes=(40, 30, 10), MLP__learning_rate=constant, MLP__learning_rate_init=0.3;, score=0.588 total time=   1.3s\n",
      "[CV 2/5] END MLP__activation=tanh, MLP__hidden_layer_sizes=(40, 30, 10), MLP__learning_rate=constant, MLP__learning_rate_init=0.3;, score=0.309 total time=   1.2s\n",
      "[CV 3/5] END MLP__activation=tanh, MLP__hidden_layer_sizes=(40, 30, 10), MLP__learning_rate=constant, MLP__learning_rate_init=0.3;, score=0.459 total time=   0.8s\n",
      "[CV 4/5] END MLP__activation=tanh, MLP__hidden_layer_sizes=(40, 30, 10), MLP__learning_rate=constant, MLP__learning_rate_init=0.3;, score=0.495 total time=   1.3s\n",
      "[CV 5/5] END MLP__activation=tanh, MLP__hidden_layer_sizes=(40, 30, 10), MLP__learning_rate=constant, MLP__learning_rate_init=0.3;, score=0.543 total time=   0.9s\n",
      "[CV 1/5] END MLP__activation=tanh, MLP__hidden_layer_sizes=(40, 30, 10), MLP__learning_rate=constant, MLP__learning_rate_init=0.5;, score=0.584 total time=   1.4s\n",
      "[CV 2/5] END MLP__activation=tanh, MLP__hidden_layer_sizes=(40, 30, 10), MLP__learning_rate=constant, MLP__learning_rate_init=0.5;, score=0.340 total time=   1.4s\n",
      "[CV 3/5] END MLP__activation=tanh, MLP__hidden_layer_sizes=(40, 30, 10), MLP__learning_rate=constant, MLP__learning_rate_init=0.5;, score=0.679 total time=   1.4s\n",
      "[CV 4/5] END MLP__activation=tanh, MLP__hidden_layer_sizes=(40, 30, 10), MLP__learning_rate=constant, MLP__learning_rate_init=0.5;, score=0.632 total time=   1.4s\n",
      "[CV 5/5] END MLP__activation=tanh, MLP__hidden_layer_sizes=(40, 30, 10), MLP__learning_rate=constant, MLP__learning_rate_init=0.5;, score=0.603 total time=   1.7s\n"
     ]
    },
    {
     "name": "stderr",
     "output_type": "stream",
     "text": [
      "C:\\Users\\admin\\anaconda3\\lib\\site-packages\\sklearn\\neural_network\\_multilayer_perceptron.py:679: ConvergenceWarning: Stochastic Optimizer: Maximum iterations (200) reached and the optimization hasn't converged yet.\n",
      "  warnings.warn(\n"
     ]
    },
    {
     "name": "stdout",
     "output_type": "stream",
     "text": [
      "[CV 1/5] END MLP__activation=tanh, MLP__hidden_layer_sizes=(40, 30, 10), MLP__learning_rate=invscaling, MLP__learning_rate_init=0.001;, score=0.984 total time=  13.0s\n"
     ]
    },
    {
     "name": "stderr",
     "output_type": "stream",
     "text": [
      "C:\\Users\\admin\\anaconda3\\lib\\site-packages\\sklearn\\neural_network\\_multilayer_perceptron.py:679: ConvergenceWarning: Stochastic Optimizer: Maximum iterations (200) reached and the optimization hasn't converged yet.\n",
      "  warnings.warn(\n"
     ]
    },
    {
     "name": "stdout",
     "output_type": "stream",
     "text": [
      "[CV 2/5] END MLP__activation=tanh, MLP__hidden_layer_sizes=(40, 30, 10), MLP__learning_rate=invscaling, MLP__learning_rate_init=0.001;, score=0.982 total time=  13.0s\n"
     ]
    },
    {
     "name": "stderr",
     "output_type": "stream",
     "text": [
      "C:\\Users\\admin\\anaconda3\\lib\\site-packages\\sklearn\\neural_network\\_multilayer_perceptron.py:679: ConvergenceWarning: Stochastic Optimizer: Maximum iterations (200) reached and the optimization hasn't converged yet.\n",
      "  warnings.warn(\n"
     ]
    },
    {
     "name": "stdout",
     "output_type": "stream",
     "text": [
      "[CV 3/5] END MLP__activation=tanh, MLP__hidden_layer_sizes=(40, 30, 10), MLP__learning_rate=invscaling, MLP__learning_rate_init=0.001;, score=0.987 total time=  13.0s\n"
     ]
    },
    {
     "name": "stderr",
     "output_type": "stream",
     "text": [
      "C:\\Users\\admin\\anaconda3\\lib\\site-packages\\sklearn\\neural_network\\_multilayer_perceptron.py:679: ConvergenceWarning: Stochastic Optimizer: Maximum iterations (200) reached and the optimization hasn't converged yet.\n",
      "  warnings.warn(\n"
     ]
    },
    {
     "name": "stdout",
     "output_type": "stream",
     "text": [
      "[CV 4/5] END MLP__activation=tanh, MLP__hidden_layer_sizes=(40, 30, 10), MLP__learning_rate=invscaling, MLP__learning_rate_init=0.001;, score=0.978 total time=  13.1s\n"
     ]
    },
    {
     "name": "stderr",
     "output_type": "stream",
     "text": [
      "C:\\Users\\admin\\anaconda3\\lib\\site-packages\\sklearn\\neural_network\\_multilayer_perceptron.py:679: ConvergenceWarning: Stochastic Optimizer: Maximum iterations (200) reached and the optimization hasn't converged yet.\n",
      "  warnings.warn(\n"
     ]
    },
    {
     "name": "stdout",
     "output_type": "stream",
     "text": [
      "[CV 5/5] END MLP__activation=tanh, MLP__hidden_layer_sizes=(40, 30, 10), MLP__learning_rate=invscaling, MLP__learning_rate_init=0.001;, score=0.984 total time=  13.1s\n",
      "[CV 1/5] END MLP__activation=tanh, MLP__hidden_layer_sizes=(40, 30, 10), MLP__learning_rate=invscaling, MLP__learning_rate_init=0.3;, score=0.588 total time=   1.3s\n",
      "[CV 2/5] END MLP__activation=tanh, MLP__hidden_layer_sizes=(40, 30, 10), MLP__learning_rate=invscaling, MLP__learning_rate_init=0.3;, score=0.309 total time=   1.3s\n",
      "[CV 3/5] END MLP__activation=tanh, MLP__hidden_layer_sizes=(40, 30, 10), MLP__learning_rate=invscaling, MLP__learning_rate_init=0.3;, score=0.459 total time=   0.9s\n",
      "[CV 4/5] END MLP__activation=tanh, MLP__hidden_layer_sizes=(40, 30, 10), MLP__learning_rate=invscaling, MLP__learning_rate_init=0.3;, score=0.495 total time=   1.3s\n",
      "[CV 5/5] END MLP__activation=tanh, MLP__hidden_layer_sizes=(40, 30, 10), MLP__learning_rate=invscaling, MLP__learning_rate_init=0.3;, score=0.543 total time=   0.9s\n",
      "[CV 1/5] END MLP__activation=tanh, MLP__hidden_layer_sizes=(40, 30, 10), MLP__learning_rate=invscaling, MLP__learning_rate_init=0.5;, score=0.584 total time=   1.4s\n",
      "[CV 2/5] END MLP__activation=tanh, MLP__hidden_layer_sizes=(40, 30, 10), MLP__learning_rate=invscaling, MLP__learning_rate_init=0.5;, score=0.340 total time=   1.4s\n",
      "[CV 3/5] END MLP__activation=tanh, MLP__hidden_layer_sizes=(40, 30, 10), MLP__learning_rate=invscaling, MLP__learning_rate_init=0.5;, score=0.679 total time=   1.4s\n",
      "[CV 4/5] END MLP__activation=tanh, MLP__hidden_layer_sizes=(40, 30, 10), MLP__learning_rate=invscaling, MLP__learning_rate_init=0.5;, score=0.632 total time=   1.4s\n",
      "[CV 5/5] END MLP__activation=tanh, MLP__hidden_layer_sizes=(40, 30, 10), MLP__learning_rate=invscaling, MLP__learning_rate_init=0.5;, score=0.603 total time=   1.7s\n"
     ]
    },
    {
     "name": "stderr",
     "output_type": "stream",
     "text": [
      "C:\\Users\\admin\\anaconda3\\lib\\site-packages\\sklearn\\neural_network\\_multilayer_perceptron.py:679: ConvergenceWarning: Stochastic Optimizer: Maximum iterations (200) reached and the optimization hasn't converged yet.\n",
      "  warnings.warn(\n"
     ]
    },
    {
     "name": "stdout",
     "output_type": "stream",
     "text": [
      "[CV 1/5] END MLP__activation=tanh, MLP__hidden_layer_sizes=(40, 30, 10), MLP__learning_rate=adaptive, MLP__learning_rate_init=0.001;, score=0.984 total time=  13.1s\n"
     ]
    },
    {
     "name": "stderr",
     "output_type": "stream",
     "text": [
      "C:\\Users\\admin\\anaconda3\\lib\\site-packages\\sklearn\\neural_network\\_multilayer_perceptron.py:679: ConvergenceWarning: Stochastic Optimizer: Maximum iterations (200) reached and the optimization hasn't converged yet.\n",
      "  warnings.warn(\n"
     ]
    },
    {
     "name": "stdout",
     "output_type": "stream",
     "text": [
      "[CV 2/5] END MLP__activation=tanh, MLP__hidden_layer_sizes=(40, 30, 10), MLP__learning_rate=adaptive, MLP__learning_rate_init=0.001;, score=0.982 total time=  13.1s\n"
     ]
    },
    {
     "name": "stderr",
     "output_type": "stream",
     "text": [
      "C:\\Users\\admin\\anaconda3\\lib\\site-packages\\sklearn\\neural_network\\_multilayer_perceptron.py:679: ConvergenceWarning: Stochastic Optimizer: Maximum iterations (200) reached and the optimization hasn't converged yet.\n",
      "  warnings.warn(\n"
     ]
    },
    {
     "name": "stdout",
     "output_type": "stream",
     "text": [
      "[CV 3/5] END MLP__activation=tanh, MLP__hidden_layer_sizes=(40, 30, 10), MLP__learning_rate=adaptive, MLP__learning_rate_init=0.001;, score=0.987 total time=  13.2s\n"
     ]
    },
    {
     "name": "stderr",
     "output_type": "stream",
     "text": [
      "C:\\Users\\admin\\anaconda3\\lib\\site-packages\\sklearn\\neural_network\\_multilayer_perceptron.py:679: ConvergenceWarning: Stochastic Optimizer: Maximum iterations (200) reached and the optimization hasn't converged yet.\n",
      "  warnings.warn(\n"
     ]
    },
    {
     "name": "stdout",
     "output_type": "stream",
     "text": [
      "[CV 4/5] END MLP__activation=tanh, MLP__hidden_layer_sizes=(40, 30, 10), MLP__learning_rate=adaptive, MLP__learning_rate_init=0.001;, score=0.978 total time=  13.1s\n"
     ]
    },
    {
     "name": "stderr",
     "output_type": "stream",
     "text": [
      "C:\\Users\\admin\\anaconda3\\lib\\site-packages\\sklearn\\neural_network\\_multilayer_perceptron.py:679: ConvergenceWarning: Stochastic Optimizer: Maximum iterations (200) reached and the optimization hasn't converged yet.\n",
      "  warnings.warn(\n"
     ]
    },
    {
     "name": "stdout",
     "output_type": "stream",
     "text": [
      "[CV 5/5] END MLP__activation=tanh, MLP__hidden_layer_sizes=(40, 30, 10), MLP__learning_rate=adaptive, MLP__learning_rate_init=0.001;, score=0.984 total time=  13.1s\n",
      "[CV 1/5] END MLP__activation=tanh, MLP__hidden_layer_sizes=(40, 30, 10), MLP__learning_rate=adaptive, MLP__learning_rate_init=0.3;, score=0.588 total time=   1.3s\n",
      "[CV 2/5] END MLP__activation=tanh, MLP__hidden_layer_sizes=(40, 30, 10), MLP__learning_rate=adaptive, MLP__learning_rate_init=0.3;, score=0.309 total time=   1.2s\n",
      "[CV 3/5] END MLP__activation=tanh, MLP__hidden_layer_sizes=(40, 30, 10), MLP__learning_rate=adaptive, MLP__learning_rate_init=0.3;, score=0.459 total time=   0.9s\n",
      "[CV 4/5] END MLP__activation=tanh, MLP__hidden_layer_sizes=(40, 30, 10), MLP__learning_rate=adaptive, MLP__learning_rate_init=0.3;, score=0.495 total time=   1.3s\n",
      "[CV 5/5] END MLP__activation=tanh, MLP__hidden_layer_sizes=(40, 30, 10), MLP__learning_rate=adaptive, MLP__learning_rate_init=0.3;, score=0.543 total time=   0.9s\n",
      "[CV 1/5] END MLP__activation=tanh, MLP__hidden_layer_sizes=(40, 30, 10), MLP__learning_rate=adaptive, MLP__learning_rate_init=0.5;, score=0.584 total time=   1.4s\n",
      "[CV 2/5] END MLP__activation=tanh, MLP__hidden_layer_sizes=(40, 30, 10), MLP__learning_rate=adaptive, MLP__learning_rate_init=0.5;, score=0.340 total time=   1.4s\n",
      "[CV 3/5] END MLP__activation=tanh, MLP__hidden_layer_sizes=(40, 30, 10), MLP__learning_rate=adaptive, MLP__learning_rate_init=0.5;, score=0.679 total time=   1.4s\n",
      "[CV 4/5] END MLP__activation=tanh, MLP__hidden_layer_sizes=(40, 30, 10), MLP__learning_rate=adaptive, MLP__learning_rate_init=0.5;, score=0.632 total time=   1.4s\n",
      "[CV 5/5] END MLP__activation=tanh, MLP__hidden_layer_sizes=(40, 30, 10), MLP__learning_rate=adaptive, MLP__learning_rate_init=0.5;, score=0.603 total time=   1.7s\n"
     ]
    },
    {
     "name": "stderr",
     "output_type": "stream",
     "text": [
      "C:\\Users\\admin\\anaconda3\\lib\\site-packages\\sklearn\\neural_network\\_multilayer_perceptron.py:679: ConvergenceWarning: Stochastic Optimizer: Maximum iterations (200) reached and the optimization hasn't converged yet.\n",
      "  warnings.warn(\n"
     ]
    },
    {
     "name": "stdout",
     "output_type": "stream",
     "text": [
      "[CV 1/5] END MLP__activation=logistic, MLP__hidden_layer_sizes=(20, 10, 5), MLP__learning_rate=constant, MLP__learning_rate_init=0.001;, score=0.912 total time=   9.2s\n"
     ]
    },
    {
     "name": "stderr",
     "output_type": "stream",
     "text": [
      "C:\\Users\\admin\\anaconda3\\lib\\site-packages\\sklearn\\neural_network\\_multilayer_perceptron.py:679: ConvergenceWarning: Stochastic Optimizer: Maximum iterations (200) reached and the optimization hasn't converged yet.\n",
      "  warnings.warn(\n"
     ]
    },
    {
     "name": "stdout",
     "output_type": "stream",
     "text": [
      "[CV 2/5] END MLP__activation=logistic, MLP__hidden_layer_sizes=(20, 10, 5), MLP__learning_rate=constant, MLP__learning_rate_init=0.001;, score=0.911 total time=   9.2s\n"
     ]
    },
    {
     "name": "stderr",
     "output_type": "stream",
     "text": [
      "C:\\Users\\admin\\anaconda3\\lib\\site-packages\\sklearn\\neural_network\\_multilayer_perceptron.py:679: ConvergenceWarning: Stochastic Optimizer: Maximum iterations (200) reached and the optimization hasn't converged yet.\n",
      "  warnings.warn(\n"
     ]
    },
    {
     "name": "stdout",
     "output_type": "stream",
     "text": [
      "[CV 3/5] END MLP__activation=logistic, MLP__hidden_layer_sizes=(20, 10, 5), MLP__learning_rate=constant, MLP__learning_rate_init=0.001;, score=0.913 total time=   9.2s\n"
     ]
    },
    {
     "name": "stderr",
     "output_type": "stream",
     "text": [
      "C:\\Users\\admin\\anaconda3\\lib\\site-packages\\sklearn\\neural_network\\_multilayer_perceptron.py:679: ConvergenceWarning: Stochastic Optimizer: Maximum iterations (200) reached and the optimization hasn't converged yet.\n",
      "  warnings.warn(\n"
     ]
    },
    {
     "name": "stdout",
     "output_type": "stream",
     "text": [
      "[CV 4/5] END MLP__activation=logistic, MLP__hidden_layer_sizes=(20, 10, 5), MLP__learning_rate=constant, MLP__learning_rate_init=0.001;, score=0.904 total time=   9.3s\n"
     ]
    },
    {
     "name": "stderr",
     "output_type": "stream",
     "text": [
      "C:\\Users\\admin\\anaconda3\\lib\\site-packages\\sklearn\\neural_network\\_multilayer_perceptron.py:679: ConvergenceWarning: Stochastic Optimizer: Maximum iterations (200) reached and the optimization hasn't converged yet.\n",
      "  warnings.warn(\n"
     ]
    },
    {
     "name": "stdout",
     "output_type": "stream",
     "text": [
      "[CV 5/5] END MLP__activation=logistic, MLP__hidden_layer_sizes=(20, 10, 5), MLP__learning_rate=constant, MLP__learning_rate_init=0.001;, score=0.950 total time=   9.2s\n",
      "[CV 1/5] END MLP__activation=logistic, MLP__hidden_layer_sizes=(20, 10, 5), MLP__learning_rate=constant, MLP__learning_rate_init=0.3;, score=0.937 total time=   2.3s\n",
      "[CV 2/5] END MLP__activation=logistic, MLP__hidden_layer_sizes=(20, 10, 5), MLP__learning_rate=constant, MLP__learning_rate_init=0.3;, score=0.902 total time=   2.5s\n",
      "[CV 3/5] END MLP__activation=logistic, MLP__hidden_layer_sizes=(20, 10, 5), MLP__learning_rate=constant, MLP__learning_rate_init=0.3;, score=0.949 total time=   3.2s\n",
      "[CV 4/5] END MLP__activation=logistic, MLP__hidden_layer_sizes=(20, 10, 5), MLP__learning_rate=constant, MLP__learning_rate_init=0.3;, score=0.729 total time=   1.0s\n",
      "[CV 5/5] END MLP__activation=logistic, MLP__hidden_layer_sizes=(20, 10, 5), MLP__learning_rate=constant, MLP__learning_rate_init=0.3;, score=0.777 total time=   0.6s\n",
      "[CV 1/5] END MLP__activation=logistic, MLP__hidden_layer_sizes=(20, 10, 5), MLP__learning_rate=constant, MLP__learning_rate_init=0.5;, score=0.785 total time=   1.2s\n",
      "[CV 2/5] END MLP__activation=logistic, MLP__hidden_layer_sizes=(20, 10, 5), MLP__learning_rate=constant, MLP__learning_rate_init=0.5;, score=0.787 total time=   1.2s\n",
      "[CV 3/5] END MLP__activation=logistic, MLP__hidden_layer_sizes=(20, 10, 5), MLP__learning_rate=constant, MLP__learning_rate_init=0.5;, score=0.771 total time=   1.2s\n",
      "[CV 4/5] END MLP__activation=logistic, MLP__hidden_layer_sizes=(20, 10, 5), MLP__learning_rate=constant, MLP__learning_rate_init=0.5;, score=0.778 total time=   1.0s\n",
      "[CV 5/5] END MLP__activation=logistic, MLP__hidden_layer_sizes=(20, 10, 5), MLP__learning_rate=constant, MLP__learning_rate_init=0.5;, score=0.790 total time=   1.2s\n"
     ]
    },
    {
     "name": "stderr",
     "output_type": "stream",
     "text": [
      "C:\\Users\\admin\\anaconda3\\lib\\site-packages\\sklearn\\neural_network\\_multilayer_perceptron.py:679: ConvergenceWarning: Stochastic Optimizer: Maximum iterations (200) reached and the optimization hasn't converged yet.\n",
      "  warnings.warn(\n"
     ]
    },
    {
     "name": "stdout",
     "output_type": "stream",
     "text": [
      "[CV 1/5] END MLP__activation=logistic, MLP__hidden_layer_sizes=(20, 10, 5), MLP__learning_rate=invscaling, MLP__learning_rate_init=0.001;, score=0.912 total time=   9.3s\n"
     ]
    },
    {
     "name": "stderr",
     "output_type": "stream",
     "text": [
      "C:\\Users\\admin\\anaconda3\\lib\\site-packages\\sklearn\\neural_network\\_multilayer_perceptron.py:679: ConvergenceWarning: Stochastic Optimizer: Maximum iterations (200) reached and the optimization hasn't converged yet.\n",
      "  warnings.warn(\n"
     ]
    },
    {
     "name": "stdout",
     "output_type": "stream",
     "text": [
      "[CV 2/5] END MLP__activation=logistic, MLP__hidden_layer_sizes=(20, 10, 5), MLP__learning_rate=invscaling, MLP__learning_rate_init=0.001;, score=0.911 total time=   9.2s\n"
     ]
    },
    {
     "name": "stderr",
     "output_type": "stream",
     "text": [
      "C:\\Users\\admin\\anaconda3\\lib\\site-packages\\sklearn\\neural_network\\_multilayer_perceptron.py:679: ConvergenceWarning: Stochastic Optimizer: Maximum iterations (200) reached and the optimization hasn't converged yet.\n",
      "  warnings.warn(\n"
     ]
    },
    {
     "name": "stdout",
     "output_type": "stream",
     "text": [
      "[CV 3/5] END MLP__activation=logistic, MLP__hidden_layer_sizes=(20, 10, 5), MLP__learning_rate=invscaling, MLP__learning_rate_init=0.001;, score=0.913 total time=   9.2s\n"
     ]
    },
    {
     "name": "stderr",
     "output_type": "stream",
     "text": [
      "C:\\Users\\admin\\anaconda3\\lib\\site-packages\\sklearn\\neural_network\\_multilayer_perceptron.py:679: ConvergenceWarning: Stochastic Optimizer: Maximum iterations (200) reached and the optimization hasn't converged yet.\n",
      "  warnings.warn(\n"
     ]
    },
    {
     "name": "stdout",
     "output_type": "stream",
     "text": [
      "[CV 4/5] END MLP__activation=logistic, MLP__hidden_layer_sizes=(20, 10, 5), MLP__learning_rate=invscaling, MLP__learning_rate_init=0.001;, score=0.904 total time=   9.2s\n"
     ]
    },
    {
     "name": "stderr",
     "output_type": "stream",
     "text": [
      "C:\\Users\\admin\\anaconda3\\lib\\site-packages\\sklearn\\neural_network\\_multilayer_perceptron.py:679: ConvergenceWarning: Stochastic Optimizer: Maximum iterations (200) reached and the optimization hasn't converged yet.\n",
      "  warnings.warn(\n"
     ]
    },
    {
     "name": "stdout",
     "output_type": "stream",
     "text": [
      "[CV 5/5] END MLP__activation=logistic, MLP__hidden_layer_sizes=(20, 10, 5), MLP__learning_rate=invscaling, MLP__learning_rate_init=0.001;, score=0.950 total time=   9.3s\n",
      "[CV 1/5] END MLP__activation=logistic, MLP__hidden_layer_sizes=(20, 10, 5), MLP__learning_rate=invscaling, MLP__learning_rate_init=0.3;, score=0.937 total time=   2.3s\n",
      "[CV 2/5] END MLP__activation=logistic, MLP__hidden_layer_sizes=(20, 10, 5), MLP__learning_rate=invscaling, MLP__learning_rate_init=0.3;, score=0.902 total time=   2.5s\n",
      "[CV 3/5] END MLP__activation=logistic, MLP__hidden_layer_sizes=(20, 10, 5), MLP__learning_rate=invscaling, MLP__learning_rate_init=0.3;, score=0.949 total time=   3.2s\n",
      "[CV 4/5] END MLP__activation=logistic, MLP__hidden_layer_sizes=(20, 10, 5), MLP__learning_rate=invscaling, MLP__learning_rate_init=0.3;, score=0.729 total time=   1.0s\n",
      "[CV 5/5] END MLP__activation=logistic, MLP__hidden_layer_sizes=(20, 10, 5), MLP__learning_rate=invscaling, MLP__learning_rate_init=0.3;, score=0.777 total time=   0.6s\n",
      "[CV 1/5] END MLP__activation=logistic, MLP__hidden_layer_sizes=(20, 10, 5), MLP__learning_rate=invscaling, MLP__learning_rate_init=0.5;, score=0.785 total time=   1.2s\n",
      "[CV 2/5] END MLP__activation=logistic, MLP__hidden_layer_sizes=(20, 10, 5), MLP__learning_rate=invscaling, MLP__learning_rate_init=0.5;, score=0.787 total time=   1.2s\n",
      "[CV 3/5] END MLP__activation=logistic, MLP__hidden_layer_sizes=(20, 10, 5), MLP__learning_rate=invscaling, MLP__learning_rate_init=0.5;, score=0.771 total time=   1.2s\n",
      "[CV 4/5] END MLP__activation=logistic, MLP__hidden_layer_sizes=(20, 10, 5), MLP__learning_rate=invscaling, MLP__learning_rate_init=0.5;, score=0.778 total time=   1.0s\n",
      "[CV 5/5] END MLP__activation=logistic, MLP__hidden_layer_sizes=(20, 10, 5), MLP__learning_rate=invscaling, MLP__learning_rate_init=0.5;, score=0.790 total time=   1.2s\n"
     ]
    },
    {
     "name": "stderr",
     "output_type": "stream",
     "text": [
      "C:\\Users\\admin\\anaconda3\\lib\\site-packages\\sklearn\\neural_network\\_multilayer_perceptron.py:679: ConvergenceWarning: Stochastic Optimizer: Maximum iterations (200) reached and the optimization hasn't converged yet.\n",
      "  warnings.warn(\n"
     ]
    },
    {
     "name": "stdout",
     "output_type": "stream",
     "text": [
      "[CV 1/5] END MLP__activation=logistic, MLP__hidden_layer_sizes=(20, 10, 5), MLP__learning_rate=adaptive, MLP__learning_rate_init=0.001;, score=0.912 total time=   9.2s\n"
     ]
    },
    {
     "name": "stderr",
     "output_type": "stream",
     "text": [
      "C:\\Users\\admin\\anaconda3\\lib\\site-packages\\sklearn\\neural_network\\_multilayer_perceptron.py:679: ConvergenceWarning: Stochastic Optimizer: Maximum iterations (200) reached and the optimization hasn't converged yet.\n",
      "  warnings.warn(\n"
     ]
    },
    {
     "name": "stdout",
     "output_type": "stream",
     "text": [
      "[CV 2/5] END MLP__activation=logistic, MLP__hidden_layer_sizes=(20, 10, 5), MLP__learning_rate=adaptive, MLP__learning_rate_init=0.001;, score=0.911 total time=   9.3s\n"
     ]
    },
    {
     "name": "stderr",
     "output_type": "stream",
     "text": [
      "C:\\Users\\admin\\anaconda3\\lib\\site-packages\\sklearn\\neural_network\\_multilayer_perceptron.py:679: ConvergenceWarning: Stochastic Optimizer: Maximum iterations (200) reached and the optimization hasn't converged yet.\n",
      "  warnings.warn(\n"
     ]
    },
    {
     "name": "stdout",
     "output_type": "stream",
     "text": [
      "[CV 3/5] END MLP__activation=logistic, MLP__hidden_layer_sizes=(20, 10, 5), MLP__learning_rate=adaptive, MLP__learning_rate_init=0.001;, score=0.913 total time=   9.2s\n"
     ]
    },
    {
     "name": "stderr",
     "output_type": "stream",
     "text": [
      "C:\\Users\\admin\\anaconda3\\lib\\site-packages\\sklearn\\neural_network\\_multilayer_perceptron.py:679: ConvergenceWarning: Stochastic Optimizer: Maximum iterations (200) reached and the optimization hasn't converged yet.\n",
      "  warnings.warn(\n"
     ]
    },
    {
     "name": "stdout",
     "output_type": "stream",
     "text": [
      "[CV 4/5] END MLP__activation=logistic, MLP__hidden_layer_sizes=(20, 10, 5), MLP__learning_rate=adaptive, MLP__learning_rate_init=0.001;, score=0.904 total time=   9.2s\n"
     ]
    },
    {
     "name": "stderr",
     "output_type": "stream",
     "text": [
      "C:\\Users\\admin\\anaconda3\\lib\\site-packages\\sklearn\\neural_network\\_multilayer_perceptron.py:679: ConvergenceWarning: Stochastic Optimizer: Maximum iterations (200) reached and the optimization hasn't converged yet.\n",
      "  warnings.warn(\n"
     ]
    },
    {
     "name": "stdout",
     "output_type": "stream",
     "text": [
      "[CV 5/5] END MLP__activation=logistic, MLP__hidden_layer_sizes=(20, 10, 5), MLP__learning_rate=adaptive, MLP__learning_rate_init=0.001;, score=0.950 total time=   9.2s\n",
      "[CV 1/5] END MLP__activation=logistic, MLP__hidden_layer_sizes=(20, 10, 5), MLP__learning_rate=adaptive, MLP__learning_rate_init=0.3;, score=0.937 total time=   2.3s\n",
      "[CV 2/5] END MLP__activation=logistic, MLP__hidden_layer_sizes=(20, 10, 5), MLP__learning_rate=adaptive, MLP__learning_rate_init=0.3;, score=0.902 total time=   2.5s\n",
      "[CV 3/5] END MLP__activation=logistic, MLP__hidden_layer_sizes=(20, 10, 5), MLP__learning_rate=adaptive, MLP__learning_rate_init=0.3;, score=0.949 total time=   3.2s\n",
      "[CV 4/5] END MLP__activation=logistic, MLP__hidden_layer_sizes=(20, 10, 5), MLP__learning_rate=adaptive, MLP__learning_rate_init=0.3;, score=0.729 total time=   1.0s\n",
      "[CV 5/5] END MLP__activation=logistic, MLP__hidden_layer_sizes=(20, 10, 5), MLP__learning_rate=adaptive, MLP__learning_rate_init=0.3;, score=0.777 total time=   0.6s\n",
      "[CV 1/5] END MLP__activation=logistic, MLP__hidden_layer_sizes=(20, 10, 5), MLP__learning_rate=adaptive, MLP__learning_rate_init=0.5;, score=0.785 total time=   1.2s\n",
      "[CV 2/5] END MLP__activation=logistic, MLP__hidden_layer_sizes=(20, 10, 5), MLP__learning_rate=adaptive, MLP__learning_rate_init=0.5;, score=0.787 total time=   1.2s\n",
      "[CV 3/5] END MLP__activation=logistic, MLP__hidden_layer_sizes=(20, 10, 5), MLP__learning_rate=adaptive, MLP__learning_rate_init=0.5;, score=0.771 total time=   1.2s\n",
      "[CV 4/5] END MLP__activation=logistic, MLP__hidden_layer_sizes=(20, 10, 5), MLP__learning_rate=adaptive, MLP__learning_rate_init=0.5;, score=0.778 total time=   1.0s\n",
      "[CV 5/5] END MLP__activation=logistic, MLP__hidden_layer_sizes=(20, 10, 5), MLP__learning_rate=adaptive, MLP__learning_rate_init=0.5;, score=0.790 total time=   1.2s\n"
     ]
    },
    {
     "name": "stderr",
     "output_type": "stream",
     "text": [
      "C:\\Users\\admin\\anaconda3\\lib\\site-packages\\sklearn\\neural_network\\_multilayer_perceptron.py:679: ConvergenceWarning: Stochastic Optimizer: Maximum iterations (200) reached and the optimization hasn't converged yet.\n",
      "  warnings.warn(\n"
     ]
    },
    {
     "name": "stdout",
     "output_type": "stream",
     "text": [
      "[CV 1/5] END MLP__activation=logistic, MLP__hidden_layer_sizes=(30, 20, 10), MLP__learning_rate=constant, MLP__learning_rate_init=0.001;, score=0.971 total time=  10.9s\n"
     ]
    },
    {
     "name": "stderr",
     "output_type": "stream",
     "text": [
      "C:\\Users\\admin\\anaconda3\\lib\\site-packages\\sklearn\\neural_network\\_multilayer_perceptron.py:679: ConvergenceWarning: Stochastic Optimizer: Maximum iterations (200) reached and the optimization hasn't converged yet.\n",
      "  warnings.warn(\n"
     ]
    },
    {
     "name": "stdout",
     "output_type": "stream",
     "text": [
      "[CV 2/5] END MLP__activation=logistic, MLP__hidden_layer_sizes=(30, 20, 10), MLP__learning_rate=constant, MLP__learning_rate_init=0.001;, score=0.966 total time=  10.9s\n"
     ]
    },
    {
     "name": "stderr",
     "output_type": "stream",
     "text": [
      "C:\\Users\\admin\\anaconda3\\lib\\site-packages\\sklearn\\neural_network\\_multilayer_perceptron.py:679: ConvergenceWarning: Stochastic Optimizer: Maximum iterations (200) reached and the optimization hasn't converged yet.\n",
      "  warnings.warn(\n"
     ]
    },
    {
     "name": "stdout",
     "output_type": "stream",
     "text": [
      "[CV 3/5] END MLP__activation=logistic, MLP__hidden_layer_sizes=(30, 20, 10), MLP__learning_rate=constant, MLP__learning_rate_init=0.001;, score=0.974 total time=  10.9s\n"
     ]
    },
    {
     "name": "stderr",
     "output_type": "stream",
     "text": [
      "C:\\Users\\admin\\anaconda3\\lib\\site-packages\\sklearn\\neural_network\\_multilayer_perceptron.py:679: ConvergenceWarning: Stochastic Optimizer: Maximum iterations (200) reached and the optimization hasn't converged yet.\n",
      "  warnings.warn(\n"
     ]
    },
    {
     "name": "stdout",
     "output_type": "stream",
     "text": [
      "[CV 4/5] END MLP__activation=logistic, MLP__hidden_layer_sizes=(30, 20, 10), MLP__learning_rate=constant, MLP__learning_rate_init=0.001;, score=0.965 total time=  10.9s\n"
     ]
    },
    {
     "name": "stderr",
     "output_type": "stream",
     "text": [
      "C:\\Users\\admin\\anaconda3\\lib\\site-packages\\sklearn\\neural_network\\_multilayer_perceptron.py:679: ConvergenceWarning: Stochastic Optimizer: Maximum iterations (200) reached and the optimization hasn't converged yet.\n",
      "  warnings.warn(\n"
     ]
    },
    {
     "name": "stdout",
     "output_type": "stream",
     "text": [
      "[CV 5/5] END MLP__activation=logistic, MLP__hidden_layer_sizes=(30, 20, 10), MLP__learning_rate=constant, MLP__learning_rate_init=0.001;, score=0.973 total time=  10.9s\n",
      "[CV 1/5] END MLP__activation=logistic, MLP__hidden_layer_sizes=(30, 20, 10), MLP__learning_rate=constant, MLP__learning_rate_init=0.3;, score=0.780 total time=   0.6s\n",
      "[CV 2/5] END MLP__activation=logistic, MLP__hidden_layer_sizes=(30, 20, 10), MLP__learning_rate=constant, MLP__learning_rate_init=0.3;, score=0.788 total time=   0.6s\n",
      "[CV 3/5] END MLP__activation=logistic, MLP__hidden_layer_sizes=(30, 20, 10), MLP__learning_rate=constant, MLP__learning_rate_init=0.3;, score=0.769 total time=   0.6s\n",
      "[CV 4/5] END MLP__activation=logistic, MLP__hidden_layer_sizes=(30, 20, 10), MLP__learning_rate=constant, MLP__learning_rate_init=0.3;, score=0.778 total time=   0.6s\n",
      "[CV 5/5] END MLP__activation=logistic, MLP__hidden_layer_sizes=(30, 20, 10), MLP__learning_rate=constant, MLP__learning_rate_init=0.3;, score=0.789 total time=   0.7s\n",
      "[CV 1/5] END MLP__activation=logistic, MLP__hidden_layer_sizes=(30, 20, 10), MLP__learning_rate=constant, MLP__learning_rate_init=0.5;, score=0.787 total time=   1.1s\n",
      "[CV 2/5] END MLP__activation=logistic, MLP__hidden_layer_sizes=(30, 20, 10), MLP__learning_rate=constant, MLP__learning_rate_init=0.5;, score=0.783 total time=   1.1s\n",
      "[CV 3/5] END MLP__activation=logistic, MLP__hidden_layer_sizes=(30, 20, 10), MLP__learning_rate=constant, MLP__learning_rate_init=0.5;, score=0.767 total time=   1.1s\n",
      "[CV 4/5] END MLP__activation=logistic, MLP__hidden_layer_sizes=(30, 20, 10), MLP__learning_rate=constant, MLP__learning_rate_init=0.5;, score=0.769 total time=   1.1s\n",
      "[CV 5/5] END MLP__activation=logistic, MLP__hidden_layer_sizes=(30, 20, 10), MLP__learning_rate=constant, MLP__learning_rate_init=0.5;, score=0.754 total time=   0.7s\n"
     ]
    },
    {
     "name": "stderr",
     "output_type": "stream",
     "text": [
      "C:\\Users\\admin\\anaconda3\\lib\\site-packages\\sklearn\\neural_network\\_multilayer_perceptron.py:679: ConvergenceWarning: Stochastic Optimizer: Maximum iterations (200) reached and the optimization hasn't converged yet.\n",
      "  warnings.warn(\n"
     ]
    },
    {
     "name": "stdout",
     "output_type": "stream",
     "text": [
      "[CV 1/5] END MLP__activation=logistic, MLP__hidden_layer_sizes=(30, 20, 10), MLP__learning_rate=invscaling, MLP__learning_rate_init=0.001;, score=0.971 total time=  10.9s\n"
     ]
    },
    {
     "name": "stderr",
     "output_type": "stream",
     "text": [
      "C:\\Users\\admin\\anaconda3\\lib\\site-packages\\sklearn\\neural_network\\_multilayer_perceptron.py:679: ConvergenceWarning: Stochastic Optimizer: Maximum iterations (200) reached and the optimization hasn't converged yet.\n",
      "  warnings.warn(\n"
     ]
    },
    {
     "name": "stdout",
     "output_type": "stream",
     "text": [
      "[CV 2/5] END MLP__activation=logistic, MLP__hidden_layer_sizes=(30, 20, 10), MLP__learning_rate=invscaling, MLP__learning_rate_init=0.001;, score=0.966 total time=  10.9s\n"
     ]
    },
    {
     "name": "stderr",
     "output_type": "stream",
     "text": [
      "C:\\Users\\admin\\anaconda3\\lib\\site-packages\\sklearn\\neural_network\\_multilayer_perceptron.py:679: ConvergenceWarning: Stochastic Optimizer: Maximum iterations (200) reached and the optimization hasn't converged yet.\n",
      "  warnings.warn(\n"
     ]
    },
    {
     "name": "stdout",
     "output_type": "stream",
     "text": [
      "[CV 3/5] END MLP__activation=logistic, MLP__hidden_layer_sizes=(30, 20, 10), MLP__learning_rate=invscaling, MLP__learning_rate_init=0.001;, score=0.974 total time=  10.9s\n"
     ]
    },
    {
     "name": "stderr",
     "output_type": "stream",
     "text": [
      "C:\\Users\\admin\\anaconda3\\lib\\site-packages\\sklearn\\neural_network\\_multilayer_perceptron.py:679: ConvergenceWarning: Stochastic Optimizer: Maximum iterations (200) reached and the optimization hasn't converged yet.\n",
      "  warnings.warn(\n"
     ]
    },
    {
     "name": "stdout",
     "output_type": "stream",
     "text": [
      "[CV 4/5] END MLP__activation=logistic, MLP__hidden_layer_sizes=(30, 20, 10), MLP__learning_rate=invscaling, MLP__learning_rate_init=0.001;, score=0.965 total time=  10.9s\n"
     ]
    },
    {
     "name": "stderr",
     "output_type": "stream",
     "text": [
      "C:\\Users\\admin\\anaconda3\\lib\\site-packages\\sklearn\\neural_network\\_multilayer_perceptron.py:679: ConvergenceWarning: Stochastic Optimizer: Maximum iterations (200) reached and the optimization hasn't converged yet.\n",
      "  warnings.warn(\n"
     ]
    },
    {
     "name": "stdout",
     "output_type": "stream",
     "text": [
      "[CV 5/5] END MLP__activation=logistic, MLP__hidden_layer_sizes=(30, 20, 10), MLP__learning_rate=invscaling, MLP__learning_rate_init=0.001;, score=0.973 total time=  10.9s\n",
      "[CV 1/5] END MLP__activation=logistic, MLP__hidden_layer_sizes=(30, 20, 10), MLP__learning_rate=invscaling, MLP__learning_rate_init=0.3;, score=0.780 total time=   0.6s\n",
      "[CV 2/5] END MLP__activation=logistic, MLP__hidden_layer_sizes=(30, 20, 10), MLP__learning_rate=invscaling, MLP__learning_rate_init=0.3;, score=0.788 total time=   0.6s\n",
      "[CV 3/5] END MLP__activation=logistic, MLP__hidden_layer_sizes=(30, 20, 10), MLP__learning_rate=invscaling, MLP__learning_rate_init=0.3;, score=0.769 total time=   0.6s\n",
      "[CV 4/5] END MLP__activation=logistic, MLP__hidden_layer_sizes=(30, 20, 10), MLP__learning_rate=invscaling, MLP__learning_rate_init=0.3;, score=0.778 total time=   0.6s\n",
      "[CV 5/5] END MLP__activation=logistic, MLP__hidden_layer_sizes=(30, 20, 10), MLP__learning_rate=invscaling, MLP__learning_rate_init=0.3;, score=0.789 total time=   0.7s\n",
      "[CV 1/5] END MLP__activation=logistic, MLP__hidden_layer_sizes=(30, 20, 10), MLP__learning_rate=invscaling, MLP__learning_rate_init=0.5;, score=0.787 total time=   1.1s\n",
      "[CV 2/5] END MLP__activation=logistic, MLP__hidden_layer_sizes=(30, 20, 10), MLP__learning_rate=invscaling, MLP__learning_rate_init=0.5;, score=0.783 total time=   1.1s\n",
      "[CV 3/5] END MLP__activation=logistic, MLP__hidden_layer_sizes=(30, 20, 10), MLP__learning_rate=invscaling, MLP__learning_rate_init=0.5;, score=0.767 total time=   1.1s\n",
      "[CV 4/5] END MLP__activation=logistic, MLP__hidden_layer_sizes=(30, 20, 10), MLP__learning_rate=invscaling, MLP__learning_rate_init=0.5;, score=0.769 total time=   1.1s\n",
      "[CV 5/5] END MLP__activation=logistic, MLP__hidden_layer_sizes=(30, 20, 10), MLP__learning_rate=invscaling, MLP__learning_rate_init=0.5;, score=0.754 total time=   0.7s\n"
     ]
    },
    {
     "name": "stderr",
     "output_type": "stream",
     "text": [
      "C:\\Users\\admin\\anaconda3\\lib\\site-packages\\sklearn\\neural_network\\_multilayer_perceptron.py:679: ConvergenceWarning: Stochastic Optimizer: Maximum iterations (200) reached and the optimization hasn't converged yet.\n",
      "  warnings.warn(\n"
     ]
    },
    {
     "name": "stdout",
     "output_type": "stream",
     "text": [
      "[CV 1/5] END MLP__activation=logistic, MLP__hidden_layer_sizes=(30, 20, 10), MLP__learning_rate=adaptive, MLP__learning_rate_init=0.001;, score=0.971 total time=  10.9s\n"
     ]
    },
    {
     "name": "stderr",
     "output_type": "stream",
     "text": [
      "C:\\Users\\admin\\anaconda3\\lib\\site-packages\\sklearn\\neural_network\\_multilayer_perceptron.py:679: ConvergenceWarning: Stochastic Optimizer: Maximum iterations (200) reached and the optimization hasn't converged yet.\n",
      "  warnings.warn(\n"
     ]
    },
    {
     "name": "stdout",
     "output_type": "stream",
     "text": [
      "[CV 2/5] END MLP__activation=logistic, MLP__hidden_layer_sizes=(30, 20, 10), MLP__learning_rate=adaptive, MLP__learning_rate_init=0.001;, score=0.966 total time=  10.8s\n"
     ]
    },
    {
     "name": "stderr",
     "output_type": "stream",
     "text": [
      "C:\\Users\\admin\\anaconda3\\lib\\site-packages\\sklearn\\neural_network\\_multilayer_perceptron.py:679: ConvergenceWarning: Stochastic Optimizer: Maximum iterations (200) reached and the optimization hasn't converged yet.\n",
      "  warnings.warn(\n"
     ]
    },
    {
     "name": "stdout",
     "output_type": "stream",
     "text": [
      "[CV 3/5] END MLP__activation=logistic, MLP__hidden_layer_sizes=(30, 20, 10), MLP__learning_rate=adaptive, MLP__learning_rate_init=0.001;, score=0.974 total time=  10.9s\n"
     ]
    },
    {
     "name": "stderr",
     "output_type": "stream",
     "text": [
      "C:\\Users\\admin\\anaconda3\\lib\\site-packages\\sklearn\\neural_network\\_multilayer_perceptron.py:679: ConvergenceWarning: Stochastic Optimizer: Maximum iterations (200) reached and the optimization hasn't converged yet.\n",
      "  warnings.warn(\n"
     ]
    },
    {
     "name": "stdout",
     "output_type": "stream",
     "text": [
      "[CV 4/5] END MLP__activation=logistic, MLP__hidden_layer_sizes=(30, 20, 10), MLP__learning_rate=adaptive, MLP__learning_rate_init=0.001;, score=0.965 total time=  10.9s\n"
     ]
    },
    {
     "name": "stderr",
     "output_type": "stream",
     "text": [
      "C:\\Users\\admin\\anaconda3\\lib\\site-packages\\sklearn\\neural_network\\_multilayer_perceptron.py:679: ConvergenceWarning: Stochastic Optimizer: Maximum iterations (200) reached and the optimization hasn't converged yet.\n",
      "  warnings.warn(\n"
     ]
    },
    {
     "name": "stdout",
     "output_type": "stream",
     "text": [
      "[CV 5/5] END MLP__activation=logistic, MLP__hidden_layer_sizes=(30, 20, 10), MLP__learning_rate=adaptive, MLP__learning_rate_init=0.001;, score=0.973 total time=  10.9s\n",
      "[CV 1/5] END MLP__activation=logistic, MLP__hidden_layer_sizes=(30, 20, 10), MLP__learning_rate=adaptive, MLP__learning_rate_init=0.3;, score=0.780 total time=   0.6s\n",
      "[CV 2/5] END MLP__activation=logistic, MLP__hidden_layer_sizes=(30, 20, 10), MLP__learning_rate=adaptive, MLP__learning_rate_init=0.3;, score=0.788 total time=   0.6s\n",
      "[CV 3/5] END MLP__activation=logistic, MLP__hidden_layer_sizes=(30, 20, 10), MLP__learning_rate=adaptive, MLP__learning_rate_init=0.3;, score=0.769 total time=   0.6s\n",
      "[CV 4/5] END MLP__activation=logistic, MLP__hidden_layer_sizes=(30, 20, 10), MLP__learning_rate=adaptive, MLP__learning_rate_init=0.3;, score=0.778 total time=   0.6s\n",
      "[CV 5/5] END MLP__activation=logistic, MLP__hidden_layer_sizes=(30, 20, 10), MLP__learning_rate=adaptive, MLP__learning_rate_init=0.3;, score=0.789 total time=   0.7s\n",
      "[CV 1/5] END MLP__activation=logistic, MLP__hidden_layer_sizes=(30, 20, 10), MLP__learning_rate=adaptive, MLP__learning_rate_init=0.5;, score=0.787 total time=   1.1s\n",
      "[CV 2/5] END MLP__activation=logistic, MLP__hidden_layer_sizes=(30, 20, 10), MLP__learning_rate=adaptive, MLP__learning_rate_init=0.5;, score=0.783 total time=   1.1s\n",
      "[CV 3/5] END MLP__activation=logistic, MLP__hidden_layer_sizes=(30, 20, 10), MLP__learning_rate=adaptive, MLP__learning_rate_init=0.5;, score=0.767 total time=   1.1s\n",
      "[CV 4/5] END MLP__activation=logistic, MLP__hidden_layer_sizes=(30, 20, 10), MLP__learning_rate=adaptive, MLP__learning_rate_init=0.5;, score=0.769 total time=   1.1s\n",
      "[CV 5/5] END MLP__activation=logistic, MLP__hidden_layer_sizes=(30, 20, 10), MLP__learning_rate=adaptive, MLP__learning_rate_init=0.5;, score=0.754 total time=   0.7s\n"
     ]
    },
    {
     "name": "stderr",
     "output_type": "stream",
     "text": [
      "C:\\Users\\admin\\anaconda3\\lib\\site-packages\\sklearn\\neural_network\\_multilayer_perceptron.py:679: ConvergenceWarning: Stochastic Optimizer: Maximum iterations (200) reached and the optimization hasn't converged yet.\n",
      "  warnings.warn(\n"
     ]
    },
    {
     "name": "stdout",
     "output_type": "stream",
     "text": [
      "[CV 1/5] END MLP__activation=logistic, MLP__hidden_layer_sizes=(40, 30, 10), MLP__learning_rate=constant, MLP__learning_rate_init=0.001;, score=0.972 total time=  12.0s\n"
     ]
    },
    {
     "name": "stderr",
     "output_type": "stream",
     "text": [
      "C:\\Users\\admin\\anaconda3\\lib\\site-packages\\sklearn\\neural_network\\_multilayer_perceptron.py:679: ConvergenceWarning: Stochastic Optimizer: Maximum iterations (200) reached and the optimization hasn't converged yet.\n",
      "  warnings.warn(\n"
     ]
    },
    {
     "name": "stdout",
     "output_type": "stream",
     "text": [
      "[CV 2/5] END MLP__activation=logistic, MLP__hidden_layer_sizes=(40, 30, 10), MLP__learning_rate=constant, MLP__learning_rate_init=0.001;, score=0.969 total time=  12.0s\n"
     ]
    },
    {
     "name": "stderr",
     "output_type": "stream",
     "text": [
      "C:\\Users\\admin\\anaconda3\\lib\\site-packages\\sklearn\\neural_network\\_multilayer_perceptron.py:679: ConvergenceWarning: Stochastic Optimizer: Maximum iterations (200) reached and the optimization hasn't converged yet.\n",
      "  warnings.warn(\n"
     ]
    },
    {
     "name": "stdout",
     "output_type": "stream",
     "text": [
      "[CV 3/5] END MLP__activation=logistic, MLP__hidden_layer_sizes=(40, 30, 10), MLP__learning_rate=constant, MLP__learning_rate_init=0.001;, score=0.974 total time=  12.0s\n"
     ]
    },
    {
     "name": "stderr",
     "output_type": "stream",
     "text": [
      "C:\\Users\\admin\\anaconda3\\lib\\site-packages\\sklearn\\neural_network\\_multilayer_perceptron.py:679: ConvergenceWarning: Stochastic Optimizer: Maximum iterations (200) reached and the optimization hasn't converged yet.\n",
      "  warnings.warn(\n"
     ]
    },
    {
     "name": "stdout",
     "output_type": "stream",
     "text": [
      "[CV 4/5] END MLP__activation=logistic, MLP__hidden_layer_sizes=(40, 30, 10), MLP__learning_rate=constant, MLP__learning_rate_init=0.001;, score=0.962 total time=  12.0s\n"
     ]
    },
    {
     "name": "stderr",
     "output_type": "stream",
     "text": [
      "C:\\Users\\admin\\anaconda3\\lib\\site-packages\\sklearn\\neural_network\\_multilayer_perceptron.py:679: ConvergenceWarning: Stochastic Optimizer: Maximum iterations (200) reached and the optimization hasn't converged yet.\n",
      "  warnings.warn(\n"
     ]
    },
    {
     "name": "stdout",
     "output_type": "stream",
     "text": [
      "[CV 5/5] END MLP__activation=logistic, MLP__hidden_layer_sizes=(40, 30, 10), MLP__learning_rate=constant, MLP__learning_rate_init=0.001;, score=0.972 total time=  12.0s\n",
      "[CV 1/5] END MLP__activation=logistic, MLP__hidden_layer_sizes=(40, 30, 10), MLP__learning_rate=constant, MLP__learning_rate_init=0.3;, score=0.622 total time=   1.1s\n",
      "[CV 2/5] END MLP__activation=logistic, MLP__hidden_layer_sizes=(40, 30, 10), MLP__learning_rate=constant, MLP__learning_rate_init=0.3;, score=0.715 total time=   1.1s\n",
      "[CV 3/5] END MLP__activation=logistic, MLP__hidden_layer_sizes=(40, 30, 10), MLP__learning_rate=constant, MLP__learning_rate_init=0.3;, score=0.775 total time=   1.6s\n",
      "[CV 4/5] END MLP__activation=logistic, MLP__hidden_layer_sizes=(40, 30, 10), MLP__learning_rate=constant, MLP__learning_rate_init=0.3;, score=0.720 total time=   1.1s\n",
      "[CV 5/5] END MLP__activation=logistic, MLP__hidden_layer_sizes=(40, 30, 10), MLP__learning_rate=constant, MLP__learning_rate_init=0.3;, score=0.785 total time=   0.8s\n",
      "[CV 1/5] END MLP__activation=logistic, MLP__hidden_layer_sizes=(40, 30, 10), MLP__learning_rate=constant, MLP__learning_rate_init=0.5;, score=0.773 total time=   1.1s\n",
      "[CV 2/5] END MLP__activation=logistic, MLP__hidden_layer_sizes=(40, 30, 10), MLP__learning_rate=constant, MLP__learning_rate_init=0.5;, score=0.794 total time=   0.8s\n",
      "[CV 3/5] END MLP__activation=logistic, MLP__hidden_layer_sizes=(40, 30, 10), MLP__learning_rate=constant, MLP__learning_rate_init=0.5;, score=0.759 total time=   0.8s\n",
      "[CV 4/5] END MLP__activation=logistic, MLP__hidden_layer_sizes=(40, 30, 10), MLP__learning_rate=constant, MLP__learning_rate_init=0.5;, score=0.729 total time=   0.8s\n",
      "[CV 5/5] END MLP__activation=logistic, MLP__hidden_layer_sizes=(40, 30, 10), MLP__learning_rate=constant, MLP__learning_rate_init=0.5;, score=0.783 total time=   0.8s\n"
     ]
    },
    {
     "name": "stderr",
     "output_type": "stream",
     "text": [
      "C:\\Users\\admin\\anaconda3\\lib\\site-packages\\sklearn\\neural_network\\_multilayer_perceptron.py:679: ConvergenceWarning: Stochastic Optimizer: Maximum iterations (200) reached and the optimization hasn't converged yet.\n",
      "  warnings.warn(\n"
     ]
    },
    {
     "name": "stdout",
     "output_type": "stream",
     "text": [
      "[CV 1/5] END MLP__activation=logistic, MLP__hidden_layer_sizes=(40, 30, 10), MLP__learning_rate=invscaling, MLP__learning_rate_init=0.001;, score=0.972 total time=  12.0s\n"
     ]
    },
    {
     "name": "stderr",
     "output_type": "stream",
     "text": [
      "C:\\Users\\admin\\anaconda3\\lib\\site-packages\\sklearn\\neural_network\\_multilayer_perceptron.py:679: ConvergenceWarning: Stochastic Optimizer: Maximum iterations (200) reached and the optimization hasn't converged yet.\n",
      "  warnings.warn(\n"
     ]
    },
    {
     "name": "stdout",
     "output_type": "stream",
     "text": [
      "[CV 2/5] END MLP__activation=logistic, MLP__hidden_layer_sizes=(40, 30, 10), MLP__learning_rate=invscaling, MLP__learning_rate_init=0.001;, score=0.969 total time=  12.0s\n"
     ]
    },
    {
     "name": "stderr",
     "output_type": "stream",
     "text": [
      "C:\\Users\\admin\\anaconda3\\lib\\site-packages\\sklearn\\neural_network\\_multilayer_perceptron.py:679: ConvergenceWarning: Stochastic Optimizer: Maximum iterations (200) reached and the optimization hasn't converged yet.\n",
      "  warnings.warn(\n"
     ]
    },
    {
     "name": "stdout",
     "output_type": "stream",
     "text": [
      "[CV 3/5] END MLP__activation=logistic, MLP__hidden_layer_sizes=(40, 30, 10), MLP__learning_rate=invscaling, MLP__learning_rate_init=0.001;, score=0.974 total time=  12.0s\n"
     ]
    },
    {
     "name": "stderr",
     "output_type": "stream",
     "text": [
      "C:\\Users\\admin\\anaconda3\\lib\\site-packages\\sklearn\\neural_network\\_multilayer_perceptron.py:679: ConvergenceWarning: Stochastic Optimizer: Maximum iterations (200) reached and the optimization hasn't converged yet.\n",
      "  warnings.warn(\n"
     ]
    },
    {
     "name": "stdout",
     "output_type": "stream",
     "text": [
      "[CV 4/5] END MLP__activation=logistic, MLP__hidden_layer_sizes=(40, 30, 10), MLP__learning_rate=invscaling, MLP__learning_rate_init=0.001;, score=0.962 total time=  12.0s\n"
     ]
    },
    {
     "name": "stderr",
     "output_type": "stream",
     "text": [
      "C:\\Users\\admin\\anaconda3\\lib\\site-packages\\sklearn\\neural_network\\_multilayer_perceptron.py:679: ConvergenceWarning: Stochastic Optimizer: Maximum iterations (200) reached and the optimization hasn't converged yet.\n",
      "  warnings.warn(\n"
     ]
    },
    {
     "name": "stdout",
     "output_type": "stream",
     "text": [
      "[CV 5/5] END MLP__activation=logistic, MLP__hidden_layer_sizes=(40, 30, 10), MLP__learning_rate=invscaling, MLP__learning_rate_init=0.001;, score=0.972 total time=  12.0s\n",
      "[CV 1/5] END MLP__activation=logistic, MLP__hidden_layer_sizes=(40, 30, 10), MLP__learning_rate=invscaling, MLP__learning_rate_init=0.3;, score=0.622 total time=   1.1s\n",
      "[CV 2/5] END MLP__activation=logistic, MLP__hidden_layer_sizes=(40, 30, 10), MLP__learning_rate=invscaling, MLP__learning_rate_init=0.3;, score=0.715 total time=   1.1s\n",
      "[CV 3/5] END MLP__activation=logistic, MLP__hidden_layer_sizes=(40, 30, 10), MLP__learning_rate=invscaling, MLP__learning_rate_init=0.3;, score=0.775 total time=   1.6s\n",
      "[CV 4/5] END MLP__activation=logistic, MLP__hidden_layer_sizes=(40, 30, 10), MLP__learning_rate=invscaling, MLP__learning_rate_init=0.3;, score=0.720 total time=   1.1s\n",
      "[CV 5/5] END MLP__activation=logistic, MLP__hidden_layer_sizes=(40, 30, 10), MLP__learning_rate=invscaling, MLP__learning_rate_init=0.3;, score=0.785 total time=   0.8s\n",
      "[CV 1/5] END MLP__activation=logistic, MLP__hidden_layer_sizes=(40, 30, 10), MLP__learning_rate=invscaling, MLP__learning_rate_init=0.5;, score=0.773 total time=   1.1s\n",
      "[CV 2/5] END MLP__activation=logistic, MLP__hidden_layer_sizes=(40, 30, 10), MLP__learning_rate=invscaling, MLP__learning_rate_init=0.5;, score=0.794 total time=   0.8s\n",
      "[CV 3/5] END MLP__activation=logistic, MLP__hidden_layer_sizes=(40, 30, 10), MLP__learning_rate=invscaling, MLP__learning_rate_init=0.5;, score=0.759 total time=   0.8s\n",
      "[CV 4/5] END MLP__activation=logistic, MLP__hidden_layer_sizes=(40, 30, 10), MLP__learning_rate=invscaling, MLP__learning_rate_init=0.5;, score=0.729 total time=   0.8s\n",
      "[CV 5/5] END MLP__activation=logistic, MLP__hidden_layer_sizes=(40, 30, 10), MLP__learning_rate=invscaling, MLP__learning_rate_init=0.5;, score=0.783 total time=   0.8s\n"
     ]
    },
    {
     "name": "stderr",
     "output_type": "stream",
     "text": [
      "C:\\Users\\admin\\anaconda3\\lib\\site-packages\\sklearn\\neural_network\\_multilayer_perceptron.py:679: ConvergenceWarning: Stochastic Optimizer: Maximum iterations (200) reached and the optimization hasn't converged yet.\n",
      "  warnings.warn(\n"
     ]
    },
    {
     "name": "stdout",
     "output_type": "stream",
     "text": [
      "[CV 1/5] END MLP__activation=logistic, MLP__hidden_layer_sizes=(40, 30, 10), MLP__learning_rate=adaptive, MLP__learning_rate_init=0.001;, score=0.972 total time=  12.0s\n"
     ]
    },
    {
     "name": "stderr",
     "output_type": "stream",
     "text": [
      "C:\\Users\\admin\\anaconda3\\lib\\site-packages\\sklearn\\neural_network\\_multilayer_perceptron.py:679: ConvergenceWarning: Stochastic Optimizer: Maximum iterations (200) reached and the optimization hasn't converged yet.\n",
      "  warnings.warn(\n"
     ]
    },
    {
     "name": "stdout",
     "output_type": "stream",
     "text": [
      "[CV 2/5] END MLP__activation=logistic, MLP__hidden_layer_sizes=(40, 30, 10), MLP__learning_rate=adaptive, MLP__learning_rate_init=0.001;, score=0.969 total time=  12.1s\n"
     ]
    },
    {
     "name": "stderr",
     "output_type": "stream",
     "text": [
      "C:\\Users\\admin\\anaconda3\\lib\\site-packages\\sklearn\\neural_network\\_multilayer_perceptron.py:679: ConvergenceWarning: Stochastic Optimizer: Maximum iterations (200) reached and the optimization hasn't converged yet.\n",
      "  warnings.warn(\n"
     ]
    },
    {
     "name": "stdout",
     "output_type": "stream",
     "text": [
      "[CV 3/5] END MLP__activation=logistic, MLP__hidden_layer_sizes=(40, 30, 10), MLP__learning_rate=adaptive, MLP__learning_rate_init=0.001;, score=0.974 total time=  12.1s\n"
     ]
    },
    {
     "name": "stderr",
     "output_type": "stream",
     "text": [
      "C:\\Users\\admin\\anaconda3\\lib\\site-packages\\sklearn\\neural_network\\_multilayer_perceptron.py:679: ConvergenceWarning: Stochastic Optimizer: Maximum iterations (200) reached and the optimization hasn't converged yet.\n",
      "  warnings.warn(\n"
     ]
    },
    {
     "name": "stdout",
     "output_type": "stream",
     "text": [
      "[CV 4/5] END MLP__activation=logistic, MLP__hidden_layer_sizes=(40, 30, 10), MLP__learning_rate=adaptive, MLP__learning_rate_init=0.001;, score=0.962 total time=  12.0s\n"
     ]
    },
    {
     "name": "stderr",
     "output_type": "stream",
     "text": [
      "C:\\Users\\admin\\anaconda3\\lib\\site-packages\\sklearn\\neural_network\\_multilayer_perceptron.py:679: ConvergenceWarning: Stochastic Optimizer: Maximum iterations (200) reached and the optimization hasn't converged yet.\n",
      "  warnings.warn(\n"
     ]
    },
    {
     "name": "stdout",
     "output_type": "stream",
     "text": [
      "[CV 5/5] END MLP__activation=logistic, MLP__hidden_layer_sizes=(40, 30, 10), MLP__learning_rate=adaptive, MLP__learning_rate_init=0.001;, score=0.972 total time=  12.0s\n",
      "[CV 1/5] END MLP__activation=logistic, MLP__hidden_layer_sizes=(40, 30, 10), MLP__learning_rate=adaptive, MLP__learning_rate_init=0.3;, score=0.622 total time=   1.1s\n",
      "[CV 2/5] END MLP__activation=logistic, MLP__hidden_layer_sizes=(40, 30, 10), MLP__learning_rate=adaptive, MLP__learning_rate_init=0.3;, score=0.715 total time=   1.1s\n",
      "[CV 3/5] END MLP__activation=logistic, MLP__hidden_layer_sizes=(40, 30, 10), MLP__learning_rate=adaptive, MLP__learning_rate_init=0.3;, score=0.775 total time=   1.6s\n",
      "[CV 4/5] END MLP__activation=logistic, MLP__hidden_layer_sizes=(40, 30, 10), MLP__learning_rate=adaptive, MLP__learning_rate_init=0.3;, score=0.720 total time=   1.1s\n",
      "[CV 5/5] END MLP__activation=logistic, MLP__hidden_layer_sizes=(40, 30, 10), MLP__learning_rate=adaptive, MLP__learning_rate_init=0.3;, score=0.785 total time=   0.8s\n",
      "[CV 1/5] END MLP__activation=logistic, MLP__hidden_layer_sizes=(40, 30, 10), MLP__learning_rate=adaptive, MLP__learning_rate_init=0.5;, score=0.773 total time=   1.1s\n",
      "[CV 2/5] END MLP__activation=logistic, MLP__hidden_layer_sizes=(40, 30, 10), MLP__learning_rate=adaptive, MLP__learning_rate_init=0.5;, score=0.794 total time=   0.8s\n",
      "[CV 3/5] END MLP__activation=logistic, MLP__hidden_layer_sizes=(40, 30, 10), MLP__learning_rate=adaptive, MLP__learning_rate_init=0.5;, score=0.759 total time=   0.8s\n",
      "[CV 4/5] END MLP__activation=logistic, MLP__hidden_layer_sizes=(40, 30, 10), MLP__learning_rate=adaptive, MLP__learning_rate_init=0.5;, score=0.729 total time=   0.8s\n",
      "[CV 5/5] END MLP__activation=logistic, MLP__hidden_layer_sizes=(40, 30, 10), MLP__learning_rate=adaptive, MLP__learning_rate_init=0.5;, score=0.783 total time=   0.8s\n",
      "[CV 1/5] END MLP__activation=identity, MLP__hidden_layer_sizes=(20, 10, 5), MLP__learning_rate=constant, MLP__learning_rate_init=0.001;, score=0.808 total time=   0.9s\n",
      "[CV 2/5] END MLP__activation=identity, MLP__hidden_layer_sizes=(20, 10, 5), MLP__learning_rate=constant, MLP__learning_rate_init=0.001;, score=0.808 total time=   0.7s\n",
      "[CV 3/5] END MLP__activation=identity, MLP__hidden_layer_sizes=(20, 10, 5), MLP__learning_rate=constant, MLP__learning_rate_init=0.001;, score=0.794 total time=   1.2s\n",
      "[CV 4/5] END MLP__activation=identity, MLP__hidden_layer_sizes=(20, 10, 5), MLP__learning_rate=constant, MLP__learning_rate_init=0.001;, score=0.789 total time=   0.9s\n",
      "[CV 5/5] END MLP__activation=identity, MLP__hidden_layer_sizes=(20, 10, 5), MLP__learning_rate=constant, MLP__learning_rate_init=0.001;, score=0.812 total time=   0.9s\n",
      "[CV 1/5] END MLP__activation=identity, MLP__hidden_layer_sizes=(20, 10, 5), MLP__learning_rate=constant, MLP__learning_rate_init=0.3;, score=0.808 total time=   1.2s\n",
      "[CV 2/5] END MLP__activation=identity, MLP__hidden_layer_sizes=(20, 10, 5), MLP__learning_rate=constant, MLP__learning_rate_init=0.3;, score=0.805 total time=   0.8s\n",
      "[CV 3/5] END MLP__activation=identity, MLP__hidden_layer_sizes=(20, 10, 5), MLP__learning_rate=constant, MLP__learning_rate_init=0.3;, score=0.799 total time=   0.8s\n",
      "[CV 4/5] END MLP__activation=identity, MLP__hidden_layer_sizes=(20, 10, 5), MLP__learning_rate=constant, MLP__learning_rate_init=0.3;, score=0.788 total time=   0.7s\n",
      "[CV 5/5] END MLP__activation=identity, MLP__hidden_layer_sizes=(20, 10, 5), MLP__learning_rate=constant, MLP__learning_rate_init=0.3;, score=0.813 total time=   0.8s\n",
      "[CV 1/5] END MLP__activation=identity, MLP__hidden_layer_sizes=(20, 10, 5), MLP__learning_rate=constant, MLP__learning_rate_init=0.5;, score=0.811 total time=   0.6s\n",
      "[CV 2/5] END MLP__activation=identity, MLP__hidden_layer_sizes=(20, 10, 5), MLP__learning_rate=constant, MLP__learning_rate_init=0.5;, score=0.809 total time=   0.8s\n",
      "[CV 3/5] END MLP__activation=identity, MLP__hidden_layer_sizes=(20, 10, 5), MLP__learning_rate=constant, MLP__learning_rate_init=0.5;, score=0.791 total time=   0.7s\n",
      "[CV 4/5] END MLP__activation=identity, MLP__hidden_layer_sizes=(20, 10, 5), MLP__learning_rate=constant, MLP__learning_rate_init=0.5;, score=0.791 total time=   0.8s\n",
      "[CV 5/5] END MLP__activation=identity, MLP__hidden_layer_sizes=(20, 10, 5), MLP__learning_rate=constant, MLP__learning_rate_init=0.5;, score=0.810 total time=   1.1s\n",
      "[CV 1/5] END MLP__activation=identity, MLP__hidden_layer_sizes=(20, 10, 5), MLP__learning_rate=invscaling, MLP__learning_rate_init=0.001;, score=0.808 total time=   0.9s\n",
      "[CV 2/5] END MLP__activation=identity, MLP__hidden_layer_sizes=(20, 10, 5), MLP__learning_rate=invscaling, MLP__learning_rate_init=0.001;, score=0.808 total time=   0.7s\n",
      "[CV 3/5] END MLP__activation=identity, MLP__hidden_layer_sizes=(20, 10, 5), MLP__learning_rate=invscaling, MLP__learning_rate_init=0.001;, score=0.794 total time=   1.2s\n",
      "[CV 4/5] END MLP__activation=identity, MLP__hidden_layer_sizes=(20, 10, 5), MLP__learning_rate=invscaling, MLP__learning_rate_init=0.001;, score=0.789 total time=   0.9s\n",
      "[CV 5/5] END MLP__activation=identity, MLP__hidden_layer_sizes=(20, 10, 5), MLP__learning_rate=invscaling, MLP__learning_rate_init=0.001;, score=0.812 total time=   0.9s\n",
      "[CV 1/5] END MLP__activation=identity, MLP__hidden_layer_sizes=(20, 10, 5), MLP__learning_rate=invscaling, MLP__learning_rate_init=0.3;, score=0.808 total time=   1.2s\n",
      "[CV 2/5] END MLP__activation=identity, MLP__hidden_layer_sizes=(20, 10, 5), MLP__learning_rate=invscaling, MLP__learning_rate_init=0.3;, score=0.805 total time=   0.8s\n",
      "[CV 3/5] END MLP__activation=identity, MLP__hidden_layer_sizes=(20, 10, 5), MLP__learning_rate=invscaling, MLP__learning_rate_init=0.3;, score=0.799 total time=   0.8s\n",
      "[CV 4/5] END MLP__activation=identity, MLP__hidden_layer_sizes=(20, 10, 5), MLP__learning_rate=invscaling, MLP__learning_rate_init=0.3;, score=0.788 total time=   0.7s\n",
      "[CV 5/5] END MLP__activation=identity, MLP__hidden_layer_sizes=(20, 10, 5), MLP__learning_rate=invscaling, MLP__learning_rate_init=0.3;, score=0.813 total time=   0.8s\n",
      "[CV 1/5] END MLP__activation=identity, MLP__hidden_layer_sizes=(20, 10, 5), MLP__learning_rate=invscaling, MLP__learning_rate_init=0.5;, score=0.811 total time=   0.6s\n",
      "[CV 2/5] END MLP__activation=identity, MLP__hidden_layer_sizes=(20, 10, 5), MLP__learning_rate=invscaling, MLP__learning_rate_init=0.5;, score=0.809 total time=   0.8s\n",
      "[CV 3/5] END MLP__activation=identity, MLP__hidden_layer_sizes=(20, 10, 5), MLP__learning_rate=invscaling, MLP__learning_rate_init=0.5;, score=0.791 total time=   0.7s\n",
      "[CV 4/5] END MLP__activation=identity, MLP__hidden_layer_sizes=(20, 10, 5), MLP__learning_rate=invscaling, MLP__learning_rate_init=0.5;, score=0.791 total time=   0.8s\n",
      "[CV 5/5] END MLP__activation=identity, MLP__hidden_layer_sizes=(20, 10, 5), MLP__learning_rate=invscaling, MLP__learning_rate_init=0.5;, score=0.810 total time=   1.1s\n",
      "[CV 1/5] END MLP__activation=identity, MLP__hidden_layer_sizes=(20, 10, 5), MLP__learning_rate=adaptive, MLP__learning_rate_init=0.001;, score=0.808 total time=   0.9s\n",
      "[CV 2/5] END MLP__activation=identity, MLP__hidden_layer_sizes=(20, 10, 5), MLP__learning_rate=adaptive, MLP__learning_rate_init=0.001;, score=0.808 total time=   0.7s\n",
      "[CV 3/5] END MLP__activation=identity, MLP__hidden_layer_sizes=(20, 10, 5), MLP__learning_rate=adaptive, MLP__learning_rate_init=0.001;, score=0.794 total time=   1.2s\n",
      "[CV 4/5] END MLP__activation=identity, MLP__hidden_layer_sizes=(20, 10, 5), MLP__learning_rate=adaptive, MLP__learning_rate_init=0.001;, score=0.789 total time=   0.9s\n",
      "[CV 5/5] END MLP__activation=identity, MLP__hidden_layer_sizes=(20, 10, 5), MLP__learning_rate=adaptive, MLP__learning_rate_init=0.001;, score=0.812 total time=   0.9s\n",
      "[CV 1/5] END MLP__activation=identity, MLP__hidden_layer_sizes=(20, 10, 5), MLP__learning_rate=adaptive, MLP__learning_rate_init=0.3;, score=0.808 total time=   1.2s\n",
      "[CV 2/5] END MLP__activation=identity, MLP__hidden_layer_sizes=(20, 10, 5), MLP__learning_rate=adaptive, MLP__learning_rate_init=0.3;, score=0.805 total time=   0.8s\n",
      "[CV 3/5] END MLP__activation=identity, MLP__hidden_layer_sizes=(20, 10, 5), MLP__learning_rate=adaptive, MLP__learning_rate_init=0.3;, score=0.799 total time=   0.8s\n"
     ]
    },
    {
     "name": "stdout",
     "output_type": "stream",
     "text": [
      "[CV 4/5] END MLP__activation=identity, MLP__hidden_layer_sizes=(20, 10, 5), MLP__learning_rate=adaptive, MLP__learning_rate_init=0.3;, score=0.788 total time=   0.7s\n",
      "[CV 5/5] END MLP__activation=identity, MLP__hidden_layer_sizes=(20, 10, 5), MLP__learning_rate=adaptive, MLP__learning_rate_init=0.3;, score=0.813 total time=   0.8s\n",
      "[CV 1/5] END MLP__activation=identity, MLP__hidden_layer_sizes=(20, 10, 5), MLP__learning_rate=adaptive, MLP__learning_rate_init=0.5;, score=0.811 total time=   0.6s\n",
      "[CV 2/5] END MLP__activation=identity, MLP__hidden_layer_sizes=(20, 10, 5), MLP__learning_rate=adaptive, MLP__learning_rate_init=0.5;, score=0.809 total time=   0.8s\n",
      "[CV 3/5] END MLP__activation=identity, MLP__hidden_layer_sizes=(20, 10, 5), MLP__learning_rate=adaptive, MLP__learning_rate_init=0.5;, score=0.791 total time=   0.7s\n",
      "[CV 4/5] END MLP__activation=identity, MLP__hidden_layer_sizes=(20, 10, 5), MLP__learning_rate=adaptive, MLP__learning_rate_init=0.5;, score=0.791 total time=   0.8s\n",
      "[CV 5/5] END MLP__activation=identity, MLP__hidden_layer_sizes=(20, 10, 5), MLP__learning_rate=adaptive, MLP__learning_rate_init=0.5;, score=0.810 total time=   1.1s\n",
      "[CV 1/5] END MLP__activation=identity, MLP__hidden_layer_sizes=(30, 20, 10), MLP__learning_rate=constant, MLP__learning_rate_init=0.001;, score=0.809 total time=   0.7s\n",
      "[CV 2/5] END MLP__activation=identity, MLP__hidden_layer_sizes=(30, 20, 10), MLP__learning_rate=constant, MLP__learning_rate_init=0.001;, score=0.809 total time=   0.6s\n",
      "[CV 3/5] END MLP__activation=identity, MLP__hidden_layer_sizes=(30, 20, 10), MLP__learning_rate=constant, MLP__learning_rate_init=0.001;, score=0.795 total time=   0.7s\n",
      "[CV 4/5] END MLP__activation=identity, MLP__hidden_layer_sizes=(30, 20, 10), MLP__learning_rate=constant, MLP__learning_rate_init=0.001;, score=0.793 total time=   0.6s\n",
      "[CV 5/5] END MLP__activation=identity, MLP__hidden_layer_sizes=(30, 20, 10), MLP__learning_rate=constant, MLP__learning_rate_init=0.001;, score=0.811 total time=   0.7s\n",
      "[CV 1/5] END MLP__activation=identity, MLP__hidden_layer_sizes=(30, 20, 10), MLP__learning_rate=constant, MLP__learning_rate_init=0.3;, score=0.797 total time=   1.2s\n",
      "[CV 2/5] END MLP__activation=identity, MLP__hidden_layer_sizes=(30, 20, 10), MLP__learning_rate=constant, MLP__learning_rate_init=0.3;, score=0.807 total time=   1.0s\n",
      "[CV 3/5] END MLP__activation=identity, MLP__hidden_layer_sizes=(30, 20, 10), MLP__learning_rate=constant, MLP__learning_rate_init=0.3;, score=0.791 total time=   0.6s\n",
      "[CV 4/5] END MLP__activation=identity, MLP__hidden_layer_sizes=(30, 20, 10), MLP__learning_rate=constant, MLP__learning_rate_init=0.3;, score=0.787 total time=   1.1s\n",
      "[CV 5/5] END MLP__activation=identity, MLP__hidden_layer_sizes=(30, 20, 10), MLP__learning_rate=constant, MLP__learning_rate_init=0.3;, score=0.810 total time=   0.8s\n",
      "[CV 1/5] END MLP__activation=identity, MLP__hidden_layer_sizes=(30, 20, 10), MLP__learning_rate=constant, MLP__learning_rate_init=0.5;, score=0.812 total time=   0.9s\n",
      "[CV 2/5] END MLP__activation=identity, MLP__hidden_layer_sizes=(30, 20, 10), MLP__learning_rate=constant, MLP__learning_rate_init=0.5;, score=0.811 total time=   0.7s\n",
      "[CV 3/5] END MLP__activation=identity, MLP__hidden_layer_sizes=(30, 20, 10), MLP__learning_rate=constant, MLP__learning_rate_init=0.5;, score=0.795 total time=   0.7s\n",
      "[CV 4/5] END MLP__activation=identity, MLP__hidden_layer_sizes=(30, 20, 10), MLP__learning_rate=constant, MLP__learning_rate_init=0.5;, score=0.787 total time=   1.2s\n",
      "[CV 5/5] END MLP__activation=identity, MLP__hidden_layer_sizes=(30, 20, 10), MLP__learning_rate=constant, MLP__learning_rate_init=0.5;, score=0.812 total time=   1.0s\n",
      "[CV 1/5] END MLP__activation=identity, MLP__hidden_layer_sizes=(30, 20, 10), MLP__learning_rate=invscaling, MLP__learning_rate_init=0.001;, score=0.809 total time=   0.7s\n",
      "[CV 2/5] END MLP__activation=identity, MLP__hidden_layer_sizes=(30, 20, 10), MLP__learning_rate=invscaling, MLP__learning_rate_init=0.001;, score=0.809 total time=   0.6s\n",
      "[CV 3/5] END MLP__activation=identity, MLP__hidden_layer_sizes=(30, 20, 10), MLP__learning_rate=invscaling, MLP__learning_rate_init=0.001;, score=0.795 total time=   0.7s\n",
      "[CV 4/5] END MLP__activation=identity, MLP__hidden_layer_sizes=(30, 20, 10), MLP__learning_rate=invscaling, MLP__learning_rate_init=0.001;, score=0.793 total time=   0.7s\n",
      "[CV 5/5] END MLP__activation=identity, MLP__hidden_layer_sizes=(30, 20, 10), MLP__learning_rate=invscaling, MLP__learning_rate_init=0.001;, score=0.811 total time=   0.7s\n",
      "[CV 1/5] END MLP__activation=identity, MLP__hidden_layer_sizes=(30, 20, 10), MLP__learning_rate=invscaling, MLP__learning_rate_init=0.3;, score=0.797 total time=   1.2s\n",
      "[CV 2/5] END MLP__activation=identity, MLP__hidden_layer_sizes=(30, 20, 10), MLP__learning_rate=invscaling, MLP__learning_rate_init=0.3;, score=0.807 total time=   1.0s\n",
      "[CV 3/5] END MLP__activation=identity, MLP__hidden_layer_sizes=(30, 20, 10), MLP__learning_rate=invscaling, MLP__learning_rate_init=0.3;, score=0.791 total time=   0.6s\n",
      "[CV 4/5] END MLP__activation=identity, MLP__hidden_layer_sizes=(30, 20, 10), MLP__learning_rate=invscaling, MLP__learning_rate_init=0.3;, score=0.787 total time=   1.1s\n",
      "[CV 5/5] END MLP__activation=identity, MLP__hidden_layer_sizes=(30, 20, 10), MLP__learning_rate=invscaling, MLP__learning_rate_init=0.3;, score=0.810 total time=   0.8s\n",
      "[CV 1/5] END MLP__activation=identity, MLP__hidden_layer_sizes=(30, 20, 10), MLP__learning_rate=invscaling, MLP__learning_rate_init=0.5;, score=0.812 total time=   0.9s\n",
      "[CV 2/5] END MLP__activation=identity, MLP__hidden_layer_sizes=(30, 20, 10), MLP__learning_rate=invscaling, MLP__learning_rate_init=0.5;, score=0.811 total time=   0.7s\n",
      "[CV 3/5] END MLP__activation=identity, MLP__hidden_layer_sizes=(30, 20, 10), MLP__learning_rate=invscaling, MLP__learning_rate_init=0.5;, score=0.795 total time=   0.8s\n",
      "[CV 4/5] END MLP__activation=identity, MLP__hidden_layer_sizes=(30, 20, 10), MLP__learning_rate=invscaling, MLP__learning_rate_init=0.5;, score=0.787 total time=   1.2s\n",
      "[CV 5/5] END MLP__activation=identity, MLP__hidden_layer_sizes=(30, 20, 10), MLP__learning_rate=invscaling, MLP__learning_rate_init=0.5;, score=0.812 total time=   1.0s\n",
      "[CV 1/5] END MLP__activation=identity, MLP__hidden_layer_sizes=(30, 20, 10), MLP__learning_rate=adaptive, MLP__learning_rate_init=0.001;, score=0.809 total time=   0.7s\n",
      "[CV 2/5] END MLP__activation=identity, MLP__hidden_layer_sizes=(30, 20, 10), MLP__learning_rate=adaptive, MLP__learning_rate_init=0.001;, score=0.809 total time=   0.6s\n",
      "[CV 3/5] END MLP__activation=identity, MLP__hidden_layer_sizes=(30, 20, 10), MLP__learning_rate=adaptive, MLP__learning_rate_init=0.001;, score=0.795 total time=   0.7s\n",
      "[CV 4/5] END MLP__activation=identity, MLP__hidden_layer_sizes=(30, 20, 10), MLP__learning_rate=adaptive, MLP__learning_rate_init=0.001;, score=0.793 total time=   0.6s\n",
      "[CV 5/5] END MLP__activation=identity, MLP__hidden_layer_sizes=(30, 20, 10), MLP__learning_rate=adaptive, MLP__learning_rate_init=0.001;, score=0.811 total time=   0.7s\n",
      "[CV 1/5] END MLP__activation=identity, MLP__hidden_layer_sizes=(30, 20, 10), MLP__learning_rate=adaptive, MLP__learning_rate_init=0.3;, score=0.797 total time=   1.2s\n",
      "[CV 2/5] END MLP__activation=identity, MLP__hidden_layer_sizes=(30, 20, 10), MLP__learning_rate=adaptive, MLP__learning_rate_init=0.3;, score=0.807 total time=   1.0s\n",
      "[CV 3/5] END MLP__activation=identity, MLP__hidden_layer_sizes=(30, 20, 10), MLP__learning_rate=adaptive, MLP__learning_rate_init=0.3;, score=0.791 total time=   0.5s\n",
      "[CV 4/5] END MLP__activation=identity, MLP__hidden_layer_sizes=(30, 20, 10), MLP__learning_rate=adaptive, MLP__learning_rate_init=0.3;, score=0.787 total time=   1.1s\n",
      "[CV 5/5] END MLP__activation=identity, MLP__hidden_layer_sizes=(30, 20, 10), MLP__learning_rate=adaptive, MLP__learning_rate_init=0.3;, score=0.810 total time=   0.8s\n",
      "[CV 1/5] END MLP__activation=identity, MLP__hidden_layer_sizes=(30, 20, 10), MLP__learning_rate=adaptive, MLP__learning_rate_init=0.5;, score=0.812 total time=   0.9s\n",
      "[CV 2/5] END MLP__activation=identity, MLP__hidden_layer_sizes=(30, 20, 10), MLP__learning_rate=adaptive, MLP__learning_rate_init=0.5;, score=0.811 total time=   0.7s\n"
     ]
    },
    {
     "name": "stdout",
     "output_type": "stream",
     "text": [
      "[CV 3/5] END MLP__activation=identity, MLP__hidden_layer_sizes=(30, 20, 10), MLP__learning_rate=adaptive, MLP__learning_rate_init=0.5;, score=0.795 total time=   0.7s\n",
      "[CV 4/5] END MLP__activation=identity, MLP__hidden_layer_sizes=(30, 20, 10), MLP__learning_rate=adaptive, MLP__learning_rate_init=0.5;, score=0.787 total time=   1.1s\n",
      "[CV 5/5] END MLP__activation=identity, MLP__hidden_layer_sizes=(30, 20, 10), MLP__learning_rate=adaptive, MLP__learning_rate_init=0.5;, score=0.812 total time=   1.0s\n",
      "[CV 1/5] END MLP__activation=identity, MLP__hidden_layer_sizes=(40, 30, 10), MLP__learning_rate=constant, MLP__learning_rate_init=0.001;, score=0.809 total time=   1.0s\n",
      "[CV 2/5] END MLP__activation=identity, MLP__hidden_layer_sizes=(40, 30, 10), MLP__learning_rate=constant, MLP__learning_rate_init=0.001;, score=0.809 total time=   0.8s\n",
      "[CV 3/5] END MLP__activation=identity, MLP__hidden_layer_sizes=(40, 30, 10), MLP__learning_rate=constant, MLP__learning_rate_init=0.001;, score=0.796 total time=   1.0s\n",
      "[CV 4/5] END MLP__activation=identity, MLP__hidden_layer_sizes=(40, 30, 10), MLP__learning_rate=constant, MLP__learning_rate_init=0.001;, score=0.792 total time=   0.6s\n",
      "[CV 5/5] END MLP__activation=identity, MLP__hidden_layer_sizes=(40, 30, 10), MLP__learning_rate=constant, MLP__learning_rate_init=0.001;, score=0.814 total time=   1.1s\n",
      "[CV 1/5] END MLP__activation=identity, MLP__hidden_layer_sizes=(40, 30, 10), MLP__learning_rate=constant, MLP__learning_rate_init=0.3;, score=0.810 total time=   0.5s\n",
      "[CV 2/5] END MLP__activation=identity, MLP__hidden_layer_sizes=(40, 30, 10), MLP__learning_rate=constant, MLP__learning_rate_init=0.3;, score=0.805 total time=   0.5s\n",
      "[CV 3/5] END MLP__activation=identity, MLP__hidden_layer_sizes=(40, 30, 10), MLP__learning_rate=constant, MLP__learning_rate_init=0.3;, score=0.794 total time=   1.2s\n",
      "[CV 4/5] END MLP__activation=identity, MLP__hidden_layer_sizes=(40, 30, 10), MLP__learning_rate=constant, MLP__learning_rate_init=0.3;, score=0.792 total time=   1.4s\n",
      "[CV 5/5] END MLP__activation=identity, MLP__hidden_layer_sizes=(40, 30, 10), MLP__learning_rate=constant, MLP__learning_rate_init=0.3;, score=0.812 total time=   0.8s\n",
      "[CV 1/5] END MLP__activation=identity, MLP__hidden_layer_sizes=(40, 30, 10), MLP__learning_rate=constant, MLP__learning_rate_init=0.5;, score=0.811 total time=   1.9s\n",
      "[CV 2/5] END MLP__activation=identity, MLP__hidden_layer_sizes=(40, 30, 10), MLP__learning_rate=constant, MLP__learning_rate_init=0.5;, score=0.806 total time=   2.4s\n",
      "[CV 3/5] END MLP__activation=identity, MLP__hidden_layer_sizes=(40, 30, 10), MLP__learning_rate=constant, MLP__learning_rate_init=0.5;, score=0.794 total time=   0.6s\n",
      "[CV 4/5] END MLP__activation=identity, MLP__hidden_layer_sizes=(40, 30, 10), MLP__learning_rate=constant, MLP__learning_rate_init=0.5;, score=0.792 total time=   1.4s\n",
      "[CV 5/5] END MLP__activation=identity, MLP__hidden_layer_sizes=(40, 30, 10), MLP__learning_rate=constant, MLP__learning_rate_init=0.5;, score=0.793 total time=   1.8s\n",
      "[CV 1/5] END MLP__activation=identity, MLP__hidden_layer_sizes=(40, 30, 10), MLP__learning_rate=invscaling, MLP__learning_rate_init=0.001;, score=0.809 total time=   1.0s\n",
      "[CV 2/5] END MLP__activation=identity, MLP__hidden_layer_sizes=(40, 30, 10), MLP__learning_rate=invscaling, MLP__learning_rate_init=0.001;, score=0.809 total time=   0.8s\n",
      "[CV 3/5] END MLP__activation=identity, MLP__hidden_layer_sizes=(40, 30, 10), MLP__learning_rate=invscaling, MLP__learning_rate_init=0.001;, score=0.796 total time=   1.0s\n",
      "[CV 4/5] END MLP__activation=identity, MLP__hidden_layer_sizes=(40, 30, 10), MLP__learning_rate=invscaling, MLP__learning_rate_init=0.001;, score=0.792 total time=   0.6s\n",
      "[CV 5/5] END MLP__activation=identity, MLP__hidden_layer_sizes=(40, 30, 10), MLP__learning_rate=invscaling, MLP__learning_rate_init=0.001;, score=0.814 total time=   1.2s\n",
      "[CV 1/5] END MLP__activation=identity, MLP__hidden_layer_sizes=(40, 30, 10), MLP__learning_rate=invscaling, MLP__learning_rate_init=0.3;, score=0.810 total time=   0.6s\n",
      "[CV 2/5] END MLP__activation=identity, MLP__hidden_layer_sizes=(40, 30, 10), MLP__learning_rate=invscaling, MLP__learning_rate_init=0.3;, score=0.805 total time=   0.6s\n",
      "[CV 3/5] END MLP__activation=identity, MLP__hidden_layer_sizes=(40, 30, 10), MLP__learning_rate=invscaling, MLP__learning_rate_init=0.3;, score=0.794 total time=   1.2s\n",
      "[CV 4/5] END MLP__activation=identity, MLP__hidden_layer_sizes=(40, 30, 10), MLP__learning_rate=invscaling, MLP__learning_rate_init=0.3;, score=0.792 total time=   1.4s\n",
      "[CV 5/5] END MLP__activation=identity, MLP__hidden_layer_sizes=(40, 30, 10), MLP__learning_rate=invscaling, MLP__learning_rate_init=0.3;, score=0.812 total time=   0.9s\n",
      "[CV 1/5] END MLP__activation=identity, MLP__hidden_layer_sizes=(40, 30, 10), MLP__learning_rate=invscaling, MLP__learning_rate_init=0.5;, score=0.811 total time=   1.8s\n",
      "[CV 2/5] END MLP__activation=identity, MLP__hidden_layer_sizes=(40, 30, 10), MLP__learning_rate=invscaling, MLP__learning_rate_init=0.5;, score=0.806 total time=   2.4s\n",
      "[CV 3/5] END MLP__activation=identity, MLP__hidden_layer_sizes=(40, 30, 10), MLP__learning_rate=invscaling, MLP__learning_rate_init=0.5;, score=0.794 total time=   0.6s\n",
      "[CV 4/5] END MLP__activation=identity, MLP__hidden_layer_sizes=(40, 30, 10), MLP__learning_rate=invscaling, MLP__learning_rate_init=0.5;, score=0.792 total time=   1.4s\n",
      "[CV 5/5] END MLP__activation=identity, MLP__hidden_layer_sizes=(40, 30, 10), MLP__learning_rate=invscaling, MLP__learning_rate_init=0.5;, score=0.793 total time=   1.8s\n",
      "[CV 1/5] END MLP__activation=identity, MLP__hidden_layer_sizes=(40, 30, 10), MLP__learning_rate=adaptive, MLP__learning_rate_init=0.001;, score=0.809 total time=   1.0s\n",
      "[CV 2/5] END MLP__activation=identity, MLP__hidden_layer_sizes=(40, 30, 10), MLP__learning_rate=adaptive, MLP__learning_rate_init=0.001;, score=0.809 total time=   0.8s\n",
      "[CV 3/5] END MLP__activation=identity, MLP__hidden_layer_sizes=(40, 30, 10), MLP__learning_rate=adaptive, MLP__learning_rate_init=0.001;, score=0.796 total time=   1.0s\n",
      "[CV 4/5] END MLP__activation=identity, MLP__hidden_layer_sizes=(40, 30, 10), MLP__learning_rate=adaptive, MLP__learning_rate_init=0.001;, score=0.792 total time=   0.6s\n",
      "[CV 5/5] END MLP__activation=identity, MLP__hidden_layer_sizes=(40, 30, 10), MLP__learning_rate=adaptive, MLP__learning_rate_init=0.001;, score=0.814 total time=   1.1s\n",
      "[CV 1/5] END MLP__activation=identity, MLP__hidden_layer_sizes=(40, 30, 10), MLP__learning_rate=adaptive, MLP__learning_rate_init=0.3;, score=0.810 total time=   0.5s\n",
      "[CV 2/5] END MLP__activation=identity, MLP__hidden_layer_sizes=(40, 30, 10), MLP__learning_rate=adaptive, MLP__learning_rate_init=0.3;, score=0.805 total time=   0.5s\n",
      "[CV 3/5] END MLP__activation=identity, MLP__hidden_layer_sizes=(40, 30, 10), MLP__learning_rate=adaptive, MLP__learning_rate_init=0.3;, score=0.794 total time=   1.2s\n",
      "[CV 4/5] END MLP__activation=identity, MLP__hidden_layer_sizes=(40, 30, 10), MLP__learning_rate=adaptive, MLP__learning_rate_init=0.3;, score=0.792 total time=   1.4s\n",
      "[CV 5/5] END MLP__activation=identity, MLP__hidden_layer_sizes=(40, 30, 10), MLP__learning_rate=adaptive, MLP__learning_rate_init=0.3;, score=0.812 total time=   0.9s\n",
      "[CV 1/5] END MLP__activation=identity, MLP__hidden_layer_sizes=(40, 30, 10), MLP__learning_rate=adaptive, MLP__learning_rate_init=0.5;, score=0.811 total time=   1.8s\n",
      "[CV 2/5] END MLP__activation=identity, MLP__hidden_layer_sizes=(40, 30, 10), MLP__learning_rate=adaptive, MLP__learning_rate_init=0.5;, score=0.806 total time=   2.3s\n",
      "[CV 3/5] END MLP__activation=identity, MLP__hidden_layer_sizes=(40, 30, 10), MLP__learning_rate=adaptive, MLP__learning_rate_init=0.5;, score=0.794 total time=   0.6s\n",
      "[CV 4/5] END MLP__activation=identity, MLP__hidden_layer_sizes=(40, 30, 10), MLP__learning_rate=adaptive, MLP__learning_rate_init=0.5;, score=0.792 total time=   1.4s\n",
      "[CV 5/5] END MLP__activation=identity, MLP__hidden_layer_sizes=(40, 30, 10), MLP__learning_rate=adaptive, MLP__learning_rate_init=0.5;, score=0.793 total time=   1.8s\n"
     ]
    },
    {
     "name": "stderr",
     "output_type": "stream",
     "text": [
      "C:\\Users\\admin\\anaconda3\\lib\\site-packages\\sklearn\\neural_network\\_multilayer_perceptron.py:679: ConvergenceWarning: Stochastic Optimizer: Maximum iterations (200) reached and the optimization hasn't converged yet.\n",
      "  warnings.warn(\n"
     ]
    },
    {
     "data": {
      "text/html": [
       "<style>#sk-container-id-1 {color: black;background-color: white;}#sk-container-id-1 pre{padding: 0;}#sk-container-id-1 div.sk-toggleable {background-color: white;}#sk-container-id-1 label.sk-toggleable__label {cursor: pointer;display: block;width: 100%;margin-bottom: 0;padding: 0.3em;box-sizing: border-box;text-align: center;}#sk-container-id-1 label.sk-toggleable__label-arrow:before {content: \"▸\";float: left;margin-right: 0.25em;color: #696969;}#sk-container-id-1 label.sk-toggleable__label-arrow:hover:before {color: black;}#sk-container-id-1 div.sk-estimator:hover label.sk-toggleable__label-arrow:before {color: black;}#sk-container-id-1 div.sk-toggleable__content {max-height: 0;max-width: 0;overflow: hidden;text-align: left;background-color: #f0f8ff;}#sk-container-id-1 div.sk-toggleable__content pre {margin: 0.2em;color: black;border-radius: 0.25em;background-color: #f0f8ff;}#sk-container-id-1 input.sk-toggleable__control:checked~div.sk-toggleable__content {max-height: 200px;max-width: 100%;overflow: auto;}#sk-container-id-1 input.sk-toggleable__control:checked~label.sk-toggleable__label-arrow:before {content: \"▾\";}#sk-container-id-1 div.sk-estimator input.sk-toggleable__control:checked~label.sk-toggleable__label {background-color: #d4ebff;}#sk-container-id-1 div.sk-label input.sk-toggleable__control:checked~label.sk-toggleable__label {background-color: #d4ebff;}#sk-container-id-1 input.sk-hidden--visually {border: 0;clip: rect(1px 1px 1px 1px);clip: rect(1px, 1px, 1px, 1px);height: 1px;margin: -1px;overflow: hidden;padding: 0;position: absolute;width: 1px;}#sk-container-id-1 div.sk-estimator {font-family: monospace;background-color: #f0f8ff;border: 1px dotted black;border-radius: 0.25em;box-sizing: border-box;margin-bottom: 0.5em;}#sk-container-id-1 div.sk-estimator:hover {background-color: #d4ebff;}#sk-container-id-1 div.sk-parallel-item::after {content: \"\";width: 100%;border-bottom: 1px solid gray;flex-grow: 1;}#sk-container-id-1 div.sk-label:hover label.sk-toggleable__label {background-color: #d4ebff;}#sk-container-id-1 div.sk-serial::before {content: \"\";position: absolute;border-left: 1px solid gray;box-sizing: border-box;top: 0;bottom: 0;left: 50%;z-index: 0;}#sk-container-id-1 div.sk-serial {display: flex;flex-direction: column;align-items: center;background-color: white;padding-right: 0.2em;padding-left: 0.2em;position: relative;}#sk-container-id-1 div.sk-item {position: relative;z-index: 1;}#sk-container-id-1 div.sk-parallel {display: flex;align-items: stretch;justify-content: center;background-color: white;position: relative;}#sk-container-id-1 div.sk-item::before, #sk-container-id-1 div.sk-parallel-item::before {content: \"\";position: absolute;border-left: 1px solid gray;box-sizing: border-box;top: 0;bottom: 0;left: 50%;z-index: -1;}#sk-container-id-1 div.sk-parallel-item {display: flex;flex-direction: column;z-index: 1;position: relative;background-color: white;}#sk-container-id-1 div.sk-parallel-item:first-child::after {align-self: flex-end;width: 50%;}#sk-container-id-1 div.sk-parallel-item:last-child::after {align-self: flex-start;width: 50%;}#sk-container-id-1 div.sk-parallel-item:only-child::after {width: 0;}#sk-container-id-1 div.sk-dashed-wrapped {border: 1px dashed gray;margin: 0 0.4em 0.5em 0.4em;box-sizing: border-box;padding-bottom: 0.4em;background-color: white;}#sk-container-id-1 div.sk-label label {font-family: monospace;font-weight: bold;display: inline-block;line-height: 1.2em;}#sk-container-id-1 div.sk-label-container {text-align: center;}#sk-container-id-1 div.sk-container {/* jupyter's `normalize.less` sets `[hidden] { display: none; }` but bootstrap.min.css set `[hidden] { display: none !important; }` so we also need the `!important` here to be able to override the default hidden behavior on the sphinx rendered scikit-learn.org. See: https://github.com/scikit-learn/scikit-learn/issues/21755 */display: inline-block !important;position: relative;}#sk-container-id-1 div.sk-text-repr-fallback {display: none;}</style><div id=\"sk-container-id-1\" class=\"sk-top-container\"><div class=\"sk-text-repr-fallback\"><pre>GridSearchCV(cv=StratifiedKFold(n_splits=5, random_state=2022, shuffle=True),\n",
       "             estimator=Pipeline(steps=[(&#x27;MM&#x27;, MinMaxScaler()),\n",
       "                                       (&#x27;MLP&#x27;,\n",
       "                                        MLPClassifier(random_state=2022))]),\n",
       "             param_grid={&#x27;MLP__activation&#x27;: [&#x27;tanh&#x27;, &#x27;logistic&#x27;, &#x27;identity&#x27;],\n",
       "                         &#x27;MLP__hidden_layer_sizes&#x27;: [(20, 10, 5), (30, 20, 10),\n",
       "                                                     (40, 30, 10)],\n",
       "                         &#x27;MLP__learning_rate&#x27;: [&#x27;constant&#x27;, &#x27;invscaling&#x27;,\n",
       "                                                &#x27;adaptive&#x27;],\n",
       "                         &#x27;MLP__learning_rate_init&#x27;: [0.001, 0.3, 0.5]},\n",
       "             scoring=&#x27;roc_auc&#x27;, verbose=3)</pre><b>In a Jupyter environment, please rerun this cell to show the HTML representation or trust the notebook. <br />On GitHub, the HTML representation is unable to render, please try loading this page with nbviewer.org.</b></div><div class=\"sk-container\" hidden><div class=\"sk-item sk-dashed-wrapped\"><div class=\"sk-label-container\"><div class=\"sk-label sk-toggleable\"><input class=\"sk-toggleable__control sk-hidden--visually\" id=\"sk-estimator-id-1\" type=\"checkbox\" ><label for=\"sk-estimator-id-1\" class=\"sk-toggleable__label sk-toggleable__label-arrow\">GridSearchCV</label><div class=\"sk-toggleable__content\"><pre>GridSearchCV(cv=StratifiedKFold(n_splits=5, random_state=2022, shuffle=True),\n",
       "             estimator=Pipeline(steps=[(&#x27;MM&#x27;, MinMaxScaler()),\n",
       "                                       (&#x27;MLP&#x27;,\n",
       "                                        MLPClassifier(random_state=2022))]),\n",
       "             param_grid={&#x27;MLP__activation&#x27;: [&#x27;tanh&#x27;, &#x27;logistic&#x27;, &#x27;identity&#x27;],\n",
       "                         &#x27;MLP__hidden_layer_sizes&#x27;: [(20, 10, 5), (30, 20, 10),\n",
       "                                                     (40, 30, 10)],\n",
       "                         &#x27;MLP__learning_rate&#x27;: [&#x27;constant&#x27;, &#x27;invscaling&#x27;,\n",
       "                                                &#x27;adaptive&#x27;],\n",
       "                         &#x27;MLP__learning_rate_init&#x27;: [0.001, 0.3, 0.5]},\n",
       "             scoring=&#x27;roc_auc&#x27;, verbose=3)</pre></div></div></div><div class=\"sk-parallel\"><div class=\"sk-parallel-item\"><div class=\"sk-item\"><div class=\"sk-label-container\"><div class=\"sk-label sk-toggleable\"><input class=\"sk-toggleable__control sk-hidden--visually\" id=\"sk-estimator-id-2\" type=\"checkbox\" ><label for=\"sk-estimator-id-2\" class=\"sk-toggleable__label sk-toggleable__label-arrow\">estimator: Pipeline</label><div class=\"sk-toggleable__content\"><pre>Pipeline(steps=[(&#x27;MM&#x27;, MinMaxScaler()),\n",
       "                (&#x27;MLP&#x27;, MLPClassifier(random_state=2022))])</pre></div></div></div><div class=\"sk-serial\"><div class=\"sk-item\"><div class=\"sk-serial\"><div class=\"sk-item\"><div class=\"sk-estimator sk-toggleable\"><input class=\"sk-toggleable__control sk-hidden--visually\" id=\"sk-estimator-id-3\" type=\"checkbox\" ><label for=\"sk-estimator-id-3\" class=\"sk-toggleable__label sk-toggleable__label-arrow\">MinMaxScaler</label><div class=\"sk-toggleable__content\"><pre>MinMaxScaler()</pre></div></div></div><div class=\"sk-item\"><div class=\"sk-estimator sk-toggleable\"><input class=\"sk-toggleable__control sk-hidden--visually\" id=\"sk-estimator-id-4\" type=\"checkbox\" ><label for=\"sk-estimator-id-4\" class=\"sk-toggleable__label sk-toggleable__label-arrow\">MLPClassifier</label><div class=\"sk-toggleable__content\"><pre>MLPClassifier(random_state=2022)</pre></div></div></div></div></div></div></div></div></div></div></div></div>"
      ],
      "text/plain": [
       "GridSearchCV(cv=StratifiedKFold(n_splits=5, random_state=2022, shuffle=True),\n",
       "             estimator=Pipeline(steps=[('MM', MinMaxScaler()),\n",
       "                                       ('MLP',\n",
       "                                        MLPClassifier(random_state=2022))]),\n",
       "             param_grid={'MLP__activation': ['tanh', 'logistic', 'identity'],\n",
       "                         'MLP__hidden_layer_sizes': [(20, 10, 5), (30, 20, 10),\n",
       "                                                     (40, 30, 10)],\n",
       "                         'MLP__learning_rate': ['constant', 'invscaling',\n",
       "                                                'adaptive'],\n",
       "                         'MLP__learning_rate_init': [0.001, 0.3, 0.5]},\n",
       "             scoring='roc_auc', verbose=3)"
      ]
     },
     "execution_count": 19,
     "metadata": {},
     "output_type": "execute_result"
    }
   ],
   "source": [
    "gcv = GridSearchCV(pipe,\n",
    "                  param_grid = params,\n",
    "                  cv = kfold,\n",
    "                  scoring = \"roc_auc\",\n",
    "                  verbose = 3)\n",
    "\n",
    "gcv.fit(X, y)"
   ]
  },
  {
   "cell_type": "code",
   "execution_count": 21,
   "id": "44b6a5c7",
   "metadata": {},
   "outputs": [
    {
     "name": "stdout",
     "output_type": "stream",
     "text": [
      "{'MLP__activation': 'tanh', 'MLP__hidden_layer_sizes': (40, 30, 10), 'MLP__learning_rate': 'constant', 'MLP__learning_rate_init': 0.001}\n"
     ]
    }
   ],
   "source": [
    "print(gcv.best_params_)"
   ]
  },
  {
   "cell_type": "code",
   "execution_count": 22,
   "id": "add3ed04",
   "metadata": {},
   "outputs": [
    {
     "name": "stdout",
     "output_type": "stream",
     "text": [
      "0.9832007734593653\n"
     ]
    }
   ],
   "source": [
    "print(gcv.best_score_)\n"
   ]
  },
  {
   "cell_type": "code",
   "execution_count": null,
   "id": "0b0b4139",
   "metadata": {},
   "outputs": [],
   "source": [
    "# we have to do get_dummies here in  this dataset"
   ]
  },
  {
   "cell_type": "code",
   "execution_count": null,
   "id": "3d3ffb29",
   "metadata": {
    "scrolled": true
   },
   "outputs": [],
   "source": [
    "y1 = hr[\"left\"]\n",
    "\n",
    "X0 = pd.get_dummies(hr, drop_first = True)\n",
    "X1 = X0.drop(\"left\", axis = 1)"
   ]
  },
  {
   "cell_type": "code",
   "execution_count": null,
   "id": "0a4a46a4",
   "metadata": {},
   "outputs": [],
   "source": [
    "gcv = GridSearchCV(pipe,\n",
    "                  param_grid = params,\n",
    "                  cv = kfold,\n",
    "                  scoring = \"roc_auc\",\n",
    "                  verbose = 3,\n",
    "                  n_jobs = -1)\n",
    "\n",
    "gcv.fit(X1, y1)"
   ]
  },
  {
   "cell_type": "code",
   "execution_count": null,
   "id": "503ffc2e",
   "metadata": {},
   "outputs": [],
   "source": []
  },
  {
   "cell_type": "code",
   "execution_count": null,
   "id": "b0a1ba44",
   "metadata": {},
   "outputs": [],
   "source": []
  },
  {
   "cell_type": "code",
   "execution_count": null,
   "id": "2ef4dbb1",
   "metadata": {},
   "outputs": [],
   "source": []
  },
  {
   "cell_type": "code",
   "execution_count": null,
   "id": "42052df1",
   "metadata": {},
   "outputs": [],
   "source": []
  }
 ],
 "metadata": {
  "kernelspec": {
   "display_name": "Python 3 (ipykernel)",
   "language": "python",
   "name": "python3"
  },
  "language_info": {
   "codemirror_mode": {
    "name": "ipython",
    "version": 3
   },
   "file_extension": ".py",
   "mimetype": "text/x-python",
   "name": "python",
   "nbconvert_exporter": "python",
   "pygments_lexer": "ipython3",
   "version": "3.9.13"
  }
 },
 "nbformat": 4,
 "nbformat_minor": 5
}
