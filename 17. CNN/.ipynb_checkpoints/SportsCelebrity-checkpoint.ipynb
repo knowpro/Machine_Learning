{
 "cells": [
  {
   "cell_type": "code",
   "execution_count": 1,
   "metadata": {
    "executionInfo": {
     "elapsed": 3429,
     "status": "ok",
     "timestamp": 1672915215125,
     "user": {
      "displayName": "Sanjay Sane",
      "userId": "07643709861745318184"
     },
     "user_tz": -330
    },
    "id": "8osKUPz5POr7"
   },
   "outputs": [],
   "source": [
    "!pip install -q kaggle"
   ]
  },
  {
   "cell_type": "code",
   "execution_count": 2,
   "metadata": {
    "executionInfo": {
     "elapsed": 15,
     "status": "ok",
     "timestamp": 1672915215127,
     "user": {
      "displayName": "Sanjay Sane",
      "userId": "07643709861745318184"
     },
     "user_tz": -330
    },
    "id": "gzNTlex5PtwE"
   },
   "outputs": [],
   "source": [
    "!mkdir -p ~/.kaggle\n",
    "!cp kaggle.json ~/.kaggle/"
   ]
  },
  {
   "cell_type": "code",
   "execution_count": 3,
   "metadata": {
    "executionInfo": {
     "elapsed": 5,
     "status": "ok",
     "timestamp": 1672915218644,
     "user": {
      "displayName": "Sanjay Sane",
      "userId": "07643709861745318184"
     },
     "user_tz": -330
    },
    "id": "tWpY9RG6P5mJ"
   },
   "outputs": [],
   "source": [
    "!chmod 600 /root/.kaggle/kaggle.json"
   ]
  },
  {
   "cell_type": "code",
   "execution_count": 4,
   "metadata": {
    "colab": {
     "base_uri": "https://localhost:8080/"
    },
    "executionInfo": {
     "elapsed": 449,
     "status": "ok",
     "timestamp": 1672915219670,
     "user": {
      "displayName": "Sanjay Sane",
      "userId": "07643709861745318184"
     },
     "user_tz": -330
    },
    "id": "laaZhq71QlAS",
    "outputId": "35185a1e-ce6d-4668-a9ad-2f4c7b014f42"
   },
   "outputs": [
    {
     "name": "stdout",
     "output_type": "stream",
     "text": [
      "ref                                                           title                                               size  lastUpdated          downloadCount  voteCount  usabilityRating  \n",
      "------------------------------------------------------------  -------------------------------------------------  -----  -------------------  -------------  ---------  ---------------  \n",
      "meirnizri/covid19-dataset                                     COVID-19 Dataset                                     5MB  2022-11-13 15:47:17          15711        443  1.0              \n",
      "devrimtuner/list-of-moststreamed-songs-on-spotify             Top 100 Spotify Songs👑🎤🎧🎼                            3KB  2022-12-30 05:42:54            608         39  1.0              \n",
      "thedevastator/analyzing-credit-card-spending-habits-in-india  Credit Card Spending Habits in India               319KB  2022-12-14 07:30:37           1878         63  1.0              \n",
      "die9origephit/fifa-world-cup-2022-complete-dataset            Fifa World Cup 2022: Complete Dataset                7KB  2022-12-18 22:51:11           3647        127  1.0              \n",
      "michals22/coffee-dataset                                      Coffee dataset                                      24KB  2022-12-15 20:02:12           3991         90  1.0              \n",
      "heemalichaudhari/netflix-movies-and-series                    Netflix Movies and Series                            2MB  2022-12-22 13:34:22           1226         32  0.8235294        \n",
      "sejungjenn/spotify-best-songs-of-2022                         Spotify: Winner Tracks Audio Features🎹              38KB  2022-12-28 08:06:49            315         22  1.0              \n",
      "thedevastator/unlock-profits-with-e-commerce-sales-data       E-Commerce Sales Dataset                             6MB  2022-12-03 09:27:17           3269         79  1.0              \n",
      "aklimarimi/qs-world-ranked-universities-20182022              QS World ranked Universities (2018-2022)            51KB  2022-12-28 03:53:39            650         32  1.0              \n",
      "rajeshrampure/black-friday-sale                               Black Friday Sale                                    5MB  2022-12-24 09:37:49           1029         32  1.0              \n",
      "devrimtuner/highestpaid-athletes                              HIGHEST-PAID ATHLETES⚽️🏀🏈⚾️🥎🎾                        1KB  2022-12-29 01:29:51            312         27  1.0              \n",
      "heemalichaudhari/shopping                                     Shopping                                            12KB  2022-12-26 14:25:07            515         28  0.9411765        \n",
      "milanvaddoriya/old-car-price-prediction                       Old car price prediction                           105KB  2022-12-24 15:38:56            489         30  1.0              \n",
      "thedevastator/how-does-daily-yoga-impact-screen-time-habits   How Does Daily Yoga Impact Screen Time Habits       742B  2022-12-14 04:10:56            738         24  1.0              \n",
      "thedevastator/uncovering-factors-that-affect-used-car-prices  Used Cars                                           18MB  2022-12-06 13:36:08           1196         36  1.0              \n",
      "devrimtuner/list-of-mostfollowed-instagram-accounts           (TOP 50)List of most-followed Instagram accounts👑    2KB  2022-12-30 07:52:00            366         27  1.0              \n",
      "thedevastator/jobs-dataset-from-glassdoor                     Salary Prediction                                    3MB  2022-11-16 13:52:31           8568        182  1.0              \n",
      "dansbecker/melbourne-housing-snapshot                         Melbourne Housing Snapshot                         451KB  2018-06-05 12:52:24         103465       1191  0.7058824        \n",
      "mattop/best-selling-game-boy-video-games                      Best Selling Game Boy Video Games                    2KB  2022-12-17 18:41:38            395         27  0.9705882        \n",
      "rajeshrampure/zomato-dataset                                  Zomato Dataset                                      89MB  2022-12-23 07:38:07            628         28  1.0              \n"
     ]
    }
   ],
   "source": [
    "!kaggle datasets list "
   ]
  },
  {
   "cell_type": "code",
   "execution_count": 5,
   "metadata": {
    "colab": {
     "base_uri": "https://localhost:8080/"
    },
    "executionInfo": {
     "elapsed": 1192,
     "status": "ok",
     "timestamp": 1672915237965,
     "user": {
      "displayName": "Sanjay Sane",
      "userId": "07643709861745318184"
     },
     "user_tz": -330
    },
    "id": "CVfzYYGYRGux",
    "outputId": "7b1ec38c-14e5-471c-f5db-a2fb61e4c2b1"
   },
   "outputs": [
    {
     "name": "stdout",
     "output_type": "stream",
     "text": [
      "Downloading sport-celebrity-image-classification.zip to /content\n",
      "\r",
      "  0% 0.00/14.8M [00:00<?, ?B/s]\r",
      " 61% 9.00M/14.8M [00:00<00:00, 93.8MB/s]\n",
      "\r",
      "100% 14.8M/14.8M [00:00<00:00, 128MB/s] \n"
     ]
    }
   ],
   "source": [
    "!kaggle datasets download -d yaswanthgali/sport-celebrity-image-classification"
   ]
  },
  {
   "cell_type": "code",
   "execution_count": null,
   "metadata": {
    "id": "ZuC5PzG_R56a"
   },
   "outputs": [],
   "source": [
    "!unzip \"/content/sport-celebrity-image-classification.zip\" -d \"/content/drive/MyDrive/Kaggle Datasets\""
   ]
  },
  {
   "cell_type": "code",
   "execution_count": 7,
   "metadata": {
    "executionInfo": {
     "elapsed": 616,
     "status": "ok",
     "timestamp": 1672916938950,
     "user": {
      "displayName": "Sanjay Sane",
      "userId": "07643709861745318184"
     },
     "user_tz": -330
    },
    "id": "T794fWOuSw_C"
   },
   "outputs": [],
   "source": [
    "dir = \"/content/drive/MyDrive/Kaggle Datasets/Sports-celebrity images\""
   ]
  },
  {
   "cell_type": "code",
   "execution_count": 19,
   "metadata": {
    "colab": {
     "base_uri": "https://localhost:8080/"
    },
    "executionInfo": {
     "elapsed": 2274,
     "status": "ok",
     "timestamp": 1672918511528,
     "user": {
      "displayName": "Sanjay Sane",
      "userId": "07643709861745318184"
     },
     "user_tz": -330
    },
    "id": "ApqVOga8S8S5",
    "outputId": "3910659e-a2dd-4417-b3b7-f3cb75595c19"
   },
   "outputs": [
    {
     "name": "stdout",
     "output_type": "stream",
     "text": [
      "Found 399 images belonging to 4 classes.\n"
     ]
    }
   ],
   "source": [
    "from tensorflow.keras.preprocessing.image import ImageDataGenerator\n",
    "# All images will be rescaled by 1./255.\n",
    "datagen = ImageDataGenerator( rescale = 1.0/255. , validation_split=0.1, \n",
    "                             rotation_range=20,\n",
    "                             width_shift_range=0.2,\n",
    "                             height_shift_range=0.2,\n",
    "                             shear_range=60,\n",
    "                             horizontal_flip=True)\n",
    "train_generator = datagen.flow_from_directory(\n",
    "    directory=dir, target_size=(100, 100), color_mode='rgb', class_mode='categorical', batch_size=32, \n",
    "    shuffle=True, seed=2022, subset='training')"
   ]
  },
  {
   "cell_type": "code",
   "execution_count": 20,
   "metadata": {
    "colab": {
     "base_uri": "https://localhost:8080/"
    },
    "executionInfo": {
     "elapsed": 3,
     "status": "ok",
     "timestamp": 1672918515122,
     "user": {
      "displayName": "Sanjay Sane",
      "userId": "07643709861745318184"
     },
     "user_tz": -330
    },
    "id": "OtRfJvrKTEfp",
    "outputId": "ae2d49a8-4f6e-4057-aa0d-33d710df89b6"
   },
   "outputs": [
    {
     "name": "stdout",
     "output_type": "stream",
     "text": [
      "Found 42 images belonging to 4 classes.\n"
     ]
    }
   ],
   "source": [
    "validation_generator = datagen.flow_from_directory(\n",
    "    directory=dir, target_size=(100, 100), color_mode='rgb', class_mode='categorical', \n",
    "    batch_size=32, shuffle=True, seed=2022, subset='validation')"
   ]
  },
  {
   "cell_type": "code",
   "execution_count": 21,
   "metadata": {
    "executionInfo": {
     "elapsed": 750,
     "status": "ok",
     "timestamp": 1672918525048,
     "user": {
      "displayName": "Sanjay Sane",
      "userId": "07643709861745318184"
     },
     "user_tz": -330
    },
    "id": "foN7Dk5ZVxXB"
   },
   "outputs": [],
   "source": [
    "import tensorflow as tf"
   ]
  },
  {
   "cell_type": "code",
   "execution_count": 22,
   "metadata": {
    "executionInfo": {
     "elapsed": 4243,
     "status": "ok",
     "timestamp": 1672918530732,
     "user": {
      "displayName": "Sanjay Sane",
      "userId": "07643709861745318184"
     },
     "user_tz": -330
    },
    "id": "VOWJOy4hV0MB"
   },
   "outputs": [],
   "source": [
    "tf.random.set_seed(2022)\n",
    "model = tf.keras.models.Sequential([\n",
    "    tf.keras.layers.Conv2D(16, (3,3), activation='relu', input_shape=(100, 100, 3)),\n",
    "    tf.keras.layers.MaxPooling2D(2,1),\n",
    "    tf.keras.layers.Flatten(), \n",
    "    tf.keras.layers.Dense(1024, activation='relu'), \n",
    "    tf.keras.layers.BatchNormalization(),\n",
    "    tf.keras.layers.Dense(512, activation='relu'), \n",
    "    tf.keras.layers.BatchNormalization(),\n",
    "    tf.keras.layers.Dense(4, activation='softmax')  \n",
    "])\n",
    "from tensorflow.keras.callbacks import EarlyStopping\n",
    "monitor = EarlyStopping(monitor='val_loss', min_delta=1e-3, patience=5,verbose=3,restore_best_weights=True)\n",
    "model.compile(optimizer='adam',loss='categorical_crossentropy', metrics = ['accuracy'])"
   ]
  },
  {
   "cell_type": "code",
   "execution_count": 23,
   "metadata": {
    "colab": {
     "base_uri": "https://localhost:8080/"
    },
    "executionInfo": {
     "elapsed": 539566,
     "status": "ok",
     "timestamp": 1672919070294,
     "user": {
      "displayName": "Sanjay Sane",
      "userId": "07643709861745318184"
     },
     "user_tz": -330
    },
    "id": "9dpFB_8tWXej",
    "outputId": "14c6b4cb-0856-4723-d1b9-c9880f7db52c"
   },
   "outputs": [
    {
     "name": "stderr",
     "output_type": "stream",
     "text": [
      "/usr/local/lib/python3.8/dist-packages/keras/preprocessing/image.py:1663: UserWarning: This ImageDataGenerator specifies `featurewise_center`, but it hasn't been fit on any training data. Fit it first by calling `.fit(numpy_data)`.\n",
      "  warnings.warn('This ImageDataGenerator specifies '\n",
      "/usr/local/lib/python3.8/dist-packages/keras/preprocessing/image.py:1671: UserWarning: This ImageDataGenerator specifies `featurewise_std_normalization`, but it hasn't been fit on any training data. Fit it first by calling `.fit(numpy_data)`.\n",
      "  warnings.warn('This ImageDataGenerator specifies '\n"
     ]
    },
    {
     "name": "stdout",
     "output_type": "stream",
     "text": [
      "Epoch 1/50\n",
      "13/13 - 28s - loss: 1.7844 - accuracy: 0.3860 - val_loss: 6.7128 - val_accuracy: 0.3810 - 28s/epoch - 2s/step\n",
      "Epoch 2/50\n",
      "13/13 - 26s - loss: 1.1777 - accuracy: 0.5388 - val_loss: 3.2453 - val_accuracy: 0.3333 - 26s/epoch - 2s/step\n",
      "Epoch 3/50\n",
      "13/13 - 26s - loss: 1.0512 - accuracy: 0.5514 - val_loss: 3.0801 - val_accuracy: 0.4524 - 26s/epoch - 2s/step\n",
      "Epoch 4/50\n",
      "13/13 - 26s - loss: 1.0572 - accuracy: 0.5664 - val_loss: 2.9439 - val_accuracy: 0.4286 - 26s/epoch - 2s/step\n",
      "Epoch 5/50\n",
      "13/13 - 26s - loss: 0.9758 - accuracy: 0.5940 - val_loss: 1.2449 - val_accuracy: 0.5952 - 26s/epoch - 2s/step\n",
      "Epoch 6/50\n",
      "13/13 - 26s - loss: 0.8903 - accuracy: 0.6491 - val_loss: 1.0821 - val_accuracy: 0.5714 - 26s/epoch - 2s/step\n",
      "Epoch 7/50\n",
      "13/13 - 25s - loss: 0.9012 - accuracy: 0.6366 - val_loss: 1.7198 - val_accuracy: 0.5238 - 25s/epoch - 2s/step\n",
      "Epoch 8/50\n",
      "13/13 - 25s - loss: 0.8918 - accuracy: 0.6366 - val_loss: 1.7779 - val_accuracy: 0.4048 - 25s/epoch - 2s/step\n",
      "Epoch 9/50\n",
      "13/13 - 33s - loss: 0.9311 - accuracy: 0.6541 - val_loss: 1.2837 - val_accuracy: 0.5476 - 33s/epoch - 3s/step\n",
      "Epoch 10/50\n",
      "13/13 - 29s - loss: 0.8496 - accuracy: 0.6617 - val_loss: 1.2064 - val_accuracy: 0.5714 - 29s/epoch - 2s/step\n",
      "Epoch 11/50\n",
      "13/13 - 27s - loss: 0.8027 - accuracy: 0.6767 - val_loss: 0.9762 - val_accuracy: 0.6429 - 27s/epoch - 2s/step\n",
      "Epoch 12/50\n",
      "13/13 - 25s - loss: 0.8506 - accuracy: 0.6591 - val_loss: 1.1437 - val_accuracy: 0.4762 - 25s/epoch - 2s/step\n",
      "Epoch 13/50\n",
      "13/13 - 26s - loss: 0.7915 - accuracy: 0.6892 - val_loss: 1.1869 - val_accuracy: 0.5476 - 26s/epoch - 2s/step\n",
      "Epoch 14/50\n",
      "13/13 - 26s - loss: 0.8202 - accuracy: 0.6867 - val_loss: 1.6896 - val_accuracy: 0.4524 - 26s/epoch - 2s/step\n",
      "Epoch 15/50\n",
      "13/13 - 25s - loss: 0.8408 - accuracy: 0.6617 - val_loss: 0.9959 - val_accuracy: 0.6190 - 25s/epoch - 2s/step\n",
      "Epoch 16/50\n",
      "Restoring model weights from the end of the best epoch: 11.\n",
      "13/13 - 26s - loss: 0.7455 - accuracy: 0.6842 - val_loss: 1.0675 - val_accuracy: 0.5476 - 26s/epoch - 2s/step\n",
      "Epoch 16: early stopping\n"
     ]
    }
   ],
   "source": [
    "history = model.fit(train_generator, validation_data=validation_generator, epochs=50,\n",
    "                    verbose=2, callbacks=[monitor])"
   ]
  },
  {
   "cell_type": "code",
   "execution_count": null,
   "metadata": {
    "id": "Bc1d-hg0YOjK"
   },
   "outputs": [],
   "source": []
  }
 ],
 "metadata": {
  "accelerator": "TPU",
  "colab": {
   "authorship_tag": "ABX9TyMe7GNEC3Nh/RmTEEZ1BK5s",
   "mount_file_id": "1RCtwrf6GfXKrSJVirD2C1pxSLKdwfKaS",
   "provenance": [
    {
     "file_id": "1carGDVnH4RI5xDHnUlNbrlzuK5G6TuoZ",
     "timestamp": 1672915163847
    }
   ]
  },
  "gpuClass": "standard",
  "kernelspec": {
   "display_name": "Python 3 (ipykernel)",
   "language": "python",
   "name": "python3"
  },
  "language_info": {
   "codemirror_mode": {
    "name": "ipython",
    "version": 3
   },
   "file_extension": ".py",
   "mimetype": "text/x-python",
   "name": "python",
   "nbconvert_exporter": "python",
   "pygments_lexer": "ipython3",
   "version": "3.9.13"
  }
 },
 "nbformat": 4,
 "nbformat_minor": 1
}
