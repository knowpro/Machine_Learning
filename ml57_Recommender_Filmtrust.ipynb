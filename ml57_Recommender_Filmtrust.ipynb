{
 "cells": [
  {
   "cell_type": "code",
   "execution_count": 1,
   "id": "3046e8ed",
   "metadata": {},
   "outputs": [],
   "source": [
    "import surprise\n",
    "import pandas as pd\n",
    "import numpy as np"
   ]
  },
  {
   "cell_type": "code",
   "execution_count": 2,
   "id": "6fac9fe9",
   "metadata": {
    "scrolled": true
   },
   "outputs": [],
   "source": [
    "ratings = pd.read_csv(r\"12. Recommender Systems\\filmtrust\\ratings.txt\",\n",
    "                     sep = \" \",\n",
    "                     names = [\"uid\", \"iid\", \"rating\"])"
   ]
  },
  {
   "cell_type": "code",
   "execution_count": 3,
   "id": "fb3249ac",
   "metadata": {},
   "outputs": [
    {
     "data": {
      "text/html": [
       "<div>\n",
       "<style scoped>\n",
       "    .dataframe tbody tr th:only-of-type {\n",
       "        vertical-align: middle;\n",
       "    }\n",
       "\n",
       "    .dataframe tbody tr th {\n",
       "        vertical-align: top;\n",
       "    }\n",
       "\n",
       "    .dataframe thead th {\n",
       "        text-align: right;\n",
       "    }\n",
       "</style>\n",
       "<table border=\"1\" class=\"dataframe\">\n",
       "  <thead>\n",
       "    <tr style=\"text-align: right;\">\n",
       "      <th></th>\n",
       "      <th>uid</th>\n",
       "      <th>iid</th>\n",
       "      <th>rating</th>\n",
       "    </tr>\n",
       "  </thead>\n",
       "  <tbody>\n",
       "    <tr>\n",
       "      <th>35492</th>\n",
       "      <td>1508</td>\n",
       "      <td>84</td>\n",
       "      <td>3.5</td>\n",
       "    </tr>\n",
       "    <tr>\n",
       "      <th>35493</th>\n",
       "      <td>1508</td>\n",
       "      <td>17</td>\n",
       "      <td>4.0</td>\n",
       "    </tr>\n",
       "    <tr>\n",
       "      <th>35494</th>\n",
       "      <td>1508</td>\n",
       "      <td>669</td>\n",
       "      <td>1.0</td>\n",
       "    </tr>\n",
       "    <tr>\n",
       "      <th>35495</th>\n",
       "      <td>1508</td>\n",
       "      <td>686</td>\n",
       "      <td>2.5</td>\n",
       "    </tr>\n",
       "    <tr>\n",
       "      <th>35496</th>\n",
       "      <td>1508</td>\n",
       "      <td>806</td>\n",
       "      <td>3.5</td>\n",
       "    </tr>\n",
       "  </tbody>\n",
       "</table>\n",
       "</div>"
      ],
      "text/plain": [
       "        uid  iid  rating\n",
       "35492  1508   84     3.5\n",
       "35493  1508   17     4.0\n",
       "35494  1508  669     1.0\n",
       "35495  1508  686     2.5\n",
       "35496  1508  806     3.5"
      ]
     },
     "execution_count": 3,
     "metadata": {},
     "output_type": "execute_result"
    }
   ],
   "source": [
    "ratings.tail()"
   ]
  },
  {
   "cell_type": "code",
   "execution_count": 4,
   "id": "a478cd1f",
   "metadata": {
    "scrolled": true
   },
   "outputs": [
    {
     "name": "stdout",
     "output_type": "stream",
     "text": [
      "Ratings range between (0) and (1)\n"
     ]
    }
   ],
   "source": [
    "lowest_rating = ratings[\"rating\"].min()\n",
    "highest_rating = ratings[\"rating\"].max()\n",
    "\n",
    "print(\"Ratings range between (0) and (1)\".format(lowest_rating, highest_rating))\n",
    "\n",
    "# Reader is used here to support this format\n",
    "reader = surprise.Reader(rating_scale = (lowest_rating, highest_rating))"
   ]
  },
  {
   "cell_type": "code",
   "execution_count": 5,
   "id": "b83696fc",
   "metadata": {},
   "outputs": [],
   "source": [
    "data = surprise.Dataset.load_from_df(ratings,reader)"
   ]
  },
  {
   "cell_type": "code",
   "execution_count": 6,
   "id": "06e1b23c",
   "metadata": {},
   "outputs": [],
   "source": [
    "similarity_options = {\"names\": \"cosine\", \"user_defined\": True}"
   ]
  },
  {
   "cell_type": "code",
   "execution_count": null,
   "id": "120c5d8a",
   "metadata": {},
   "outputs": [],
   "source": []
  },
  {
   "cell_type": "code",
   "execution_count": 7,
   "id": "e3c4b0fb",
   "metadata": {},
   "outputs": [
    {
     "name": "stdout",
     "output_type": "stream",
     "text": [
      "Computing the msd similarity matrix...\n",
      "Done computing similarity matrix.\n"
     ]
    }
   ],
   "source": [
    "algo = surprise.KNNBasic(sim_options = similarity_options)\n",
    "output = algo.fit(data.build_full_trainset())"
   ]
  },
  {
   "cell_type": "code",
   "execution_count": 8,
   "id": "7d682808",
   "metadata": {
    "scrolled": true
   },
   "outputs": [
    {
     "name": "stdout",
     "output_type": "stream",
     "text": [
      "3.0028030537791928\n"
     ]
    }
   ],
   "source": [
    "pred= algo.predict(uid = '50', iid = '217')\n",
    "score = pred.est\n",
    "print(score)"
   ]
  },
  {
   "cell_type": "markdown",
   "id": "425dc4f7",
   "metadata": {},
   "source": [
    "# All the users"
   ]
  },
  {
   "cell_type": "code",
   "execution_count": 9,
   "id": "dc061a4a",
   "metadata": {},
   "outputs": [
    {
     "data": {
      "text/plain": [
       "array([   1,    2,    3, ..., 2069, 2070, 2071], dtype=int64)"
      ]
     },
     "execution_count": 9,
     "metadata": {},
     "output_type": "execute_result"
    }
   ],
   "source": [
    "iids  = ratings['iid'].unique()\n",
    "iids"
   ]
  },
  {
   "cell_type": "code",
   "execution_count": 10,
   "id": "e0b9c8f7",
   "metadata": {},
   "outputs": [
    {
     "name": "stdout",
     "output_type": "stream",
     "text": [
      "List of iid that uid = (0) has rated : \n",
      "864      8\n",
      "865    211\n",
      "866      3\n",
      "867      2\n",
      "868    219\n",
      "869    234\n",
      "870     12\n",
      "871    254\n",
      "872    250\n",
      "873    207\n",
      "874     11\n",
      "875    253\n",
      "876    236\n",
      "877     84\n",
      "878     10\n",
      "879      7\n",
      "880    233\n",
      "881     13\n",
      "882      1\n",
      "883      5\n",
      "884      6\n",
      "885    252\n",
      "886    241\n",
      "887    216\n",
      "888    257\n",
      "889    206\n",
      "890      4\n",
      "891    217\n",
      "892      9\n",
      "893    215\n",
      "894    213\n",
      "895     17\n",
      "896    255\n",
      "897    220\n",
      "898    121\n",
      "899    245\n",
      "900    239\n",
      "901    251\n",
      "902    235\n",
      "Name: iid, dtype: int64\n"
     ]
    }
   ],
   "source": [
    "rec_50 = ratings[ratings[\"uid\"] == 50]\n",
    "iids50 = rec_50[\"iid\"]\n",
    "\n",
    "print(\"List of iid that uid = (0) has rated : \".format(50))\n",
    "print(iids50)"
   ]
  },
  {
   "cell_type": "code",
   "execution_count": 11,
   "id": "9e9c1596",
   "metadata": {},
   "outputs": [
    {
     "name": "stdout",
     "output_type": "stream",
     "text": [
      "List of iid which uid=(0) did not rate(in all 2032:\n",
      "[  14   15   16 ... 2069 2070 2071]\n"
     ]
    }
   ],
   "source": [
    "iids_to_predict = np.setdiff1d(iids, iids50)\n",
    "print(\"List of iid which uid=(0) did not rate(in all {1}:\".format(50, len(iids_to_predict)))\n",
    "print(iids_to_predict)"
   ]
  },
  {
   "cell_type": "code",
   "execution_count": 12,
   "id": "4e1bdf6b",
   "metadata": {},
   "outputs": [],
   "source": [
    "testset = [[50, iid, 0.] for iid in iids_to_predict]\n"
   ]
  },
  {
   "cell_type": "code",
   "execution_count": 13,
   "id": "cf1987a3",
   "metadata": {},
   "outputs": [
    {
     "ename": "SyntaxError",
     "evalue": "invalid syntax (1934951840.py, line 1)",
     "output_type": "error",
     "traceback": [
      "\u001b[1;36m  File \u001b[1;32m\"C:\\Users\\admin\\AppData\\Local\\Temp\\ipykernel_2920\\1934951840.py\"\u001b[1;36m, line \u001b[1;32m1\u001b[0m\n\u001b[1;33m    pred_ratings =\u001b[0m\n\u001b[1;37m                   ^\u001b[0m\n\u001b[1;31mSyntaxError\u001b[0m\u001b[1;31m:\u001b[0m invalid syntax\n"
     ]
    }
   ],
   "source": [
    "pred_ratings"
   ]
  },
  {
   "cell_type": "code",
   "execution_count": null,
   "id": "2d7951ad",
   "metadata": {},
   "outputs": [],
   "source": []
  }
 ],
 "metadata": {
  "kernelspec": {
   "display_name": "Python 3 (ipykernel)",
   "language": "python",
   "name": "python3"
  },
  "language_info": {
   "codemirror_mode": {
    "name": "ipython",
    "version": 3
   },
   "file_extension": ".py",
   "mimetype": "text/x-python",
   "name": "python",
   "nbconvert_exporter": "python",
   "pygments_lexer": "ipython3",
   "version": "3.9.13"
  }
 },
 "nbformat": 4,
 "nbformat_minor": 5
}
