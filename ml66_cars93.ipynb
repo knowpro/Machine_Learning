{
 "cells": [
  {
   "cell_type": "code",
   "execution_count": 1,
   "id": "9a7c444e",
   "metadata": {},
   "outputs": [],
   "source": [
    "import pandas as pd\n",
    "import numpy as np\n",
    "\n",
    "import matplotlib.pyplot as plt\n",
    "import seaborn as sns"
   ]
  },
  {
   "cell_type": "code",
   "execution_count": null,
   "id": "16fed94a",
   "metadata": {},
   "outputs": [],
   "source": []
  },
  {
   "cell_type": "code",
   "execution_count": 8,
   "id": "28d70db6",
   "metadata": {},
   "outputs": [],
   "source": [
    "cars = pd.read_csv(r\"Datasets\\Cars93.csv\")"
   ]
  },
  {
   "cell_type": "code",
   "execution_count": 9,
   "id": "72954520",
   "metadata": {},
   "outputs": [
    {
     "data": {
      "image/png": "[encoded data removed]",
      "text/plain": [
       "<Figure size 640x480 with 1 Axes>"
      ]
     },
     "metadata": {},
     "output_type": "display_data"
    }
   ],
   "source": [
    "sns.boxplot(y= \"Price\",\n",
    "           data = cars)\n",
    "plt.show()"
   ]
  },
  {
   "cell_type": "code",
   "execution_count": 10,
   "id": "6985efdb",
   "metadata": {},
   "outputs": [
    {
     "name": "stdout",
     "output_type": "stream",
     "text": [
      "Inter - Quartile Range = 11.100000000000001\n"
     ]
    }
   ],
   "source": [
    "q1 = cars[\"Price\"].quantile(q=0.25)\n",
    "q3 = cars[\"Price\"].quantile(q=0.75)\n",
    "\n",
    "iqr = q3 - q1\n",
    "print(\"Inter - Quartile Range =\", iqr)"
   ]
  },
  {
   "cell_type": "code",
   "execution_count": 11,
   "id": "6617c895",
   "metadata": {},
   "outputs": [
    {
     "data": {
      "text/plain": [
       "16.650000000000002"
      ]
     },
     "execution_count": 11,
     "metadata": {},
     "output_type": "execute_result"
    }
   ],
   "source": [
    "lim_iqr = 1.5*iqr\n",
    "lim_iqr"
   ]
  },
  {
   "cell_type": "code",
   "execution_count": 6,
   "id": "503456c1",
   "metadata": {},
   "outputs": [],
   "source": [
    "upper_iqr = q3 + lim_iqr\n",
    "lower_iqr = q3 + lim_iqr"
   ]
  },
  {
   "cell_type": "code",
   "execution_count": 7,
   "id": "ea81b556",
   "metadata": {},
   "outputs": [
    {
     "data": {
      "text/plain": [
       "0     15.9\n",
       "1     33.9\n",
       "2     29.1\n",
       "3     37.7\n",
       "4     30.0\n",
       "      ... \n",
       "88    19.7\n",
       "89    20.0\n",
       "90    23.3\n",
       "91    22.7\n",
       "92    26.7\n",
       "Name: Price, Length: 93, dtype: float64"
      ]
     },
     "execution_count": 7,
     "metadata": {},
     "output_type": "execute_result"
    }
   ],
   "source": [
    "outliers_df = cars[ ( cars[\"Price\"] > upper_iqr ) | ( cars[\"Price\"] < lower_iqr ) ]\n",
    "outliers_df[\"Price\"]"
   ]
  },
  {
   "cell_type": "code",
   "execution_count": 15,
   "id": "3b82da5a",
   "metadata": {},
   "outputs": [],
   "source": [
    "# Function for outliers detection\n",
    "\n",
    "def outDet(df, col_name):\n",
    "    \n",
    "    q1 = df[col_name].quantile(q=0.25)\n",
    "    q3 = df[col_name].quantile(q=0.75)\n",
    "    \n",
    "    iqr = q3 - q1\n",
    "    lim_iqr = 1.5*iqr\n",
    "    upper_iqr = q3 + lim_iqr\n",
    "    lower_iqr = q3 + lim_iqr\n",
    "    outliers_df = df[ ( df[col_name] > upper_iqr ) | ( df[col_name] < lower_iqr ) ]\n",
    "    \n",
    "    return outliers_df[col_name].to_list()   "
   ]
  },
  {
   "cell_type": "code",
   "execution_count": 16,
   "id": "6776c4f3",
   "metadata": {},
   "outputs": [
    {
     "name": "stdout",
     "output_type": "stream",
     "text": [
      "[15.9, 33.9, 29.1, 37.7, 30.0, 15.7, 20.8, 23.7, 26.3, 34.7, 40.1, 13.4, 11.4, 15.1, 15.9, 16.3, 16.6, 18.8, 38.0, 18.4, 15.8, 29.5, 9.2, 11.3, 13.3, 19.0, 15.6, 25.8, 12.2, 19.3, 7.4, 10.1, 11.3, 15.9, 14.0, 19.9, 20.2, 20.9, 8.4, 12.5, 19.8, 12.1, 17.5, 8.0, 10.0, 10.0, 13.9, 47.9, 28.0, 35.2, 34.3, 36.1, 8.3, 11.6, 16.5, 19.1, 32.5, 31.9, 61.9, 14.1, 14.9, 10.3, 26.1, 11.8, 15.7, 19.1, 21.5, 13.5, 16.3, 19.5, 20.7, 14.4, 9.0, 11.1, 17.7, 18.5, 24.4, 28.7, 11.1, 8.4, 10.9, 19.5, 8.6, 9.8, 18.4, 18.2, 22.7, 9.1, 19.7, 20.0, 23.3, 22.7, 26.7]\n"
     ]
    }
   ],
   "source": [
    "res = outDet(cars, \"Price\")\n",
    "print(res)"
   ]
  },
  {
   "cell_type": "code",
   "execution_count": 17,
   "id": "420fb900",
   "metadata": {
    "scrolled": true
   },
   "outputs": [
    {
     "name": "stdout",
     "output_type": "stream",
     "text": [
      "[42000.0, 38500.0, 49500.0, 60500.0, 61000.0, 66000.0, 66000.0, 69000.0, 83800.0, 88500.0, 90000.0, 30500.0, 27000.0, 36000.0, 37000.0, 37900.0, 40500.0, 40750.0, 45000.0, 45000.0, 48500.0, 65900.0, 37900.0, 38000.0, 42000.0, 42300.0, 43500.0, 44000.0, 44500.0, 44900.0, 45000.0, 48000.0, 49000.0, 51500.0, 61000.0, 61000.0, 61700.0, 67000.0, 82000.0, 54500.0, 66500.0, 70000.0, 82000.0, 92000.0, 38000.0, 44000.0, 41000.0, 43000.0, 48000.0, 54800.0, 55000.0, 57000.0, 68000.0, 95000.0, 38000.0, 25000.0, 25245.0, 56000.0, 35500.0, 30000.0, 48000.0, 48000.0, 52000.0, 54000.0, 56000.0, 60000.0, 60000.0, 67000.0, 47000.0, 70000.0, 45000.0, 51000.0, 32500.0, 34000.0, 35000.0, 36000.0, 45000.0, 47000.0, 55000.0, 63900.0, 50000.0, 35000.0, 50000.0, 43000.0, 55500.0, 57000.0, 60000.0, 78000.0, 35000.0, 44000.0, 47000.0, 58000.0, 163000.0, 128000.0, 123500.0, 39000.0, 53900.0, 59900.0, 35000.0, 43000.0, 57000.0, 79000.0, 125000.0, 132000.0, 58000.0, 43000.0, 48000.0, 58500.0, 73000.0, 63500.0, 43000.0, 46500.0, 92000.0, 75000.0, 75000.0, 85000.0, 93000.0, 94500.0, 106500.0, 116000.0, 61500.0, 80000.0, 37000.0, 59500.0, 70000.0, 95000.0, 117000.0, 122500.0, 123500.0, 127000.0, 35000.0, 44500.0, 49900.0, 50500.0, 65000.0, 90000.0, 46000.0, 35000.0, 26500.0, 43000.0, 56000.0, 40000.0, 51000.0, 51000.0, 57250.0, 44000.0, 61000.0, 62000.0, 80000.0, 50000.0, 59900.0, 35500.0, 37000.0, 42000.0, 48000.0, 60000.0, 60000.0, 60000.0, 62000.0, 63000.0, 63900.0, 130000.0, 25000.0, 50000.0, 52900.0, 62000.0, 73500.0, 38000.0, 46000.0, 48000.0, 52500.0, 32000.0, 38000.0, 46000.0, 50000.0, 57500.0, 70000.0, 69900.0, 74500.0, 42000.0, 60000.0, 50000.0, 58000.0, 63900.0, 28000.0, 54000.0, 44700.0, 47000.0, 50000.0, 57250.0, 67000.0, 52500.0, 42000.0, 57500.0, 33000.0, 34400.0, 40000.0, 40500.0, 46500.0, 52000.0, 53000.0, 53900.0, 50000.0, 55500.0, 56000.0, 60000.0, 60000.0, 69500.0, 72000.0, 92500.0, 40500.0, 42000.0, 47900.0, 52000.0, 62000.0, 41000.0, 138300.0, 42000.0, 47000.0, 64500.0, 46000.0, 58000.0, 70100.0, 78500.0, 87250.0, 70800.0, 56000.0, 48000.0, 68000.0, 79000.0, 80000.0, 87000.0, 25000.0, 32500.0, 36000.0, 42500.0, 43000.0, 50000.0, 26000.0, 30000.0, 34000.0, 52000.0, 70000.0, 27000.0, 32500.0, 37200.0, 38000.0, 42000.0, 44500.0, 45000.0, 48500.0, 52000.0, 53900.0, 60000.0, 61000.0, 64500.0, 71000.0, 75500.0, 33500.0, 41000.0, 41000.0, 46200.0, 48500.0, 48900.0, 50000.0, 51000.0, 52500.0, 52500.0, 54000.0, 59000.0, 60000.0, 63000.0, 64000.0, 64900.0, 65000.0, 66000.0, 70000.0, 65500.0, 57000.0, 52000.0, 54000.0, 74500.0, 90000.0, 45000.0, 45000.0, 65000.0, 55000.0, 62000.0, 30000.0, 34000.0, 38000.0, 39000.0, 45000.0, 47000.0, 47500.0, 49000.0, 50000.0, 50000.0, 52900.0, 53000.0, 55000.0, 56000.0, 58500.0, 59500.0, 60000.0, 64000.0, 67000.0, 68100.0, 70000.0, 72000.0, 57500.0, 69900.0, 70000.0, 75000.0, 76900.0, 78000.0, 80000.0, 82000.0, 83000.0, 83000.0, 83900.0, 88500.0, 93000.0, 98000.0, 98500.0, 99000.0, 101000.0, 110000.0, 115442.0, 120000.0, 124000.0, 175000.0, 50000.0, 55000.0, 60000.0, 61000.0, 106000.0, 155000.0, 141000.0, 62500.0, 70000.0, 73000.0, 80000.0, 80000.0, 88000.0, 49000.0, 52000.0, 59500.0, 60000.0, 64000.0, 64500.0, 68500.0, 78500.0, 86000.0, 86900.0, 75000.0, 78000.0, 95000.0, 97000.0, 107000.0, 130000.0, 145000.0, 175000.0, 72000.0, 84900.0, 99000.0, 114000.0, 120000.0, 145000.0, 79000.0, 82000.0, 85000.0, 100500.0, 122000.0, 126500.0, 133000.0, 140000.0, 190000.0, 84000.0, 97000.0, 103500.0, 112500.0, 140000.0, 74700.0, 78000.0, 78900.0, 83900.0, 85000.0, 85000.0, 86000.0, 86900.0, 94500.0, 96000.0, 106000.0, 72000.0, 74500.0, 77000.0, 80750.0, 82900.0, 85000.0, 92500.0, 76000.0, 77500.0, 80000.0, 80000.0, 86000.0, 87000.0, 87500.0, 89000.0, 89900.0, 90000.0, 95000.0, 112000.0, 31900.0, 52000.0, 90000.0, 100000.0, 91700.0, 174500.0, 94700.0, 68000.0, 80000.0, 61100.0, 62900.0, 65500.0, 66000.0, 49500.0, 50000.0, 53500.0, 58550.0, 64500.0, 65000.0, 69000.0, 73000.0, 75000.0, 75000.0, 132000.0, 60000.0, 65000.0, 69000.0, 51900.0, 57000.0, 65000.0, 79500.0, 72500.0, 104900.0, 114900.0, 120000.0, 58000.0, 67000.0, 67000.0, 69000.0, 73000.0, 73500.0, 74900.0, 75000.0, 79500.0, 120900.0, 44555.0, 47000.0, 47600.0, 49000.0, 49000.0, 49000.0, 49500.0, 52000.0, 54000.0, 55000.0, 55000.0, 56000.0, 60000.0, 60500.0, 50000.0, 64900.0, 93000.0, 85000.0, 61500.0, 88500.0, 88000.0, 89000.0, 89500.0, 95000.0, 95500.0, 51500.0, 62900.0, 118500.0, 42900.0, 44100.0, 47000.0, 50000.0, 50000.0, 53000.0, 53000.0, 54000.0, 58500.0, 59000.0, 60000.0, 62900.0, 64000.0, 65000.0, 67900.0, 68500.0, 70000.0, 70500.0, 71500.0, 71900.0, 75000.0, 75000.0, 87000.0, 64000.0, 70000.0, 47500.0, 62600.0, 66000.0, 58900.0, 53000.0, 95000.0, 96500.0, 101000.0, 102000.0, 103000.0, 105000.0, 108000.0, 110000.0, 113000.0, 120000.0, 105000.0, 106000.0, 107500.0, 108000.0, 113750.0, 120000.0, 70000.0, 71000.0, 82000.0, 82000.0, 82500.0, 83000.0, 84000.0, 85000.0, 85000.0, 91500.0, 94000.0, 103000.0, 105000.0, 105000.0]\n"
     ]
    }
   ],
   "source": [
    "house = pd.read_csv(\"Datasets\\Housing.csv\")\n",
    "\n",
    "res2 = outDet(house, \"price\")\n",
    "print(res2)"
   ]
  },
  {
   "cell_type": "code",
   "execution_count": null,
   "id": "5f6c038e",
   "metadata": {},
   "outputs": [],
   "source": []
  }
 ],
 "metadata": {
  "kernelspec": {
   "display_name": "Python 3 (ipykernel)",
   "language": "python",
   "name": "python3"
  },
  "language_info": {
   "codemirror_mode": {
    "name": "ipython",
    "version": 3
   },
   "file_extension": ".py",
   "mimetype": "text/x-python",
   "name": "python",
   "nbconvert_exporter": "python",
   "pygments_lexer": "ipython3",
   "version": "3.9.13"
  }
 },
 "nbformat": 4,
 "nbformat_minor": 5
}
