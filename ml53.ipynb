{
 "cells": [
  {
   "cell_type": "code",
   "execution_count": 5,
   "id": "700a6e49",
   "metadata": {},
   "outputs": [
    {
     "ename": "ModuleNotFoundError",
     "evalue": "No module named 'h20'",
     "output_type": "error",
     "traceback": [
      "\u001b[1;31m---------------------------------------------------------------------------\u001b[0m",
      "\u001b[1;31mModuleNotFoundError\u001b[0m                       Traceback (most recent call last)",
      "\u001b[1;32m~\\AppData\\Local\\Temp\\ipykernel_6856\\1428152014.py\u001b[0m in \u001b[0;36m<module>\u001b[1;34m\u001b[0m\n\u001b[1;32m----> 1\u001b[1;33m \u001b[1;32mimport\u001b[0m \u001b[0mh20\u001b[0m\u001b[1;33m\u001b[0m\u001b[1;33m\u001b[0m\u001b[0m\n\u001b[0m\u001b[0;32m      2\u001b[0m \u001b[1;32mfrom\u001b[0m \u001b[0mh20\u001b[0m\u001b[1;33m.\u001b[0m\u001b[0mestimators\u001b[0m\u001b[1;33m.\u001b[0m\u001b[0mrandom_forest\u001b[0m \u001b[1;32mimport\u001b[0m \u001b[0mH2ORandomForestEstimator\u001b[0m\u001b[1;33m\u001b[0m\u001b[1;33m\u001b[0m\u001b[0m\n",
      "\u001b[1;31mModuleNotFoundError\u001b[0m: No module named 'h20'"
     ]
    }
   ],
   "source": [
    "import h20\n",
    "from h20.estimators.random_forest import H2ORandomForestEstimator"
   ]
  },
  {
   "cell_type": "code",
   "execution_count": null,
   "id": "b3608a10",
   "metadata": {},
   "outputs": [],
   "source": [
    "h2o.init"
   ]
  },
  {
   "cell_type": "code",
   "execution_count": null,
   "id": "2b0bf363",
   "metadata": {},
   "outputs": [],
   "source": [
    "df = h2o.import_file(r\"Cases\\Bakruptcy\\bankruptcy.csv\",\n",
    "                    destination_frame = \"brupt\")"
   ]
  },
  {
   "cell_type": "code",
   "execution_count": null,
   "id": "53ae828b",
   "metadata": {},
   "outputs": [],
   "source": [
    "all_cols =df.col_names\n",
    "\n",
    "y = \"D\"\n",
    "X = all_cols[3:]"
   ]
  },
  {
   "cell_type": "code",
   "execution_count": null,
   "id": "c88962ec",
   "metadata": {},
   "outputs": [],
   "source": [
    "df[\"D\"] = df[\"D\"].asfactor\n",
    "print(df[D].levels())"
   ]
  },
  {
   "cell_type": "code",
   "execution_count": null,
   "id": "318bbc9a",
   "metadata": {},
   "outputs": [],
   "source": [
    "train, test = df.split_frame(ratios=[.7], seed = 2022,\n",
    "                            detination_frames = [\"train\", \"test\"])\n",
    "\n",
    "print(df.shape)\n",
    "print(train.shape)\n",
    "print(test.shape)"
   ]
  },
  {
   "cell_type": "code",
   "execution_count": null,
   "id": "c3df9114",
   "metadata": {},
   "outputs": [],
   "source": [
    "h20_rf = H20RandomForestEstimator(seed=2022)\n",
    "h20_rf.train(x=X, y=Y, training_frame = train,\n",
    "            validation_frame = test,\n",
    "            model_id = \"h20_rf_cancer\")"
   ]
  },
  {
   "cell_type": "code",
   "execution_count": null,
   "id": "297f9a58",
   "metadata": {},
   "outputs": [],
   "source": [
    "print(h20_rf.auc())\n",
    "print(h20_rf.confusion_matrix())"
   ]
  },
  {
   "cell_type": "code",
   "execution_count": null,
   "id": "d0af315d",
   "metadata": {},
   "outputs": [],
   "source": [
    "y_pred = h20_rf.predict(test_data)"
   ]
  },
  {
   "cell_type": "code",
   "execution_count": null,
   "id": "6db72d54",
   "metadata": {},
   "outputs": [],
   "source": [
    "y_pred"
   ]
  },
  {
   "cell_type": "markdown",
   "id": "82a091d0",
   "metadata": {},
   "source": [
    "# H2O GradientBoostingEstimator"
   ]
  },
  {
   "cell_type": "code",
   "execution_count": null,
   "id": "fa21196d",
   "metadata": {},
   "outputs": [],
   "source": [
    "h20_gbm = H2OGradientBoostingEstimator(seed=2022)"
   ]
  },
  {
   "cell_type": "code",
   "execution_count": null,
   "id": "a16abb7a",
   "metadata": {},
   "outputs": [],
   "source": [
    "h20_gbm.train(x=X, y=Y, training_frame = train,\n",
    "            validation_frame = test,\n",
    "            model_id = \"h20_gbm_cancer\")"
   ]
  },
  {
   "cell_type": "code",
   "execution_count": null,
   "id": "d5db461a",
   "metadata": {},
   "outputs": [],
   "source": [
    "print(h20_rf.auc())\n",
    "print(h20_rf.confusion_matrix())"
   ]
  },
  {
   "cell_type": "code",
   "execution_count": null,
   "id": "dd0a93c7",
   "metadata": {},
   "outputs": [],
   "source": [
    "y_pred = h20_rf.predict(test_data)\n",
    "y_pred_df = y_pred.as_data_frame()"
   ]
  },
  {
   "cell_type": "code",
   "execution_count": null,
   "id": "aee7dd45",
   "metadata": {},
   "outputs": [],
   "source": [
    "print(h2o_gbm.logloss(train=False, ) )"
   ]
  },
  {
   "cell_type": "code",
   "execution_count": null,
   "id": "98cd38f2",
   "metadata": {},
   "outputs": [],
   "source": []
  },
  {
   "cell_type": "markdown",
   "id": "27ddab24",
   "metadata": {},
   "source": [
    "# H2O XGBoostEstimator"
   ]
  },
  {
   "cell_type": "code",
   "execution_count": null,
   "id": "068fb67b",
   "metadata": {},
   "outputs": [],
   "source": [
    "h2o_xgb"
   ]
  }
 ],
 "metadata": {
  "kernelspec": {
   "display_name": "Python 3 (ipykernel)",
   "language": "python",
   "name": "python3"
  },
  "language_info": {
   "codemirror_mode": {
    "name": "ipython",
    "version": 3
   },
   "file_extension": ".py",
   "mimetype": "text/x-python",
   "name": "python",
   "nbconvert_exporter": "python",
   "pygments_lexer": "ipython3",
   "version": "3.9.13"
  }
 },
 "nbformat": 4,
 "nbformat_minor": 5
}
