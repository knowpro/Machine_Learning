{
 "cells": [
  {
   "cell_type": "code",
   "execution_count": 76,
   "id": "5652bf47",
   "metadata": {},
   "outputs": [],
   "source": [
    "import pandas as pd\n",
    "import numpy as np\n",
    "from sklearn.impute import SimpleImputer\n",
    "import matplotlib.pyplot as plt\n",
    "import seaborn as sns\n",
    "from sklearn.model_selection import train_test_split\n",
    "from sklearn.metrics import accuracy_score, confusion_matrix\n",
    "from sklearn.metrics import classification_report\n",
    "from sklearn.metrics import roc_curve, roc_auc_score\n",
    "from sklearn.neighbors import KNeighborsClassifier\n"
   ]
  },
  {
   "cell_type": "code",
   "execution_count": 31,
   "id": "69a810af",
   "metadata": {},
   "outputs": [],
   "source": [
    "job = pd.read_csv(r\"C:\\Hogwarts\\advanced_analytics\\Datasets\\JobSalary2.csv\")"
   ]
  },
  {
   "cell_type": "markdown",
   "id": "b3146da6",
   "metadata": {},
   "source": [
    "## Finding NA's in columns"
   ]
  },
  {
   "cell_type": "code",
   "execution_count": 32,
   "id": "aa18a975",
   "metadata": {},
   "outputs": [
    {
     "data": {
      "text/plain": [
       "S_No         0\n",
       "Computer     2\n",
       "Marketing    1\n",
       "Engineer     0\n",
       "dtype: int64"
      ]
     },
     "execution_count": 32,
     "metadata": {},
     "output_type": "execute_result"
    }
   ],
   "source": [
    "job.isnull().sum()"
   ]
  },
  {
   "cell_type": "code",
   "execution_count": 33,
   "id": "8af50aa2",
   "metadata": {},
   "outputs": [
    {
     "data": {
      "text/html": [
       "<div>\n",
       "<style scoped>\n",
       "    .dataframe tbody tr th:only-of-type {\n",
       "        vertical-align: middle;\n",
       "    }\n",
       "\n",
       "    .dataframe tbody tr th {\n",
       "        vertical-align: top;\n",
       "    }\n",
       "\n",
       "    .dataframe thead th {\n",
       "        text-align: right;\n",
       "    }\n",
       "</style>\n",
       "<table border=\"1\" class=\"dataframe\">\n",
       "  <thead>\n",
       "    <tr style=\"text-align: right;\">\n",
       "      <th></th>\n",
       "      <th>S_No</th>\n",
       "      <th>Computer</th>\n",
       "      <th>Marketing</th>\n",
       "      <th>Engineer</th>\n",
       "    </tr>\n",
       "  </thead>\n",
       "  <tbody>\n",
       "    <tr>\n",
       "      <th>0</th>\n",
       "      <td>1</td>\n",
       "      <td>84.0</td>\n",
       "      <td>55.0</td>\n",
       "      <td>75</td>\n",
       "    </tr>\n",
       "    <tr>\n",
       "      <th>1</th>\n",
       "      <td>2</td>\n",
       "      <td>90.0</td>\n",
       "      <td>53.0</td>\n",
       "      <td>70</td>\n",
       "    </tr>\n",
       "    <tr>\n",
       "      <th>2</th>\n",
       "      <td>3</td>\n",
       "      <td>63.0</td>\n",
       "      <td>NaN</td>\n",
       "      <td>88</td>\n",
       "    </tr>\n",
       "    <tr>\n",
       "      <th>3</th>\n",
       "      <td>4</td>\n",
       "      <td>NaN</td>\n",
       "      <td>50.0</td>\n",
       "      <td>77</td>\n",
       "    </tr>\n",
       "    <tr>\n",
       "      <th>4</th>\n",
       "      <td>5</td>\n",
       "      <td>63.0</td>\n",
       "      <td>41.0</td>\n",
       "      <td>89</td>\n",
       "    </tr>\n",
       "  </tbody>\n",
       "</table>\n",
       "</div>"
      ],
      "text/plain": [
       "   S_No  Computer  Marketing  Engineer\n",
       "0     1      84.0       55.0        75\n",
       "1     2      90.0       53.0        70\n",
       "2     3      63.0        NaN        88\n",
       "3     4       NaN       50.0        77\n",
       "4     5      63.0       41.0        89"
      ]
     },
     "execution_count": 33,
     "metadata": {},
     "output_type": "execute_result"
    }
   ],
   "source": [
    "job.head()"
   ]
  },
  {
   "cell_type": "markdown",
   "id": "1533d04b",
   "metadata": {},
   "source": [
    "## Dropping the rows with NA values\n"
   ]
  },
  {
   "cell_type": "code",
   "execution_count": 34,
   "id": "7b53073a",
   "metadata": {},
   "outputs": [
    {
     "data": {
      "text/html": [
       "<div>\n",
       "<style scoped>\n",
       "    .dataframe tbody tr th:only-of-type {\n",
       "        vertical-align: middle;\n",
       "    }\n",
       "\n",
       "    .dataframe tbody tr th {\n",
       "        vertical-align: top;\n",
       "    }\n",
       "\n",
       "    .dataframe thead th {\n",
       "        text-align: right;\n",
       "    }\n",
       "</style>\n",
       "<table border=\"1\" class=\"dataframe\">\n",
       "  <thead>\n",
       "    <tr style=\"text-align: right;\">\n",
       "      <th></th>\n",
       "      <th>S_No</th>\n",
       "      <th>Computer</th>\n",
       "      <th>Marketing</th>\n",
       "      <th>Engineer</th>\n",
       "    </tr>\n",
       "  </thead>\n",
       "  <tbody>\n",
       "    <tr>\n",
       "      <th>0</th>\n",
       "      <td>1</td>\n",
       "      <td>84.0</td>\n",
       "      <td>55.0</td>\n",
       "      <td>75</td>\n",
       "    </tr>\n",
       "    <tr>\n",
       "      <th>1</th>\n",
       "      <td>2</td>\n",
       "      <td>90.0</td>\n",
       "      <td>53.0</td>\n",
       "      <td>70</td>\n",
       "    </tr>\n",
       "    <tr>\n",
       "      <th>4</th>\n",
       "      <td>5</td>\n",
       "      <td>63.0</td>\n",
       "      <td>41.0</td>\n",
       "      <td>89</td>\n",
       "    </tr>\n",
       "    <tr>\n",
       "      <th>5</th>\n",
       "      <td>6</td>\n",
       "      <td>75.0</td>\n",
       "      <td>54.0</td>\n",
       "      <td>85</td>\n",
       "    </tr>\n",
       "    <tr>\n",
       "      <th>7</th>\n",
       "      <td>8</td>\n",
       "      <td>77.0</td>\n",
       "      <td>64.0</td>\n",
       "      <td>105</td>\n",
       "    </tr>\n",
       "  </tbody>\n",
       "</table>\n",
       "</div>"
      ],
      "text/plain": [
       "   S_No  Computer  Marketing  Engineer\n",
       "0     1      84.0       55.0        75\n",
       "1     2      90.0       53.0        70\n",
       "4     5      63.0       41.0        89\n",
       "5     6      75.0       54.0        85\n",
       "7     8      77.0       64.0       105"
      ]
     },
     "execution_count": 34,
     "metadata": {},
     "output_type": "execute_result"
    }
   ],
   "source": [
    "job.dropna()"
   ]
  },
  {
   "cell_type": "markdown",
   "id": "f3af91e7",
   "metadata": {},
   "source": [
    "## Constant imputer"
   ]
  },
  {
   "cell_type": "code",
   "execution_count": 35,
   "id": "ebb674a7",
   "metadata": {},
   "outputs": [
    {
     "data": {
      "text/plain": [
       "array([[  1.,  84.,  55.,  75.],\n",
       "       [  2.,  90.,  53.,  70.],\n",
       "       [  3.,  63.,  50.,  88.],\n",
       "       [  4.,  50.,  50.,  77.],\n",
       "       [  5.,  63.,  41.,  89.],\n",
       "       [  6.,  75.,  54.,  85.],\n",
       "       [  7.,  50.,  51.,  96.],\n",
       "       [  8.,  77.,  64., 105.]])"
      ]
     },
     "execution_count": 35,
     "metadata": {},
     "output_type": "execute_result"
    }
   ],
   "source": [
    "imp = SimpleImputer(strategy = 'constant', fill_value = 50)\n",
    "imp.fit_transform(job)"
   ]
  },
  {
   "cell_type": "code",
   "execution_count": 36,
   "id": "7b8cc5c6",
   "metadata": {},
   "outputs": [
    {
     "data": {
      "text/plain": [
       "S_No          4.500000\n",
       "Computer     75.333333\n",
       "Marketing    52.571429\n",
       "Engineer     85.625000\n",
       "dtype: float64"
      ]
     },
     "execution_count": 36,
     "metadata": {},
     "output_type": "execute_result"
    }
   ],
   "source": [
    "job.mean()"
   ]
  },
  {
   "cell_type": "markdown",
   "id": "cc8b9c09",
   "metadata": {},
   "source": [
    "## Mean Imputer"
   ]
  },
  {
   "cell_type": "code",
   "execution_count": 37,
   "id": "7bf31d72",
   "metadata": {},
   "outputs": [
    {
     "data": {
      "text/plain": [
       "array([[  1.        ,  84.        ,  55.        ,  75.        ],\n",
       "       [  2.        ,  90.        ,  53.        ,  70.        ],\n",
       "       [  3.        ,  63.        ,  52.57142857,  88.        ],\n",
       "       [  4.        ,  75.33333333,  50.        ,  77.        ],\n",
       "       [  5.        ,  63.        ,  41.        ,  89.        ],\n",
       "       [  6.        ,  75.        ,  54.        ,  85.        ],\n",
       "       [  7.        ,  75.33333333,  51.        ,  96.        ],\n",
       "       [  8.        ,  77.        ,  64.        , 105.        ]])"
      ]
     },
     "execution_count": 37,
     "metadata": {},
     "output_type": "execute_result"
    }
   ],
   "source": [
    "imp = SimpleImputer(strategy = 'mean')\n",
    "imp.fit_transform(job)"
   ]
  },
  {
   "cell_type": "code",
   "execution_count": 38,
   "id": "73930f32",
   "metadata": {},
   "outputs": [
    {
     "data": {
      "text/plain": [
       "array([[  1.,  84.,  55.,  75.],\n",
       "       [  2.,  90.,  53.,  70.],\n",
       "       [  3.,  63.,  53.,  88.],\n",
       "       [  4.,  76.,  50.,  77.],\n",
       "       [  5.,  63.,  41.,  89.],\n",
       "       [  6.,  75.,  54.,  85.],\n",
       "       [  7.,  76.,  51.,  96.],\n",
       "       [  8.,  77.,  64., 105.]])"
      ]
     },
     "execution_count": 38,
     "metadata": {},
     "output_type": "execute_result"
    }
   ],
   "source": [
    "np_imp = SimpleImputer(strategy = 'median')\n",
    "np_imp.fit_transform(job)"
   ]
  },
  {
   "cell_type": "code",
   "execution_count": 39,
   "id": "0fcdd7ed",
   "metadata": {},
   "outputs": [
    {
     "data": {
      "text/html": [
       "<div>\n",
       "<style scoped>\n",
       "    .dataframe tbody tr th:only-of-type {\n",
       "        vertical-align: middle;\n",
       "    }\n",
       "\n",
       "    .dataframe tbody tr th {\n",
       "        vertical-align: top;\n",
       "    }\n",
       "\n",
       "    .dataframe thead th {\n",
       "        text-align: right;\n",
       "    }\n",
       "</style>\n",
       "<table border=\"1\" class=\"dataframe\">\n",
       "  <thead>\n",
       "    <tr style=\"text-align: right;\">\n",
       "      <th></th>\n",
       "      <th>S_No</th>\n",
       "      <th>Computer</th>\n",
       "      <th>Marketing</th>\n",
       "      <th>Engineer</th>\n",
       "    </tr>\n",
       "  </thead>\n",
       "  <tbody>\n",
       "    <tr>\n",
       "      <th>0</th>\n",
       "      <td>1</td>\n",
       "      <td>84.0</td>\n",
       "      <td>55.0</td>\n",
       "      <td>75</td>\n",
       "    </tr>\n",
       "    <tr>\n",
       "      <th>1</th>\n",
       "      <td>2</td>\n",
       "      <td>90.0</td>\n",
       "      <td>53.0</td>\n",
       "      <td>70</td>\n",
       "    </tr>\n",
       "    <tr>\n",
       "      <th>2</th>\n",
       "      <td>3</td>\n",
       "      <td>63.0</td>\n",
       "      <td>NaN</td>\n",
       "      <td>88</td>\n",
       "    </tr>\n",
       "    <tr>\n",
       "      <th>3</th>\n",
       "      <td>4</td>\n",
       "      <td>NaN</td>\n",
       "      <td>50.0</td>\n",
       "      <td>77</td>\n",
       "    </tr>\n",
       "    <tr>\n",
       "      <th>4</th>\n",
       "      <td>5</td>\n",
       "      <td>63.0</td>\n",
       "      <td>41.0</td>\n",
       "      <td>89</td>\n",
       "    </tr>\n",
       "    <tr>\n",
       "      <th>5</th>\n",
       "      <td>6</td>\n",
       "      <td>75.0</td>\n",
       "      <td>54.0</td>\n",
       "      <td>85</td>\n",
       "    </tr>\n",
       "    <tr>\n",
       "      <th>6</th>\n",
       "      <td>7</td>\n",
       "      <td>NaN</td>\n",
       "      <td>51.0</td>\n",
       "      <td>96</td>\n",
       "    </tr>\n",
       "    <tr>\n",
       "      <th>7</th>\n",
       "      <td>8</td>\n",
       "      <td>77.0</td>\n",
       "      <td>64.0</td>\n",
       "      <td>105</td>\n",
       "    </tr>\n",
       "  </tbody>\n",
       "</table>\n",
       "</div>"
      ],
      "text/plain": [
       "   S_No  Computer  Marketing  Engineer\n",
       "0     1      84.0       55.0        75\n",
       "1     2      90.0       53.0        70\n",
       "2     3      63.0        NaN        88\n",
       "3     4       NaN       50.0        77\n",
       "4     5      63.0       41.0        89\n",
       "5     6      75.0       54.0        85\n",
       "6     7       NaN       51.0        96\n",
       "7     8      77.0       64.0       105"
      ]
     },
     "execution_count": 39,
     "metadata": {},
     "output_type": "execute_result"
    }
   ],
   "source": [
    "job"
   ]
  },
  {
   "cell_type": "code",
   "execution_count": 102,
   "id": "7132f774",
   "metadata": {},
   "outputs": [
    {
     "ename": "ValueError",
     "evalue": "DataFrame constructor not properly called!",
     "output_type": "error",
     "traceback": [
      "\u001b[1;31m---------------------------------------------------------------------------\u001b[0m",
      "\u001b[1;31mValueError\u001b[0m                                Traceback (most recent call last)",
      "\u001b[1;32m~\\AppData\\Local\\Temp\\ipykernel_808\\3067606782.py\u001b[0m in \u001b[0;36m<module>\u001b[1;34m\u001b[0m\n\u001b[1;32m----> 1\u001b[1;33m \u001b[0mpd_imp\u001b[0m \u001b[1;33m=\u001b[0m \u001b[0mpd\u001b[0m\u001b[1;33m.\u001b[0m\u001b[0mDataFrame\u001b[0m\u001b[1;33m(\u001b[0m\u001b[0mnp_imp\u001b[0m\u001b[1;33m,\u001b[0m \u001b[0mcolumns\u001b[0m\u001b[1;33m=\u001b[0m\u001b[0mjob\u001b[0m\u001b[1;33m.\u001b[0m\u001b[0mcolumns\u001b[0m\u001b[1;33m)\u001b[0m\u001b[1;33m\u001b[0m\u001b[1;33m\u001b[0m\u001b[0m\n\u001b[0m",
      "\u001b[1;32m~\\anaconda3\\lib\\site-packages\\pandas\\core\\frame.py\u001b[0m in \u001b[0;36m__init__\u001b[1;34m(self, data, index, columns, dtype, copy)\u001b[0m\n\u001b[0;32m    754\u001b[0m         \u001b[1;32melse\u001b[0m\u001b[1;33m:\u001b[0m\u001b[1;33m\u001b[0m\u001b[1;33m\u001b[0m\u001b[0m\n\u001b[0;32m    755\u001b[0m             \u001b[1;32mif\u001b[0m \u001b[0mindex\u001b[0m \u001b[1;32mis\u001b[0m \u001b[1;32mNone\u001b[0m \u001b[1;32mor\u001b[0m \u001b[0mcolumns\u001b[0m \u001b[1;32mis\u001b[0m \u001b[1;32mNone\u001b[0m\u001b[1;33m:\u001b[0m\u001b[1;33m\u001b[0m\u001b[1;33m\u001b[0m\u001b[0m\n\u001b[1;32m--> 756\u001b[1;33m                 \u001b[1;32mraise\u001b[0m \u001b[0mValueError\u001b[0m\u001b[1;33m(\u001b[0m\u001b[1;34m\"DataFrame constructor not properly called!\"\u001b[0m\u001b[1;33m)\u001b[0m\u001b[1;33m\u001b[0m\u001b[1;33m\u001b[0m\u001b[0m\n\u001b[0m\u001b[0;32m    757\u001b[0m \u001b[1;33m\u001b[0m\u001b[0m\n\u001b[0;32m    758\u001b[0m             \u001b[1;31m# Argument 1 to \"ensure_index\" has incompatible type \"Collection[Any]\";\u001b[0m\u001b[1;33m\u001b[0m\u001b[1;33m\u001b[0m\u001b[0m\n",
      "\u001b[1;31mValueError\u001b[0m: DataFrame constructor not properly called!"
     ]
    }
   ],
   "source": [
    "pd_imp = pd.DataFrame(np_imp, columns=job.columns)"
   ]
  },
  {
   "cell_type": "markdown",
   "id": "bc52b791",
   "metadata": {},
   "source": [
    "# Chemical Process"
   ]
  },
  {
   "cell_type": "code",
   "execution_count": 48,
   "id": "62a8c9d7",
   "metadata": {},
   "outputs": [],
   "source": [
    "chemdata = pd.read_csv(r\"C:\\Hogwarts\\advanced_analytics\\Datasets\\ChemicalProcess.csv\")"
   ]
  },
  {
   "cell_type": "markdown",
   "id": "3c926bcd",
   "metadata": {},
   "source": [
    "### Finding NA's in columns"
   ]
  },
  {
   "cell_type": "code",
   "execution_count": 54,
   "id": "ead165fa",
   "metadata": {},
   "outputs": [
    {
     "data": {
      "text/plain": [
       "Yield                      0\n",
       "BiologicalMaterial01       0\n",
       "BiologicalMaterial02       0\n",
       "BiologicalMaterial03       0\n",
       "BiologicalMaterial04       0\n",
       "BiologicalMaterial05       0\n",
       "BiologicalMaterial06       0\n",
       "BiologicalMaterial07       0\n",
       "BiologicalMaterial08       0\n",
       "BiologicalMaterial09       0\n",
       "BiologicalMaterial10       0\n",
       "BiologicalMaterial11       0\n",
       "BiologicalMaterial12       0\n",
       "ManufacturingProcess01     1\n",
       "ManufacturingProcess02     3\n",
       "ManufacturingProcess03    15\n",
       "ManufacturingProcess04     1\n",
       "ManufacturingProcess05     1\n",
       "ManufacturingProcess06     2\n",
       "ManufacturingProcess07     1\n",
       "ManufacturingProcess08     1\n",
       "ManufacturingProcess09     0\n",
       "ManufacturingProcess10     9\n",
       "ManufacturingProcess11    10\n",
       "ManufacturingProcess12     1\n",
       "ManufacturingProcess13     0\n",
       "ManufacturingProcess14     1\n",
       "ManufacturingProcess15     0\n",
       "ManufacturingProcess16     0\n",
       "ManufacturingProcess17     0\n",
       "ManufacturingProcess18     0\n",
       "ManufacturingProcess19     0\n",
       "ManufacturingProcess20     0\n",
       "ManufacturingProcess21     0\n",
       "ManufacturingProcess22     1\n",
       "ManufacturingProcess23     1\n",
       "ManufacturingProcess24     1\n",
       "ManufacturingProcess25     5\n",
       "ManufacturingProcess26     5\n",
       "ManufacturingProcess27     5\n",
       "ManufacturingProcess28     5\n",
       "ManufacturingProcess29     5\n",
       "ManufacturingProcess30     5\n",
       "ManufacturingProcess31     5\n",
       "ManufacturingProcess32     0\n",
       "ManufacturingProcess33     5\n",
       "ManufacturingProcess34     5\n",
       "ManufacturingProcess35     5\n",
       "ManufacturingProcess36     5\n",
       "ManufacturingProcess37     0\n",
       "ManufacturingProcess38     0\n",
       "ManufacturingProcess39     0\n",
       "ManufacturingProcess40     1\n",
       "ManufacturingProcess41     1\n",
       "ManufacturingProcess42     0\n",
       "ManufacturingProcess43     0\n",
       "ManufacturingProcess44     0\n",
       "ManufacturingProcess45     0\n",
       "dtype: int64"
      ]
     },
     "execution_count": 54,
     "metadata": {},
     "output_type": "execute_result"
    }
   ],
   "source": [
    "chemdata.isnull().sum()"
   ]
  },
  {
   "cell_type": "code",
   "execution_count": 84,
   "id": "da9a7688",
   "metadata": {},
   "outputs": [],
   "source": [
    "X = chemdata.drop('Yield', axis = 1)\n",
    "y= chemdata['Yield']"
   ]
  },
  {
   "cell_type": "code",
   "execution_count": 85,
   "id": "aa660621",
   "metadata": {},
   "outputs": [],
   "source": [
    "X_train, X_test, y_train, y_test = train_test_split(X, y, random_state=2022,\n",
    "                                                   train_size = 0.7)"
   ]
  },
  {
   "cell_type": "code",
   "execution_count": 86,
   "id": "fbdac51c",
   "metadata": {},
   "outputs": [
    {
     "data": {
      "text/plain": [
       "array([[38.  ,  6.25, 49.58, ...,  3.  ,  1.8 ,  2.4 ],\n",
       "       [42.44,  8.01, 60.97, ...,  0.9 ,  1.9 ,  2.2 ],\n",
       "       [42.03,  8.01, 60.97, ...,  1.  ,  1.8 ,  2.3 ],\n",
       "       ...,\n",
       "       [42.23,  7.5 , 58.41, ...,  0.6 ,  0.  ,  0.  ],\n",
       "       [38.48,  7.53, 58.36, ...,  0.5 ,  0.  ,  0.  ],\n",
       "       [39.49,  7.53, 58.36, ...,  0.6 ,  0.  ,  0.  ]])"
      ]
     },
     "execution_count": 86,
     "metadata": {},
     "output_type": "execute_result"
    }
   ],
   "source": [
    "imp = SimpleImputer(strategy = 'mean')\n",
    "imp.fit_transform(chemdata)"
   ]
  },
  {
   "cell_type": "code",
   "execution_count": 87,
   "id": "adbb80e8",
   "metadata": {},
   "outputs": [],
   "source": [
    "imp = SimpleImputer(strategy = 'mean')\n",
    "X_trn_trf = imp.fit_transform(X_train)\n",
    "X_tst_trf = imp.transform(X_test)\n"
   ]
  },
  {
   "cell_type": "code",
   "execution_count": 91,
   "id": "0f105871",
   "metadata": {},
   "outputs": [],
   "source": [
    "from sklearn.linear_model import LinearRegression\n",
    "from sklearn.metrics import r2_score"
   ]
  },
  {
   "cell_type": "code",
   "execution_count": 92,
   "id": "2593bb35",
   "metadata": {},
   "outputs": [],
   "source": [
    "lr = LinearRegression()"
   ]
  },
  {
   "cell_type": "code",
   "execution_count": 93,
   "id": "2be696d1",
   "metadata": {},
   "outputs": [
    {
     "data": {
      "text/plain": [
       "LinearRegression()"
      ]
     },
     "execution_count": 93,
     "metadata": {},
     "output_type": "execute_result"
    }
   ],
   "source": [
    "lr.fit(X_trn_trf, y_train)"
   ]
  },
  {
   "cell_type": "code",
   "execution_count": 94,
   "id": "fa981591",
   "metadata": {},
   "outputs": [
    {
     "name": "stdout",
     "output_type": "stream",
     "text": [
      "-1.290665707638071\n"
     ]
    }
   ],
   "source": [
    "y_pred = lr.predict(X_tst_trf)\n",
    "print(r2_score(y_test, y_pred))"
   ]
  },
  {
   "cell_type": "markdown",
   "id": "81c1d318",
   "metadata": {},
   "source": [
    "### K-NN"
   ]
  },
  {
   "cell_type": "code",
   "execution_count": 97,
   "id": "843ca237",
   "metadata": {},
   "outputs": [],
   "source": [
    "from sklearn.pipeline import Pipeline\n",
    "from sklearn.preprocessing import StandardScaler\n",
    "from sklearn.neighbors import KNeighborsRegressor\n",
    "from sklearn.model_selection import KFold, GridSearchCV"
   ]
  },
  {
   "cell_type": "code",
   "execution_count": 107,
   "id": "6b6a82f2",
   "metadata": {},
   "outputs": [
    {
     "name": "stdout",
     "output_type": "stream",
     "text": [
      "{'KNN__n_neighbors': 3}\n",
      "0.5084559843611244\n"
     ]
    }
   ],
   "source": [
    "# grid search using r2_score in mean\n",
    "imp = SimpleImputer(strategy = 'mean')\n",
    "scaler = StandardScaler()\n",
    "knn = KNeighborsRegressor()\n",
    "pipe = Pipeline([('IMPUTE', imp),('STD', scaler),('KNN', knn)])\n",
    "kfold = KFold(n_splits = 5, shuffle = True, random_state= 2022)\n",
    "params = {'KNN__n_neighbors': np.arange(1,11)}\n",
    "knn = KNeighborsRegressor()\n",
    "gcv = GridSearchCV(pipe, param_grid = params, scoring = 'r2', cv = kfold)\n",
    "gcv.fit(X,y)\n",
    "print(gcv.best_params_)\n",
    "print(gcv.best_score_)"
   ]
  },
  {
   "cell_type": "code",
   "execution_count": 104,
   "id": "c7f7e4d4",
   "metadata": {},
   "outputs": [
    {
     "name": "stdout",
     "output_type": "stream",
     "text": [
      "{'KNN__n_neighbors': 3}\n",
      "0.4917082485662613\n"
     ]
    }
   ],
   "source": [
    "# grid search using r2_score in median\n",
    "imp = SimpleImputer(strategy = 'median')\n",
    "scaler = StandardScaler()\n",
    "knn = KNeighborsRegressor()\n",
    "pipe = Pipeline([('IMPUTE', imp),('STD', scaler),('KNN', knn)])\n",
    "kfold = KFold(n_splits = 5, shuffle = True, random_state= 2022)\n",
    "params = {'KNN__n_neighbors': np.arange(1,11)}\n",
    "knn = KNeighborsRegressor()\n",
    "gcv = GridSearchCV(pipe, param_grid = params, scoring = 'r2', cv = kfold)\n",
    "gcv.fit(X,y)\n",
    "print(gcv.best_params_)\n",
    "print(gcv.best_score_)"
   ]
  },
  {
   "cell_type": "code",
   "execution_count": 109,
   "id": "7aacc8da",
   "metadata": {},
   "outputs": [
    {
     "name": "stdout",
     "output_type": "stream",
     "text": [
      "{'memory': None, 'steps': [('IMPUTE', SimpleImputer()), ('STD', StandardScaler()), ('KNN', KNeighborsRegressor())], 'verbose': False, 'IMPUTE': SimpleImputer(), 'STD': StandardScaler(), 'KNN': KNeighborsRegressor(), 'IMPUTE__add_indicator': False, 'IMPUTE__copy': True, 'IMPUTE__fill_value': None, 'IMPUTE__missing_values': nan, 'IMPUTE__strategy': 'mean', 'IMPUTE__verbose': 0, 'STD__copy': True, 'STD__with_mean': True, 'STD__with_std': True, 'KNN__algorithm': 'auto', 'KNN__leaf_size': 30, 'KNN__metric': 'minkowski', 'KNN__metric_params': None, 'KNN__n_jobs': None, 'KNN__n_neighbors': 5, 'KNN__p': 2, 'KNN__weights': 'uniform'}\n",
      "{'IMPUTE__strategy': 'mean', 'KNN__n_neighbors': 3}\n",
      "0.5084559843611244\n"
     ]
    }
   ],
   "source": [
    "imp = SimpleImputer()\n",
    "scaler = StandardScaler()\n",
    "knn = KNeighborsRegressor()\n",
    "pipe = Pipeline([('IMPUTE', imp),('STD', scaler),('KNN', knn)])\n",
    "print(pipe.get_params())\n",
    "kfold = KFold(n_splits = 5, shuffle = True, random_state= 2022)\n",
    "params = {'IMPUTE__strategy':['mean', 'median'],\n",
    "          'KNN__n_neighbors': np.arange(1,11)}\n",
    "gcv = GridSearchCV(pipe, param_grid = params, scoring = 'r2', cv = kfold)\n",
    "gcv.fit(X,y)\n",
    "print(gcv.best_params_)\n",
    "print(gcv.best_score_)\n",
    "# here the biggest value o/p will be displayed.(i.e mean has the highest value than median)"
   ]
  },
  {
   "cell_type": "code",
   "execution_count": null,
   "id": "4b75a941",
   "metadata": {},
   "outputs": [],
   "source": []
  }
 ],
 "metadata": {
  "kernelspec": {
   "display_name": "Python 3 (ipykernel)",
   "language": "python",
   "name": "python3"
  },
  "language_info": {
   "codemirror_mode": {
    "name": "ipython",
    "version": 3
   },
   "file_extension": ".py",
   "mimetype": "text/x-python",
   "name": "python",
   "nbconvert_exporter": "python",
   "pygments_lexer": "ipython3",
   "version": "3.9.13"
  }
 },
 "nbformat": 4,
 "nbformat_minor": 5
}
