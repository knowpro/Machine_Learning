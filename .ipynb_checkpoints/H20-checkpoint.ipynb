{
 "cells": [
  {
   "cell_type": "code",
   "execution_count": null,
   "id": "a726d6ea",
   "metadata": {},
   "outputs": [],
   "source": [
    "import h20\n",
    "import os"
   ]
  },
  {
   "cell_type": "code",
   "execution_count": null,
   "id": "631cc73f",
   "metadata": {},
   "outputs": [],
   "source": [
    "from h20.estimators.random_forest import H2ORandomForestEstimator\n",
    "h20.init()"
   ]
  },
  {
   "cell_type": "code",
   "execution_count": null,
   "id": "3a8a0cd8",
   "metadata": {},
   "outputs": [],
   "source": [
    "pirnt(df.col_names)\n",
    "all_cols = df.col_names"
   ]
  },
  {
   "cell_type": "code",
   "execution_count": null,
   "id": "0e66fe2e",
   "metadata": {},
   "outputs": [],
   "source": [
    "y = \"D\"\n",
    "X = \"\n",
    "\" "
   ]
  },
  {
   "cell_type": "code",
   "execution_count": null,
   "id": "4feb1802",
   "metadata": {},
   "outputs": [],
   "source": []
  },
  {
   "cell_type": "code",
   "execution_count": null,
   "id": "0e26f672",
   "metadata": {},
   "outputs": [],
   "source": []
  },
  {
   "cell_type": "code",
   "execution_count": null,
   "id": "7b934f20",
   "metadata": {},
   "outputs": [],
   "source": []
  },
  {
   "cell_type": "code",
   "execution_count": null,
   "id": "afc270e0",
   "metadata": {},
   "outputs": [],
   "source": []
  },
  {
   "cell_type": "code",
   "execution_count": null,
   "id": "69d0632a",
   "metadata": {},
   "outputs": [],
   "source": []
  },
  {
   "cell_type": "code",
   "execution_count": null,
   "id": "776c704f",
   "metadata": {},
   "outputs": [],
   "source": []
  },
  {
   "cell_type": "code",
   "execution_count": null,
   "id": "315a4e0f",
   "metadata": {},
   "outputs": [],
   "source": []
  }
 ],
 "metadata": {
  "kernelspec": {
   "display_name": "Python 3 (ipykernel)",
   "language": "python",
   "name": "python3"
  },
  "language_info": {
   "codemirror_mode": {
    "name": "ipython",
    "version": 3
   },
   "file_extension": ".py",
   "mimetype": "text/x-python",
   "name": "python",
   "nbconvert_exporter": "python",
   "pygments_lexer": "ipython3",
   "version": "3.9.13"
  }
 },
 "nbformat": 4,
 "nbformat_minor": 5
}
