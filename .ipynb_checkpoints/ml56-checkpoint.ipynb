{
 "cells": [
  {
   "cell_type": "code",
   "execution_count": 46,
   "id": "917a9903",
   "metadata": {},
   "outputs": [],
   "source": [
    "import pandas as pd\n",
    "from mlxtend.frequent_patterns import apriori\n",
    "from mlxtend.frequent_patterns import association_rules\n",
    "\n",
    "from mlxtend .preprocessing import TransactionEncoder"
   ]
  },
  {
   "cell_type": "code",
   "execution_count": 47,
   "id": "81b94970",
   "metadata": {},
   "outputs": [],
   "source": [
    "groceries=[]"
   ]
  },
  {
   "cell_type": "code",
   "execution_count": 54,
   "id": "ebeb403d",
   "metadata": {},
   "outputs": [],
   "source": [
    "with open(r\"C:\\Hogwarts\\machine_learning\\11. Association Rules\\Association Datasets\\Groceries.csv\") as f:groceries = f.read()\n",
    "groceries = groceries.split(\"\\n\")"
   ]
  },
  {
   "cell_type": "raw",
   "id": "4e3aa97b",
   "metadata": {},
   "source": [
    "fp_df.head()"
   ]
  },
  {
   "cell_type": "code",
   "execution_count": 57,
   "id": "72a23e51",
   "metadata": {},
   "outputs": [],
   "source": [
    "groceries_list = []\n",
    "\n",
    "for i in groceries:\n",
    "    groceries_list.append(i.split(\",\"))"
   ]
  },
  {
   "cell_type": "code",
   "execution_count": 33,
   "id": "92c218e6",
   "metadata": {},
   "outputs": [
    {
     "data": {
      "text/plain": [
       "array([], shape=(0, 0), dtype=bool)"
      ]
     },
     "execution_count": 33,
     "metadata": {},
     "output_type": "execute_result"
    }
   ],
   "source": [
    "te = TransactionEncoder()\n",
    "\n",
    "te_ary = te.fit(groceries_list).transform(groceries_list)\n",
    "te_ary"
   ]
  },
  {
   "cell_type": "code",
   "execution_count": 34,
   "id": "0de3a098",
   "metadata": {},
   "outputs": [],
   "source": [
    "fp_df = pd.DataFrame(te_ary, columns = te.columns_)"
   ]
  },
  {
   "cell_type": "markdown",
   "id": "c0c31abc",
   "metadata": {},
   "source": [
    "## Create Frequent Itemset\n"
   ]
  },
  {
   "cell_type": "code",
   "execution_count": 35,
   "id": "90620bdf",
   "metadata": {},
   "outputs": [
    {
     "data": {
      "text/html": [
       "<div>\n",
       "<style scoped>\n",
       "    .dataframe tbody tr th:only-of-type {\n",
       "        vertical-align: middle;\n",
       "    }\n",
       "\n",
       "    .dataframe tbody tr th {\n",
       "        vertical-align: top;\n",
       "    }\n",
       "\n",
       "    .dataframe thead th {\n",
       "        text-align: right;\n",
       "    }\n",
       "</style>\n",
       "<table border=\"1\" class=\"dataframe\">\n",
       "  <thead>\n",
       "    <tr style=\"text-align: right;\">\n",
       "      <th></th>\n",
       "      <th>support</th>\n",
       "      <th>itemsets</th>\n",
       "    </tr>\n",
       "  </thead>\n",
       "  <tbody>\n",
       "  </tbody>\n",
       "</table>\n",
       "</div>"
      ],
      "text/plain": [
       "Empty DataFrame\n",
       "Columns: [support, itemsets]\n",
       "Index: []"
      ]
     },
     "execution_count": 35,
     "metadata": {},
     "output_type": "execute_result"
    }
   ],
   "source": [
    "itemset = apriori(fp_df, min_support = 0.2,\n",
    "                 use_colnames=True)\n",
    "itemset.head()"
   ]
  },
  {
   "cell_type": "markdown",
   "id": "eeee194d",
   "metadata": {},
   "source": [
    "## Convert into rules"
   ]
  },
  {
   "cell_type": "code",
   "execution_count": 37,
   "id": "4ecc6520",
   "metadata": {},
   "outputs": [
    {
     "ename": "ValueError",
     "evalue": "The input DataFrame `df` containing the frequent itemsets is empty.",
     "output_type": "error",
     "traceback": [
      "\u001b[1;31m---------------------------------------------------------------------------\u001b[0m",
      "\u001b[1;31mValueError\u001b[0m                                Traceback (most recent call last)",
      "\u001b[1;32m~\\AppData\\Local\\Temp\\ipykernel_7212\\3020621960.py\u001b[0m in \u001b[0;36m<module>\u001b[1;34m\u001b[0m\n\u001b[1;32m----> 1\u001b[1;33m rules = association_rules(itemset,\n\u001b[0m\u001b[0;32m      2\u001b[0m                          min_threshold = 0.5)\n\u001b[0;32m      3\u001b[0m \u001b[0mrules\u001b[0m\u001b[1;33m.\u001b[0m\u001b[0mhead\u001b[0m\u001b[1;33m(\u001b[0m\u001b[1;33m)\u001b[0m\u001b[1;33m\u001b[0m\u001b[1;33m\u001b[0m\u001b[0m\n",
      "\u001b[1;32m~\\anaconda3\\lib\\site-packages\\mlxtend\\frequent_patterns\\association_rules.py\u001b[0m in \u001b[0;36massociation_rules\u001b[1;34m(df, metric, min_threshold, support_only)\u001b[0m\n\u001b[0;32m     78\u001b[0m     \"\"\"\n\u001b[0;32m     79\u001b[0m     \u001b[1;32mif\u001b[0m \u001b[1;32mnot\u001b[0m \u001b[0mdf\u001b[0m\u001b[1;33m.\u001b[0m\u001b[0mshape\u001b[0m\u001b[1;33m[\u001b[0m\u001b[1;36m0\u001b[0m\u001b[1;33m]\u001b[0m\u001b[1;33m:\u001b[0m\u001b[1;33m\u001b[0m\u001b[1;33m\u001b[0m\u001b[0m\n\u001b[1;32m---> 80\u001b[1;33m         raise ValueError(\n\u001b[0m\u001b[0;32m     81\u001b[0m             \u001b[1;34m\"The input DataFrame `df` containing \"\u001b[0m \u001b[1;34m\"the frequent itemsets is empty.\"\u001b[0m\u001b[1;33m\u001b[0m\u001b[1;33m\u001b[0m\u001b[0m\n\u001b[0;32m     82\u001b[0m         )\n",
      "\u001b[1;31mValueError\u001b[0m: The input DataFrame `df` containing the frequent itemsets is empty."
     ]
    }
   ],
   "source": [
    "rules = association_rules(itemset,\n",
    "                         min_threshold = 0.5)\n",
    "rules.head()"
   ]
  },
  {
   "cell_type": "code",
   "execution_count": null,
   "id": "bb0ada8c",
   "metadata": {},
   "outputs": [],
   "source": []
  },
  {
   "cell_type": "code",
   "execution_count": null,
   "id": "97173c59",
   "metadata": {},
   "outputs": [],
   "source": []
  }
 ],
 "metadata": {
  "kernelspec": {
   "display_name": "Python 3 (ipykernel)",
   "language": "python",
   "name": "python3"
  },
  "language_info": {
   "codemirror_mode": {
    "name": "ipython",
    "version": 3
   },
   "file_extension": ".py",
   "mimetype": "text/x-python",
   "name": "python",
   "nbconvert_exporter": "python",
   "pygments_lexer": "ipython3",
   "version": "3.9.13"
  }
 },
 "nbformat": 4,
 "nbformat_minor": 5
}
