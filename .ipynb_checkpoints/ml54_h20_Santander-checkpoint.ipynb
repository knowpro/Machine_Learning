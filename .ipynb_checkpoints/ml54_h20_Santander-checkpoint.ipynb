{
 "cells": [
  {
   "cell_type": "code",
   "execution_count": null,
   "id": "d6f6d524",
   "metadata": {
    "scrolled": true
   },
   "outputs": [],
   "source": [
    "import h2o\n",
    "\n",
    "from h20.estimators.random_forest import H2OGradientBoostingEstimator\n",
    "from h20.estimators.random_forest import H2OGeneralizedLinearEstimator"
   ]
  },
  {
   "cell_type": "code",
   "execution_count": null,
   "id": "b379e549",
   "metadata": {},
   "outputs": [],
   "source": [
    "h20.init()"
   ]
  },
  {
   "cell_type": "code",
   "execution_count": null,
   "id": "643b3168",
   "metadata": {},
   "outputs": [],
   "source": [
    "train = h20.import_file(\"trian.csv\",\n",
    "                       destination-frame =\"train\")"
   ]
  },
  {
   "cell_type": "code",
   "execution_count": null,
   "id": "26f500f5",
   "metadata": {},
   "outputs": [],
   "source": [
    "test = h20.import_file(\"test.csv\",\n",
    "                       destination-frame =\"test\")"
   ]
  },
  {
   "cell_type": "code",
   "execution_count": null,
   "id": "37ff8705",
   "metadata": {},
   "outputs": [],
   "source": [
    "print(train.col_names)"
   ]
  },
  {
   "cell_type": "code",
   "execution_count": null,
   "id": "1576f561",
   "metadata": {},
   "outputs": [],
   "source": [
    "all_cols = train.col_names\n"
   ]
  },
  {
   "cell_type": "code",
   "execution_count": null,
   "id": "f5f2a8b0",
   "metadata": {},
   "outputs": [],
   "source": []
  }
 ],
 "metadata": {
  "kernelspec": {
   "display_name": "Python 3 (ipykernel)",
   "language": "python",
   "name": "python3"
  },
  "language_info": {
   "codemirror_mode": {
    "name": "ipython",
    "version": 3
   },
   "file_extension": ".py",
   "mimetype": "text/x-python",
   "name": "python",
   "nbconvert_exporter": "python",
   "pygments_lexer": "ipython3",
   "version": "3.9.13"
  }
 },
 "nbformat": 4,
 "nbformat_minor": 5
}
