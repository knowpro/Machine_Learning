{
 "cells": [
  {
   "cell_type": "code",
   "execution_count": 17,
   "id": "edf02d1c",
   "metadata": {},
   "outputs": [],
   "source": [
    "import pandas as pd\n",
    "import numpy as np\n",
    "\n",
    "#from sklearn.linear_model import LogisticRegression\n",
    "from sklearn.linear_model import Ridge, Lasso, ElasticNet\n",
    "\n",
    "from sklearn.metrics import r2_score\n",
    "from sklearn.metrics import accuracy_score, roc_auc_score\n",
    "\n",
    "from sklearn.model_selection import train_test_split\n",
    "from sklearn.model_selection import GridSearchCV\n",
    "from sklearn.model_selection import KFold\n",
    "from sklearn.preprocessing import StandardScaler\n",
    "\n",
    "from sklearn.model_selection import GridSearchCV\n",
    "#from sklearn.model_selection import StratifiedKFold\n",
    "\n",
    "#from sklearn.naive_bayes import GaussianNB\n",
    "\n",
    "from sklearn.pipeline import Pipeline\n",
    "#from sklearn.discriminant_analysis import LinearDiscriminantAnalysis\n",
    "#from sklearn.svm import SVC\n",
    "\n",
    "from sklearn.tree import DecisionTreeRegressor, plot_tree\n",
    "from sklearn.ensemble import VotingRegressor"
   ]
  },
  {
   "cell_type": "code",
   "execution_count": 5,
   "id": "b922dc63",
   "metadata": {},
   "outputs": [],
   "source": [
    "con = pd.read_csv(\"Cases\\Concrete Strength\\Concrete_Data.csv\")"
   ]
  },
  {
   "cell_type": "code",
   "execution_count": 6,
   "id": "8551f1e3",
   "metadata": {},
   "outputs": [
    {
     "data": {
      "text/html": [
       "<div>\n",
       "<style scoped>\n",
       "    .dataframe tbody tr th:only-of-type {\n",
       "        vertical-align: middle;\n",
       "    }\n",
       "\n",
       "    .dataframe tbody tr th {\n",
       "        vertical-align: top;\n",
       "    }\n",
       "\n",
       "    .dataframe thead th {\n",
       "        text-align: right;\n",
       "    }\n",
       "</style>\n",
       "<table border=\"1\" class=\"dataframe\">\n",
       "  <thead>\n",
       "    <tr style=\"text-align: right;\">\n",
       "      <th></th>\n",
       "      <th>Cement</th>\n",
       "      <th>Blast</th>\n",
       "      <th>Fly</th>\n",
       "      <th>Water</th>\n",
       "      <th>Superplasticizer</th>\n",
       "      <th>Coarse</th>\n",
       "      <th>Fine</th>\n",
       "      <th>Age</th>\n",
       "      <th>Strength</th>\n",
       "    </tr>\n",
       "  </thead>\n",
       "  <tbody>\n",
       "    <tr>\n",
       "      <th>0</th>\n",
       "      <td>540.0</td>\n",
       "      <td>0.0</td>\n",
       "      <td>0.0</td>\n",
       "      <td>162.0</td>\n",
       "      <td>2.5</td>\n",
       "      <td>1040.0</td>\n",
       "      <td>676.0</td>\n",
       "      <td>28</td>\n",
       "      <td>79.99</td>\n",
       "    </tr>\n",
       "    <tr>\n",
       "      <th>1</th>\n",
       "      <td>540.0</td>\n",
       "      <td>0.0</td>\n",
       "      <td>0.0</td>\n",
       "      <td>162.0</td>\n",
       "      <td>2.5</td>\n",
       "      <td>1055.0</td>\n",
       "      <td>676.0</td>\n",
       "      <td>28</td>\n",
       "      <td>61.89</td>\n",
       "    </tr>\n",
       "    <tr>\n",
       "      <th>2</th>\n",
       "      <td>332.5</td>\n",
       "      <td>142.5</td>\n",
       "      <td>0.0</td>\n",
       "      <td>228.0</td>\n",
       "      <td>0.0</td>\n",
       "      <td>932.0</td>\n",
       "      <td>594.0</td>\n",
       "      <td>270</td>\n",
       "      <td>40.27</td>\n",
       "    </tr>\n",
       "    <tr>\n",
       "      <th>3</th>\n",
       "      <td>332.5</td>\n",
       "      <td>142.5</td>\n",
       "      <td>0.0</td>\n",
       "      <td>228.0</td>\n",
       "      <td>0.0</td>\n",
       "      <td>932.0</td>\n",
       "      <td>594.0</td>\n",
       "      <td>365</td>\n",
       "      <td>41.05</td>\n",
       "    </tr>\n",
       "    <tr>\n",
       "      <th>4</th>\n",
       "      <td>198.6</td>\n",
       "      <td>132.4</td>\n",
       "      <td>0.0</td>\n",
       "      <td>192.0</td>\n",
       "      <td>0.0</td>\n",
       "      <td>978.4</td>\n",
       "      <td>825.5</td>\n",
       "      <td>360</td>\n",
       "      <td>44.30</td>\n",
       "    </tr>\n",
       "  </tbody>\n",
       "</table>\n",
       "</div>"
      ],
      "text/plain": [
       "   Cement  Blast  Fly  Water  Superplasticizer  Coarse   Fine  Age  Strength\n",
       "0   540.0    0.0  0.0  162.0               2.5  1040.0  676.0   28     79.99\n",
       "1   540.0    0.0  0.0  162.0               2.5  1055.0  676.0   28     61.89\n",
       "2   332.5  142.5  0.0  228.0               0.0   932.0  594.0  270     40.27\n",
       "3   332.5  142.5  0.0  228.0               0.0   932.0  594.0  365     41.05\n",
       "4   198.6  132.4  0.0  192.0               0.0   978.4  825.5  360     44.30"
      ]
     },
     "execution_count": 6,
     "metadata": {},
     "output_type": "execute_result"
    }
   ],
   "source": [
    "con.head()"
   ]
  },
  {
   "cell_type": "code",
   "execution_count": 18,
   "id": "b17161ad",
   "metadata": {},
   "outputs": [],
   "source": [
    "y = con[\"Strength\"]\n",
    "X = con.drop(\"Strength\", axis = 1)"
   ]
  },
  {
   "cell_type": "code",
   "execution_count": 19,
   "id": "0249e942",
   "metadata": {},
   "outputs": [],
   "source": [
    "X_train, X_test, y_train, y_test = train_test_split(X,\n",
    "                                                    y,\n",
    "                                                    random_state = 2022,\n",
    "                                                    train_size = 0.7)"
   ]
  },
  {
   "cell_type": "code",
   "execution_count": 20,
   "id": "5b463bdd",
   "metadata": {},
   "outputs": [],
   "source": [
    "ridge = Ridge()"
   ]
  },
  {
   "cell_type": "code",
   "execution_count": 21,
   "id": "a7d78db1",
   "metadata": {},
   "outputs": [],
   "source": [
    "lasso = Lasso()"
   ]
  },
  {
   "cell_type": "code",
   "execution_count": 22,
   "id": "854dd90f",
   "metadata": {},
   "outputs": [],
   "source": [
    "elastic= ElasticNet()\n",
    "dtr = DecisionTreeRegressor(random_state = 2022)"
   ]
  },
  {
   "cell_type": "code",
   "execution_count": 23,
   "id": "af411c2d",
   "metadata": {},
   "outputs": [
    {
     "data": {
      "text/plain": [
       "VotingRegressor(estimators=[('Ridge', Ridge()), ('Lasso', Lasso()),\n",
       "                            ('Elastic', ElasticNet()),\n",
       "                            ('Tree', DecisionTreeRegressor(random_state=2022))])"
      ]
     },
     "execution_count": 23,
     "metadata": {},
     "output_type": "execute_result"
    }
   ],
   "source": [
    "voting = VotingRegressor([(\"Ridge\", ridge), (\"Lasso\", lasso),\n",
    "                          (\"Elastic\", elastic), (\"Tree\", dtr)])\n",
    "\n",
    "voting.fit(X_train, y_train)"
   ]
  },
  {
   "cell_type": "code",
   "execution_count": 30,
   "id": "76e7448b",
   "metadata": {},
   "outputs": [
    {
     "name": "stdout",
     "output_type": "stream",
     "text": [
      "0.6471645930971449\n"
     ]
    }
   ],
   "source": [
    "ridge = Ridge()\n",
    "ridge.fit(X_train, y_train)\n",
    "\n",
    "y_pred = ridge.predict(X_test)\n",
    "\n",
    "r2_ridge = r2_score(y_test, y_pred)\n",
    "\n",
    "print(r2_ridge)"
   ]
  },
  {
   "cell_type": "code",
   "execution_count": 31,
   "id": "82ffe62f",
   "metadata": {},
   "outputs": [
    {
     "name": "stdout",
     "output_type": "stream",
     "text": [
      "0.645970160164322\n"
     ]
    }
   ],
   "source": [
    "lasso = Lasso()\n",
    "lasso.fit(X_train, y_train)\n",
    "\n",
    "y_pred = lasso.predict(X_test)\n",
    "\n",
    "r2_lasso = r2_score(y_test, y_pred)\n",
    "\n",
    "print(r2_lasso)"
   ]
  },
  {
   "cell_type": "code",
   "execution_count": 32,
   "id": "d80bf8c1",
   "metadata": {},
   "outputs": [
    {
     "name": "stdout",
     "output_type": "stream",
     "text": [
      "0.6465499867835319\n"
     ]
    }
   ],
   "source": [
    "elastic_net = ElasticNet()\n",
    "elastic_net.fit(X_train, y_train)\n",
    "\n",
    "y_pred = elastic_net.predict(X_test)\n",
    "\n",
    "r2_elastic_net = r2_score(y_test, y_pred)\n",
    "\n",
    "print(r2_elastic_net)"
   ]
  },
  {
   "cell_type": "code",
   "execution_count": 33,
   "id": "46841b2c",
   "metadata": {},
   "outputs": [
    {
     "name": "stdout",
     "output_type": "stream",
     "text": [
      "0.6465499867835319\n"
     ]
    }
   ],
   "source": [
    "dtr = DecisionTreeRegressor(random_state = 2022)\n",
    "dtr.fit(X_train, y_train)\n",
    "\n",
    "y_pred = elastic_net.predict(X_test)\n",
    "\n",
    "r2_dtr = r2_score(y_test, y_pred)\n",
    "\n",
    "print(r2_dtr)"
   ]
  },
  {
   "cell_type": "code",
   "execution_count": 34,
   "id": "c7c6f94b",
   "metadata": {},
   "outputs": [
    {
     "data": {
      "text/plain": [
       "VotingRegressor(estimators=[('Ridge', Ridge()), ('Lasso', Lasso()),\n",
       "                            ('Elastic', ElasticNet()),\n",
       "                            ('Tree', DecisionTreeRegressor(random_state=2022))],\n",
       "                weights=[0.6471645930971449, 0.645970160164322,\n",
       "                         0.6465499867835319, 0.6465499867835319])"
      ]
     },
     "execution_count": 34,
     "metadata": {},
     "output_type": "execute_result"
    }
   ],
   "source": [
    "voting = VotingRegressor([(\"Ridge\", ridge), (\"Lasso\", lasso),\n",
    "                          (\"Elastic\", elastic), (\"Tree\", dtr)],\n",
    "                        weights = [r2_ridge, r2_lasso, r2_dtr, r2_elastic_net])\n",
    "\n",
    "voting.fit(X_train, y_train)"
   ]
  },
  {
   "cell_type": "code",
   "execution_count": 37,
   "id": "10b84538",
   "metadata": {
    "scrolled": true
   },
   "outputs": [
    {
     "name": "stdout",
     "output_type": "stream",
     "text": [
      "[19.93297836 47.80263037 31.05936301 36.45280158 27.19779778 37.03999963\n",
      " 42.11082805 36.17391818 32.72339729 44.85729084 47.48873328 22.89266948\n",
      " 24.50164972 19.6293686  25.21368112 51.09458371 58.24783814 39.1361979\n",
      " 26.50842017 46.26836822 69.65085527 41.52535595 52.01154251 35.46994246\n",
      " 33.92323154 31.19954521 32.13776402 60.24948347 27.5695771  55.88298699\n",
      " 56.49382985 30.55162887 25.4213056  54.6578515  39.33842987 56.56556113\n",
      " 13.49226511 63.9480248  56.25422917 38.42060312 29.40610253 25.8343532\n",
      " 31.35970866 52.11534828 49.67843804 61.09615977 19.14621507 25.33558577\n",
      " 11.02501654 23.83454029 41.99972904 53.52978003 40.54157352 33.5212556\n",
      " 25.56556532 61.67568983 23.72822569 22.97763203 48.66717431 22.74471043\n",
      " 22.70847092 71.61589233 54.33610142 20.55191021 32.91792517 31.09456266\n",
      " 29.73181345 39.40940058 37.70408549 24.47918573 21.42869236 44.20307123\n",
      " 57.59575502 30.64857664 37.89765982 19.67694853 32.94899191 44.74369554\n",
      " 59.72596851 31.0191134  50.62363291 20.50282301 24.71313985 60.87517071\n",
      " 22.20542691 21.26623846 29.74067251 24.35046229 40.65552019 41.24976647\n",
      " 38.37781372 31.55160834 37.99933926 18.99911448 26.3526102  44.08927218\n",
      " 26.62938865 33.45972804 50.88870285 38.88958955 22.04476315 34.03075252\n",
      " 27.48670039 20.36980437 52.0533326  33.65500014 39.7430463  33.54582351\n",
      " 49.8120509  13.96474068 22.92431171 36.8271762  45.79667441 29.59223773\n",
      " 22.98128996 20.25077673 21.07496386 27.25307981 42.2411026  32.23106565\n",
      " 22.93479841 30.27657302 54.80696756 44.75382619 48.39089366 50.09192875\n",
      " 63.9480248  25.98750378 22.85046008 14.04882518 58.29887816 17.87955422\n",
      " 27.88547758 25.99564775 29.51508717 29.82623153 24.10672734 56.74205199\n",
      " 34.45870266 43.12082721 17.5617736  43.17915024 32.53605789 24.60474001\n",
      " 35.38729956 36.00377191 58.33100568 25.53095443 37.31530022 45.14756099\n",
      " 49.10714257 28.90111346 36.85499868 22.96444744 42.8005156  36.29901987\n",
      " 40.86251773 15.60298327 32.2070128  30.99602106 47.73398073 45.73156422\n",
      " 26.82011402 19.80094537 33.83462579 25.36871716 56.68096449 35.79691884\n",
      " 30.01559894 50.30197887 55.57077149 30.96756746 51.44449537 27.74823801\n",
      " 56.90237059 32.29608552 65.36299876 45.77971141 39.97147177 46.92443896\n",
      " 41.56803834 29.91165584 35.79320507 16.6269728  22.33229974 52.11534828\n",
      " 37.37831112 40.36962982 21.31899421 46.62171031 67.56702581 19.31474474\n",
      " 10.09130599 32.41056657 41.20867482 16.16538049 23.66110103 22.96084163\n",
      " 40.15588312 44.75000175 29.67062431 36.82739156 52.33209348 37.00996518\n",
      " 44.96829282 49.45761558 32.67742579 41.63261216 21.55504508 27.61741474\n",
      " 54.385442   41.24663748 55.88302311 19.34091189 19.06841366 27.02852712\n",
      " 31.77745369 44.08717368 31.12190201 26.12724282 29.80699802 17.570433\n",
      " 15.53652955 34.10632356 35.76945169 29.80856555 51.69926608 25.70959688\n",
      " 22.59782859 24.49486268 36.86219262 39.51703781 34.6984156  27.02941344\n",
      " 65.13935729 36.64628513 44.85878455 25.2500513  26.68492408 37.14377143\n",
      " 56.71891229 43.51850444 58.40222362 14.35180912 32.16474669 31.72456187\n",
      " 47.33503875 14.32753328 36.29283102 21.15140316 20.19954833 47.6063093\n",
      " 40.36310665 33.07452694 65.18312132 31.05430752 32.4252667  23.02311082\n",
      " 27.89600551 32.19250745 41.96306877 34.97463206 25.12966523 63.05786134\n",
      " 41.63645904 41.88028653 23.87080512 31.11147857 27.92284766 23.33516692\n",
      " 40.79419815 41.70408572 33.59684627 57.13870648 20.31000003 30.69534321\n",
      " 42.80795601 21.59048002 14.73404691 48.99245145 28.71658131 20.13307367\n",
      " 21.61006838 37.31514294 14.42079464 35.3278974  36.94045982 32.3455342\n",
      " 30.83273941 48.43657278 34.42155915 33.56731613 67.2449047  36.55282456\n",
      " 27.75099405 30.66127106 30.22399587 33.98552246 22.88840918 40.51421273\n",
      " 30.35076685 20.80832786 57.91672757 34.62910952 60.71558962 32.41950235\n",
      " 34.61591864 43.61372453 12.57958212]\n"
     ]
    }
   ],
   "source": [
    "y_pred = voting.predict(X_test)\n",
    "print(y_pred)"
   ]
  },
  {
   "cell_type": "code",
   "execution_count": 36,
   "id": "120ed36f",
   "metadata": {},
   "outputs": [
    {
     "name": "stdout",
     "output_type": "stream",
     "text": [
      "0.7636541512087678\n"
     ]
    }
   ],
   "source": [
    "print(r2_score(y_test, y_pred))"
   ]
  },
  {
   "cell_type": "code",
   "execution_count": null,
   "id": "bf78e694",
   "metadata": {},
   "outputs": [],
   "source": []
  }
 ],
 "metadata": {
  "kernelspec": {
   "display_name": "Python 3 (ipykernel)",
   "language": "python",
   "name": "python3"
  },
  "language_info": {
   "codemirror_mode": {
    "name": "ipython",
    "version": 3
   },
   "file_extension": ".py",
   "mimetype": "text/x-python",
   "name": "python",
   "nbconvert_exporter": "python",
   "pygments_lexer": "ipython3",
   "version": "3.9.13"
  }
 },
 "nbformat": 4,
 "nbformat_minor": 5
}
