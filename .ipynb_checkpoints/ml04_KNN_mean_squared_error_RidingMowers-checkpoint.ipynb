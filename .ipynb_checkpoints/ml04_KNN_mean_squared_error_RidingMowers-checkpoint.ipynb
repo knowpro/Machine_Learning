{
 "cells": [
  {
   "cell_type": "code",
   "execution_count": 1,
   "id": "50f38839",
   "metadata": {},
   "outputs": [],
   "source": [
    "import pandas as pd\n",
    "import numpy as np\n",
    "\n",
    "from sklearn.model_selection import train_test_split\n",
    "from sklearn.neighbors import KNeighborsRegressor\n",
    "\n",
    "from sklearn.metrics import r2_score\n",
    "from sklearn.metrics import mean_absolute_error\n",
    "from sklearn.metrics import mean_squared_error"
   ]
  },
  {
   "cell_type": "code",
   "execution_count": 8,
   "id": "6e7670f2",
   "metadata": {},
   "outputs": [],
   "source": [
    "bos = pd.read_csv(\"Datasets\\Boston.csv\")"
   ]
  },
  {
   "cell_type": "code",
   "execution_count": 3,
   "id": "e423d683",
   "metadata": {},
   "outputs": [],
   "source": [
    "X = bos.drop(\"medv\", axis = 1)\n",
    "y = bos[\"medv\"]"
   ]
  },
  {
   "cell_type": "code",
   "execution_count": 4,
   "id": "3b7807dd",
   "metadata": {},
   "outputs": [],
   "source": [
    "X_train, X_test, y_train, y_test = train_test_split(X, y,\n",
    "                                                   random_state = 2022,\n",
    "                                                   train_size = 0.7)"
   ]
  },
  {
   "cell_type": "markdown",
   "id": "13c9dd88",
   "metadata": {},
   "source": [
    "knn = KNeighborsRegressor(n_neighbors = 1)\n",
    "knn.fit(X_train, y_train)"
   ]
  },
  {
   "cell_type": "markdown",
   "id": "05011028",
   "metadata": {},
   "source": [
    "y_pred = knn.predict(X_test)\n",
    "print(mean_absolute_error(y_test, y_pred))"
   ]
  },
  {
   "cell_type": "code",
   "execution_count": 5,
   "id": "c2b9c4f3",
   "metadata": {},
   "outputs": [],
   "source": [
    "# Minimum mean sqaured error\n",
    "\n",
    "acc = []\n",
    "Ks = np.arange(1,16)\n",
    "\n",
    "for i in Ks:\n",
    "    knn = KNeighborsRegressor( n_neighbors = i )\n",
    "    knn.fit(X_train, y_train)\n",
    "    y_pred = knn.predict(X_test)\n",
    "    acc.append(-mean_squared_error(y_test, y_pred))"
   ]
  },
  {
   "cell_type": "code",
   "execution_count": 7,
   "id": "b0022ce6",
   "metadata": {},
   "outputs": [
    {
     "name": "stdout",
     "output_type": "stream",
     "text": [
      "Best n_neighbors =  9\n",
      "Best Score =  -39.11516325536063\n"
     ]
    }
   ],
   "source": [
    "i_max = np.argmax(acc)\n",
    "best_k = Ks[i_max]\n",
    "print(\"Best n_neighbors = \", best_k)\n",
    "print(\"Best Score = \", acc[i_max])"
   ]
  },
  {
   "cell_type": "code",
   "execution_count": null,
   "id": "5debc88b",
   "metadata": {},
   "outputs": [],
   "source": []
  },
  {
   "cell_type": "code",
   "execution_count": null,
   "id": "da702ba8",
   "metadata": {},
   "outputs": [],
   "source": []
  }
 ],
 "metadata": {
  "kernelspec": {
   "display_name": "Python 3 (ipykernel)",
   "language": "python",
   "name": "python3"
  },
  "language_info": {
   "codemirror_mode": {
    "name": "ipython",
    "version": 3
   },
   "file_extension": ".py",
   "mimetype": "text/x-python",
   "name": "python",
   "nbconvert_exporter": "python",
   "pygments_lexer": "ipython3",
   "version": "3.9.13"
  }
 },
 "nbformat": 4,
 "nbformat_minor": 5
}
