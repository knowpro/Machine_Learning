{
 "cells": [
  {
   "cell_type": "code",
   "execution_count": 12,
   "id": "8d0cdce9",
   "metadata": {},
   "outputs": [],
   "source": [
    "import pandas as pd\n",
    "import numpy as np\n",
    "from nltk.corpus import stopwords\n",
    "\n",
    "import re\n",
    "import nltk\n",
    "from nltk.stem.porter import PorterStemmer\n",
    "from sklearn.feature_extraction.text import CountVectorizer\n",
    "\n",
    "from sklearn.ensemble import RandomForestClassifier\n",
    "from sklearn.model_selection import StratifiedKFold, GridSearchCV"
   ]
  },
  {
   "cell_type": "code",
   "execution_count": 4,
   "id": "8d2ca802",
   "metadata": {},
   "outputs": [],
   "source": [
    "ds = pd.read_csv(\"Datasets\\Restaurant_Reviews.tsv\",\n",
    "                sep = \"\\t\")"
   ]
  },
  {
   "cell_type": "code",
   "execution_count": 31,
   "id": "237099b0",
   "metadata": {},
   "outputs": [
    {
     "data": {
      "text/html": [
       "<div>\n",
       "<style scoped>\n",
       "    .dataframe tbody tr th:only-of-type {\n",
       "        vertical-align: middle;\n",
       "    }\n",
       "\n",
       "    .dataframe tbody tr th {\n",
       "        vertical-align: top;\n",
       "    }\n",
       "\n",
       "    .dataframe thead th {\n",
       "        text-align: right;\n",
       "    }\n",
       "</style>\n",
       "<table border=\"1\" class=\"dataframe\">\n",
       "  <thead>\n",
       "    <tr style=\"text-align: right;\">\n",
       "      <th></th>\n",
       "      <th>Review</th>\n",
       "      <th>Liked</th>\n",
       "    </tr>\n",
       "  </thead>\n",
       "  <tbody>\n",
       "    <tr>\n",
       "      <th>0</th>\n",
       "      <td>Wow... Loved this place.</td>\n",
       "      <td>1</td>\n",
       "    </tr>\n",
       "    <tr>\n",
       "      <th>1</th>\n",
       "      <td>Crust is not good.</td>\n",
       "      <td>0</td>\n",
       "    </tr>\n",
       "    <tr>\n",
       "      <th>2</th>\n",
       "      <td>Not tasty and the texture was just nasty.</td>\n",
       "      <td>0</td>\n",
       "    </tr>\n",
       "    <tr>\n",
       "      <th>3</th>\n",
       "      <td>Stopped by during the late May bank holiday of...</td>\n",
       "      <td>1</td>\n",
       "    </tr>\n",
       "    <tr>\n",
       "      <th>4</th>\n",
       "      <td>The selection on the menu was great and so wer...</td>\n",
       "      <td>1</td>\n",
       "    </tr>\n",
       "  </tbody>\n",
       "</table>\n",
       "</div>"
      ],
      "text/plain": [
       "                                              Review  Liked\n",
       "0                           Wow... Loved this place.      1\n",
       "1                                 Crust is not good.      0\n",
       "2          Not tasty and the texture was just nasty.      0\n",
       "3  Stopped by during the late May bank holiday of...      1\n",
       "4  The selection on the menu was great and so wer...      1"
      ]
     },
     "execution_count": 31,
     "metadata": {},
     "output_type": "execute_result"
    }
   ],
   "source": [
    "ds.head()"
   ]
  },
  {
   "cell_type": "code",
   "execution_count": 5,
   "id": "ac14dfe4",
   "metadata": {},
   "outputs": [],
   "source": [
    "# nltk.download(\"stopwords\")\n",
    "stops = stopwords.words(\"english\")"
   ]
  },
  {
   "cell_type": "code",
   "execution_count": 6,
   "id": "2725715f",
   "metadata": {},
   "outputs": [],
   "source": [
    "ps = PorterStemmer()"
   ]
  },
  {
   "cell_type": "code",
   "execution_count": 8,
   "id": "f3162789",
   "metadata": {},
   "outputs": [],
   "source": [
    "corpus = []\n",
    "\n",
    "for i in np.arange(0, ds.shape[0]):\n",
    "    review = ds[\"Review\"][i]\n",
    "    review = re.sub(\"[^a-zA-Z]\", \" \", review)\n",
    "    review = review.lower()\n",
    "    review = review.split()\n",
    "    \n",
    "    # Below line \n",
    "    review = [ps.stem(word) for word in review if not word in set(stops)]\n",
    "    review = \" \".join(review)\n",
    "    corpus.append(review)"
   ]
  },
  {
   "cell_type": "code",
   "execution_count": 16,
   "id": "316dcb29",
   "metadata": {
    "scrolled": true
   },
   "outputs": [],
   "source": [
    "#help(CountVectorizer)"
   ]
  },
  {
   "cell_type": "markdown",
   "id": "9cc40276",
   "metadata": {},
   "source": [
    "#vectorizer = CountVectorizer(max_features = 800)\n",
    "\"\"\"\"\"\"# max_features : int, default=None\n",
    " |      If not None, build a vocabulary that only consider the top\n",
    " |      max_features ordered by term frequency across the corpus.\n",
    " |  \n",
    " |      This parameter is ignored if vocabulary is not None.\"\"\"\"\"\""
   ]
  },
  {
   "cell_type": "code",
   "execution_count": 23,
   "id": "cf0983c0",
   "metadata": {
    "scrolled": true
   },
   "outputs": [
    {
     "name": "stdout",
     "output_type": "stream",
     "text": [
      "['absolut' 'acknowledg' 'actual' 'ad' 'ago' 'almost' 'also' 'although'\n",
      " 'alway' 'amaz' 'ambianc' 'ambienc' 'amount' 'anoth' 'anyon' 'anyth'\n",
      " 'anytim' 'anyway' 'apolog' 'appet' 'area' 'around' 'arriv' 'articl' 'ask'\n",
      " 'assur' 'ate' 'atmospher' 'atroci' 'attach' 'attack' 'attent' 'attitud'\n",
      " 'auju' 'authent' 'averag' 'avocado' 'avoid' 'aw' 'away' 'awesom' 'babi'\n",
      " 'bachi' 'back' 'bacon' 'bad' 'bagel' 'bakeri' 'bar' 'bare' 'bartend'\n",
      " 'basic' 'bathroom' 'batter' 'bay' 'bean' 'beat' 'beauti' 'becom' 'beef'\n",
      " 'beer' 'behind' 'believ' 'belli' 'best' 'better' 'beyond' 'big' 'bill'\n",
      " 'biscuit' 'bisqu' 'bit' 'bite' 'black' 'bland' 'blow' 'boba' 'boot'\n",
      " 'bother' 'bowl' 'box' 'boy' 'boyfriend' 'bread' 'break' 'breakfast'\n",
      " 'brick' 'bring' 'brought' 'brunch' 'buck' 'buffet' 'bug' 'build' 'bunch'\n",
      " 'burger' 'busi' 'butter' 'bye' 'cafe' 'cake' 'call' 'came' 'cannot'\n",
      " 'cant' 'car' 'care' 'cashier' 'char' 'charcoal' 'charg' 'cheap' 'check'\n",
      " 'chees' 'cheeseburg' 'chef' 'chewi' 'chicken' 'chines' 'chip' 'choos'\n",
      " 'chow' 'christma' 'cibo' 'circumst' 'claim' 'class' 'classic' 'clean'\n",
      " 'close' 'cocktail' 'coffe' 'cold' 'color' 'combin' 'combo' 'come'\n",
      " 'comfort' 'compani' 'complain' 'complaint' 'complet' 'consid' 'contain'\n",
      " 'conveni' 'cook' 'cool' 'could' 'coupl' 'cours' 'cover' 'cow' 'crab'\n",
      " 'crazi' 'cream' 'creami' 'crispi' 'crowd' 'crust' 'curri' 'custom' 'cut'\n",
      " 'cute' 'damn' 'dark' 'date' 'day' 'deal' 'decent' 'decid' 'decor' 'defin'\n",
      " 'definit' 'degre' 'del' 'delic' 'delici' 'delicioso' 'delight' 'delish'\n",
      " 'deliv' 'deliveri' 'denni' 'describ' 'descript' 'deserv' 'desir' 'despic'\n",
      " 'despit' 'dessert' 'deuchebaggeri' 'devin' 'die' 'differ' 'dime' 'dine'\n",
      " 'dinner' 'dip' 'dirt' 'dirti' 'disappoint' 'disgrac' 'disgust' 'dish'\n",
      " 'disrespect' 'dog' 'done' 'dont' 'door' 'doubl' 'doubt' 'downright'\n",
      " 'downtown' 'dress' 'dri' 'driest' 'drink' 'drive' 'duck' 'dude' 'due'\n",
      " 'duo' 'dust' 'eat' 'eaten' 'edibl' 'egg' 'eggplant' 'either' 'els'\n",
      " 'elsewher' 'employe' 'empti' 'end' 'enjoy' 'enough' 'entre' 'equal'\n",
      " 'especi' 'establish' 'even' 'event' 'ever' 'everi' 'everyon' 'everyth'\n",
      " 'excel' 'excus' 'expect' 'experi' 'experienc' 'extra' 'extrem' 'eye'\n",
      " 'fact' 'fail' 'fairli' 'famili' 'familiar' 'fan' 'fantast' 'far' 'fare'\n",
      " 'fast' 'favor' 'favorit' 'feel' 'fell' 'felt' 'filet' 'fill' 'final'\n",
      " 'find' 'fine' 'finish' 'first' 'fish' 'flat' 'flavor' 'flavorless' 'fli'\n",
      " 'flower' 'focus' 'folk' 'food' 'found' 'fresh' 'fri' 'friend' 'friendli'\n",
      " 'front' 'frozen' 'full' 'fun' 'garlic' 'gave' 'gener' 'get' 'give'\n",
      " 'given' 'glad' 'go' 'gold' 'gone' 'good' 'got' 'greas' 'great' 'greek'\n",
      " 'green' 'greet' 'grill' 'gross' 'group' 'guess' 'guest' 'guy' 'gyro'\n",
      " 'hair' 'half' 'hand' 'handl' 'happen' 'happi' 'hard' 'hate' 'head'\n",
      " 'healthi' 'heard' 'heart' 'heat' 'help' 'high' 'highli' 'highlight' 'hip'\n",
      " 'hit' 'home' 'homemad' 'honest' 'honestli' 'hope' 'horribl' 'hot' 'hour'\n",
      " 'hous' 'howev' 'huge' 'human' 'hummu' 'husband' 'ice' 'ignor' 'imagin'\n",
      " 'immedi' 'impecc' 'impress' 'includ' 'incred' 'indian' 'inexpens' 'insid'\n",
      " 'insult' 'interest' 'italian' 'job' 'joint' 'joke' 'judg' 'kept' 'kid'\n",
      " 'kind' 'know' 'known' 'lack' 'ladi' 'larg' 'last' 'late' 'later' 'least'\n",
      " 'leav' 'left' 'leg' 'legit' 'let' 'life' 'light' 'like' 'list' 'liter'\n",
      " 'littl' 'live' 'lobster' 'locat' 'long' 'longer' 'look' 'lost' 'lot'\n",
      " 'love' 'lover' 'low' 'lukewarm' 'lunch' 'made' 'main' 'make' 'mall'\n",
      " 'manag' 'mani' 'margarita' 'mari' 'marrow' 'may' 'mayb' 'mayo' 'meal'\n",
      " 'mean' 'meat' 'mediocr' 'meh' 'melt' 'menu' 'mexican' 'mid' 'min' 'mind'\n",
      " 'minut' 'miss' 'mistak' 'mmmm' 'moist' 'mom' 'money' 'mood' 'mouth'\n",
      " 'much' 'multipl' 'mushroom' 'music' 'must' 'nacho' 'name' 'nasti' 'need'\n",
      " 'needless' 'neighborhood' 'never' 'new' 'next' 'nice' 'nicest' 'night'\n",
      " 'non' 'none' 'note' 'noth' 'offer' 'oh' 'ok' 'old' 'omg' 'one' 'opportun'\n",
      " 'option' 'order' 'other' 'outsid' 'outstand' 'oven' 'overal' 'overcook'\n",
      " 'overpr' 'overwhelm' 'owner' 'pace' 'pack' 'paid' 'pancak' 'paper' 'par'\n",
      " 'part' 'parti' 'pass' 'pasta' 'patio' 'pay' 'peanut' 'peopl' 'pepper'\n",
      " 'perfect' 'perfectli' 'person' 'pho' 'phoenix' 'pictur' 'piec' 'pita'\n",
      " 'pizza' 'place' 'plate' 'play' 'pleas' 'pleasant' 'plu' 'point' 'poor'\n",
      " 'pop' 'pork' 'portion' 'possibl' 'potato' 'prepar' 'present' 'pretti'\n",
      " 'price' 'probabl' 'profession' 'promis' 'provid' 'pull' 'pure' 'put'\n",
      " 'qualiti' 'quick' 'quickli' 'quit' 'rare' 'rate' 'rather' 'rave' 'read'\n",
      " 'real' 'realiz' 'realli' 'reason' 'receiv' 'recent' 'recommend' 'red'\n",
      " 'refil' 'refrain' 'refresh' 'refri' 'refus' 'regist' 'regular'\n",
      " 'regularli' 'reheat' 'relationship' 'relax' 'relleno' 'reloc' 'rememb'\n",
      " 'remind' 'replenish' 'request' 'reserv' 'rest' 'restaraunt' 'restaur'\n",
      " 'return' 'review' 'rice' 'right' 'rip' 'roast' 'roll' 'room' 'rowdi'\n",
      " 'rude' 'run' 'sad' 'said' 'salad' 'salmon' 'salsa' 'salt' 'sandwich'\n",
      " 'sashimi' 'sat' 'satifi' 'satisfi' 'sauc' 'say' 'scallop' 'seafood'\n",
      " 'season' 'seat' 'second' 'see' 'seem' 'seen' 'select' 'serious' 'serv'\n",
      " 'server' 'servic' 'set' 'sever' 'shop' 'show' 'shower' 'shrimp' 'sick'\n",
      " 'side' 'sign' 'similar' 'simpl' 'simpli' 'sinc' 'singl' 'sit' 'six'\n",
      " 'slice' 'slow' 'small' 'smaller' 'smashburg' 'smear' 'smell' 'smoke'\n",
      " 'smooth' 'smoothi' 'soggi' 'soi' 'solid' 'solidifi' 'somehow' 'someon'\n",
      " 'someth' 'somethat' 'somewhat' 'son' 'song' 'soon' 'soooo' 'sooooo'\n",
      " 'soooooo' 'sore' 'sorri' 'sound' 'soundtrack' 'soup' 'sour' 'southwest'\n",
      " 'space' 'spaghetti' 'special' 'speedi' 'spend' 'spice' 'spici' 'spicier'\n",
      " 'spinach' 'sport' 'spot' 'spotti' 'spring' 'sprout' 'staff' 'stale'\n",
      " 'standard' 'star' 'start' 'starv' 'station' 'stay' 'steak' 'steakhous'\n",
      " 'steiner' 'step' 'steve' 'stick' 'still' 'stink' 'stir' 'stomach' 'stood'\n",
      " 'stop' 'store' 'strang' 'stranger' 'strawberri' 'street' 'stretch'\n",
      " 'strike' 'strip' 'stuf' 'stuff' 'style' 'sub' 'subway' 'suck' 'sugari'\n",
      " 'suggest' 'summer' 'super' 'sure' 'surpris' 'sushi' 'sweet' 'tabl' 'taco'\n",
      " 'take' 'talk' 'tap' 'tapa' 'tartar' 'tast' 'tasteless' 'tasti' 'tea'\n",
      " 'tell' 'ten' 'tender' 'terribl' 'textur' 'thai' 'thin' 'thing' 'think'\n",
      " 'third' 'though' 'thought' 'three' 'thumb' 'time' 'tip' 'toast' 'today'\n",
      " 'told' 'took' 'top' 'tot' 'total' 'touch' 'toward' 'town' 'treat' 'tri'\n",
      " 'tribut' 'trip' 'tuna' 'twice' 'two' 'unbeliev' 'undercook' 'underwhelm'\n",
      " 'unfortun' 'unless' 'us' 'use' 'valley' 'valu' 'vega' 'veget'\n",
      " 'vegetarian' 'ventur' 'vibe' 'vinegrett' 'visit' 'wait' 'waiter'\n",
      " 'waitress' 'walk' 'wall' 'want' 'warm' 'wast' 'watch' 'water' 'way'\n",
      " 'week' 'well' 'went' 'white' 'whole' 'wife' 'wine' 'wing' 'without'\n",
      " 'wonder' 'word' 'work' 'worker' 'world' 'wors' 'worst' 'worth' 'would'\n",
      " 'wow' 'wrap' 'wrong' 'year' 'yet' 'yum' 'yummi' 'zero']\n"
     ]
    }
   ],
   "source": [
    "vtz = CountVectorizer(max_features = 800)\n",
    "X = vtz.fit_transform(corpus).toarray()\n",
    "\n",
    "print(vtz.get_feature_names_out())\n",
    "\n",
    "y = ds[\"Liked\"]"
   ]
  },
  {
   "cell_type": "code",
   "execution_count": 24,
   "id": "2fee2840",
   "metadata": {},
   "outputs": [],
   "source": [
    "rf = RandomForestClassifier(random_state = 2022)"
   ]
  },
  {
   "cell_type": "code",
   "execution_count": 25,
   "id": "818004f6",
   "metadata": {},
   "outputs": [],
   "source": [
    "kfold = StratifiedKFold(n_splits = 5,\n",
    "                       shuffle = True,\n",
    "                       random_state = 2022)"
   ]
  },
  {
   "cell_type": "code",
   "execution_count": 26,
   "id": "7a82a48c",
   "metadata": {},
   "outputs": [
    {
     "name": "stdout",
     "output_type": "stream",
     "text": [
      "{'bootstrap': True, 'ccp_alpha': 0.0, 'class_weight': None, 'criterion': 'gini', 'max_depth': None, 'max_features': 'sqrt', 'max_leaf_nodes': None, 'max_samples': None, 'min_impurity_decrease': 0.0, 'min_samples_leaf': 1, 'min_samples_split': 2, 'min_weight_fraction_leaf': 0.0, 'n_estimators': 100, 'n_jobs': None, 'oob_score': False, 'random_state': 2022, 'verbose': 0, 'warm_start': False}\n"
     ]
    }
   ],
   "source": [
    "print(rf.get_params())"
   ]
  },
  {
   "cell_type": "code",
   "execution_count": 27,
   "id": "1f984576",
   "metadata": {},
   "outputs": [],
   "source": [
    "params = {\"max_features\": [10, 50, 100, 200]}"
   ]
  },
  {
   "cell_type": "code",
   "execution_count": 28,
   "id": "48cee365",
   "metadata": {},
   "outputs": [
    {
     "name": "stdout",
     "output_type": "stream",
     "text": [
      "Fitting 5 folds for each of 4 candidates, totalling 20 fits\n",
      "[CV 1/5] END ...................max_features=10;, score=0.828 total time=   0.6s\n",
      "[CV 2/5] END ...................max_features=10;, score=0.882 total time=   0.4s\n",
      "[CV 3/5] END ...................max_features=10;, score=0.827 total time=   0.4s\n",
      "[CV 4/5] END ...................max_features=10;, score=0.850 total time=   0.4s\n",
      "[CV 5/5] END ...................max_features=10;, score=0.838 total time=   0.4s\n",
      "[CV 1/5] END ...................max_features=50;, score=0.804 total time=   0.7s\n",
      "[CV 2/5] END ...................max_features=50;, score=0.878 total time=   0.8s\n",
      "[CV 3/5] END ...................max_features=50;, score=0.821 total time=   0.7s\n",
      "[CV 4/5] END ...................max_features=50;, score=0.840 total time=   0.7s\n",
      "[CV 5/5] END ...................max_features=50;, score=0.817 total time=   0.7s\n",
      "[CV 1/5] END ..................max_features=100;, score=0.775 total time=   1.0s\n",
      "[CV 2/5] END ..................max_features=100;, score=0.855 total time=   1.1s\n",
      "[CV 3/5] END ..................max_features=100;, score=0.811 total time=   1.0s\n",
      "[CV 4/5] END ..................max_features=100;, score=0.839 total time=   1.1s\n",
      "[CV 5/5] END ..................max_features=100;, score=0.813 total time=   1.1s\n",
      "[CV 1/5] END ..................max_features=200;, score=0.771 total time=   1.8s\n",
      "[CV 2/5] END ..................max_features=200;, score=0.848 total time=   1.9s\n",
      "[CV 3/5] END ..................max_features=200;, score=0.806 total time=   1.8s\n",
      "[CV 4/5] END ..................max_features=200;, score=0.843 total time=   1.9s\n",
      "[CV 5/5] END ..................max_features=200;, score=0.804 total time=   1.8s\n"
     ]
    },
    {
     "data": {
      "text/html": [
       "<style>#sk-container-id-1 {color: black;background-color: white;}#sk-container-id-1 pre{padding: 0;}#sk-container-id-1 div.sk-toggleable {background-color: white;}#sk-container-id-1 label.sk-toggleable__label {cursor: pointer;display: block;width: 100%;margin-bottom: 0;padding: 0.3em;box-sizing: border-box;text-align: center;}#sk-container-id-1 label.sk-toggleable__label-arrow:before {content: \"▸\";float: left;margin-right: 0.25em;color: #696969;}#sk-container-id-1 label.sk-toggleable__label-arrow:hover:before {color: black;}#sk-container-id-1 div.sk-estimator:hover label.sk-toggleable__label-arrow:before {color: black;}#sk-container-id-1 div.sk-toggleable__content {max-height: 0;max-width: 0;overflow: hidden;text-align: left;background-color: #f0f8ff;}#sk-container-id-1 div.sk-toggleable__content pre {margin: 0.2em;color: black;border-radius: 0.25em;background-color: #f0f8ff;}#sk-container-id-1 input.sk-toggleable__control:checked~div.sk-toggleable__content {max-height: 200px;max-width: 100%;overflow: auto;}#sk-container-id-1 input.sk-toggleable__control:checked~label.sk-toggleable__label-arrow:before {content: \"▾\";}#sk-container-id-1 div.sk-estimator input.sk-toggleable__control:checked~label.sk-toggleable__label {background-color: #d4ebff;}#sk-container-id-1 div.sk-label input.sk-toggleable__control:checked~label.sk-toggleable__label {background-color: #d4ebff;}#sk-container-id-1 input.sk-hidden--visually {border: 0;clip: rect(1px 1px 1px 1px);clip: rect(1px, 1px, 1px, 1px);height: 1px;margin: -1px;overflow: hidden;padding: 0;position: absolute;width: 1px;}#sk-container-id-1 div.sk-estimator {font-family: monospace;background-color: #f0f8ff;border: 1px dotted black;border-radius: 0.25em;box-sizing: border-box;margin-bottom: 0.5em;}#sk-container-id-1 div.sk-estimator:hover {background-color: #d4ebff;}#sk-container-id-1 div.sk-parallel-item::after {content: \"\";width: 100%;border-bottom: 1px solid gray;flex-grow: 1;}#sk-container-id-1 div.sk-label:hover label.sk-toggleable__label {background-color: #d4ebff;}#sk-container-id-1 div.sk-serial::before {content: \"\";position: absolute;border-left: 1px solid gray;box-sizing: border-box;top: 0;bottom: 0;left: 50%;z-index: 0;}#sk-container-id-1 div.sk-serial {display: flex;flex-direction: column;align-items: center;background-color: white;padding-right: 0.2em;padding-left: 0.2em;position: relative;}#sk-container-id-1 div.sk-item {position: relative;z-index: 1;}#sk-container-id-1 div.sk-parallel {display: flex;align-items: stretch;justify-content: center;background-color: white;position: relative;}#sk-container-id-1 div.sk-item::before, #sk-container-id-1 div.sk-parallel-item::before {content: \"\";position: absolute;border-left: 1px solid gray;box-sizing: border-box;top: 0;bottom: 0;left: 50%;z-index: -1;}#sk-container-id-1 div.sk-parallel-item {display: flex;flex-direction: column;z-index: 1;position: relative;background-color: white;}#sk-container-id-1 div.sk-parallel-item:first-child::after {align-self: flex-end;width: 50%;}#sk-container-id-1 div.sk-parallel-item:last-child::after {align-self: flex-start;width: 50%;}#sk-container-id-1 div.sk-parallel-item:only-child::after {width: 0;}#sk-container-id-1 div.sk-dashed-wrapped {border: 1px dashed gray;margin: 0 0.4em 0.5em 0.4em;box-sizing: border-box;padding-bottom: 0.4em;background-color: white;}#sk-container-id-1 div.sk-label label {font-family: monospace;font-weight: bold;display: inline-block;line-height: 1.2em;}#sk-container-id-1 div.sk-label-container {text-align: center;}#sk-container-id-1 div.sk-container {/* jupyter's `normalize.less` sets `[hidden] { display: none; }` but bootstrap.min.css set `[hidden] { display: none !important; }` so we also need the `!important` here to be able to override the default hidden behavior on the sphinx rendered scikit-learn.org. See: https://github.com/scikit-learn/scikit-learn/issues/21755 */display: inline-block !important;position: relative;}#sk-container-id-1 div.sk-text-repr-fallback {display: none;}</style><div id=\"sk-container-id-1\" class=\"sk-top-container\"><div class=\"sk-text-repr-fallback\"><pre>GridSearchCV(cv=StratifiedKFold(n_splits=5, random_state=2022, shuffle=True),\n",
       "             estimator=RandomForestClassifier(random_state=2022),\n",
       "             param_grid={&#x27;max_features&#x27;: [10, 50, 100, 200]}, scoring=&#x27;roc_auc&#x27;,\n",
       "             verbose=3)</pre><b>In a Jupyter environment, please rerun this cell to show the HTML representation or trust the notebook. <br />On GitHub, the HTML representation is unable to render, please try loading this page with nbviewer.org.</b></div><div class=\"sk-container\" hidden><div class=\"sk-item sk-dashed-wrapped\"><div class=\"sk-label-container\"><div class=\"sk-label sk-toggleable\"><input class=\"sk-toggleable__control sk-hidden--visually\" id=\"sk-estimator-id-1\" type=\"checkbox\" ><label for=\"sk-estimator-id-1\" class=\"sk-toggleable__label sk-toggleable__label-arrow\">GridSearchCV</label><div class=\"sk-toggleable__content\"><pre>GridSearchCV(cv=StratifiedKFold(n_splits=5, random_state=2022, shuffle=True),\n",
       "             estimator=RandomForestClassifier(random_state=2022),\n",
       "             param_grid={&#x27;max_features&#x27;: [10, 50, 100, 200]}, scoring=&#x27;roc_auc&#x27;,\n",
       "             verbose=3)</pre></div></div></div><div class=\"sk-parallel\"><div class=\"sk-parallel-item\"><div class=\"sk-item\"><div class=\"sk-label-container\"><div class=\"sk-label sk-toggleable\"><input class=\"sk-toggleable__control sk-hidden--visually\" id=\"sk-estimator-id-2\" type=\"checkbox\" ><label for=\"sk-estimator-id-2\" class=\"sk-toggleable__label sk-toggleable__label-arrow\">estimator: RandomForestClassifier</label><div class=\"sk-toggleable__content\"><pre>RandomForestClassifier(random_state=2022)</pre></div></div></div><div class=\"sk-serial\"><div class=\"sk-item\"><div class=\"sk-estimator sk-toggleable\"><input class=\"sk-toggleable__control sk-hidden--visually\" id=\"sk-estimator-id-3\" type=\"checkbox\" ><label for=\"sk-estimator-id-3\" class=\"sk-toggleable__label sk-toggleable__label-arrow\">RandomForestClassifier</label><div class=\"sk-toggleable__content\"><pre>RandomForestClassifier(random_state=2022)</pre></div></div></div></div></div></div></div></div></div></div>"
      ],
      "text/plain": [
       "GridSearchCV(cv=StratifiedKFold(n_splits=5, random_state=2022, shuffle=True),\n",
       "             estimator=RandomForestClassifier(random_state=2022),\n",
       "             param_grid={'max_features': [10, 50, 100, 200]}, scoring='roc_auc',\n",
       "             verbose=3)"
      ]
     },
     "execution_count": 28,
     "metadata": {},
     "output_type": "execute_result"
    }
   ],
   "source": [
    "gcv = GridSearchCV(rf,\n",
    "                  param_grid = params,\n",
    "                  verbose = 3,\n",
    "                  scoring = \"roc_auc\",\n",
    "                  cv = kfold)\n",
    "gcv.fit(X, y)"
   ]
  },
  {
   "cell_type": "code",
   "execution_count": 29,
   "id": "01cf7e09",
   "metadata": {},
   "outputs": [
    {
     "name": "stdout",
     "output_type": "stream",
     "text": [
      "{'max_features': 10}\n"
     ]
    }
   ],
   "source": [
    "print(gcv.best_params_)"
   ]
  },
  {
   "cell_type": "code",
   "execution_count": 30,
   "id": "116969cf",
   "metadata": {},
   "outputs": [
    {
     "name": "stdout",
     "output_type": "stream",
     "text": [
      "0.84489\n"
     ]
    }
   ],
   "source": [
    "print(gcv.best_score_)"
   ]
  },
  {
   "cell_type": "code",
   "execution_count": null,
   "id": "0a0f6489",
   "metadata": {},
   "outputs": [],
   "source": []
  }
 ],
 "metadata": {
  "kernelspec": {
   "display_name": "Python 3 (ipykernel)",
   "language": "python",
   "name": "python3"
  },
  "language_info": {
   "codemirror_mode": {
    "name": "ipython",
    "version": 3
   },
   "file_extension": ".py",
   "mimetype": "text/x-python",
   "name": "python",
   "nbconvert_exporter": "python",
   "pygments_lexer": "ipython3",
   "version": "3.9.13"
  }
 },
 "nbformat": 4,
 "nbformat_minor": 5
}
