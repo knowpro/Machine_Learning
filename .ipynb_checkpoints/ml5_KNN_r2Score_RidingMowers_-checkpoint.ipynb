{
 "cells": [
  {
   "cell_type": "code",
   "execution_count": 14,
   "id": "eb92825f",
   "metadata": {},
   "outputs": [],
   "source": [
    "import pandas as pd\n",
    "import numpy as np\n",
    "\n",
    "from sklearn.model_selection import train_test_split\n",
    "from sklearn.neighbors import KNeighborsRegressor\n",
    "\n",
    "from sklearn.metrics import r2_score\n",
    "from sklearn.metrics import mean_absolute_error\n",
    "from sklearn.metrics import mean_squared_error\n",
    "\n",
    "from sklearn.preprocessing import StandardScaler"
   ]
  },
  {
   "cell_type": "code",
   "execution_count": 2,
   "id": "d2ad4ddd",
   "metadata": {},
   "outputs": [],
   "source": [
    "bos = pd.read_csv(\"Datasets\\Boston.csv\")"
   ]
  },
  {
   "cell_type": "code",
   "execution_count": 3,
   "id": "81577226",
   "metadata": {},
   "outputs": [],
   "source": [
    "X = bos.drop(\"medv\", axis = 1)\n",
    "y = bos[\"medv\"]"
   ]
  },
  {
   "cell_type": "code",
   "execution_count": 4,
   "id": "8fc0c57f",
   "metadata": {},
   "outputs": [],
   "source": [
    "X_train, X_test, y_train, y_test = train_test_split(X, y,\n",
    "                                                   random_state = 2022,\n",
    "                                                   train_size = 0.7)"
   ]
  },
  {
   "cell_type": "code",
   "execution_count": 15,
   "id": "ec9f6708",
   "metadata": {},
   "outputs": [],
   "source": [
    "# Loop for r2 score\n",
    "\n",
    "acc = []\n",
    "Ks = np.arange(1,16)\n",
    "\n",
    "for i in Ks:\n",
    "    knn = KNeighborsRegressor( n_neighbors = i )\n",
    "    knn.fit(X_train, y_train)\n",
    "    \n",
    "    y_pred = knn.predict(X_test)\n",
    "    acc.append(r2_score(y_test, y_pred))"
   ]
  },
  {
   "cell_type": "code",
   "execution_count": 16,
   "id": "9c2ad87c",
   "metadata": {},
   "outputs": [
    {
     "name": "stdout",
     "output_type": "stream",
     "text": [
      "Best n_neighbors =  9\n",
      "Best Score =  0.5433824716755711\n"
     ]
    }
   ],
   "source": [
    "i_max = np.argmax(acc)\n",
    "best_k = Ks[i_max]\n",
    "print(\"Best n_neighbors = \", best_k)\n",
    "print(\"Best Score = \", acc[i_max])"
   ]
  },
  {
   "cell_type": "code",
   "execution_count": 17,
   "id": "a69cf98d",
   "metadata": {},
   "outputs": [],
   "source": [
    "# scaling\n",
    "scaler = StandardScaler()\n",
    "scaler.fit(X_train)\n",
    "\n",
    "X_trn_scaled = scaler.transform(X_train)\n",
    "X_tst_scaled = scaler.transform(X_test)"
   ]
  },
  {
   "cell_type": "code",
   "execution_count": 20,
   "id": "844eeca1",
   "metadata": {},
   "outputs": [
    {
     "data": {
      "text/plain": [
       "KNeighborsRegressor(n_neighbors=1)"
      ]
     },
     "execution_count": 20,
     "metadata": {},
     "output_type": "execute_result"
    }
   ],
   "source": [
    "knn = KNeighborsRegressor(n_neighbors = 1)\n",
    "knn.fit(X_trn_scaled, y_train)"
   ]
  },
  {
   "cell_type": "code",
   "execution_count": 24,
   "id": "bf84e0a0",
   "metadata": {},
   "outputs": [
    {
     "name": "stdout",
     "output_type": "stream",
     "text": [
      "3.146052631578948\n",
      "25.917105263157897\n",
      "0.6974522522294379\n"
     ]
    }
   ],
   "source": [
    "y_pred = knn.predict(X_tst_scaled)\n",
    "\n",
    "print(mean_absolute_error(y_test, y_pred))\n",
    "print(mean_squared_error(y_test, y_pred))\n",
    "print(r2_score(y_test, y_pred))"
   ]
  },
  {
   "cell_type": "code",
   "execution_count": 33,
   "id": "98080d8c",
   "metadata": {},
   "outputs": [],
   "source": [
    "acc1 = []\n",
    "acc2 = []\n",
    "acc3 = []\n",
    "\n",
    "Ks = [x for x in range(1,16)]\n",
    "\n",
    "for i in Ks:\n",
    "    knn = KNeighborsRegressor( n_neighbors = i )\n",
    "    knn.fit(X_train, y_train)\n",
    "    y_pred_prob = knn.predict(X_test)\n",
    "    acc1.append(mean_absolute_error(y_test, y_pred_prob))\n",
    "    acc2.append(mean_squared_error(y_test, y_pred_prob))\n",
    "    acc3.append(r2_score(y_test, y_pred_prob))"
   ]
  },
  {
   "cell_type": "code",
   "execution_count": 37,
   "id": "ae52310f",
   "metadata": {},
   "outputs": [
    {
     "name": "stdout",
     "output_type": "stream",
     "text": [
      "Best n_neighbors =  15\n",
      "4.862061403508772\n"
     ]
    }
   ],
   "source": [
    "i_max1 = np.argmax(acc1)\n",
    "best_k1 = Ks[i_max1]\n",
    "print(\"Best n_neighbors = \", best_k1)\n",
    "print(mean_absolute_error(y_test, y_pred_prob))"
   ]
  },
  {
   "cell_type": "code",
   "execution_count": 38,
   "id": "1abc49a5",
   "metadata": {},
   "outputs": [
    {
     "name": "stdout",
     "output_type": "stream",
     "text": [
      "Best n_neighbors =  1\n",
      "43.91611081871345\n"
     ]
    }
   ],
   "source": [
    "i_max2 = np.argmax(acc2)\n",
    "best_k2 = Ks[i_max2]\n",
    "print(\"Best n_neighbors = \", best_k2)\n",
    "print(mean_squared_error(y_test, y_pred_prob))"
   ]
  },
  {
   "cell_type": "code",
   "execution_count": 39,
   "id": "f6da6caf",
   "metadata": {},
   "outputs": [
    {
     "name": "stdout",
     "output_type": "stream",
     "text": [
      "Best n_neighbors =  9\n",
      "0.48733779161935475\n"
     ]
    }
   ],
   "source": [
    "i_max3 = np.argmax(acc3)\n",
    "best_k3 = Ks[i_max3]\n",
    "print(\"Best n_neighbors = \", best_k3)\n",
    "print(r2_score(y_test, y_pred_prob))"
   ]
  },
  {
   "cell_type": "code",
   "execution_count": null,
   "id": "c25c0bab",
   "metadata": {},
   "outputs": [],
   "source": []
  }
 ],
 "metadata": {
  "kernelspec": {
   "display_name": "Python 3 (ipykernel)",
   "language": "python",
   "name": "python3"
  },
  "language_info": {
   "codemirror_mode": {
    "name": "ipython",
    "version": 3
   },
   "file_extension": ".py",
   "mimetype": "text/x-python",
   "name": "python",
   "nbconvert_exporter": "python",
   "pygments_lexer": "ipython3",
   "version": "3.9.13"
  }
 },
 "nbformat": 4,
 "nbformat_minor": 5
}
