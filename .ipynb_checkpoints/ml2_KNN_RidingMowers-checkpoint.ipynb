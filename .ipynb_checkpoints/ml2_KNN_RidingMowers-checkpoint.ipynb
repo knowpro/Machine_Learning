{
 "cells": [
  {
   "cell_type": "code",
   "execution_count": 9,
   "id": "160f4e2a",
   "metadata": {},
   "outputs": [],
   "source": [
    "import pandas as pd\n",
    "import numpy as np\n",
    "\n",
    "import matplotlib.pyplot as plt\n",
    "import seaborn as sns\n",
    "\n",
    "from sklearn.model_selection import train_test_split\n",
    "\n",
    "from sklearn.metrics import accuracy_score, confusion_matrix\n",
    "from sklearn.metrics import classification_report\n",
    "\n",
    "from sklearn.neighbors import KNeighborsClassifier"
   ]
  },
  {
   "cell_type": "code",
   "execution_count": 10,
   "id": "ab15d86b",
   "metadata": {},
   "outputs": [],
   "source": [
    "mow = pd.read_csv(r\"Datasets\\RidingMowers.csv\")"
   ]
  },
  {
   "cell_type": "code",
   "execution_count": 11,
   "id": "0e30015e",
   "metadata": {},
   "outputs": [],
   "source": [
    "dum_mow = pd.get_dummies(mow, drop_first = True)"
   ]
  },
  {
   "cell_type": "code",
   "execution_count": 12,
   "id": "ef0f30fd",
   "metadata": {},
   "outputs": [],
   "source": [
    "X = dum_mow.drop(\"Response_Not Bought\", axis = 1)\n",
    "y = dum_mow[\"Response_Not Bought\"]\n"
   ]
  },
  {
   "cell_type": "code",
   "execution_count": 13,
   "id": "a8ec09f8",
   "metadata": {},
   "outputs": [],
   "source": [
    "X_train, X_test, y_train, y_test = train_test_split(X, y, \n",
    "                                                    stratify = y, # explained\n",
    "                                                    random_state = 2022,\n",
    "                                                    train_size = 0.7\n",
    "                                                   )\n"
   ]
  },
  {
   "cell_type": "markdown",
   "id": "c1e97c9d",
   "metadata": {},
   "source": [
    "What does Stratify do? </b>\n",
    "\n",
    "This stratify parameter makes a split so that the proportion of values in the sample produced will be the same as the proportion of values provided to parameter stratify.\n",
    "\n",
    "For example, if variable y is a binary categorical variable with values 0 and 1 and there are 25% of zeros and 75% of ones, stratify=y will make sure that your random split has 25% of 0's and 75% of 1's.\n"
   ]
  },
  {
   "cell_type": "code",
   "execution_count": 14,
   "id": "af4b70d7",
   "metadata": {},
   "outputs": [],
   "source": [
    "from sklearn.metrics import roc_curve, roc_auc_score"
   ]
  },
  {
   "cell_type": "code",
   "execution_count": 17,
   "id": "43a53b36",
   "metadata": {},
   "outputs": [],
   "source": [
    "# Loop\n",
    "\n",
    "acc = []\n",
    "Ks = [x for x in range(1,16,2)]\n",
    "\n",
    "for i in Ks:\n",
    "    knn = KNeighborsClassifier( n_neighbors = i )\n",
    "    knn.fit(X_train, y_train)\n",
    "    y_pred_prob = knn.predict_proba(X_test)[:,1]\n",
    "    acc.append(roc_auc_score(y_test, y_pred_prob))"
   ]
  },
  {
   "cell_type": "code",
   "execution_count": 16,
   "id": "51e7adc2",
   "metadata": {},
   "outputs": [
    {
     "name": "stdout",
     "output_type": "stream",
     "text": [
      "Best n_neighbors =  3\n",
      "0.977961432506887\n"
     ]
    }
   ],
   "source": [
    "i_max = np.argmax(acc)\n",
    "best_k = Ks[i_max]\n",
    "print(\"Best n_neighbors = \", best_k)\n",
    "print(roc_auc_score(y_test, y_pred_prob))"
   ]
  },
  {
   "cell_type": "markdown",
   "id": "97051caf",
   "metadata": {},
   "source": [
    "# Using Log Loss"
   ]
  },
  {
   "cell_type": "code",
   "execution_count": 19,
   "id": "9045bf2c",
   "metadata": {},
   "outputs": [],
   "source": [
    "from sklearn.metrics import log_loss"
   ]
  },
  {
   "cell_type": "code",
   "execution_count": 22,
   "id": "2b01c0b6",
   "metadata": {},
   "outputs": [],
   "source": [
    "# Log loss\n",
    "\n",
    "acc = []\n",
    "Ks = [x for x in range(1,16,2)]\n",
    "\n",
    "for i in Ks:\n",
    "    knn = KNeighborsClassifier( n_neighbors = i )\n",
    "    knn.fit(X_train, y_train)\n",
    "    y_pred_prob = knn.predict_proba(X_test)[:,1]\n",
    "    acc.append(-log_loss(y_test, y_pred_prob))\n"
   ]
  },
  {
   "cell_type": "code",
   "execution_count": 23,
   "id": "0ff15e20",
   "metadata": {},
   "outputs": [
    {
     "name": "stdout",
     "output_type": "stream",
     "text": [
      "Best n_neighbors =  15\n",
      "0.977961432506887\n"
     ]
    }
   ],
   "source": [
    "i_max = np.argmax(acc)\n",
    "best_k = Ks[i_max]\n",
    "print(\"Best n_neighbors = \", best_k)\n",
    "print(roc_auc_score(y_test, y_pred_prob))"
   ]
  },
  {
   "cell_type": "code",
   "execution_count": null,
   "id": "7c1a8abf",
   "metadata": {},
   "outputs": [],
   "source": []
  }
 ],
 "metadata": {
  "kernelspec": {
   "display_name": "Python 3 (ipykernel)",
   "language": "python",
   "name": "python3"
  },
  "language_info": {
   "codemirror_mode": {
    "name": "ipython",
    "version": 3
   },
   "file_extension": ".py",
   "mimetype": "text/x-python",
   "name": "python",
   "nbconvert_exporter": "python",
   "pygments_lexer": "ipython3",
   "version": "3.9.13"
  }
 },
 "nbformat": 4,
 "nbformat_minor": 5
}
