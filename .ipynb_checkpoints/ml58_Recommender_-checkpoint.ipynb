{
 "cells": [
  {
   "cell_type": "code",
   "execution_count": 1,
   "id": "dc708716",
   "metadata": {},
   "outputs": [],
   "source": [
    "import pandas as pd\n",
    "import numpy as np\n",
    "import surprise"
   ]
  },
  {
   "cell_type": "code",
   "execution_count": null,
   "id": "f7c16c01",
   "metadata": {},
   "outputs": [],
   "source": []
  },
  {
   "cell_type": "code",
   "execution_count": 26,
   "id": "8857ac00",
   "metadata": {
    "scrolled": true
   },
   "outputs": [
    {
     "data": {
      "text/html": [
       "<div>\n",
       "<style scoped>\n",
       "    .dataframe tbody tr th:only-of-type {\n",
       "        vertical-align: middle;\n",
       "    }\n",
       "\n",
       "    .dataframe tbody tr th {\n",
       "        vertical-align: top;\n",
       "    }\n",
       "\n",
       "    .dataframe thead th {\n",
       "        text-align: right;\n",
       "    }\n",
       "</style>\n",
       "<table border=\"1\" class=\"dataframe\">\n",
       "  <thead>\n",
       "    <tr style=\"text-align: right;\">\n",
       "      <th></th>\n",
       "      <th>user_id</th>\n",
       "      <th>item_id</th>\n",
       "      <th>rating</th>\n",
       "    </tr>\n",
       "  </thead>\n",
       "  <tbody>\n",
       "    <tr>\n",
       "      <th>0</th>\n",
       "      <td>A3R5OBKS7OM2IR</td>\n",
       "      <td>Movie1</td>\n",
       "      <td>5.0</td>\n",
       "    </tr>\n",
       "    <tr>\n",
       "      <th>1</th>\n",
       "      <td>AH3QC2PC1VTGP</td>\n",
       "      <td>Movie1</td>\n",
       "      <td>NaN</td>\n",
       "    </tr>\n",
       "    <tr>\n",
       "      <th>2</th>\n",
       "      <td>A3LKP6WPMP9UKX</td>\n",
       "      <td>Movie1</td>\n",
       "      <td>NaN</td>\n",
       "    </tr>\n",
       "    <tr>\n",
       "      <th>3</th>\n",
       "      <td>AVIY68KEPQ5ZD</td>\n",
       "      <td>Movie1</td>\n",
       "      <td>NaN</td>\n",
       "    </tr>\n",
       "    <tr>\n",
       "      <th>4</th>\n",
       "      <td>A1CV1WROP5KTTW</td>\n",
       "      <td>Movie1</td>\n",
       "      <td>NaN</td>\n",
       "    </tr>\n",
       "    <tr>\n",
       "      <th>...</th>\n",
       "      <td>...</td>\n",
       "      <td>...</td>\n",
       "      <td>...</td>\n",
       "    </tr>\n",
       "    <tr>\n",
       "      <th>998683</th>\n",
       "      <td>A1IMQ9WMFYKWH5</td>\n",
       "      <td>Movie206</td>\n",
       "      <td>5.0</td>\n",
       "    </tr>\n",
       "    <tr>\n",
       "      <th>998684</th>\n",
       "      <td>A1KLIKPUF5E88I</td>\n",
       "      <td>Movie206</td>\n",
       "      <td>5.0</td>\n",
       "    </tr>\n",
       "    <tr>\n",
       "      <th>998685</th>\n",
       "      <td>A5HG6WFZLO10D</td>\n",
       "      <td>Movie206</td>\n",
       "      <td>5.0</td>\n",
       "    </tr>\n",
       "    <tr>\n",
       "      <th>998686</th>\n",
       "      <td>A3UU690TWXCG1X</td>\n",
       "      <td>Movie206</td>\n",
       "      <td>5.0</td>\n",
       "    </tr>\n",
       "    <tr>\n",
       "      <th>998687</th>\n",
       "      <td>AI4J762YI6S06</td>\n",
       "      <td>Movie206</td>\n",
       "      <td>5.0</td>\n",
       "    </tr>\n",
       "  </tbody>\n",
       "</table>\n",
       "<p>998688 rows × 3 columns</p>\n",
       "</div>"
      ],
      "text/plain": [
       "               user_id   item_id  rating\n",
       "0       A3R5OBKS7OM2IR    Movie1     5.0\n",
       "1        AH3QC2PC1VTGP    Movie1     NaN\n",
       "2       A3LKP6WPMP9UKX    Movie1     NaN\n",
       "3        AVIY68KEPQ5ZD    Movie1     NaN\n",
       "4       A1CV1WROP5KTTW    Movie1     NaN\n",
       "...                ...       ...     ...\n",
       "998683  A1IMQ9WMFYKWH5  Movie206     5.0\n",
       "998684  A1KLIKPUF5E88I  Movie206     5.0\n",
       "998685   A5HG6WFZLO10D  Movie206     5.0\n",
       "998686  A3UU690TWXCG1X  Movie206     5.0\n",
       "998687   AI4J762YI6S06  Movie206     5.0\n",
       "\n",
       "[998688 rows x 3 columns]"
      ]
     },
     "execution_count": 26,
     "metadata": {},
     "output_type": "execute_result"
    }
   ],
   "source": [
    "amz = pd.read_csv(r\"12. Recommender Systems\\Amazon Movie Ratings\\Amazon.csv\")\n",
    "\n",
    "ratings = pd.melt(amz, id_vars = \"user_id\",\n",
    "              var_name=\"item_id\",\n",
    "              value_name=\"rating\")\n",
    "ratings\n"
   ]
  },
  {
   "cell_type": "code",
   "execution_count": 27,
   "id": "02fce558",
   "metadata": {
    "scrolled": true
   },
   "outputs": [
    {
     "data": {
      "text/html": [
       "<div>\n",
       "<style scoped>\n",
       "    .dataframe tbody tr th:only-of-type {\n",
       "        vertical-align: middle;\n",
       "    }\n",
       "\n",
       "    .dataframe tbody tr th {\n",
       "        vertical-align: top;\n",
       "    }\n",
       "\n",
       "    .dataframe thead th {\n",
       "        text-align: right;\n",
       "    }\n",
       "</style>\n",
       "<table border=\"1\" class=\"dataframe\">\n",
       "  <thead>\n",
       "    <tr style=\"text-align: right;\">\n",
       "      <th></th>\n",
       "      <th>user_id</th>\n",
       "      <th>item_id</th>\n",
       "      <th>rating</th>\n",
       "    </tr>\n",
       "  </thead>\n",
       "  <tbody>\n",
       "    <tr>\n",
       "      <th>0</th>\n",
       "      <td>A3R5OBKS7OM2IR</td>\n",
       "      <td>Movie1</td>\n",
       "      <td>5.0</td>\n",
       "    </tr>\n",
       "    <tr>\n",
       "      <th>4848</th>\n",
       "      <td>A3R5OBKS7OM2IR</td>\n",
       "      <td>Movie2</td>\n",
       "      <td>5.0</td>\n",
       "    </tr>\n",
       "    <tr>\n",
       "      <th>9697</th>\n",
       "      <td>AH3QC2PC1VTGP</td>\n",
       "      <td>Movie3</td>\n",
       "      <td>2.0</td>\n",
       "    </tr>\n",
       "    <tr>\n",
       "      <th>14546</th>\n",
       "      <td>A3LKP6WPMP9UKX</td>\n",
       "      <td>Movie4</td>\n",
       "      <td>5.0</td>\n",
       "    </tr>\n",
       "    <tr>\n",
       "      <th>14547</th>\n",
       "      <td>AVIY68KEPQ5ZD</td>\n",
       "      <td>Movie4</td>\n",
       "      <td>5.0</td>\n",
       "    </tr>\n",
       "    <tr>\n",
       "      <th>...</th>\n",
       "      <td>...</td>\n",
       "      <td>...</td>\n",
       "      <td>...</td>\n",
       "    </tr>\n",
       "    <tr>\n",
       "      <th>998683</th>\n",
       "      <td>A1IMQ9WMFYKWH5</td>\n",
       "      <td>Movie206</td>\n",
       "      <td>5.0</td>\n",
       "    </tr>\n",
       "    <tr>\n",
       "      <th>998684</th>\n",
       "      <td>A1KLIKPUF5E88I</td>\n",
       "      <td>Movie206</td>\n",
       "      <td>5.0</td>\n",
       "    </tr>\n",
       "    <tr>\n",
       "      <th>998685</th>\n",
       "      <td>A5HG6WFZLO10D</td>\n",
       "      <td>Movie206</td>\n",
       "      <td>5.0</td>\n",
       "    </tr>\n",
       "    <tr>\n",
       "      <th>998686</th>\n",
       "      <td>A3UU690TWXCG1X</td>\n",
       "      <td>Movie206</td>\n",
       "      <td>5.0</td>\n",
       "    </tr>\n",
       "    <tr>\n",
       "      <th>998687</th>\n",
       "      <td>AI4J762YI6S06</td>\n",
       "      <td>Movie206</td>\n",
       "      <td>5.0</td>\n",
       "    </tr>\n",
       "  </tbody>\n",
       "</table>\n",
       "<p>5000 rows × 3 columns</p>\n",
       "</div>"
      ],
      "text/plain": [
       "               user_id   item_id  rating\n",
       "0       A3R5OBKS7OM2IR    Movie1     5.0\n",
       "4848    A3R5OBKS7OM2IR    Movie2     5.0\n",
       "9697     AH3QC2PC1VTGP    Movie3     2.0\n",
       "14546   A3LKP6WPMP9UKX    Movie4     5.0\n",
       "14547    AVIY68KEPQ5ZD    Movie4     5.0\n",
       "...                ...       ...     ...\n",
       "998683  A1IMQ9WMFYKWH5  Movie206     5.0\n",
       "998684  A1KLIKPUF5E88I  Movie206     5.0\n",
       "998685   A5HG6WFZLO10D  Movie206     5.0\n",
       "998686  A3UU690TWXCG1X  Movie206     5.0\n",
       "998687   AI4J762YI6S06  Movie206     5.0\n",
       "\n",
       "[5000 rows x 3 columns]"
      ]
     },
     "execution_count": 27,
     "metadata": {},
     "output_type": "execute_result"
    }
   ],
   "source": [
    "ratings = ratings[ratings['rating'].notna()]\n",
    "ratings"
   ]
  },
  {
   "cell_type": "code",
   "execution_count": 28,
   "id": "0d74de83",
   "metadata": {},
   "outputs": [
    {
     "name": "stdout",
     "output_type": "stream",
     "text": [
      "Ratings range between 1.0 and 5.0\n"
     ]
    }
   ],
   "source": [
    "lowest_rating = ratings['rating'].min()\n",
    "highest_rating = ratings['rating'].max()\n",
    "print(\"Ratings range between {0} and {1}\".format(lowest_rating,highest_rating))\n",
    "reader = surprise.Reader(rating_scale = (lowest_rating,highest_rating))"
   ]
  },
  {
   "cell_type": "markdown",
   "id": "3664c596",
   "metadata": {},
   "source": [
    "Converting the data into surprise format:"
   ]
  },
  {
   "cell_type": "code",
   "execution_count": 29,
   "id": "328bb029",
   "metadata": {},
   "outputs": [
    {
     "data": {
      "text/plain": [
       "surprise.dataset.DatasetAutoFolds"
      ]
     },
     "execution_count": 29,
     "metadata": {},
     "output_type": "execute_result"
    }
   ],
   "source": [
    "data = surprise.Dataset.load_from_df(ratings,reader)\n",
    "type(data)"
   ]
  },
  {
   "cell_type": "markdown",
   "id": "314d9765",
   "metadata": {},
   "source": [
    "Similarity options:\n",
    "\n",
    "In case of Item based filtering, 'user_based' value will be False\n"
   ]
  },
  {
   "cell_type": "code",
   "execution_count": 30,
   "id": "8cd2aaf5",
   "metadata": {},
   "outputs": [],
   "source": [
    "similarity_options = {'name': 'cosine', 'user_based': True}"
   ]
  },
  {
   "cell_type": "markdown",
   "id": "efa035e8",
   "metadata": {},
   "source": [
    "Default K = 40"
   ]
  },
  {
   "cell_type": "code",
   "execution_count": 31,
   "id": "c8c86fa2",
   "metadata": {},
   "outputs": [
    {
     "name": "stdout",
     "output_type": "stream",
     "text": [
      "Computing the cosine similarity matrix...\n",
      "Done computing similarity matrix.\n"
     ]
    }
   ],
   "source": [
    "algo = surprise.KNNBasic(sim_options = similarity_options)\n",
    "output = algo.fit(data.build_full_trainset())"
   ]
  },
  {
   "cell_type": "markdown",
   "id": "b8b644ee",
   "metadata": {},
   "source": [
    "The above .fit() calculates expected rating for all the users </b>\n",
    "Say we want expected rating of user=A3LKP6WPMP9UKX for item Movie4"
   ]
  },
  {
   "cell_type": "code",
   "execution_count": 32,
   "id": "ad630f38",
   "metadata": {},
   "outputs": [
    {
     "name": "stdout",
     "output_type": "stream",
     "text": [
      "4.3856\n"
     ]
    }
   ],
   "source": [
    "pred = algo.predict( uid = '880', iid = '476')\n",
    "score = pred.est\n",
    "print(score)"
   ]
  },
  {
   "cell_type": "markdown",
   "id": "5dd70c3e",
   "metadata": {},
   "source": [
    "All the users"
   ]
  },
  {
   "cell_type": "code",
   "execution_count": 34,
   "id": "0b7f8bb9",
   "metadata": {},
   "outputs": [
    {
     "data": {
      "text/plain": [
       "array(['Movie1', 'Movie2', 'Movie3', 'Movie4', 'Movie5', 'Movie6',\n",
       "       'Movie7', 'Movie8', 'Movie9', 'Movie10', 'Movie11', 'Movie12',\n",
       "       'Movie13', 'Movie14', 'Movie15', 'Movie16', 'Movie17', 'Movie18',\n",
       "       'Movie19', 'Movie20', 'Movie21', 'Movie22', 'Movie23', 'Movie24',\n",
       "       'Movie25', 'Movie26', 'Movie27', 'Movie28', 'Movie29', 'Movie30',\n",
       "       'Movie31', 'Movie32', 'Movie33', 'Movie34', 'Movie35', 'Movie36',\n",
       "       'Movie37', 'Movie38', 'Movie39', 'Movie40', 'Movie41', 'Movie42',\n",
       "       'Movie43', 'Movie44', 'Movie45', 'Movie46', 'Movie47', 'Movie48',\n",
       "       'Movie49', 'Movie50', 'Movie51', 'Movie52', 'Movie53', 'Movie54',\n",
       "       'Movie55', 'Movie56', 'Movie57', 'Movie58', 'Movie59', 'Movie60',\n",
       "       'Movie61', 'Movie62', 'Movie63', 'Movie64', 'Movie65', 'Movie66',\n",
       "       'Movie67', 'Movie68', 'Movie69', 'Movie70', 'Movie71', 'Movie72',\n",
       "       'Movie73', 'Movie74', 'Movie75', 'Movie76', 'Movie77', 'Movie78',\n",
       "       'Movie79', 'Movie80', 'Movie81', 'Movie82', 'Movie83', 'Movie84',\n",
       "       'Movie85', 'Movie86', 'Movie87', 'Movie88', 'Movie89', 'Movie90',\n",
       "       'Movie91', 'Movie92', 'Movie93', 'Movie94', 'Movie95', 'Movie96',\n",
       "       'Movie97', 'Movie98', 'Movie99', 'Movie100', 'Movie101',\n",
       "       'Movie102', 'Movie103', 'Movie104', 'Movie105', 'Movie106',\n",
       "       'Movie107', 'Movie108', 'Movie109', 'Movie110', 'Movie111',\n",
       "       'Movie112', 'Movie113', 'Movie114', 'Movie115', 'Movie116',\n",
       "       'Movie117', 'Movie118', 'Movie119', 'Movie120', 'Movie121',\n",
       "       'Movie122', 'Movie123', 'Movie124', 'Movie125', 'Movie126',\n",
       "       'Movie127', 'Movie128', 'Movie129', 'Movie130', 'Movie131',\n",
       "       'Movie132', 'Movie133', 'Movie134', 'Movie135', 'Movie136',\n",
       "       'Movie137', 'Movie138', 'Movie139', 'Movie140', 'Movie141',\n",
       "       'Movie142', 'Movie143', 'Movie144', 'Movie145', 'Movie146',\n",
       "       'Movie147', 'Movie148', 'Movie149', 'Movie150', 'Movie151',\n",
       "       'Movie152', 'Movie153', 'Movie154', 'Movie155', 'Movie156',\n",
       "       'Movie157', 'Movie158', 'Movie159', 'Movie160', 'Movie161',\n",
       "       'Movie162', 'Movie163', 'Movie164', 'Movie165', 'Movie166',\n",
       "       'Movie167', 'Movie168', 'Movie169', 'Movie170', 'Movie171',\n",
       "       'Movie172', 'Movie173', 'Movie174', 'Movie175', 'Movie176',\n",
       "       'Movie177', 'Movie178', 'Movie179', 'Movie180', 'Movie181',\n",
       "       'Movie182', 'Movie183', 'Movie184', 'Movie185', 'Movie186',\n",
       "       'Movie187', 'Movie188', 'Movie189', 'Movie190', 'Movie191',\n",
       "       'Movie192', 'Movie193', 'Movie194', 'Movie195', 'Movie196',\n",
       "       'Movie197', 'Movie198', 'Movie199', 'Movie200', 'Movie201',\n",
       "       'Movie202', 'Movie203', 'Movie204', 'Movie205', 'Movie206'],\n",
       "      dtype=object)"
      ]
     },
     "execution_count": 34,
     "metadata": {},
     "output_type": "execute_result"
    }
   ],
   "source": [
    "iids = ratings['item_id'].unique()\n",
    "iids"
   ]
  },
  {
   "cell_type": "code",
   "execution_count": null,
   "id": "8a5e5e1c",
   "metadata": {},
   "outputs": [],
   "source": []
  },
  {
   "cell_type": "code",
   "execution_count": null,
   "id": "ca15934d",
   "metadata": {},
   "outputs": [],
   "source": []
  },
  {
   "cell_type": "code",
   "execution_count": null,
   "id": "e52e3a90",
   "metadata": {},
   "outputs": [],
   "source": []
  },
  {
   "cell_type": "code",
   "execution_count": null,
   "id": "39eec58a",
   "metadata": {},
   "outputs": [],
   "source": []
  },
  {
   "cell_type": "code",
   "execution_count": null,
   "id": "78e18818",
   "metadata": {},
   "outputs": [],
   "source": []
  },
  {
   "cell_type": "code",
   "execution_count": null,
   "id": "13010ec6",
   "metadata": {},
   "outputs": [],
   "source": []
  },
  {
   "cell_type": "code",
   "execution_count": null,
   "id": "f45bee12",
   "metadata": {},
   "outputs": [],
   "source": []
  },
  {
   "cell_type": "code",
   "execution_count": null,
   "id": "40658d38",
   "metadata": {},
   "outputs": [],
   "source": []
  },
  {
   "cell_type": "code",
   "execution_count": null,
   "id": "58dfe97b",
   "metadata": {},
   "outputs": [],
   "source": []
  },
  {
   "cell_type": "code",
   "execution_count": null,
   "id": "fef63bca",
   "metadata": {},
   "outputs": [],
   "source": []
  },
  {
   "cell_type": "code",
   "execution_count": null,
   "id": "b4c4e3b4",
   "metadata": {},
   "outputs": [],
   "source": []
  },
  {
   "cell_type": "code",
   "execution_count": null,
   "id": "06ad814f",
   "metadata": {},
   "outputs": [],
   "source": []
  },
  {
   "cell_type": "code",
   "execution_count": null,
   "id": "84f52975",
   "metadata": {},
   "outputs": [],
   "source": []
  },
  {
   "cell_type": "code",
   "execution_count": null,
   "id": "eabd1744",
   "metadata": {},
   "outputs": [],
   "source": []
  },
  {
   "cell_type": "code",
   "execution_count": null,
   "id": "4cd485ba",
   "metadata": {},
   "outputs": [],
   "source": []
  },
  {
   "cell_type": "code",
   "execution_count": null,
   "id": "96d1fb28",
   "metadata": {},
   "outputs": [],
   "source": []
  },
  {
   "cell_type": "code",
   "execution_count": null,
   "id": "3a3d4671",
   "metadata": {},
   "outputs": [],
   "source": []
  },
  {
   "cell_type": "code",
   "execution_count": null,
   "id": "d50b4d72",
   "metadata": {},
   "outputs": [],
   "source": []
  },
  {
   "cell_type": "code",
   "execution_count": null,
   "id": "001a8b25",
   "metadata": {},
   "outputs": [],
   "source": []
  },
  {
   "cell_type": "code",
   "execution_count": null,
   "id": "382c5c7a",
   "metadata": {},
   "outputs": [],
   "source": []
  },
  {
   "cell_type": "code",
   "execution_count": null,
   "id": "bb499a24",
   "metadata": {},
   "outputs": [],
   "source": []
  },
  {
   "cell_type": "code",
   "execution_count": null,
   "id": "6b9adf8c",
   "metadata": {},
   "outputs": [],
   "source": []
  },
  {
   "cell_type": "code",
   "execution_count": null,
   "id": "a13282a7",
   "metadata": {},
   "outputs": [],
   "source": []
  }
 ],
 "metadata": {
  "kernelspec": {
   "display_name": "Python 3 (ipykernel)",
   "language": "python",
   "name": "python3"
  },
  "language_info": {
   "codemirror_mode": {
    "name": "ipython",
    "version": 3
   },
   "file_extension": ".py",
   "mimetype": "text/x-python",
   "name": "python",
   "nbconvert_exporter": "python",
   "pygments_lexer": "ipython3",
   "version": "3.9.13"
  }
 },
 "nbformat": 4,
 "nbformat_minor": 5
}
