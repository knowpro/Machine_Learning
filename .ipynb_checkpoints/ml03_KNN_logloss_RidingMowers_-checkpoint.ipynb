{
 "cells": [
  {
   "cell_type": "code",
   "execution_count": 30,
   "id": "888e554b",
   "metadata": {},
   "outputs": [],
   "source": [
    "import pandas as pd\n",
    "\n",
    "from sklearn.model_selection import train_test_split\n",
    "from sklearn.neighbors import KNeighborsClassifier"
   ]
  },
  {
   "cell_type": "code",
   "execution_count": 31,
   "id": "fa63fed3",
   "metadata": {},
   "outputs": [],
   "source": [
    "mow = pd.read_csv(r\"Datasets\\RidingMowers.csv\")"
   ]
  },
  {
   "cell_type": "code",
   "execution_count": 32,
   "id": "8e8335ce",
   "metadata": {},
   "outputs": [],
   "source": [
    "dum_mow = pd.get_dummies(mow, drop_first = True)"
   ]
  },
  {
   "cell_type": "code",
   "execution_count": 38,
   "id": "82cf7147",
   "metadata": {},
   "outputs": [],
   "source": [
    "X = dum_mow.drop(\"Response_Not Bought\", axis = 1)\n",
    "y = dum_mow[\"Response_Not Bought\"]"
   ]
  },
  {
   "cell_type": "code",
   "execution_count": 39,
   "id": "96bf5350",
   "metadata": {},
   "outputs": [],
   "source": [
    "X_train, X_test, y_train, y_test = train_test_split(X, y, stratify = y,\n",
    "                                                    random_state = 2022,\n",
    "                                                    train_size = 0.7\n",
    "                                                   )"
   ]
  },
  {
   "cell_type": "code",
   "execution_count": 35,
   "id": "55f46eda",
   "metadata": {},
   "outputs": [],
   "source": [
    "from sklearn.metrics import log_loss"
   ]
  },
  {
   "cell_type": "code",
   "execution_count": 36,
   "id": "61cd5602",
   "metadata": {},
   "outputs": [],
   "source": [
    "# Log loss\n",
    "\n",
    "acc = []\n",
    "Ks = [x for x in range(1,16,2)]\n",
    "\n",
    "for i in Ks:\n",
    "    knn = KNeighborsClassifier( n_neighbors = i )\n",
    "    knn.fit(X_train, y_train)\n",
    "    y_pred_prob = knn.predict_proba(X_test)[:,1]\n",
    "    acc.append(-log_loss(y_test, y_pred_prob))"
   ]
  },
  {
   "cell_type": "code",
   "execution_count": 37,
   "id": "4dbb62d2",
   "metadata": {},
   "outputs": [
    {
     "name": "stdout",
     "output_type": "stream",
     "text": [
      "Best n_neighbors =  15\n",
      "0.977961432506887\n"
     ]
    }
   ],
   "source": [
    "i_max = np.argmax(acc)\n",
    "best_k = Ks[i_max]\n",
    "print(\"Best n_neighbors = \", best_k)\n",
    "print(roc_auc_score(y_test, y_pred_prob))"
   ]
  },
  {
   "cell_type": "code",
   "execution_count": null,
   "id": "990da946",
   "metadata": {},
   "outputs": [],
   "source": []
  },
  {
   "cell_type": "code",
   "execution_count": null,
   "id": "50d51eb1",
   "metadata": {},
   "outputs": [],
   "source": []
  }
 ],
 "metadata": {
  "kernelspec": {
   "display_name": "Python 3 (ipykernel)",
   "language": "python",
   "name": "python3"
  },
  "language_info": {
   "codemirror_mode": {
    "name": "ipython",
    "version": 3
   },
   "file_extension": ".py",
   "mimetype": "text/x-python",
   "name": "python",
   "nbconvert_exporter": "python",
   "pygments_lexer": "ipython3",
   "version": "3.9.13"
  }
 },
 "nbformat": 4,
 "nbformat_minor": 5
}
