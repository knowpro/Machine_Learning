{
 "cells": [
  {
   "cell_type": "code",
   "execution_count": 11,
   "id": "885290af",
   "metadata": {},
   "outputs": [],
   "source": [
    "import pandas as pd\n",
    "import numpy as np"
   ]
  },
  {
   "cell_type": "code",
   "execution_count": 4,
   "id": "2689781c",
   "metadata": {},
   "outputs": [
    {
     "name": "stdout",
     "output_type": "stream",
     "text": [
      "[ 5  8  2  9 13]\n"
     ]
    }
   ],
   "source": [
    "x = np.array([5, 8, 2, 9, 13])\n",
    "print(x)"
   ]
  },
  {
   "cell_type": "code",
   "execution_count": 10,
   "id": "d651a477",
   "metadata": {},
   "outputs": [],
   "source": [
    "minx = x.min()\n",
    "maxx = x.max()\n",
    "\n",
    "x_scaled = []\n",
    "\n",
    "for num in x:\n",
    "    min_max_scale = (num - minx)/(maxx - minx)\n",
    "    x_scaled.append(min_max_scale)\n",
    "\n",
    "x_scaled = np.array(x_scaled)\n"
   ]
  },
  {
   "cell_type": "code",
   "execution_count": 8,
   "id": "6ab76a5d",
   "metadata": {},
   "outputs": [
    {
     "data": {
      "text/plain": [
       "[0.2727272727272727, 0.5454545454545454, 0.0, 0.6363636363636364, 1.0]"
      ]
     },
     "execution_count": 8,
     "metadata": {},
     "output_type": "execute_result"
    }
   ],
   "source": [
    "x_scaled"
   ]
  },
  {
   "cell_type": "code",
   "execution_count": null,
   "id": "4fd01cde",
   "metadata": {},
   "outputs": [],
   "source": []
  }
 ],
 "metadata": {
  "kernelspec": {
   "display_name": "Python 3 (ipykernel)",
   "language": "python",
   "name": "python3"
  },
  "language_info": {
   "codemirror_mode": {
    "name": "ipython",
    "version": 3
   },
   "file_extension": ".py",
   "mimetype": "text/x-python",
   "name": "python",
   "nbconvert_exporter": "python",
   "pygments_lexer": "ipython3",
   "version": "3.9.13"
  }
 },
 "nbformat": 4,
 "nbformat_minor": 5
}
