{
 "cells": [
  {
   "cell_type": "code",
   "execution_count": 6,
   "id": "46e71bc9",
   "metadata": {
    "scrolled": true
   },
   "outputs": [
    {
     "ename": "ImportError",
     "evalue": "cannot import name 'H2OGeneralizedLinearEstimator' from 'h2o.estimators.random_forest' (C:\\Users\\admin\\anaconda3\\lib\\site-packages\\h2o\\estimators\\random_forest.py)",
     "output_type": "error",
     "traceback": [
      "\u001b[1;31m---------------------------------------------------------------------------\u001b[0m",
      "\u001b[1;31mImportError\u001b[0m                               Traceback (most recent call last)",
      "\u001b[1;32m~\\AppData\\Local\\Temp\\ipykernel_8012\\1785536241.py\u001b[0m in \u001b[0;36m<module>\u001b[1;34m\u001b[0m\n\u001b[0;32m      2\u001b[0m \u001b[1;33m\u001b[0m\u001b[0m\n\u001b[0;32m      3\u001b[0m \u001b[1;31m#from h2o.estimators.random_forest import H2OGradientBoostingEstimator\u001b[0m\u001b[1;33m\u001b[0m\u001b[1;33m\u001b[0m\u001b[0m\n\u001b[1;32m----> 4\u001b[1;33m \u001b[1;32mfrom\u001b[0m \u001b[0mh2o\u001b[0m\u001b[1;33m.\u001b[0m\u001b[0mestimators\u001b[0m\u001b[1;33m.\u001b[0m\u001b[0mrandom_forest\u001b[0m \u001b[1;32mimport\u001b[0m \u001b[0mH2OGeneralizedLinearEstimator\u001b[0m\u001b[1;33m\u001b[0m\u001b[1;33m\u001b[0m\u001b[0m\n\u001b[0m",
      "\u001b[1;31mImportError\u001b[0m: cannot import name 'H2OGeneralizedLinearEstimator' from 'h2o.estimators.random_forest' (C:\\Users\\admin\\anaconda3\\lib\\site-packages\\h2o\\estimators\\random_forest.py)"
     ]
    }
   ],
   "source": [
    "import h2o\n",
    "\n",
    "#from h2o.estimators.random_forest import H2OGradientBoostingEstimator\n",
    "from h2o.estimators.random_forest import H2OGeneralizedLinearEstimator"
   ]
  },
  {
   "cell_type": "code",
   "execution_count": null,
   "id": "dc700fa2",
   "metadata": {},
   "outputs": [],
   "source": [
    "h20.init()"
   ]
  },
  {
   "cell_type": "code",
   "execution_count": null,
   "id": "4d1741b1",
   "metadata": {},
   "outputs": [],
   "source": [
    "train = h20.import_file(\"trian.csv\",\n",
    "                       destination-frame =\"train\")"
   ]
  },
  {
   "cell_type": "code",
   "execution_count": null,
   "id": "79d2ad77",
   "metadata": {},
   "outputs": [],
   "source": [
    "test = h20.import_file(\"test.csv\",\n",
    "                       destination-frame =\"test\")"
   ]
  },
  {
   "cell_type": "code",
   "execution_count": null,
   "id": "59e6f593",
   "metadata": {},
   "outputs": [],
   "source": [
    "print(train.col_names)"
   ]
  },
  {
   "cell_type": "code",
   "execution_count": null,
   "id": "98135a1f",
   "metadata": {},
   "outputs": [],
   "source": [
    "all_cols = train.col_names\n",
    "\n"
   ]
  },
  {
   "cell_type": "code",
   "execution_count": null,
   "id": "bc3bff89",
   "metadata": {},
   "outputs": [],
   "source": []
  },
  {
   "cell_type": "markdown",
   "id": "d740bc03",
   "metadata": {},
   "source": [
    "# h2o GeneralizedLinearEstimator"
   ]
  },
  {
   "cell_type": "code",
   "execution_count": null,
   "id": "7fe6b361",
   "metadata": {},
   "outputs": [],
   "source": [
    "h2o_glm = H2OGeneralizedLinearEstimator(seed=2022)\n",
    "\n",
    "h2o_glm.train(x=X, y=Y, training_frame = train,\n",
    "             model_id = \"h20\")"
   ]
  }
 ],
 "metadata": {
  "kernelspec": {
   "display_name": "Python 3 (ipykernel)",
   "language": "python",
   "name": "python3"
  },
  "language_info": {
   "codemirror_mode": {
    "name": "ipython",
    "version": 3
   },
   "file_extension": ".py",
   "mimetype": "text/x-python",
   "name": "python",
   "nbconvert_exporter": "python",
   "pygments_lexer": "ipython3",
   "version": "3.9.13"
  }
 },
 "nbformat": 4,
 "nbformat_minor": 5
}
