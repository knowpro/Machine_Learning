{
 "cells": [
  {
   "cell_type": "code",
   "execution_count": 34,
   "id": "59d9ea80",
   "metadata": {},
   "outputs": [],
   "source": [
    "import pandas as pd\n",
    "import numpy as np\n",
    "\n",
    "from sklearn.neural_network import MLPRegressor\n",
    "from sklearn.metrics import accuracy_score, roc_auc_score\n",
    "from sklearn.model_selection import train_test_split\n",
    "from sklearn.model_selection import KFold\n",
    "from sklearn.model_selection import GridSearchCV\n",
    "\n",
    "from sklearn.preprocessing import MinMaxScaler\n",
    "from sklearn.pipeline import Pipeline"
   ]
  },
  {
   "cell_type": "code",
   "execution_count": 35,
   "id": "0b153a10",
   "metadata": {},
   "outputs": [],
   "source": [
    "con = pd.read_csv(r\"Cases\\Concrete Strength\\Concrete_Data.csv\")"
   ]
  },
  {
   "cell_type": "code",
   "execution_count": 36,
   "id": "b2a54665",
   "metadata": {},
   "outputs": [
    {
     "data": {
      "text/html": [
       "<div>\n",
       "<style scoped>\n",
       "    .dataframe tbody tr th:only-of-type {\n",
       "        vertical-align: middle;\n",
       "    }\n",
       "\n",
       "    .dataframe tbody tr th {\n",
       "        vertical-align: top;\n",
       "    }\n",
       "\n",
       "    .dataframe thead th {\n",
       "        text-align: right;\n",
       "    }\n",
       "</style>\n",
       "<table border=\"1\" class=\"dataframe\">\n",
       "  <thead>\n",
       "    <tr style=\"text-align: right;\">\n",
       "      <th></th>\n",
       "      <th>Cement</th>\n",
       "      <th>Blast</th>\n",
       "      <th>Fly</th>\n",
       "      <th>Water</th>\n",
       "      <th>Superplasticizer</th>\n",
       "      <th>Coarse</th>\n",
       "      <th>Fine</th>\n",
       "      <th>Age</th>\n",
       "      <th>Strength</th>\n",
       "    </tr>\n",
       "  </thead>\n",
       "  <tbody>\n",
       "    <tr>\n",
       "      <th>0</th>\n",
       "      <td>540.0</td>\n",
       "      <td>0.0</td>\n",
       "      <td>0.0</td>\n",
       "      <td>162.0</td>\n",
       "      <td>2.5</td>\n",
       "      <td>1040.0</td>\n",
       "      <td>676.0</td>\n",
       "      <td>28</td>\n",
       "      <td>79.99</td>\n",
       "    </tr>\n",
       "    <tr>\n",
       "      <th>1</th>\n",
       "      <td>540.0</td>\n",
       "      <td>0.0</td>\n",
       "      <td>0.0</td>\n",
       "      <td>162.0</td>\n",
       "      <td>2.5</td>\n",
       "      <td>1055.0</td>\n",
       "      <td>676.0</td>\n",
       "      <td>28</td>\n",
       "      <td>61.89</td>\n",
       "    </tr>\n",
       "    <tr>\n",
       "      <th>2</th>\n",
       "      <td>332.5</td>\n",
       "      <td>142.5</td>\n",
       "      <td>0.0</td>\n",
       "      <td>228.0</td>\n",
       "      <td>0.0</td>\n",
       "      <td>932.0</td>\n",
       "      <td>594.0</td>\n",
       "      <td>270</td>\n",
       "      <td>40.27</td>\n",
       "    </tr>\n",
       "    <tr>\n",
       "      <th>3</th>\n",
       "      <td>332.5</td>\n",
       "      <td>142.5</td>\n",
       "      <td>0.0</td>\n",
       "      <td>228.0</td>\n",
       "      <td>0.0</td>\n",
       "      <td>932.0</td>\n",
       "      <td>594.0</td>\n",
       "      <td>365</td>\n",
       "      <td>41.05</td>\n",
       "    </tr>\n",
       "    <tr>\n",
       "      <th>4</th>\n",
       "      <td>198.6</td>\n",
       "      <td>132.4</td>\n",
       "      <td>0.0</td>\n",
       "      <td>192.0</td>\n",
       "      <td>0.0</td>\n",
       "      <td>978.4</td>\n",
       "      <td>825.5</td>\n",
       "      <td>360</td>\n",
       "      <td>44.30</td>\n",
       "    </tr>\n",
       "  </tbody>\n",
       "</table>\n",
       "</div>"
      ],
      "text/plain": [
       "   Cement  Blast  Fly  Water  Superplasticizer  Coarse   Fine  Age  Strength\n",
       "0   540.0    0.0  0.0  162.0               2.5  1040.0  676.0   28     79.99\n",
       "1   540.0    0.0  0.0  162.0               2.5  1055.0  676.0   28     61.89\n",
       "2   332.5  142.5  0.0  228.0               0.0   932.0  594.0  270     40.27\n",
       "3   332.5  142.5  0.0  228.0               0.0   932.0  594.0  365     41.05\n",
       "4   198.6  132.4  0.0  192.0               0.0   978.4  825.5  360     44.30"
      ]
     },
     "execution_count": 36,
     "metadata": {},
     "output_type": "execute_result"
    }
   ],
   "source": [
    "con.head()"
   ]
  },
  {
   "cell_type": "code",
   "execution_count": 37,
   "id": "9a28f338",
   "metadata": {},
   "outputs": [],
   "source": [
    "X = con.drop(\"Strength\" , axis =1)\n",
    "y = con[\"Strength\"]"
   ]
  },
  {
   "cell_type": "markdown",
   "id": "40bafde8",
   "metadata": {},
   "source": [
    "X_train, X_test, y_train, y_test = train_test_split(X,\n",
    "                                                    y,\n",
    "                                                    stratify = y,\n",
    "                                                    random_state = 2022,\n",
    "                                                    train_size = 0.7)"
   ]
  },
  {
   "cell_type": "code",
   "execution_count": 38,
   "id": "967054b7",
   "metadata": {},
   "outputs": [],
   "source": [
    "kfold  = KFold(n_splits = 5,\n",
    "                       shuffle = True,\n",
    "                       random_state =2022)"
   ]
  },
  {
   "cell_type": "code",
   "execution_count": 39,
   "id": "86ec9a9e",
   "metadata": {},
   "outputs": [],
   "source": [
    "mm = MinMaxScaler()"
   ]
  },
  {
   "cell_type": "code",
   "execution_count": 42,
   "id": "d1d4efa9",
   "metadata": {},
   "outputs": [],
   "source": [
    "mlp = MLPRegressor(random_state = 2022)"
   ]
  },
  {
   "cell_type": "code",
   "execution_count": 43,
   "id": "c1c7a0b3",
   "metadata": {},
   "outputs": [],
   "source": [
    "\n",
    "pipe = Pipeline([('MM',mm),('MLP',mlp)])\n"
   ]
  },
  {
   "cell_type": "code",
   "execution_count": 47,
   "id": "8259750e",
   "metadata": {},
   "outputs": [],
   "source": [
    "params = { \"MLP__hidden_layer_sizes\": [(6, 4, 3), (7, 5), (10,)],\n",
    "         \"MLP__learning_rate\": [\"constant\", \"invscaling\", \"adaptive\"],\n",
    "         \"MLP__learning_rate_init\": [0.001, 0.3, 0.5]}"
   ]
  },
  {
   "cell_type": "code",
   "execution_count": 48,
   "id": "acf37b6e",
   "metadata": {
    "scrolled": true
   },
   "outputs": [
    {
     "name": "stdout",
     "output_type": "stream",
     "text": [
      "Fitting 5 folds for each of 27 candidates, totalling 135 fits\n"
     ]
    },
    {
     "name": "stderr",
     "output_type": "stream",
     "text": [
      "C:\\Users\\admin\\anaconda3\\lib\\site-packages\\sklearn\\neural_network\\_multilayer_perceptron.py:679: ConvergenceWarning: Stochastic Optimizer: Maximum iterations (200) reached and the optimization hasn't converged yet.\n",
      "  warnings.warn(\n"
     ]
    },
    {
     "name": "stdout",
     "output_type": "stream",
     "text": [
      "[CV 1/5] END MLP__hidden_layer_sizes=(6, 4, 3), MLP__learning_rate=constant, MLP__learning_rate_init=0.001;, score=-4.697 total time=   0.4s\n"
     ]
    },
    {
     "name": "stderr",
     "output_type": "stream",
     "text": [
      "C:\\Users\\admin\\anaconda3\\lib\\site-packages\\sklearn\\neural_network\\_multilayer_perceptron.py:679: ConvergenceWarning: Stochastic Optimizer: Maximum iterations (200) reached and the optimization hasn't converged yet.\n",
      "  warnings.warn(\n"
     ]
    },
    {
     "name": "stdout",
     "output_type": "stream",
     "text": [
      "[CV 2/5] END MLP__hidden_layer_sizes=(6, 4, 3), MLP__learning_rate=constant, MLP__learning_rate_init=0.001;, score=-3.923 total time=   0.4s\n"
     ]
    },
    {
     "name": "stderr",
     "output_type": "stream",
     "text": [
      "C:\\Users\\admin\\anaconda3\\lib\\site-packages\\sklearn\\neural_network\\_multilayer_perceptron.py:679: ConvergenceWarning: Stochastic Optimizer: Maximum iterations (200) reached and the optimization hasn't converged yet.\n",
      "  warnings.warn(\n"
     ]
    },
    {
     "name": "stdout",
     "output_type": "stream",
     "text": [
      "[CV 3/5] END MLP__hidden_layer_sizes=(6, 4, 3), MLP__learning_rate=constant, MLP__learning_rate_init=0.001;, score=-4.179 total time=   0.4s\n"
     ]
    },
    {
     "name": "stderr",
     "output_type": "stream",
     "text": [
      "C:\\Users\\admin\\anaconda3\\lib\\site-packages\\sklearn\\neural_network\\_multilayer_perceptron.py:679: ConvergenceWarning: Stochastic Optimizer: Maximum iterations (200) reached and the optimization hasn't converged yet.\n",
      "  warnings.warn(\n"
     ]
    },
    {
     "name": "stdout",
     "output_type": "stream",
     "text": [
      "[CV 4/5] END MLP__hidden_layer_sizes=(6, 4, 3), MLP__learning_rate=constant, MLP__learning_rate_init=0.001;, score=-4.491 total time=   0.5s\n"
     ]
    },
    {
     "name": "stderr",
     "output_type": "stream",
     "text": [
      "C:\\Users\\admin\\anaconda3\\lib\\site-packages\\sklearn\\neural_network\\_multilayer_perceptron.py:679: ConvergenceWarning: Stochastic Optimizer: Maximum iterations (200) reached and the optimization hasn't converged yet.\n",
      "  warnings.warn(\n"
     ]
    },
    {
     "name": "stdout",
     "output_type": "stream",
     "text": [
      "[CV 5/5] END MLP__hidden_layer_sizes=(6, 4, 3), MLP__learning_rate=constant, MLP__learning_rate_init=0.001;, score=-4.755 total time=   0.5s\n",
      "[CV 1/5] END MLP__hidden_layer_sizes=(6, 4, 3), MLP__learning_rate=constant, MLP__learning_rate_init=0.3;, score=-0.005 total time=   0.1s\n",
      "[CV 2/5] END MLP__hidden_layer_sizes=(6, 4, 3), MLP__learning_rate=constant, MLP__learning_rate_init=0.3;, score=-0.016 total time=   0.1s\n",
      "[CV 3/5] END MLP__hidden_layer_sizes=(6, 4, 3), MLP__learning_rate=constant, MLP__learning_rate_init=0.3;, score=-0.006 total time=   0.1s\n",
      "[CV 4/5] END MLP__hidden_layer_sizes=(6, 4, 3), MLP__learning_rate=constant, MLP__learning_rate_init=0.3;, score=-0.001 total time=   0.1s\n",
      "[CV 5/5] END MLP__hidden_layer_sizes=(6, 4, 3), MLP__learning_rate=constant, MLP__learning_rate_init=0.3;, score=-0.013 total time=   0.1s\n",
      "[CV 1/5] END MLP__hidden_layer_sizes=(6, 4, 3), MLP__learning_rate=constant, MLP__learning_rate_init=0.5;, score=-0.002 total time=   0.0s\n",
      "[CV 2/5] END MLP__hidden_layer_sizes=(6, 4, 3), MLP__learning_rate=constant, MLP__learning_rate_init=0.5;, score=-0.011 total time=   0.0s\n",
      "[CV 3/5] END MLP__hidden_layer_sizes=(6, 4, 3), MLP__learning_rate=constant, MLP__learning_rate_init=0.5;, score=-0.006 total time=   0.0s\n",
      "[CV 4/5] END MLP__hidden_layer_sizes=(6, 4, 3), MLP__learning_rate=constant, MLP__learning_rate_init=0.5;, score=-0.000 total time=   0.0s\n",
      "[CV 5/5] END MLP__hidden_layer_sizes=(6, 4, 3), MLP__learning_rate=constant, MLP__learning_rate_init=0.5;, score=-0.010 total time=   0.0s\n"
     ]
    },
    {
     "name": "stderr",
     "output_type": "stream",
     "text": [
      "C:\\Users\\admin\\anaconda3\\lib\\site-packages\\sklearn\\neural_network\\_multilayer_perceptron.py:679: ConvergenceWarning: Stochastic Optimizer: Maximum iterations (200) reached and the optimization hasn't converged yet.\n",
      "  warnings.warn(\n"
     ]
    },
    {
     "name": "stdout",
     "output_type": "stream",
     "text": [
      "[CV 1/5] END MLP__hidden_layer_sizes=(6, 4, 3), MLP__learning_rate=invscaling, MLP__learning_rate_init=0.001;, score=-4.697 total time=   0.4s\n"
     ]
    },
    {
     "name": "stderr",
     "output_type": "stream",
     "text": [
      "C:\\Users\\admin\\anaconda3\\lib\\site-packages\\sklearn\\neural_network\\_multilayer_perceptron.py:679: ConvergenceWarning: Stochastic Optimizer: Maximum iterations (200) reached and the optimization hasn't converged yet.\n",
      "  warnings.warn(\n"
     ]
    },
    {
     "name": "stdout",
     "output_type": "stream",
     "text": [
      "[CV 2/5] END MLP__hidden_layer_sizes=(6, 4, 3), MLP__learning_rate=invscaling, MLP__learning_rate_init=0.001;, score=-3.923 total time=   0.4s\n"
     ]
    },
    {
     "name": "stderr",
     "output_type": "stream",
     "text": [
      "C:\\Users\\admin\\anaconda3\\lib\\site-packages\\sklearn\\neural_network\\_multilayer_perceptron.py:679: ConvergenceWarning: Stochastic Optimizer: Maximum iterations (200) reached and the optimization hasn't converged yet.\n",
      "  warnings.warn(\n"
     ]
    },
    {
     "name": "stdout",
     "output_type": "stream",
     "text": [
      "[CV 3/5] END MLP__hidden_layer_sizes=(6, 4, 3), MLP__learning_rate=invscaling, MLP__learning_rate_init=0.001;, score=-4.179 total time=   0.4s\n"
     ]
    },
    {
     "name": "stderr",
     "output_type": "stream",
     "text": [
      "C:\\Users\\admin\\anaconda3\\lib\\site-packages\\sklearn\\neural_network\\_multilayer_perceptron.py:679: ConvergenceWarning: Stochastic Optimizer: Maximum iterations (200) reached and the optimization hasn't converged yet.\n",
      "  warnings.warn(\n"
     ]
    },
    {
     "name": "stdout",
     "output_type": "stream",
     "text": [
      "[CV 4/5] END MLP__hidden_layer_sizes=(6, 4, 3), MLP__learning_rate=invscaling, MLP__learning_rate_init=0.001;, score=-4.491 total time=   0.4s\n"
     ]
    },
    {
     "name": "stderr",
     "output_type": "stream",
     "text": [
      "C:\\Users\\admin\\anaconda3\\lib\\site-packages\\sklearn\\neural_network\\_multilayer_perceptron.py:679: ConvergenceWarning: Stochastic Optimizer: Maximum iterations (200) reached and the optimization hasn't converged yet.\n",
      "  warnings.warn(\n"
     ]
    },
    {
     "name": "stdout",
     "output_type": "stream",
     "text": [
      "[CV 5/5] END MLP__hidden_layer_sizes=(6, 4, 3), MLP__learning_rate=invscaling, MLP__learning_rate_init=0.001;, score=-4.755 total time=   0.4s\n",
      "[CV 1/5] END MLP__hidden_layer_sizes=(6, 4, 3), MLP__learning_rate=invscaling, MLP__learning_rate_init=0.3;, score=-0.005 total time=   0.1s\n",
      "[CV 2/5] END MLP__hidden_layer_sizes=(6, 4, 3), MLP__learning_rate=invscaling, MLP__learning_rate_init=0.3;, score=-0.016 total time=   0.1s\n",
      "[CV 3/5] END MLP__hidden_layer_sizes=(6, 4, 3), MLP__learning_rate=invscaling, MLP__learning_rate_init=0.3;, score=-0.006 total time=   0.1s\n",
      "[CV 4/5] END MLP__hidden_layer_sizes=(6, 4, 3), MLP__learning_rate=invscaling, MLP__learning_rate_init=0.3;, score=-0.001 total time=   0.1s\n",
      "[CV 5/5] END MLP__hidden_layer_sizes=(6, 4, 3), MLP__learning_rate=invscaling, MLP__learning_rate_init=0.3;, score=-0.013 total time=   0.1s\n",
      "[CV 1/5] END MLP__hidden_layer_sizes=(6, 4, 3), MLP__learning_rate=invscaling, MLP__learning_rate_init=0.5;, score=-0.002 total time=   0.0s\n",
      "[CV 2/5] END MLP__hidden_layer_sizes=(6, 4, 3), MLP__learning_rate=invscaling, MLP__learning_rate_init=0.5;, score=-0.011 total time=   0.0s\n",
      "[CV 3/5] END MLP__hidden_layer_sizes=(6, 4, 3), MLP__learning_rate=invscaling, MLP__learning_rate_init=0.5;, score=-0.006 total time=   0.0s\n",
      "[CV 4/5] END MLP__hidden_layer_sizes=(6, 4, 3), MLP__learning_rate=invscaling, MLP__learning_rate_init=0.5;, score=-0.000 total time=   0.0s\n",
      "[CV 5/5] END MLP__hidden_layer_sizes=(6, 4, 3), MLP__learning_rate=invscaling, MLP__learning_rate_init=0.5;, score=-0.010 total time=   0.0s\n"
     ]
    },
    {
     "name": "stderr",
     "output_type": "stream",
     "text": [
      "C:\\Users\\admin\\anaconda3\\lib\\site-packages\\sklearn\\neural_network\\_multilayer_perceptron.py:679: ConvergenceWarning: Stochastic Optimizer: Maximum iterations (200) reached and the optimization hasn't converged yet.\n",
      "  warnings.warn(\n"
     ]
    },
    {
     "name": "stdout",
     "output_type": "stream",
     "text": [
      "[CV 1/5] END MLP__hidden_layer_sizes=(6, 4, 3), MLP__learning_rate=adaptive, MLP__learning_rate_init=0.001;, score=-4.697 total time=   0.4s\n"
     ]
    },
    {
     "name": "stderr",
     "output_type": "stream",
     "text": [
      "C:\\Users\\admin\\anaconda3\\lib\\site-packages\\sklearn\\neural_network\\_multilayer_perceptron.py:679: ConvergenceWarning: Stochastic Optimizer: Maximum iterations (200) reached and the optimization hasn't converged yet.\n",
      "  warnings.warn(\n"
     ]
    },
    {
     "name": "stdout",
     "output_type": "stream",
     "text": [
      "[CV 2/5] END MLP__hidden_layer_sizes=(6, 4, 3), MLP__learning_rate=adaptive, MLP__learning_rate_init=0.001;, score=-3.923 total time=   0.4s\n"
     ]
    },
    {
     "name": "stderr",
     "output_type": "stream",
     "text": [
      "C:\\Users\\admin\\anaconda3\\lib\\site-packages\\sklearn\\neural_network\\_multilayer_perceptron.py:679: ConvergenceWarning: Stochastic Optimizer: Maximum iterations (200) reached and the optimization hasn't converged yet.\n",
      "  warnings.warn(\n"
     ]
    },
    {
     "name": "stdout",
     "output_type": "stream",
     "text": [
      "[CV 3/5] END MLP__hidden_layer_sizes=(6, 4, 3), MLP__learning_rate=adaptive, MLP__learning_rate_init=0.001;, score=-4.179 total time=   0.4s\n"
     ]
    },
    {
     "name": "stderr",
     "output_type": "stream",
     "text": [
      "C:\\Users\\admin\\anaconda3\\lib\\site-packages\\sklearn\\neural_network\\_multilayer_perceptron.py:679: ConvergenceWarning: Stochastic Optimizer: Maximum iterations (200) reached and the optimization hasn't converged yet.\n",
      "  warnings.warn(\n"
     ]
    },
    {
     "name": "stdout",
     "output_type": "stream",
     "text": [
      "[CV 4/5] END MLP__hidden_layer_sizes=(6, 4, 3), MLP__learning_rate=adaptive, MLP__learning_rate_init=0.001;, score=-4.491 total time=   0.4s\n"
     ]
    },
    {
     "name": "stderr",
     "output_type": "stream",
     "text": [
      "C:\\Users\\admin\\anaconda3\\lib\\site-packages\\sklearn\\neural_network\\_multilayer_perceptron.py:679: ConvergenceWarning: Stochastic Optimizer: Maximum iterations (200) reached and the optimization hasn't converged yet.\n",
      "  warnings.warn(\n"
     ]
    },
    {
     "name": "stdout",
     "output_type": "stream",
     "text": [
      "[CV 5/5] END MLP__hidden_layer_sizes=(6, 4, 3), MLP__learning_rate=adaptive, MLP__learning_rate_init=0.001;, score=-4.755 total time=   0.4s\n",
      "[CV 1/5] END MLP__hidden_layer_sizes=(6, 4, 3), MLP__learning_rate=adaptive, MLP__learning_rate_init=0.3;, score=-0.005 total time=   0.1s\n",
      "[CV 2/5] END MLP__hidden_layer_sizes=(6, 4, 3), MLP__learning_rate=adaptive, MLP__learning_rate_init=0.3;, score=-0.016 total time=   0.1s\n",
      "[CV 3/5] END MLP__hidden_layer_sizes=(6, 4, 3), MLP__learning_rate=adaptive, MLP__learning_rate_init=0.3;, score=-0.006 total time=   0.1s\n",
      "[CV 4/5] END MLP__hidden_layer_sizes=(6, 4, 3), MLP__learning_rate=adaptive, MLP__learning_rate_init=0.3;, score=-0.001 total time=   0.1s\n",
      "[CV 5/5] END MLP__hidden_layer_sizes=(6, 4, 3), MLP__learning_rate=adaptive, MLP__learning_rate_init=0.3;, score=-0.013 total time=   0.1s\n",
      "[CV 1/5] END MLP__hidden_layer_sizes=(6, 4, 3), MLP__learning_rate=adaptive, MLP__learning_rate_init=0.5;, score=-0.002 total time=   0.0s\n",
      "[CV 2/5] END MLP__hidden_layer_sizes=(6, 4, 3), MLP__learning_rate=adaptive, MLP__learning_rate_init=0.5;, score=-0.011 total time=   0.0s\n",
      "[CV 3/5] END MLP__hidden_layer_sizes=(6, 4, 3), MLP__learning_rate=adaptive, MLP__learning_rate_init=0.5;, score=-0.006 total time=   0.0s\n",
      "[CV 4/5] END MLP__hidden_layer_sizes=(6, 4, 3), MLP__learning_rate=adaptive, MLP__learning_rate_init=0.5;, score=-0.000 total time=   0.0s\n",
      "[CV 5/5] END MLP__hidden_layer_sizes=(6, 4, 3), MLP__learning_rate=adaptive, MLP__learning_rate_init=0.5;, score=-0.010 total time=   0.0s\n"
     ]
    },
    {
     "name": "stderr",
     "output_type": "stream",
     "text": [
      "C:\\Users\\admin\\anaconda3\\lib\\site-packages\\sklearn\\neural_network\\_multilayer_perceptron.py:679: ConvergenceWarning: Stochastic Optimizer: Maximum iterations (200) reached and the optimization hasn't converged yet.\n",
      "  warnings.warn(\n"
     ]
    },
    {
     "name": "stdout",
     "output_type": "stream",
     "text": [
      "[CV 1/5] END MLP__hidden_layer_sizes=(7, 5), MLP__learning_rate=constant, MLP__learning_rate_init=0.001;, score=0.342 total time=   0.3s\n"
     ]
    },
    {
     "name": "stderr",
     "output_type": "stream",
     "text": [
      "C:\\Users\\admin\\anaconda3\\lib\\site-packages\\sklearn\\neural_network\\_multilayer_perceptron.py:679: ConvergenceWarning: Stochastic Optimizer: Maximum iterations (200) reached and the optimization hasn't converged yet.\n",
      "  warnings.warn(\n"
     ]
    },
    {
     "name": "stdout",
     "output_type": "stream",
     "text": [
      "[CV 2/5] END MLP__hidden_layer_sizes=(7, 5), MLP__learning_rate=constant, MLP__learning_rate_init=0.001;, score=0.311 total time=   0.3s\n"
     ]
    },
    {
     "name": "stderr",
     "output_type": "stream",
     "text": [
      "C:\\Users\\admin\\anaconda3\\lib\\site-packages\\sklearn\\neural_network\\_multilayer_perceptron.py:679: ConvergenceWarning: Stochastic Optimizer: Maximum iterations (200) reached and the optimization hasn't converged yet.\n",
      "  warnings.warn(\n"
     ]
    },
    {
     "name": "stdout",
     "output_type": "stream",
     "text": [
      "[CV 3/5] END MLP__hidden_layer_sizes=(7, 5), MLP__learning_rate=constant, MLP__learning_rate_init=0.001;, score=0.282 total time=   0.3s\n"
     ]
    },
    {
     "name": "stderr",
     "output_type": "stream",
     "text": [
      "C:\\Users\\admin\\anaconda3\\lib\\site-packages\\sklearn\\neural_network\\_multilayer_perceptron.py:679: ConvergenceWarning: Stochastic Optimizer: Maximum iterations (200) reached and the optimization hasn't converged yet.\n",
      "  warnings.warn(\n"
     ]
    },
    {
     "name": "stdout",
     "output_type": "stream",
     "text": [
      "[CV 4/5] END MLP__hidden_layer_sizes=(7, 5), MLP__learning_rate=constant, MLP__learning_rate_init=0.001;, score=0.311 total time=   0.3s\n"
     ]
    },
    {
     "name": "stderr",
     "output_type": "stream",
     "text": [
      "C:\\Users\\admin\\anaconda3\\lib\\site-packages\\sklearn\\neural_network\\_multilayer_perceptron.py:679: ConvergenceWarning: Stochastic Optimizer: Maximum iterations (200) reached and the optimization hasn't converged yet.\n",
      "  warnings.warn(\n"
     ]
    },
    {
     "name": "stdout",
     "output_type": "stream",
     "text": [
      "[CV 5/5] END MLP__hidden_layer_sizes=(7, 5), MLP__learning_rate=constant, MLP__learning_rate_init=0.001;, score=0.285 total time=   0.3s\n",
      "[CV 1/5] END MLP__hidden_layer_sizes=(7, 5), MLP__learning_rate=constant, MLP__learning_rate_init=0.3;, score=0.678 total time=   0.0s\n",
      "[CV 2/5] END MLP__hidden_layer_sizes=(7, 5), MLP__learning_rate=constant, MLP__learning_rate_init=0.3;, score=0.576 total time=   0.0s\n",
      "[CV 3/5] END MLP__hidden_layer_sizes=(7, 5), MLP__learning_rate=constant, MLP__learning_rate_init=0.3;, score=0.509 total time=   0.0s\n",
      "[CV 4/5] END MLP__hidden_layer_sizes=(7, 5), MLP__learning_rate=constant, MLP__learning_rate_init=0.3;, score=0.480 total time=   0.0s\n",
      "[CV 5/5] END MLP__hidden_layer_sizes=(7, 5), MLP__learning_rate=constant, MLP__learning_rate_init=0.3;, score=0.542 total time=   0.0s\n",
      "[CV 1/5] END MLP__hidden_layer_sizes=(7, 5), MLP__learning_rate=constant, MLP__learning_rate_init=0.5;, score=0.805 total time=   0.0s\n",
      "[CV 2/5] END MLP__hidden_layer_sizes=(7, 5), MLP__learning_rate=constant, MLP__learning_rate_init=0.5;, score=0.759 total time=   0.0s\n",
      "[CV 3/5] END MLP__hidden_layer_sizes=(7, 5), MLP__learning_rate=constant, MLP__learning_rate_init=0.5;, score=0.743 total time=   0.0s\n",
      "[CV 4/5] END MLP__hidden_layer_sizes=(7, 5), MLP__learning_rate=constant, MLP__learning_rate_init=0.5;, score=0.795 total time=   0.0s\n",
      "[CV 5/5] END MLP__hidden_layer_sizes=(7, 5), MLP__learning_rate=constant, MLP__learning_rate_init=0.5;, score=0.424 total time=   0.0s\n"
     ]
    },
    {
     "name": "stderr",
     "output_type": "stream",
     "text": [
      "C:\\Users\\admin\\anaconda3\\lib\\site-packages\\sklearn\\neural_network\\_multilayer_perceptron.py:679: ConvergenceWarning: Stochastic Optimizer: Maximum iterations (200) reached and the optimization hasn't converged yet.\n",
      "  warnings.warn(\n"
     ]
    },
    {
     "name": "stdout",
     "output_type": "stream",
     "text": [
      "[CV 1/5] END MLP__hidden_layer_sizes=(7, 5), MLP__learning_rate=invscaling, MLP__learning_rate_init=0.001;, score=0.342 total time=   0.3s\n"
     ]
    },
    {
     "name": "stderr",
     "output_type": "stream",
     "text": [
      "C:\\Users\\admin\\anaconda3\\lib\\site-packages\\sklearn\\neural_network\\_multilayer_perceptron.py:679: ConvergenceWarning: Stochastic Optimizer: Maximum iterations (200) reached and the optimization hasn't converged yet.\n",
      "  warnings.warn(\n"
     ]
    },
    {
     "name": "stdout",
     "output_type": "stream",
     "text": [
      "[CV 2/5] END MLP__hidden_layer_sizes=(7, 5), MLP__learning_rate=invscaling, MLP__learning_rate_init=0.001;, score=0.311 total time=   0.3s\n"
     ]
    },
    {
     "name": "stderr",
     "output_type": "stream",
     "text": [
      "C:\\Users\\admin\\anaconda3\\lib\\site-packages\\sklearn\\neural_network\\_multilayer_perceptron.py:679: ConvergenceWarning: Stochastic Optimizer: Maximum iterations (200) reached and the optimization hasn't converged yet.\n",
      "  warnings.warn(\n"
     ]
    },
    {
     "name": "stdout",
     "output_type": "stream",
     "text": [
      "[CV 3/5] END MLP__hidden_layer_sizes=(7, 5), MLP__learning_rate=invscaling, MLP__learning_rate_init=0.001;, score=0.282 total time=   0.3s\n"
     ]
    },
    {
     "name": "stderr",
     "output_type": "stream",
     "text": [
      "C:\\Users\\admin\\anaconda3\\lib\\site-packages\\sklearn\\neural_network\\_multilayer_perceptron.py:679: ConvergenceWarning: Stochastic Optimizer: Maximum iterations (200) reached and the optimization hasn't converged yet.\n",
      "  warnings.warn(\n"
     ]
    },
    {
     "name": "stdout",
     "output_type": "stream",
     "text": [
      "[CV 4/5] END MLP__hidden_layer_sizes=(7, 5), MLP__learning_rate=invscaling, MLP__learning_rate_init=0.001;, score=0.311 total time=   0.3s\n"
     ]
    },
    {
     "name": "stderr",
     "output_type": "stream",
     "text": [
      "C:\\Users\\admin\\anaconda3\\lib\\site-packages\\sklearn\\neural_network\\_multilayer_perceptron.py:679: ConvergenceWarning: Stochastic Optimizer: Maximum iterations (200) reached and the optimization hasn't converged yet.\n",
      "  warnings.warn(\n"
     ]
    },
    {
     "name": "stdout",
     "output_type": "stream",
     "text": [
      "[CV 5/5] END MLP__hidden_layer_sizes=(7, 5), MLP__learning_rate=invscaling, MLP__learning_rate_init=0.001;, score=0.285 total time=   0.3s\n",
      "[CV 1/5] END MLP__hidden_layer_sizes=(7, 5), MLP__learning_rate=invscaling, MLP__learning_rate_init=0.3;, score=0.678 total time=   0.0s\n",
      "[CV 2/5] END MLP__hidden_layer_sizes=(7, 5), MLP__learning_rate=invscaling, MLP__learning_rate_init=0.3;, score=0.576 total time=   0.0s\n",
      "[CV 3/5] END MLP__hidden_layer_sizes=(7, 5), MLP__learning_rate=invscaling, MLP__learning_rate_init=0.3;, score=0.509 total time=   0.0s\n",
      "[CV 4/5] END MLP__hidden_layer_sizes=(7, 5), MLP__learning_rate=invscaling, MLP__learning_rate_init=0.3;, score=0.480 total time=   0.0s\n",
      "[CV 5/5] END MLP__hidden_layer_sizes=(7, 5), MLP__learning_rate=invscaling, MLP__learning_rate_init=0.3;, score=0.542 total time=   0.0s\n",
      "[CV 1/5] END MLP__hidden_layer_sizes=(7, 5), MLP__learning_rate=invscaling, MLP__learning_rate_init=0.5;, score=0.805 total time=   0.0s\n",
      "[CV 2/5] END MLP__hidden_layer_sizes=(7, 5), MLP__learning_rate=invscaling, MLP__learning_rate_init=0.5;, score=0.759 total time=   0.0s\n",
      "[CV 3/5] END MLP__hidden_layer_sizes=(7, 5), MLP__learning_rate=invscaling, MLP__learning_rate_init=0.5;, score=0.743 total time=   0.0s\n",
      "[CV 4/5] END MLP__hidden_layer_sizes=(7, 5), MLP__learning_rate=invscaling, MLP__learning_rate_init=0.5;, score=0.795 total time=   0.1s\n",
      "[CV 5/5] END MLP__hidden_layer_sizes=(7, 5), MLP__learning_rate=invscaling, MLP__learning_rate_init=0.5;, score=0.424 total time=   0.0s\n"
     ]
    },
    {
     "name": "stderr",
     "output_type": "stream",
     "text": [
      "C:\\Users\\admin\\anaconda3\\lib\\site-packages\\sklearn\\neural_network\\_multilayer_perceptron.py:679: ConvergenceWarning: Stochastic Optimizer: Maximum iterations (200) reached and the optimization hasn't converged yet.\n",
      "  warnings.warn(\n"
     ]
    },
    {
     "name": "stdout",
     "output_type": "stream",
     "text": [
      "[CV 1/5] END MLP__hidden_layer_sizes=(7, 5), MLP__learning_rate=adaptive, MLP__learning_rate_init=0.001;, score=0.342 total time=   0.3s\n"
     ]
    },
    {
     "name": "stderr",
     "output_type": "stream",
     "text": [
      "C:\\Users\\admin\\anaconda3\\lib\\site-packages\\sklearn\\neural_network\\_multilayer_perceptron.py:679: ConvergenceWarning: Stochastic Optimizer: Maximum iterations (200) reached and the optimization hasn't converged yet.\n",
      "  warnings.warn(\n"
     ]
    },
    {
     "name": "stdout",
     "output_type": "stream",
     "text": [
      "[CV 2/5] END MLP__hidden_layer_sizes=(7, 5), MLP__learning_rate=adaptive, MLP__learning_rate_init=0.001;, score=0.311 total time=   0.3s\n"
     ]
    },
    {
     "name": "stderr",
     "output_type": "stream",
     "text": [
      "C:\\Users\\admin\\anaconda3\\lib\\site-packages\\sklearn\\neural_network\\_multilayer_perceptron.py:679: ConvergenceWarning: Stochastic Optimizer: Maximum iterations (200) reached and the optimization hasn't converged yet.\n",
      "  warnings.warn(\n"
     ]
    },
    {
     "name": "stdout",
     "output_type": "stream",
     "text": [
      "[CV 3/5] END MLP__hidden_layer_sizes=(7, 5), MLP__learning_rate=adaptive, MLP__learning_rate_init=0.001;, score=0.282 total time=   0.3s\n"
     ]
    },
    {
     "name": "stderr",
     "output_type": "stream",
     "text": [
      "C:\\Users\\admin\\anaconda3\\lib\\site-packages\\sklearn\\neural_network\\_multilayer_perceptron.py:679: ConvergenceWarning: Stochastic Optimizer: Maximum iterations (200) reached and the optimization hasn't converged yet.\n",
      "  warnings.warn(\n"
     ]
    },
    {
     "name": "stdout",
     "output_type": "stream",
     "text": [
      "[CV 4/5] END MLP__hidden_layer_sizes=(7, 5), MLP__learning_rate=adaptive, MLP__learning_rate_init=0.001;, score=0.311 total time=   0.3s\n"
     ]
    },
    {
     "name": "stderr",
     "output_type": "stream",
     "text": [
      "C:\\Users\\admin\\anaconda3\\lib\\site-packages\\sklearn\\neural_network\\_multilayer_perceptron.py:679: ConvergenceWarning: Stochastic Optimizer: Maximum iterations (200) reached and the optimization hasn't converged yet.\n",
      "  warnings.warn(\n"
     ]
    },
    {
     "name": "stdout",
     "output_type": "stream",
     "text": [
      "[CV 5/5] END MLP__hidden_layer_sizes=(7, 5), MLP__learning_rate=adaptive, MLP__learning_rate_init=0.001;, score=0.285 total time=   0.3s\n",
      "[CV 1/5] END MLP__hidden_layer_sizes=(7, 5), MLP__learning_rate=adaptive, MLP__learning_rate_init=0.3;, score=0.678 total time=   0.0s\n",
      "[CV 2/5] END MLP__hidden_layer_sizes=(7, 5), MLP__learning_rate=adaptive, MLP__learning_rate_init=0.3;, score=0.576 total time=   0.0s\n",
      "[CV 3/5] END MLP__hidden_layer_sizes=(7, 5), MLP__learning_rate=adaptive, MLP__learning_rate_init=0.3;, score=0.509 total time=   0.0s\n",
      "[CV 4/5] END MLP__hidden_layer_sizes=(7, 5), MLP__learning_rate=adaptive, MLP__learning_rate_init=0.3;, score=0.480 total time=   0.0s\n",
      "[CV 5/5] END MLP__hidden_layer_sizes=(7, 5), MLP__learning_rate=adaptive, MLP__learning_rate_init=0.3;, score=0.542 total time=   0.0s\n",
      "[CV 1/5] END MLP__hidden_layer_sizes=(7, 5), MLP__learning_rate=adaptive, MLP__learning_rate_init=0.5;, score=0.805 total time=   0.0s\n",
      "[CV 2/5] END MLP__hidden_layer_sizes=(7, 5), MLP__learning_rate=adaptive, MLP__learning_rate_init=0.5;, score=0.759 total time=   0.0s\n",
      "[CV 3/5] END MLP__hidden_layer_sizes=(7, 5), MLP__learning_rate=adaptive, MLP__learning_rate_init=0.5;, score=0.743 total time=   0.0s\n",
      "[CV 4/5] END MLP__hidden_layer_sizes=(7, 5), MLP__learning_rate=adaptive, MLP__learning_rate_init=0.5;, score=0.795 total time=   0.0s\n",
      "[CV 5/5] END MLP__hidden_layer_sizes=(7, 5), MLP__learning_rate=adaptive, MLP__learning_rate_init=0.5;, score=0.424 total time=   0.0s\n"
     ]
    },
    {
     "name": "stderr",
     "output_type": "stream",
     "text": [
      "C:\\Users\\admin\\anaconda3\\lib\\site-packages\\sklearn\\neural_network\\_multilayer_perceptron.py:679: ConvergenceWarning: Stochastic Optimizer: Maximum iterations (200) reached and the optimization hasn't converged yet.\n",
      "  warnings.warn(\n"
     ]
    },
    {
     "name": "stdout",
     "output_type": "stream",
     "text": [
      "[CV 1/5] END MLP__hidden_layer_sizes=(10,), MLP__learning_rate=constant, MLP__learning_rate_init=0.001;, score=-0.532 total time=   0.2s\n"
     ]
    },
    {
     "name": "stderr",
     "output_type": "stream",
     "text": [
      "C:\\Users\\admin\\anaconda3\\lib\\site-packages\\sklearn\\neural_network\\_multilayer_perceptron.py:679: ConvergenceWarning: Stochastic Optimizer: Maximum iterations (200) reached and the optimization hasn't converged yet.\n",
      "  warnings.warn(\n"
     ]
    },
    {
     "name": "stdout",
     "output_type": "stream",
     "text": [
      "[CV 2/5] END MLP__hidden_layer_sizes=(10,), MLP__learning_rate=constant, MLP__learning_rate_init=0.001;, score=-0.309 total time=   0.2s\n"
     ]
    },
    {
     "name": "stderr",
     "output_type": "stream",
     "text": [
      "C:\\Users\\admin\\anaconda3\\lib\\site-packages\\sklearn\\neural_network\\_multilayer_perceptron.py:679: ConvergenceWarning: Stochastic Optimizer: Maximum iterations (200) reached and the optimization hasn't converged yet.\n",
      "  warnings.warn(\n"
     ]
    },
    {
     "name": "stdout",
     "output_type": "stream",
     "text": [
      "[CV 3/5] END MLP__hidden_layer_sizes=(10,), MLP__learning_rate=constant, MLP__learning_rate_init=0.001;, score=-0.344 total time=   0.2s\n"
     ]
    },
    {
     "name": "stderr",
     "output_type": "stream",
     "text": [
      "C:\\Users\\admin\\anaconda3\\lib\\site-packages\\sklearn\\neural_network\\_multilayer_perceptron.py:679: ConvergenceWarning: Stochastic Optimizer: Maximum iterations (200) reached and the optimization hasn't converged yet.\n",
      "  warnings.warn(\n"
     ]
    },
    {
     "name": "stdout",
     "output_type": "stream",
     "text": [
      "[CV 4/5] END MLP__hidden_layer_sizes=(10,), MLP__learning_rate=constant, MLP__learning_rate_init=0.001;, score=-0.457 total time=   0.2s\n"
     ]
    },
    {
     "name": "stderr",
     "output_type": "stream",
     "text": [
      "C:\\Users\\admin\\anaconda3\\lib\\site-packages\\sklearn\\neural_network\\_multilayer_perceptron.py:679: ConvergenceWarning: Stochastic Optimizer: Maximum iterations (200) reached and the optimization hasn't converged yet.\n",
      "  warnings.warn(\n"
     ]
    },
    {
     "name": "stdout",
     "output_type": "stream",
     "text": [
      "[CV 5/5] END MLP__hidden_layer_sizes=(10,), MLP__learning_rate=constant, MLP__learning_rate_init=0.001;, score=-0.578 total time=   0.2s\n",
      "[CV 1/5] END MLP__hidden_layer_sizes=(10,), MLP__learning_rate=constant, MLP__learning_rate_init=0.3;, score=0.673 total time=   0.0s\n",
      "[CV 2/5] END MLP__hidden_layer_sizes=(10,), MLP__learning_rate=constant, MLP__learning_rate_init=0.3;, score=0.606 total time=   0.0s\n",
      "[CV 3/5] END MLP__hidden_layer_sizes=(10,), MLP__learning_rate=constant, MLP__learning_rate_init=0.3;, score=0.567 total time=   0.0s\n",
      "[CV 4/5] END MLP__hidden_layer_sizes=(10,), MLP__learning_rate=constant, MLP__learning_rate_init=0.3;, score=0.593 total time=   0.0s\n",
      "[CV 5/5] END MLP__hidden_layer_sizes=(10,), MLP__learning_rate=constant, MLP__learning_rate_init=0.3;, score=0.564 total time=   0.0s\n",
      "[CV 1/5] END MLP__hidden_layer_sizes=(10,), MLP__learning_rate=constant, MLP__learning_rate_init=0.5;, score=0.605 total time=   0.0s\n",
      "[CV 2/5] END MLP__hidden_layer_sizes=(10,), MLP__learning_rate=constant, MLP__learning_rate_init=0.5;, score=0.605 total time=   0.0s\n",
      "[CV 3/5] END MLP__hidden_layer_sizes=(10,), MLP__learning_rate=constant, MLP__learning_rate_init=0.5;, score=0.520 total time=   0.0s\n",
      "[CV 4/5] END MLP__hidden_layer_sizes=(10,), MLP__learning_rate=constant, MLP__learning_rate_init=0.5;, score=0.551 total time=   0.0s\n",
      "[CV 5/5] END MLP__hidden_layer_sizes=(10,), MLP__learning_rate=constant, MLP__learning_rate_init=0.5;, score=0.564 total time=   0.0s\n"
     ]
    },
    {
     "name": "stderr",
     "output_type": "stream",
     "text": [
      "C:\\Users\\admin\\anaconda3\\lib\\site-packages\\sklearn\\neural_network\\_multilayer_perceptron.py:679: ConvergenceWarning: Stochastic Optimizer: Maximum iterations (200) reached and the optimization hasn't converged yet.\n",
      "  warnings.warn(\n"
     ]
    },
    {
     "name": "stdout",
     "output_type": "stream",
     "text": [
      "[CV 1/5] END MLP__hidden_layer_sizes=(10,), MLP__learning_rate=invscaling, MLP__learning_rate_init=0.001;, score=-0.532 total time=   0.2s\n"
     ]
    },
    {
     "name": "stderr",
     "output_type": "stream",
     "text": [
      "C:\\Users\\admin\\anaconda3\\lib\\site-packages\\sklearn\\neural_network\\_multilayer_perceptron.py:679: ConvergenceWarning: Stochastic Optimizer: Maximum iterations (200) reached and the optimization hasn't converged yet.\n",
      "  warnings.warn(\n"
     ]
    },
    {
     "name": "stdout",
     "output_type": "stream",
     "text": [
      "[CV 2/5] END MLP__hidden_layer_sizes=(10,), MLP__learning_rate=invscaling, MLP__learning_rate_init=0.001;, score=-0.309 total time=   0.2s\n"
     ]
    },
    {
     "name": "stderr",
     "output_type": "stream",
     "text": [
      "C:\\Users\\admin\\anaconda3\\lib\\site-packages\\sklearn\\neural_network\\_multilayer_perceptron.py:679: ConvergenceWarning: Stochastic Optimizer: Maximum iterations (200) reached and the optimization hasn't converged yet.\n",
      "  warnings.warn(\n"
     ]
    },
    {
     "name": "stdout",
     "output_type": "stream",
     "text": [
      "[CV 3/5] END MLP__hidden_layer_sizes=(10,), MLP__learning_rate=invscaling, MLP__learning_rate_init=0.001;, score=-0.344 total time=   0.2s\n"
     ]
    },
    {
     "name": "stderr",
     "output_type": "stream",
     "text": [
      "C:\\Users\\admin\\anaconda3\\lib\\site-packages\\sklearn\\neural_network\\_multilayer_perceptron.py:679: ConvergenceWarning: Stochastic Optimizer: Maximum iterations (200) reached and the optimization hasn't converged yet.\n",
      "  warnings.warn(\n"
     ]
    },
    {
     "name": "stdout",
     "output_type": "stream",
     "text": [
      "[CV 4/5] END MLP__hidden_layer_sizes=(10,), MLP__learning_rate=invscaling, MLP__learning_rate_init=0.001;, score=-0.457 total time=   0.2s\n"
     ]
    },
    {
     "name": "stderr",
     "output_type": "stream",
     "text": [
      "C:\\Users\\admin\\anaconda3\\lib\\site-packages\\sklearn\\neural_network\\_multilayer_perceptron.py:679: ConvergenceWarning: Stochastic Optimizer: Maximum iterations (200) reached and the optimization hasn't converged yet.\n",
      "  warnings.warn(\n"
     ]
    },
    {
     "name": "stdout",
     "output_type": "stream",
     "text": [
      "[CV 5/5] END MLP__hidden_layer_sizes=(10,), MLP__learning_rate=invscaling, MLP__learning_rate_init=0.001;, score=-0.578 total time=   0.2s\n",
      "[CV 1/5] END MLP__hidden_layer_sizes=(10,), MLP__learning_rate=invscaling, MLP__learning_rate_init=0.3;, score=0.673 total time=   0.0s\n",
      "[CV 2/5] END MLP__hidden_layer_sizes=(10,), MLP__learning_rate=invscaling, MLP__learning_rate_init=0.3;, score=0.606 total time=   0.0s\n",
      "[CV 3/5] END MLP__hidden_layer_sizes=(10,), MLP__learning_rate=invscaling, MLP__learning_rate_init=0.3;, score=0.567 total time=   0.0s\n",
      "[CV 4/5] END MLP__hidden_layer_sizes=(10,), MLP__learning_rate=invscaling, MLP__learning_rate_init=0.3;, score=0.593 total time=   0.0s\n",
      "[CV 5/5] END MLP__hidden_layer_sizes=(10,), MLP__learning_rate=invscaling, MLP__learning_rate_init=0.3;, score=0.564 total time=   0.0s\n",
      "[CV 1/5] END MLP__hidden_layer_sizes=(10,), MLP__learning_rate=invscaling, MLP__learning_rate_init=0.5;, score=0.605 total time=   0.0s\n",
      "[CV 2/5] END MLP__hidden_layer_sizes=(10,), MLP__learning_rate=invscaling, MLP__learning_rate_init=0.5;, score=0.605 total time=   0.0s\n",
      "[CV 3/5] END MLP__hidden_layer_sizes=(10,), MLP__learning_rate=invscaling, MLP__learning_rate_init=0.5;, score=0.520 total time=   0.0s\n",
      "[CV 4/5] END MLP__hidden_layer_sizes=(10,), MLP__learning_rate=invscaling, MLP__learning_rate_init=0.5;, score=0.551 total time=   0.0s\n",
      "[CV 5/5] END MLP__hidden_layer_sizes=(10,), MLP__learning_rate=invscaling, MLP__learning_rate_init=0.5;, score=0.564 total time=   0.0s\n"
     ]
    },
    {
     "name": "stderr",
     "output_type": "stream",
     "text": [
      "C:\\Users\\admin\\anaconda3\\lib\\site-packages\\sklearn\\neural_network\\_multilayer_perceptron.py:679: ConvergenceWarning: Stochastic Optimizer: Maximum iterations (200) reached and the optimization hasn't converged yet.\n",
      "  warnings.warn(\n"
     ]
    },
    {
     "name": "stdout",
     "output_type": "stream",
     "text": [
      "[CV 1/5] END MLP__hidden_layer_sizes=(10,), MLP__learning_rate=adaptive, MLP__learning_rate_init=0.001;, score=-0.532 total time=   0.2s\n"
     ]
    },
    {
     "name": "stderr",
     "output_type": "stream",
     "text": [
      "C:\\Users\\admin\\anaconda3\\lib\\site-packages\\sklearn\\neural_network\\_multilayer_perceptron.py:679: ConvergenceWarning: Stochastic Optimizer: Maximum iterations (200) reached and the optimization hasn't converged yet.\n",
      "  warnings.warn(\n"
     ]
    },
    {
     "name": "stdout",
     "output_type": "stream",
     "text": [
      "[CV 2/5] END MLP__hidden_layer_sizes=(10,), MLP__learning_rate=adaptive, MLP__learning_rate_init=0.001;, score=-0.309 total time=   0.2s\n"
     ]
    },
    {
     "name": "stderr",
     "output_type": "stream",
     "text": [
      "C:\\Users\\admin\\anaconda3\\lib\\site-packages\\sklearn\\neural_network\\_multilayer_perceptron.py:679: ConvergenceWarning: Stochastic Optimizer: Maximum iterations (200) reached and the optimization hasn't converged yet.\n",
      "  warnings.warn(\n"
     ]
    },
    {
     "name": "stdout",
     "output_type": "stream",
     "text": [
      "[CV 3/5] END MLP__hidden_layer_sizes=(10,), MLP__learning_rate=adaptive, MLP__learning_rate_init=0.001;, score=-0.344 total time=   0.2s\n"
     ]
    },
    {
     "name": "stderr",
     "output_type": "stream",
     "text": [
      "C:\\Users\\admin\\anaconda3\\lib\\site-packages\\sklearn\\neural_network\\_multilayer_perceptron.py:679: ConvergenceWarning: Stochastic Optimizer: Maximum iterations (200) reached and the optimization hasn't converged yet.\n",
      "  warnings.warn(\n"
     ]
    },
    {
     "name": "stdout",
     "output_type": "stream",
     "text": [
      "[CV 4/5] END MLP__hidden_layer_sizes=(10,), MLP__learning_rate=adaptive, MLP__learning_rate_init=0.001;, score=-0.457 total time=   0.2s\n"
     ]
    },
    {
     "name": "stderr",
     "output_type": "stream",
     "text": [
      "C:\\Users\\admin\\anaconda3\\lib\\site-packages\\sklearn\\neural_network\\_multilayer_perceptron.py:679: ConvergenceWarning: Stochastic Optimizer: Maximum iterations (200) reached and the optimization hasn't converged yet.\n",
      "  warnings.warn(\n"
     ]
    },
    {
     "name": "stdout",
     "output_type": "stream",
     "text": [
      "[CV 5/5] END MLP__hidden_layer_sizes=(10,), MLP__learning_rate=adaptive, MLP__learning_rate_init=0.001;, score=-0.578 total time=   0.2s\n",
      "[CV 1/5] END MLP__hidden_layer_sizes=(10,), MLP__learning_rate=adaptive, MLP__learning_rate_init=0.3;, score=0.673 total time=   0.0s\n",
      "[CV 2/5] END MLP__hidden_layer_sizes=(10,), MLP__learning_rate=adaptive, MLP__learning_rate_init=0.3;, score=0.606 total time=   0.0s\n",
      "[CV 3/5] END MLP__hidden_layer_sizes=(10,), MLP__learning_rate=adaptive, MLP__learning_rate_init=0.3;, score=0.567 total time=   0.0s\n",
      "[CV 4/5] END MLP__hidden_layer_sizes=(10,), MLP__learning_rate=adaptive, MLP__learning_rate_init=0.3;, score=0.593 total time=   0.0s\n",
      "[CV 5/5] END MLP__hidden_layer_sizes=(10,), MLP__learning_rate=adaptive, MLP__learning_rate_init=0.3;, score=0.564 total time=   0.0s\n",
      "[CV 1/5] END MLP__hidden_layer_sizes=(10,), MLP__learning_rate=adaptive, MLP__learning_rate_init=0.5;, score=0.605 total time=   0.0s\n",
      "[CV 2/5] END MLP__hidden_layer_sizes=(10,), MLP__learning_rate=adaptive, MLP__learning_rate_init=0.5;, score=0.605 total time=   0.0s\n",
      "[CV 3/5] END MLP__hidden_layer_sizes=(10,), MLP__learning_rate=adaptive, MLP__learning_rate_init=0.5;, score=0.520 total time=   0.0s\n",
      "[CV 4/5] END MLP__hidden_layer_sizes=(10,), MLP__learning_rate=adaptive, MLP__learning_rate_init=0.5;, score=0.551 total time=   0.0s\n",
      "[CV 5/5] END MLP__hidden_layer_sizes=(10,), MLP__learning_rate=adaptive, MLP__learning_rate_init=0.5;, score=0.564 total time=   0.0s\n"
     ]
    },
    {
     "data": {
      "text/html": [
       "<style>#sk-container-id-2 {color: black;background-color: white;}#sk-container-id-2 pre{padding: 0;}#sk-container-id-2 div.sk-toggleable {background-color: white;}#sk-container-id-2 label.sk-toggleable__label {cursor: pointer;display: block;width: 100%;margin-bottom: 0;padding: 0.3em;box-sizing: border-box;text-align: center;}#sk-container-id-2 label.sk-toggleable__label-arrow:before {content: \"▸\";float: left;margin-right: 0.25em;color: #696969;}#sk-container-id-2 label.sk-toggleable__label-arrow:hover:before {color: black;}#sk-container-id-2 div.sk-estimator:hover label.sk-toggleable__label-arrow:before {color: black;}#sk-container-id-2 div.sk-toggleable__content {max-height: 0;max-width: 0;overflow: hidden;text-align: left;background-color: #f0f8ff;}#sk-container-id-2 div.sk-toggleable__content pre {margin: 0.2em;color: black;border-radius: 0.25em;background-color: #f0f8ff;}#sk-container-id-2 input.sk-toggleable__control:checked~div.sk-toggleable__content {max-height: 200px;max-width: 100%;overflow: auto;}#sk-container-id-2 input.sk-toggleable__control:checked~label.sk-toggleable__label-arrow:before {content: \"▾\";}#sk-container-id-2 div.sk-estimator input.sk-toggleable__control:checked~label.sk-toggleable__label {background-color: #d4ebff;}#sk-container-id-2 div.sk-label input.sk-toggleable__control:checked~label.sk-toggleable__label {background-color: #d4ebff;}#sk-container-id-2 input.sk-hidden--visually {border: 0;clip: rect(1px 1px 1px 1px);clip: rect(1px, 1px, 1px, 1px);height: 1px;margin: -1px;overflow: hidden;padding: 0;position: absolute;width: 1px;}#sk-container-id-2 div.sk-estimator {font-family: monospace;background-color: #f0f8ff;border: 1px dotted black;border-radius: 0.25em;box-sizing: border-box;margin-bottom: 0.5em;}#sk-container-id-2 div.sk-estimator:hover {background-color: #d4ebff;}#sk-container-id-2 div.sk-parallel-item::after {content: \"\";width: 100%;border-bottom: 1px solid gray;flex-grow: 1;}#sk-container-id-2 div.sk-label:hover label.sk-toggleable__label {background-color: #d4ebff;}#sk-container-id-2 div.sk-serial::before {content: \"\";position: absolute;border-left: 1px solid gray;box-sizing: border-box;top: 0;bottom: 0;left: 50%;z-index: 0;}#sk-container-id-2 div.sk-serial {display: flex;flex-direction: column;align-items: center;background-color: white;padding-right: 0.2em;padding-left: 0.2em;position: relative;}#sk-container-id-2 div.sk-item {position: relative;z-index: 1;}#sk-container-id-2 div.sk-parallel {display: flex;align-items: stretch;justify-content: center;background-color: white;position: relative;}#sk-container-id-2 div.sk-item::before, #sk-container-id-2 div.sk-parallel-item::before {content: \"\";position: absolute;border-left: 1px solid gray;box-sizing: border-box;top: 0;bottom: 0;left: 50%;z-index: -1;}#sk-container-id-2 div.sk-parallel-item {display: flex;flex-direction: column;z-index: 1;position: relative;background-color: white;}#sk-container-id-2 div.sk-parallel-item:first-child::after {align-self: flex-end;width: 50%;}#sk-container-id-2 div.sk-parallel-item:last-child::after {align-self: flex-start;width: 50%;}#sk-container-id-2 div.sk-parallel-item:only-child::after {width: 0;}#sk-container-id-2 div.sk-dashed-wrapped {border: 1px dashed gray;margin: 0 0.4em 0.5em 0.4em;box-sizing: border-box;padding-bottom: 0.4em;background-color: white;}#sk-container-id-2 div.sk-label label {font-family: monospace;font-weight: bold;display: inline-block;line-height: 1.2em;}#sk-container-id-2 div.sk-label-container {text-align: center;}#sk-container-id-2 div.sk-container {/* jupyter's `normalize.less` sets `[hidden] { display: none; }` but bootstrap.min.css set `[hidden] { display: none !important; }` so we also need the `!important` here to be able to override the default hidden behavior on the sphinx rendered scikit-learn.org. See: https://github.com/scikit-learn/scikit-learn/issues/21755 */display: inline-block !important;position: relative;}#sk-container-id-2 div.sk-text-repr-fallback {display: none;}</style><div id=\"sk-container-id-2\" class=\"sk-top-container\"><div class=\"sk-text-repr-fallback\"><pre>GridSearchCV(cv=KFold(n_splits=5, random_state=2022, shuffle=True),\n",
       "             estimator=Pipeline(steps=[(&#x27;MM&#x27;, MinMaxScaler()),\n",
       "                                       (&#x27;MLP&#x27;,\n",
       "                                        MLPRegressor(random_state=2022))]),\n",
       "             param_grid={&#x27;MLP__hidden_layer_sizes&#x27;: [(6, 4, 3), (7, 5), (10,)],\n",
       "                         &#x27;MLP__learning_rate&#x27;: [&#x27;constant&#x27;, &#x27;invscaling&#x27;,\n",
       "                                                &#x27;adaptive&#x27;],\n",
       "                         &#x27;MLP__learning_rate_init&#x27;: [0.001, 0.3, 0.5]},\n",
       "             scoring=&#x27;r2&#x27;, verbose=3)</pre><b>In a Jupyter environment, please rerun this cell to show the HTML representation or trust the notebook. <br />On GitHub, the HTML representation is unable to render, please try loading this page with nbviewer.org.</b></div><div class=\"sk-container\" hidden><div class=\"sk-item sk-dashed-wrapped\"><div class=\"sk-label-container\"><div class=\"sk-label sk-toggleable\"><input class=\"sk-toggleable__control sk-hidden--visually\" id=\"sk-estimator-id-5\" type=\"checkbox\" ><label for=\"sk-estimator-id-5\" class=\"sk-toggleable__label sk-toggleable__label-arrow\">GridSearchCV</label><div class=\"sk-toggleable__content\"><pre>GridSearchCV(cv=KFold(n_splits=5, random_state=2022, shuffle=True),\n",
       "             estimator=Pipeline(steps=[(&#x27;MM&#x27;, MinMaxScaler()),\n",
       "                                       (&#x27;MLP&#x27;,\n",
       "                                        MLPRegressor(random_state=2022))]),\n",
       "             param_grid={&#x27;MLP__hidden_layer_sizes&#x27;: [(6, 4, 3), (7, 5), (10,)],\n",
       "                         &#x27;MLP__learning_rate&#x27;: [&#x27;constant&#x27;, &#x27;invscaling&#x27;,\n",
       "                                                &#x27;adaptive&#x27;],\n",
       "                         &#x27;MLP__learning_rate_init&#x27;: [0.001, 0.3, 0.5]},\n",
       "             scoring=&#x27;r2&#x27;, verbose=3)</pre></div></div></div><div class=\"sk-parallel\"><div class=\"sk-parallel-item\"><div class=\"sk-item\"><div class=\"sk-label-container\"><div class=\"sk-label sk-toggleable\"><input class=\"sk-toggleable__control sk-hidden--visually\" id=\"sk-estimator-id-6\" type=\"checkbox\" ><label for=\"sk-estimator-id-6\" class=\"sk-toggleable__label sk-toggleable__label-arrow\">estimator: Pipeline</label><div class=\"sk-toggleable__content\"><pre>Pipeline(steps=[(&#x27;MM&#x27;, MinMaxScaler()),\n",
       "                (&#x27;MLP&#x27;, MLPRegressor(random_state=2022))])</pre></div></div></div><div class=\"sk-serial\"><div class=\"sk-item\"><div class=\"sk-serial\"><div class=\"sk-item\"><div class=\"sk-estimator sk-toggleable\"><input class=\"sk-toggleable__control sk-hidden--visually\" id=\"sk-estimator-id-7\" type=\"checkbox\" ><label for=\"sk-estimator-id-7\" class=\"sk-toggleable__label sk-toggleable__label-arrow\">MinMaxScaler</label><div class=\"sk-toggleable__content\"><pre>MinMaxScaler()</pre></div></div></div><div class=\"sk-item\"><div class=\"sk-estimator sk-toggleable\"><input class=\"sk-toggleable__control sk-hidden--visually\" id=\"sk-estimator-id-8\" type=\"checkbox\" ><label for=\"sk-estimator-id-8\" class=\"sk-toggleable__label sk-toggleable__label-arrow\">MLPRegressor</label><div class=\"sk-toggleable__content\"><pre>MLPRegressor(random_state=2022)</pre></div></div></div></div></div></div></div></div></div></div></div></div>"
      ],
      "text/plain": [
       "GridSearchCV(cv=KFold(n_splits=5, random_state=2022, shuffle=True),\n",
       "             estimator=Pipeline(steps=[('MM', MinMaxScaler()),\n",
       "                                       ('MLP',\n",
       "                                        MLPRegressor(random_state=2022))]),\n",
       "             param_grid={'MLP__hidden_layer_sizes': [(6, 4, 3), (7, 5), (10,)],\n",
       "                         'MLP__learning_rate': ['constant', 'invscaling',\n",
       "                                                'adaptive'],\n",
       "                         'MLP__learning_rate_init': [0.001, 0.3, 0.5]},\n",
       "             scoring='r2', verbose=3)"
      ]
     },
     "execution_count": 48,
     "metadata": {},
     "output_type": "execute_result"
    }
   ],
   "source": [
    "gcv = GridSearchCV(pipe,\n",
    "                  param_grid = params,\n",
    "                  cv = kfold,\n",
    "                  scoring = \"r2\",\n",
    "                  verbose = 3)\n",
    "\n",
    "gcv.fit(X, y)"
   ]
  },
  {
   "cell_type": "code",
   "execution_count": 49,
   "id": "b033a5d5",
   "metadata": {},
   "outputs": [
    {
     "name": "stdout",
     "output_type": "stream",
     "text": [
      "{'MLP__hidden_layer_sizes': (7, 5), 'MLP__learning_rate': 'constant', 'MLP__learning_rate_init': 0.5}\n"
     ]
    }
   ],
   "source": [
    "print(gcv.best_params_)\n"
   ]
  },
  {
   "cell_type": "code",
   "execution_count": 50,
   "id": "ff8c252e",
   "metadata": {},
   "outputs": [
    {
     "name": "stdout",
     "output_type": "stream",
     "text": [
      "0.7053590288937726\n"
     ]
    }
   ],
   "source": [
    "print(gcv.best_score_)"
   ]
  },
  {
   "cell_type": "code",
   "execution_count": null,
   "id": "9062bdf6",
   "metadata": {},
   "outputs": [],
   "source": []
  },
  {
   "cell_type": "code",
   "execution_count": null,
   "id": "d155d1da",
   "metadata": {},
   "outputs": [],
   "source": []
  },
  {
   "cell_type": "code",
   "execution_count": null,
   "id": "3e979cd2",
   "metadata": {},
   "outputs": [],
   "source": []
  },
  {
   "cell_type": "code",
   "execution_count": null,
   "id": "01088b0c",
   "metadata": {},
   "outputs": [],
   "source": []
  },
  {
   "cell_type": "code",
   "execution_count": null,
   "id": "d845f47f",
   "metadata": {},
   "outputs": [],
   "source": []
  }
 ],
 "metadata": {
  "kernelspec": {
   "display_name": "Python 3 (ipykernel)",
   "language": "python",
   "name": "python3"
  },
  "language_info": {
   "codemirror_mode": {
    "name": "ipython",
    "version": 3
   },
   "file_extension": ".py",
   "mimetype": "text/x-python",
   "name": "python",
   "nbconvert_exporter": "python",
   "pygments_lexer": "ipython3",
   "version": "3.9.13"
  }
 },
 "nbformat": 4,
 "nbformat_minor": 5
}
