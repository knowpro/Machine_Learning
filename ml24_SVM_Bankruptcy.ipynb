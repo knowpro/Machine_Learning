{
 "cells": [
  {
   "cell_type": "code",
   "execution_count": 29,
   "id": "f744e3d4",
   "metadata": {},
   "outputs": [],
   "source": [
    "import pandas as pd\n",
    "import numpy as np\n",
    "\n",
    "from sklearn.metrics import accuracy_score\n",
    "from sklearn.metrics import roc_auc_score\n",
    "\n",
    "from sklearn.model_selection import train_test_split\n",
    "from sklearn.model_selection import StratifiedKFold\n",
    "from sklearn.model_selection import cross_val_score\n",
    "from sklearn.svm import SVC\n",
    "\n",
    "import os"
   ]
  },
  {
   "cell_type": "code",
   "execution_count": 40,
   "id": "40a0e8cd",
   "metadata": {},
   "outputs": [
    {
     "data": {
      "text/html": [
       "<div>\n",
       "<style scoped>\n",
       "    .dataframe tbody tr th:only-of-type {\n",
       "        vertical-align: middle;\n",
       "    }\n",
       "\n",
       "    .dataframe tbody tr th {\n",
       "        vertical-align: top;\n",
       "    }\n",
       "\n",
       "    .dataframe thead th {\n",
       "        text-align: right;\n",
       "    }\n",
       "</style>\n",
       "<table border=\"1\" class=\"dataframe\">\n",
       "  <thead>\n",
       "    <tr style=\"text-align: right;\">\n",
       "      <th></th>\n",
       "      <th>D</th>\n",
       "      <th>YR</th>\n",
       "      <th>R1</th>\n",
       "      <th>R2</th>\n",
       "      <th>R3</th>\n",
       "      <th>R4</th>\n",
       "      <th>R5</th>\n",
       "      <th>R6</th>\n",
       "      <th>R7</th>\n",
       "      <th>R8</th>\n",
       "      <th>...</th>\n",
       "      <th>R15</th>\n",
       "      <th>R16</th>\n",
       "      <th>R17</th>\n",
       "      <th>R18</th>\n",
       "      <th>R19</th>\n",
       "      <th>R20</th>\n",
       "      <th>R21</th>\n",
       "      <th>R22</th>\n",
       "      <th>R23</th>\n",
       "      <th>R24</th>\n",
       "    </tr>\n",
       "    <tr>\n",
       "      <th>NO</th>\n",
       "      <th></th>\n",
       "      <th></th>\n",
       "      <th></th>\n",
       "      <th></th>\n",
       "      <th></th>\n",
       "      <th></th>\n",
       "      <th></th>\n",
       "      <th></th>\n",
       "      <th></th>\n",
       "      <th></th>\n",
       "      <th></th>\n",
       "      <th></th>\n",
       "      <th></th>\n",
       "      <th></th>\n",
       "      <th></th>\n",
       "      <th></th>\n",
       "      <th></th>\n",
       "      <th></th>\n",
       "      <th></th>\n",
       "      <th></th>\n",
       "      <th></th>\n",
       "    </tr>\n",
       "  </thead>\n",
       "  <tbody>\n",
       "    <tr>\n",
       "      <th>1</th>\n",
       "      <td>0</td>\n",
       "      <td>78</td>\n",
       "      <td>0.23</td>\n",
       "      <td>0.08</td>\n",
       "      <td>0.02</td>\n",
       "      <td>0.03</td>\n",
       "      <td>0.46</td>\n",
       "      <td>0.12</td>\n",
       "      <td>0.19</td>\n",
       "      <td>10.36</td>\n",
       "      <td>...</td>\n",
       "      <td>0.05</td>\n",
       "      <td>0.57</td>\n",
       "      <td>0.15</td>\n",
       "      <td>0.23</td>\n",
       "      <td>3.56</td>\n",
       "      <td>0.26</td>\n",
       "      <td>1.55</td>\n",
       "      <td>0.43</td>\n",
       "      <td>0.11</td>\n",
       "      <td>0.17</td>\n",
       "    </tr>\n",
       "    <tr>\n",
       "      <th>2</th>\n",
       "      <td>0</td>\n",
       "      <td>77</td>\n",
       "      <td>0.19</td>\n",
       "      <td>0.07</td>\n",
       "      <td>0.09</td>\n",
       "      <td>0.12</td>\n",
       "      <td>0.02</td>\n",
       "      <td>0.02</td>\n",
       "      <td>0.03</td>\n",
       "      <td>3.13</td>\n",
       "      <td>...</td>\n",
       "      <td>0.09</td>\n",
       "      <td>0.12</td>\n",
       "      <td>0.16</td>\n",
       "      <td>0.22</td>\n",
       "      <td>3.78</td>\n",
       "      <td>1.29</td>\n",
       "      <td>1.40</td>\n",
       "      <td>0.06</td>\n",
       "      <td>0.07</td>\n",
       "      <td>0.10</td>\n",
       "    </tr>\n",
       "    <tr>\n",
       "      <th>3</th>\n",
       "      <td>0</td>\n",
       "      <td>72</td>\n",
       "      <td>0.07</td>\n",
       "      <td>0.02</td>\n",
       "      <td>0.03</td>\n",
       "      <td>0.05</td>\n",
       "      <td>0.06</td>\n",
       "      <td>0.10</td>\n",
       "      <td>0.14</td>\n",
       "      <td>2.41</td>\n",
       "      <td>...</td>\n",
       "      <td>-0.03</td>\n",
       "      <td>0.02</td>\n",
       "      <td>0.02</td>\n",
       "      <td>0.04</td>\n",
       "      <td>13.29</td>\n",
       "      <td>1.61</td>\n",
       "      <td>1.43</td>\n",
       "      <td>0.03</td>\n",
       "      <td>0.05</td>\n",
       "      <td>0.07</td>\n",
       "    </tr>\n",
       "    <tr>\n",
       "      <th>4</th>\n",
       "      <td>0</td>\n",
       "      <td>80</td>\n",
       "      <td>0.07</td>\n",
       "      <td>0.03</td>\n",
       "      <td>0.04</td>\n",
       "      <td>0.04</td>\n",
       "      <td>0.04</td>\n",
       "      <td>0.06</td>\n",
       "      <td>0.06</td>\n",
       "      <td>5.55</td>\n",
       "      <td>...</td>\n",
       "      <td>-0.02</td>\n",
       "      <td>0.01</td>\n",
       "      <td>0.02</td>\n",
       "      <td>0.02</td>\n",
       "      <td>5.36</td>\n",
       "      <td>1.30</td>\n",
       "      <td>1.12</td>\n",
       "      <td>-0.06</td>\n",
       "      <td>-0.08</td>\n",
       "      <td>-0.09</td>\n",
       "    </tr>\n",
       "    <tr>\n",
       "      <th>5</th>\n",
       "      <td>0</td>\n",
       "      <td>81</td>\n",
       "      <td>0.09</td>\n",
       "      <td>0.02</td>\n",
       "      <td>0.03</td>\n",
       "      <td>0.04</td>\n",
       "      <td>0.06</td>\n",
       "      <td>0.08</td>\n",
       "      <td>0.11</td>\n",
       "      <td>2.85</td>\n",
       "      <td>...</td>\n",
       "      <td>0.02</td>\n",
       "      <td>0.07</td>\n",
       "      <td>0.10</td>\n",
       "      <td>0.14</td>\n",
       "      <td>7.74</td>\n",
       "      <td>1.48</td>\n",
       "      <td>1.41</td>\n",
       "      <td>0.03</td>\n",
       "      <td>0.04</td>\n",
       "      <td>0.06</td>\n",
       "    </tr>\n",
       "  </tbody>\n",
       "</table>\n",
       "<p>5 rows × 26 columns</p>\n",
       "</div>"
      ],
      "text/plain": [
       "    D  YR    R1    R2    R3    R4    R5    R6    R7     R8  ...   R15   R16  \\\n",
       "NO                                                          ...               \n",
       "1   0  78  0.23  0.08  0.02  0.03  0.46  0.12  0.19  10.36  ...  0.05  0.57   \n",
       "2   0  77  0.19  0.07  0.09  0.12  0.02  0.02  0.03   3.13  ...  0.09  0.12   \n",
       "3   0  72  0.07  0.02  0.03  0.05  0.06  0.10  0.14   2.41  ... -0.03  0.02   \n",
       "4   0  80  0.07  0.03  0.04  0.04  0.04  0.06  0.06   5.55  ... -0.02  0.01   \n",
       "5   0  81  0.09  0.02  0.03  0.04  0.06  0.08  0.11   2.85  ...  0.02  0.07   \n",
       "\n",
       "     R17   R18    R19   R20   R21   R22   R23   R24  \n",
       "NO                                                   \n",
       "1   0.15  0.23   3.56  0.26  1.55  0.43  0.11  0.17  \n",
       "2   0.16  0.22   3.78  1.29  1.40  0.06  0.07  0.10  \n",
       "3   0.02  0.04  13.29  1.61  1.43  0.03  0.05  0.07  \n",
       "4   0.02  0.02   5.36  1.30  1.12 -0.06 -0.08 -0.09  \n",
       "5   0.10  0.14   7.74  1.48  1.41  0.03  0.04  0.06  \n",
       "\n",
       "[5 rows x 26 columns]"
      ]
     },
     "execution_count": 40,
     "metadata": {},
     "output_type": "execute_result"
    }
   ],
   "source": [
    "os.chdir(r\"C:\\Hogwarts\\machine_learning\\Cases\\Bankruptcy\")\n",
    "bankr = pd.read_csv(\"Bankruptcy.csv\",\n",
    "                    index_col = 0)\n",
    "bankr.head()"
   ]
  },
  {
   "cell_type": "code",
   "execution_count": 41,
   "id": "83d628a6",
   "metadata": {},
   "outputs": [],
   "source": [
    "X = bankr.drop([\"D\",\n",
    "                \"YR\"],\n",
    "               axis = 1)\n",
    "\n",
    "y= bankr[\"D\"]"
   ]
  },
  {
   "cell_type": "code",
   "execution_count": 42,
   "id": "edadbac2",
   "metadata": {},
   "outputs": [],
   "source": [
    "X_train,X_test, y_train, y_test = train_test_split(X,\n",
    "                                                   y,\n",
    "                                                   stratify=y,\n",
    "                                                   train_size=0.7,\n",
    "                                                   random_state=2022)"
   ]
  },
  {
   "cell_type": "code",
   "execution_count": 43,
   "id": "c809857f",
   "metadata": {},
   "outputs": [
    {
     "data": {
      "text/plain": [
       "SVC(kernel='linear', probability=True, random_state=2022)"
      ]
     },
     "execution_count": 43,
     "metadata": {},
     "output_type": "execute_result"
    }
   ],
   "source": [
    "svm = SVC(kernel = \"linear\",\n",
    "         probability = True,\n",
    "         random_state = 2022)\n",
    "svm.fit(X_train, y_train)"
   ]
  },
  {
   "cell_type": "code",
   "execution_count": 44,
   "id": "b9011145",
   "metadata": {},
   "outputs": [
    {
     "name": "stdout",
     "output_type": "stream",
     "text": [
      "0.825\n"
     ]
    }
   ],
   "source": [
    "y_pred = svm.predict(X_test)\n",
    "print(accuracy_score(y_test, y_pred))"
   ]
  },
  {
   "cell_type": "code",
   "execution_count": 45,
   "id": "652f4dbd",
   "metadata": {},
   "outputs": [
    {
     "name": "stdout",
     "output_type": "stream",
     "text": [
      "0.7875\n"
     ]
    }
   ],
   "source": [
    "y_pred_prob = svm.predict_proba(X_test)[:,1]\n",
    "print(roc_auc_score(y_test, y_pred_prob))"
   ]
  },
  {
   "cell_type": "markdown",
   "id": "fc80a5ed",
   "metadata": {},
   "source": [
    "Grid Search CV"
   ]
  },
  {
   "cell_type": "code",
   "execution_count": 46,
   "id": "21f6e2d2",
   "metadata": {},
   "outputs": [],
   "source": [
    "from sklearn.model_selection import GridSearchCV"
   ]
  },
  {
   "cell_type": "code",
   "execution_count": 47,
   "id": "731051c5",
   "metadata": {},
   "outputs": [
    {
     "name": "stdout",
     "output_type": "stream",
     "text": [
      "Fitting 5 folds for each of 20 candidates, totalling 100 fits\n",
      "[CV 1/5] END ...........................C=0.001;, score=0.830 total time=   0.0s\n",
      "[CV 2/5] END ...........................C=0.001;, score=0.621 total time=   0.0s\n",
      "[CV 3/5] END ...........................C=0.001;, score=0.645 total time=   0.0s\n",
      "[CV 4/5] END ...........................C=0.001;, score=0.734 total time=   0.0s\n",
      "[CV 5/5] END ...........................C=0.001;, score=0.527 total time=   0.0s\n",
      "[CV 1/5] END ..............C=0.5272631578947369;, score=0.830 total time=   0.0s\n",
      "[CV 2/5] END ..............C=0.5272631578947369;, score=0.841 total time=   0.0s\n",
      "[CV 3/5] END ..............C=0.5272631578947369;, score=0.781 total time=   0.0s\n",
      "[CV 4/5] END ..............C=0.5272631578947369;, score=0.959 total time=   0.0s\n",
      "[CV 5/5] END ..............C=0.5272631578947369;, score=0.876 total time=   0.0s\n",
      "[CV 1/5] END ..............C=1.0535263157894736;, score=0.835 total time=   0.0s\n",
      "[CV 2/5] END ..............C=1.0535263157894736;, score=0.835 total time=   0.0s\n",
      "[CV 3/5] END ..............C=1.0535263157894736;, score=0.763 total time=   0.0s\n",
      "[CV 4/5] END ..............C=1.0535263157894736;, score=0.947 total time=   0.0s\n",
      "[CV 5/5] END ..............C=1.0535263157894736;, score=0.888 total time=   0.0s\n",
      "[CV 1/5] END ..............C=1.5797894736842104;, score=0.835 total time=   0.0s\n",
      "[CV 2/5] END ..............C=1.5797894736842104;, score=0.841 total time=   0.0s\n",
      "[CV 3/5] END ..............C=1.5797894736842104;, score=0.728 total time=   0.0s\n",
      "[CV 4/5] END ..............C=1.5797894736842104;, score=0.935 total time=   0.0s\n",
      "[CV 5/5] END ..............C=1.5797894736842104;, score=0.899 total time=   0.0s\n",
      "[CV 1/5] END ..............C=2.1060526315789474;, score=0.824 total time=   0.1s\n",
      "[CV 2/5] END ..............C=2.1060526315789474;, score=0.841 total time=   0.0s\n",
      "[CV 3/5] END ..............C=2.1060526315789474;, score=0.734 total time=   0.1s\n",
      "[CV 4/5] END ..............C=2.1060526315789474;, score=0.935 total time=   0.0s\n",
      "[CV 5/5] END ..............C=2.1060526315789474;, score=0.911 total time=   0.0s\n",
      "[CV 1/5] END ..............C=2.6323157894736844;, score=0.841 total time=   0.0s\n",
      "[CV 2/5] END ..............C=2.6323157894736844;, score=0.846 total time=   0.0s\n",
      "[CV 3/5] END ..............C=2.6323157894736844;, score=0.728 total time=   0.1s\n",
      "[CV 4/5] END ..............C=2.6323157894736844;, score=0.935 total time=   0.1s\n",
      "[CV 5/5] END ..............C=2.6323157894736844;, score=0.911 total time=   0.1s\n",
      "[CV 1/5] END ...............C=3.158578947368421;, score=0.841 total time=   0.1s\n",
      "[CV 2/5] END ...............C=3.158578947368421;, score=0.835 total time=   0.0s\n",
      "[CV 3/5] END ...............C=3.158578947368421;, score=0.716 total time=   0.1s\n",
      "[CV 4/5] END ...............C=3.158578947368421;, score=0.935 total time=   0.1s\n",
      "[CV 5/5] END ...............C=3.158578947368421;, score=0.911 total time=   0.1s\n",
      "[CV 1/5] END ...............C=3.684842105263158;, score=0.841 total time=   0.2s\n",
      "[CV 2/5] END ...............C=3.684842105263158;, score=0.841 total time=   0.2s\n",
      "[CV 3/5] END ...............C=3.684842105263158;, score=0.698 total time=   0.3s\n",
      "[CV 4/5] END ...............C=3.684842105263158;, score=0.923 total time=   0.1s\n",
      "[CV 5/5] END ...............C=3.684842105263158;, score=0.911 total time=   0.2s\n",
      "[CV 1/5] END ...............C=4.211105263157895;, score=0.841 total time=   0.2s\n",
      "[CV 2/5] END ...............C=4.211105263157895;, score=0.841 total time=   0.2s\n",
      "[CV 3/5] END ...............C=4.211105263157895;, score=0.680 total time=   0.3s\n",
      "[CV 4/5] END ...............C=4.211105263157895;, score=0.923 total time=   0.2s\n",
      "[CV 5/5] END ...............C=4.211105263157895;, score=0.911 total time=   0.2s\n",
      "[CV 1/5] END ...............C=4.737368421052632;, score=0.841 total time=   0.3s\n",
      "[CV 2/5] END ...............C=4.737368421052632;, score=0.841 total time=   0.2s\n",
      "[CV 3/5] END ...............C=4.737368421052632;, score=0.669 total time=   0.3s\n",
      "[CV 4/5] END ...............C=4.737368421052632;, score=0.923 total time=   0.3s\n",
      "[CV 5/5] END ...............C=4.737368421052632;, score=0.911 total time=   0.3s\n",
      "[CV 1/5] END ...............C=5.263631578947369;, score=0.841 total time=   0.3s\n",
      "[CV 2/5] END ...............C=5.263631578947369;, score=0.841 total time=   0.2s\n",
      "[CV 3/5] END ...............C=5.263631578947369;, score=0.669 total time=   0.3s\n",
      "[CV 4/5] END ...............C=5.263631578947369;, score=0.923 total time=   0.3s\n",
      "[CV 5/5] END ...............C=5.263631578947369;, score=0.911 total time=   0.2s\n",
      "[CV 1/5] END ...............C=5.789894736842106;, score=0.841 total time=   0.5s\n",
      "[CV 2/5] END ...............C=5.789894736842106;, score=0.841 total time=   0.3s\n",
      "[CV 3/5] END ...............C=5.789894736842106;, score=0.669 total time=   0.2s\n",
      "[CV 4/5] END ...............C=5.789894736842106;, score=0.923 total time=   0.3s\n",
      "[CV 5/5] END ...............C=5.789894736842106;, score=0.911 total time=   0.3s\n",
      "[CV 1/5] END ...............C=6.316157894736842;, score=0.841 total time=   0.4s\n",
      "[CV 2/5] END ...............C=6.316157894736842;, score=0.830 total time=   0.2s\n",
      "[CV 3/5] END ...............C=6.316157894736842;, score=0.663 total time=   0.3s\n",
      "[CV 4/5] END ...............C=6.316157894736842;, score=0.923 total time=   0.5s\n",
      "[CV 5/5] END ...............C=6.316157894736842;, score=0.911 total time=   0.3s\n",
      "[CV 1/5] END ................C=6.84242105263158;, score=0.841 total time=   0.4s\n",
      "[CV 2/5] END ................C=6.84242105263158;, score=0.830 total time=   0.3s\n",
      "[CV 3/5] END ................C=6.84242105263158;, score=0.639 total time=   0.3s\n",
      "[CV 4/5] END ................C=6.84242105263158;, score=0.923 total time=   0.4s\n",
      "[CV 5/5] END ................C=6.84242105263158;, score=0.911 total time=   0.7s\n",
      "[CV 1/5] END ...............C=7.368684210526316;, score=0.841 total time=   0.3s\n",
      "[CV 2/5] END ...............C=7.368684210526316;, score=0.830 total time=   0.2s\n",
      "[CV 3/5] END ...............C=7.368684210526316;, score=0.639 total time=   0.4s\n",
      "[CV 4/5] END ...............C=7.368684210526316;, score=0.923 total time=   0.5s\n",
      "[CV 5/5] END ...............C=7.368684210526316;, score=0.905 total time=   0.8s\n",
      "[CV 1/5] END ...............C=7.894947368421054;, score=0.835 total time=   0.4s\n",
      "[CV 2/5] END ...............C=7.894947368421054;, score=0.824 total time=   0.2s\n",
      "[CV 3/5] END ...............C=7.894947368421054;, score=0.639 total time=   0.5s\n",
      "[CV 4/5] END ...............C=7.894947368421054;, score=0.923 total time=   0.8s\n",
      "[CV 5/5] END ...............C=7.894947368421054;, score=0.899 total time=   0.6s\n",
      "[CV 1/5] END ................C=8.42121052631579;, score=0.835 total time=   0.4s\n",
      "[CV 2/5] END ................C=8.42121052631579;, score=0.824 total time=   0.2s\n",
      "[CV 3/5] END ................C=8.42121052631579;, score=0.639 total time=   0.4s\n",
      "[CV 4/5] END ................C=8.42121052631579;, score=0.923 total time=   0.9s\n",
      "[CV 5/5] END ................C=8.42121052631579;, score=0.893 total time=   0.5s\n",
      "[CV 1/5] END ...............C=8.947473684210527;, score=0.835 total time=   0.4s\n",
      "[CV 2/5] END ...............C=8.947473684210527;, score=0.819 total time=   0.3s\n",
      "[CV 3/5] END ...............C=8.947473684210527;, score=0.627 total time=   0.6s\n",
      "[CV 4/5] END ...............C=8.947473684210527;, score=0.917 total time=   0.9s\n",
      "[CV 5/5] END ...............C=8.947473684210527;, score=0.893 total time=   0.5s\n",
      "[CV 1/5] END ...............C=9.473736842105263;, score=0.835 total time=   0.4s\n",
      "[CV 2/5] END ...............C=9.473736842105263;, score=0.813 total time=   0.3s\n",
      "[CV 3/5] END ...............C=9.473736842105263;, score=0.621 total time=   0.6s\n",
      "[CV 4/5] END ...............C=9.473736842105263;, score=0.917 total time=   1.0s\n",
      "[CV 5/5] END ...............C=9.473736842105263;, score=0.893 total time=   0.4s\n",
      "[CV 1/5] END ............................C=10.0;, score=0.830 total time=   0.4s\n",
      "[CV 2/5] END ............................C=10.0;, score=0.813 total time=   0.5s\n",
      "[CV 3/5] END ............................C=10.0;, score=0.621 total time=   0.4s\n",
      "[CV 4/5] END ............................C=10.0;, score=0.917 total time=   0.9s\n",
      "[CV 5/5] END ............................C=10.0;, score=0.893 total time=   0.6s\n"
     ]
    },
    {
     "data": {
      "text/plain": [
       "GridSearchCV(cv=StratifiedKFold(n_splits=5, random_state=2022, shuffle=True),\n",
       "             estimator=SVC(kernel='linear', probability=True,\n",
       "                           random_state=2022),\n",
       "             param_grid={'C': array([1.00000000e-03, 5.27263158e-01, 1.05352632e+00, 1.57978947e+00,\n",
       "       2.10605263e+00, 2.63231579e+00, 3.15857895e+00, 3.68484211e+00,\n",
       "       4.21110526e+00, 4.73736842e+00, 5.26363158e+00, 5.78989474e+00,\n",
       "       6.31615789e+00, 6.84242105e+00, 7.36868421e+00, 7.89494737e+00,\n",
       "       8.42121053e+00, 8.94747368e+00, 9.47373684e+00, 1.00000000e+01])},\n",
       "             scoring='roc_auc', verbose=3)"
      ]
     },
     "execution_count": 47,
     "metadata": {},
     "output_type": "execute_result"
    }
   ],
   "source": [
    "params = {\"C\": np.linspace(0.001, 10, 20)}\n",
    "\n",
    "kfold = StratifiedKFold(n_splits = 5,\n",
    "                       shuffle = True,\n",
    "                       random_state = 2022)\n",
    "svm = SVC(kernel = \"linear\",\n",
    "         probability = True,\n",
    "         random_state = 2022)\n",
    "\n",
    "gcv = GridSearchCV(svm,\n",
    "                  param_grid = params,\n",
    "                  cv = kfold,\n",
    "                  verbose = 3,\n",
    "                  scoring = \"roc_auc\")\n",
    "gcv.fit(X, y)"
   ]
  },
  {
   "cell_type": "code",
   "execution_count": 50,
   "id": "3d279583",
   "metadata": {},
   "outputs": [
    {
     "name": "stdout",
     "output_type": "stream",
     "text": [
      "{'C': 0.5272631578947369}\n"
     ]
    }
   ],
   "source": [
    "print(gcv.best_params_)"
   ]
  },
  {
   "cell_type": "code",
   "execution_count": 48,
   "id": "7c24d63f",
   "metadata": {},
   "outputs": [
    {
     "name": "stdout",
     "output_type": "stream",
     "text": [
      "0.8571428571428573\n"
     ]
    }
   ],
   "source": [
    "print(gcv.best_score_)"
   ]
  },
  {
   "cell_type": "code",
   "execution_count": null,
   "id": "aafef8f9",
   "metadata": {},
   "outputs": [],
   "source": []
  }
 ],
 "metadata": {
  "kernelspec": {
   "display_name": "Python 3 (ipykernel)",
   "language": "python",
   "name": "python3"
  },
  "language_info": {
   "codemirror_mode": {
    "name": "ipython",
    "version": 3
   },
   "file_extension": ".py",
   "mimetype": "text/x-python",
   "name": "python",
   "nbconvert_exporter": "python",
   "pygments_lexer": "ipython3",
   "version": "3.9.13"
  }
 },
 "nbformat": 4,
 "nbformat_minor": 5
}
