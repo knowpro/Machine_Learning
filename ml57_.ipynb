{
 "cells": [
  {
   "cell_type": "code",
   "execution_count": 40,
   "id": "3046e8ed",
   "metadata": {},
   "outputs": [],
   "source": [
    "import surprise\n",
    "import pandas as pd\n",
    "import numpy as np"
   ]
  },
  {
   "cell_type": "code",
   "execution_count": 19,
   "id": "6fac9fe9",
   "metadata": {
    "scrolled": true
   },
   "outputs": [],
   "source": [
    "ratings = pd.read_csv(r\"12. Recommender Systems\\filmtrust\\ratings.txt\",\n",
    "                     sep = \" \",\n",
    "                     names = [\"uid\", \"iid\", \"rating\"])"
   ]
  },
  {
   "cell_type": "code",
   "execution_count": 20,
   "id": "fb3249ac",
   "metadata": {},
   "outputs": [
    {
     "data": {
      "text/html": [
       "<div>\n",
       "<style scoped>\n",
       "    .dataframe tbody tr th:only-of-type {\n",
       "        vertical-align: middle;\n",
       "    }\n",
       "\n",
       "    .dataframe tbody tr th {\n",
       "        vertical-align: top;\n",
       "    }\n",
       "\n",
       "    .dataframe thead th {\n",
       "        text-align: right;\n",
       "    }\n",
       "</style>\n",
       "<table border=\"1\" class=\"dataframe\">\n",
       "  <thead>\n",
       "    <tr style=\"text-align: right;\">\n",
       "      <th></th>\n",
       "      <th>uid</th>\n",
       "      <th>iid</th>\n",
       "      <th>rating</th>\n",
       "    </tr>\n",
       "  </thead>\n",
       "  <tbody>\n",
       "    <tr>\n",
       "      <th>0</th>\n",
       "      <td>1</td>\n",
       "      <td>1</td>\n",
       "      <td>2.0</td>\n",
       "    </tr>\n",
       "    <tr>\n",
       "      <th>1</th>\n",
       "      <td>1</td>\n",
       "      <td>2</td>\n",
       "      <td>4.0</td>\n",
       "    </tr>\n",
       "    <tr>\n",
       "      <th>2</th>\n",
       "      <td>1</td>\n",
       "      <td>3</td>\n",
       "      <td>3.5</td>\n",
       "    </tr>\n",
       "    <tr>\n",
       "      <th>3</th>\n",
       "      <td>1</td>\n",
       "      <td>4</td>\n",
       "      <td>3.0</td>\n",
       "    </tr>\n",
       "    <tr>\n",
       "      <th>4</th>\n",
       "      <td>1</td>\n",
       "      <td>5</td>\n",
       "      <td>4.0</td>\n",
       "    </tr>\n",
       "  </tbody>\n",
       "</table>\n",
       "</div>"
      ],
      "text/plain": [
       "   uid  iid  rating\n",
       "0    1    1     2.0\n",
       "1    1    2     4.0\n",
       "2    1    3     3.5\n",
       "3    1    4     3.0\n",
       "4    1    5     4.0"
      ]
     },
     "execution_count": 20,
     "metadata": {},
     "output_type": "execute_result"
    }
   ],
   "source": [
    "ratings.head()"
   ]
  },
  {
   "cell_type": "code",
   "execution_count": 22,
   "id": "a478cd1f",
   "metadata": {
    "scrolled": true
   },
   "outputs": [
    {
     "name": "stdout",
     "output_type": "stream",
     "text": [
      "Ratings range between (0) and (1)\n"
     ]
    }
   ],
   "source": [
    "lowest_rating = ratings[\"rating\"].min()\n",
    "highest_rating = ratings[\"rating\"].max()\n",
    "\n",
    "print(\"Ratings range between (0) and (1)\".format(lowest_rating, highest_rating))\n",
    "reader = surprise.Reader(rating_scale = (lowest_rating, highest_rating))"
   ]
  },
  {
   "cell_type": "code",
   "execution_count": 30,
   "id": "b83696fc",
   "metadata": {},
   "outputs": [],
   "source": [
    "data = surprise.Dataset.load_from_df(ratings,reader)"
   ]
  },
  {
   "cell_type": "code",
   "execution_count": 31,
   "id": "06e1b23c",
   "metadata": {},
   "outputs": [],
   "source": [
    "similarity_options = {\"names\": \"cosine\", \"user_defined\": True}"
   ]
  },
  {
   "cell_type": "code",
   "execution_count": null,
   "id": "120c5d8a",
   "metadata": {},
   "outputs": [],
   "source": []
  },
  {
   "cell_type": "code",
   "execution_count": 32,
   "id": "e3c4b0fb",
   "metadata": {},
   "outputs": [
    {
     "name": "stdout",
     "output_type": "stream",
     "text": [
      "Computing the msd similarity matrix...\n",
      "Done computing similarity matrix.\n"
     ]
    }
   ],
   "source": [
    "algo = surprise.KNNBasic(sim_options = similarity_options)\n",
    "output = algo.fit(data.build_full_trainset())"
   ]
  },
  {
   "cell_type": "code",
   "execution_count": 33,
   "id": "7d682808",
   "metadata": {
    "scrolled": true
   },
   "outputs": [
    {
     "name": "stdout",
     "output_type": "stream",
     "text": [
      "3.0028030537791928\n"
     ]
    }
   ],
   "source": [
    "pred= algo.predict(uid = '50', iid = '217')\n",
    "score = pred.est\n",
    "print(score)"
   ]
  },
  {
   "cell_type": "markdown",
   "id": "425dc4f7",
   "metadata": {},
   "source": [
    "# All the users"
   ]
  },
  {
   "cell_type": "code",
   "execution_count": null,
   "id": "dc061a4a",
   "metadata": {},
   "outputs": [],
   "source": [
    "iids  = ratings['iid'].unique()\n",
    "iids"
   ]
  },
  {
   "cell_type": "code",
   "execution_count": 35,
   "id": "e0b9c8f7",
   "metadata": {},
   "outputs": [
    {
     "name": "stdout",
     "output_type": "stream",
     "text": [
      "List of iid that uid = (0) has rated : \n",
      "864      8\n",
      "865    211\n",
      "866      3\n",
      "867      2\n",
      "868    219\n",
      "869    234\n",
      "870     12\n",
      "871    254\n",
      "872    250\n",
      "873    207\n",
      "874     11\n",
      "875    253\n",
      "876    236\n",
      "877     84\n",
      "878     10\n",
      "879      7\n",
      "880    233\n",
      "881     13\n",
      "882      1\n",
      "883      5\n",
      "884      6\n",
      "885    252\n",
      "886    241\n",
      "887    216\n",
      "888    257\n",
      "889    206\n",
      "890      4\n",
      "891    217\n",
      "892      9\n",
      "893    215\n",
      "894    213\n",
      "895     17\n",
      "896    255\n",
      "897    220\n",
      "898    121\n",
      "899    245\n",
      "900    239\n",
      "901    251\n",
      "902    235\n",
      "Name: iid, dtype: int64\n"
     ]
    }
   ],
   "source": [
    "rec_50 = ratings[ratings[\"uid\"] == 50]\n",
    "iids50 = rec_50[\"iid\"]\n",
    "\n",
    "print(\"List of iid that uid = (0) has rated : \".format(50))\n",
    "print(iids50)"
   ]
  },
  {
   "cell_type": "code",
   "execution_count": 39,
   "id": "9e9c1596",
   "metadata": {},
   "outputs": [
    {
     "ename": "NameError",
     "evalue": "name 'np' is not defined",
     "output_type": "error",
     "traceback": [
      "\u001b[1;31m---------------------------------------------------------------------------\u001b[0m",
      "\u001b[1;31mNameError\u001b[0m                                 Traceback (most recent call last)",
      "\u001b[1;32m~\\AppData\\Local\\Temp\\ipykernel_4228\\4031529141.py\u001b[0m in \u001b[0;36m<module>\u001b[1;34m\u001b[0m\n\u001b[1;32m----> 1\u001b[1;33m \u001b[0miids_to_predict\u001b[0m \u001b[1;33m=\u001b[0m \u001b[0mnp\u001b[0m\u001b[1;33m.\u001b[0m\u001b[0msetdiff1d\u001b[0m\u001b[1;33m(\u001b[0m\u001b[0miids\u001b[0m\u001b[1;33m,\u001b[0m \u001b[0miids50\u001b[0m\u001b[1;33m)\u001b[0m\u001b[1;33m\u001b[0m\u001b[1;33m\u001b[0m\u001b[0m\n\u001b[0m\u001b[0;32m      2\u001b[0m \u001b[0mprint\u001b[0m\u001b[1;33m(\u001b[0m\u001b[1;34m\"List of iid which uid=(0) did not rate(in all {1}:\"\u001b[0m\u001b[1;33m.\u001b[0m\u001b[0mformat\u001b[0m\u001b[1;33m(\u001b[0m\u001b[1;36m50\u001b[0m\u001b[1;33m,\u001b[0m \u001b[0mlen\u001b[0m\u001b[1;33m(\u001b[0m\u001b[0miids_to_predict\u001b[0m\u001b[1;33m)\u001b[0m\u001b[1;33m)\u001b[0m\u001b[1;33m)\u001b[0m\u001b[1;33m\u001b[0m\u001b[1;33m\u001b[0m\u001b[0m\n\u001b[0;32m      3\u001b[0m \u001b[0mprint\u001b[0m\u001b[1;33m(\u001b[0m\u001b[0miids_to_predict\u001b[0m\u001b[1;33m)\u001b[0m\u001b[1;33m\u001b[0m\u001b[1;33m\u001b[0m\u001b[0m\n",
      "\u001b[1;31mNameError\u001b[0m: name 'np' is not defined"
     ]
    }
   ],
   "source": [
    "iids_to_predict = np.setdiff1d(iids, iids50)\n",
    "print(\"List of iid which uid=(0) did not rate(in all {1}:\".format(50, len(iids_to_predict)))\n",
    "print(iids_to_predict)"
   ]
  },
  {
   "cell_type": "code",
   "execution_count": null,
   "id": "4e1bdf6b",
   "metadata": {},
   "outputs": [],
   "source": [
    "testset = [[50, iid, 0.] for iid in iids_to_predict]\n"
   ]
  },
  {
   "cell_type": "code",
   "execution_count": null,
   "id": "cf1987a3",
   "metadata": {},
   "outputs": [],
   "source": [
    "pred_ratings = "
   ]
  }
 ],
 "metadata": {
  "kernelspec": {
   "display_name": "Python 3 (ipykernel)",
   "language": "python",
   "name": "python3"
  },
  "language_info": {
   "codemirror_mode": {
    "name": "ipython",
    "version": 3
   },
   "file_extension": ".py",
   "mimetype": "text/x-python",
   "name": "python",
   "nbconvert_exporter": "python",
   "pygments_lexer": "ipython3",
   "version": "3.9.13"
  }
 },
 "nbformat": 4,
 "nbformat_minor": 5
}
